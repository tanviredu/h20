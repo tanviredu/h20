{
 "cells": [
  {
   "cell_type": "markdown",
   "metadata": {},
   "source": [
    "# <center> IRIS PROJECT WITH H2O </center>"
   ]
  },
  {
   "cell_type": "code",
   "execution_count": 4,
   "metadata": {},
   "outputs": [],
   "source": [
    "import h2o"
   ]
  },
  {
   "cell_type": "code",
   "execution_count": 5,
   "metadata": {},
   "outputs": [
    {
     "name": "stdout",
     "output_type": "stream",
     "text": [
      "Checking whether there is an H2O instance running at http://localhost:54321 . connected.\n"
     ]
    },
    {
     "data": {
      "text/html": [
       "<div style=\"overflow:auto\"><table style=\"width:50%\"><tr><td>H2O cluster uptime:</td>\n",
       "<td>55 mins 29 secs</td></tr>\n",
       "<tr><td>H2O cluster timezone:</td>\n",
       "<td>Asia/Thimphu</td></tr>\n",
       "<tr><td>H2O data parsing timezone:</td>\n",
       "<td>UTC</td></tr>\n",
       "<tr><td>H2O cluster version:</td>\n",
       "<td>3.26.0.2</td></tr>\n",
       "<tr><td>H2O cluster version age:</td>\n",
       "<td>22 days </td></tr>\n",
       "<tr><td>H2O cluster name:</td>\n",
       "<td>H2O_from_python_tanvir_6mmog5</td></tr>\n",
       "<tr><td>H2O cluster total nodes:</td>\n",
       "<td>1</td></tr>\n",
       "<tr><td>H2O cluster free memory:</td>\n",
       "<td>852 Mb</td></tr>\n",
       "<tr><td>H2O cluster total cores:</td>\n",
       "<td>4</td></tr>\n",
       "<tr><td>H2O cluster allowed cores:</td>\n",
       "<td>4</td></tr>\n",
       "<tr><td>H2O cluster status:</td>\n",
       "<td>locked, healthy</td></tr>\n",
       "<tr><td>H2O connection url:</td>\n",
       "<td>http://localhost:54321</td></tr>\n",
       "<tr><td>H2O connection proxy:</td>\n",
       "<td>None</td></tr>\n",
       "<tr><td>H2O internal security:</td>\n",
       "<td>False</td></tr>\n",
       "<tr><td>H2O API Extensions:</td>\n",
       "<td>Amazon S3, XGBoost, Algos, AutoML, Core V3, Core V4</td></tr>\n",
       "<tr><td>Python version:</td>\n",
       "<td>3.7.3 final</td></tr></table></div>"
      ],
      "text/plain": [
       "--------------------------  ---------------------------------------------------\n",
       "H2O cluster uptime:         55 mins 29 secs\n",
       "H2O cluster timezone:       Asia/Thimphu\n",
       "H2O data parsing timezone:  UTC\n",
       "H2O cluster version:        3.26.0.2\n",
       "H2O cluster version age:    22 days\n",
       "H2O cluster name:           H2O_from_python_tanvir_6mmog5\n",
       "H2O cluster total nodes:    1\n",
       "H2O cluster free memory:    852 Mb\n",
       "H2O cluster total cores:    4\n",
       "H2O cluster allowed cores:  4\n",
       "H2O cluster status:         locked, healthy\n",
       "H2O connection url:         http://localhost:54321\n",
       "H2O connection proxy:\n",
       "H2O internal security:      False\n",
       "H2O API Extensions:         Amazon S3, XGBoost, Algos, AutoML, Core V3, Core V4\n",
       "Python version:             3.7.3 final\n",
       "--------------------------  ---------------------------------------------------"
      ]
     },
     "metadata": {},
     "output_type": "display_data"
    }
   ],
   "source": [
    "h2o.init()"
   ]
  },
  {
   "cell_type": "markdown",
   "metadata": {},
   "source": [
    "## importing data with h20 we can import data from pandas too"
   ]
  },
  {
   "cell_type": "code",
   "execution_count": 6,
   "metadata": {},
   "outputs": [],
   "source": [
    "import numpy as np \n",
    "import pandas as pd\n",
    "import matplotlib.pyplot as plt\n",
    "import seaborn as sns"
   ]
  },
  {
   "cell_type": "code",
   "execution_count": 9,
   "metadata": {},
   "outputs": [
    {
     "name": "stdout",
     "output_type": "stream",
     "text": [
      "Iris.csv\r\n"
     ]
    }
   ],
   "source": [
    "## import data \n",
    "!ls IRIS-PREDICTION/"
   ]
  },
  {
   "cell_type": "code",
   "execution_count": 10,
   "metadata": {},
   "outputs": [
    {
     "name": "stdout",
     "output_type": "stream",
     "text": [
      "Parse progress: |█████████████████████████████████████████████████████████| 100%\n"
     ]
    }
   ],
   "source": [
    "df = h2o.import_file('IRIS-PREDICTION/Iris.csv')"
   ]
  },
  {
   "cell_type": "code",
   "execution_count": 11,
   "metadata": {},
   "outputs": [
    {
     "data": {
      "text/html": [
       "<table>\n",
       "<thead>\n",
       "<tr><th style=\"text-align: right;\">  Id</th><th style=\"text-align: right;\">  SepalLengthCm</th><th style=\"text-align: right;\">  SepalWidthCm</th><th style=\"text-align: right;\">  PetalLengthCm</th><th style=\"text-align: right;\">  PetalWidthCm</th><th>Species    </th></tr>\n",
       "</thead>\n",
       "<tbody>\n",
       "<tr><td style=\"text-align: right;\">   1</td><td style=\"text-align: right;\">            5.1</td><td style=\"text-align: right;\">           3.5</td><td style=\"text-align: right;\">            1.4</td><td style=\"text-align: right;\">           0.2</td><td>Iris-setosa</td></tr>\n",
       "<tr><td style=\"text-align: right;\">   2</td><td style=\"text-align: right;\">            4.9</td><td style=\"text-align: right;\">           3  </td><td style=\"text-align: right;\">            1.4</td><td style=\"text-align: right;\">           0.2</td><td>Iris-setosa</td></tr>\n",
       "<tr><td style=\"text-align: right;\">   3</td><td style=\"text-align: right;\">            4.7</td><td style=\"text-align: right;\">           3.2</td><td style=\"text-align: right;\">            1.3</td><td style=\"text-align: right;\">           0.2</td><td>Iris-setosa</td></tr>\n",
       "<tr><td style=\"text-align: right;\">   4</td><td style=\"text-align: right;\">            4.6</td><td style=\"text-align: right;\">           3.1</td><td style=\"text-align: right;\">            1.5</td><td style=\"text-align: right;\">           0.2</td><td>Iris-setosa</td></tr>\n",
       "<tr><td style=\"text-align: right;\">   5</td><td style=\"text-align: right;\">            5  </td><td style=\"text-align: right;\">           3.6</td><td style=\"text-align: right;\">            1.4</td><td style=\"text-align: right;\">           0.2</td><td>Iris-setosa</td></tr>\n",
       "<tr><td style=\"text-align: right;\">   6</td><td style=\"text-align: right;\">            5.4</td><td style=\"text-align: right;\">           3.9</td><td style=\"text-align: right;\">            1.7</td><td style=\"text-align: right;\">           0.4</td><td>Iris-setosa</td></tr>\n",
       "<tr><td style=\"text-align: right;\">   7</td><td style=\"text-align: right;\">            4.6</td><td style=\"text-align: right;\">           3.4</td><td style=\"text-align: right;\">            1.4</td><td style=\"text-align: right;\">           0.3</td><td>Iris-setosa</td></tr>\n",
       "<tr><td style=\"text-align: right;\">   8</td><td style=\"text-align: right;\">            5  </td><td style=\"text-align: right;\">           3.4</td><td style=\"text-align: right;\">            1.5</td><td style=\"text-align: right;\">           0.2</td><td>Iris-setosa</td></tr>\n",
       "<tr><td style=\"text-align: right;\">   9</td><td style=\"text-align: right;\">            4.4</td><td style=\"text-align: right;\">           2.9</td><td style=\"text-align: right;\">            1.4</td><td style=\"text-align: right;\">           0.2</td><td>Iris-setosa</td></tr>\n",
       "<tr><td style=\"text-align: right;\">  10</td><td style=\"text-align: right;\">            4.9</td><td style=\"text-align: right;\">           3.1</td><td style=\"text-align: right;\">            1.5</td><td style=\"text-align: right;\">           0.1</td><td>Iris-setosa</td></tr>\n",
       "</tbody>\n",
       "</table>"
      ]
     },
     "metadata": {},
     "output_type": "display_data"
    },
    {
     "data": {
      "text/plain": []
     },
     "execution_count": 11,
     "metadata": {},
     "output_type": "execute_result"
    }
   ],
   "source": [
    "df.head()"
   ]
  },
  {
   "cell_type": "code",
   "execution_count": 14,
   "metadata": {},
   "outputs": [
    {
     "name": "stdout",
     "output_type": "stream",
     "text": [
      "Parse progress: |█████████████████████████████████████████████████████████| 100%\n"
     ]
    }
   ],
   "source": [
    "## importing with different parameter\n",
    "df = h2o.import_file('IRIS-PREDICTION/Iris.csv',col_names=['id','SepalLengthCm','SepalWidthCm','PetalLengthCm','PetalWidthCm','Species'],\n",
    "                    col_types=['numeric',\"numeric\", \"numeric\", \"numeric\", \"numeric\", \"enum\"])"
   ]
  },
  {
   "cell_type": "code",
   "execution_count": 15,
   "metadata": {},
   "outputs": [
    {
     "data": {
      "text/html": [
       "<table>\n",
       "<thead>\n",
       "<tr><th style=\"text-align: right;\">  id</th><th style=\"text-align: right;\">  SepalLengthCm</th><th style=\"text-align: right;\">  SepalWidthCm</th><th style=\"text-align: right;\">  PetalLengthCm</th><th style=\"text-align: right;\">  PetalWidthCm</th><th>Species    </th></tr>\n",
       "</thead>\n",
       "<tbody>\n",
       "<tr><td style=\"text-align: right;\">   1</td><td style=\"text-align: right;\">            5.1</td><td style=\"text-align: right;\">           3.5</td><td style=\"text-align: right;\">            1.4</td><td style=\"text-align: right;\">           0.2</td><td>Iris-setosa</td></tr>\n",
       "<tr><td style=\"text-align: right;\">   2</td><td style=\"text-align: right;\">            4.9</td><td style=\"text-align: right;\">           3  </td><td style=\"text-align: right;\">            1.4</td><td style=\"text-align: right;\">           0.2</td><td>Iris-setosa</td></tr>\n",
       "<tr><td style=\"text-align: right;\">   3</td><td style=\"text-align: right;\">            4.7</td><td style=\"text-align: right;\">           3.2</td><td style=\"text-align: right;\">            1.3</td><td style=\"text-align: right;\">           0.2</td><td>Iris-setosa</td></tr>\n",
       "<tr><td style=\"text-align: right;\">   4</td><td style=\"text-align: right;\">            4.6</td><td style=\"text-align: right;\">           3.1</td><td style=\"text-align: right;\">            1.5</td><td style=\"text-align: right;\">           0.2</td><td>Iris-setosa</td></tr>\n",
       "<tr><td style=\"text-align: right;\">   5</td><td style=\"text-align: right;\">            5  </td><td style=\"text-align: right;\">           3.6</td><td style=\"text-align: right;\">            1.4</td><td style=\"text-align: right;\">           0.2</td><td>Iris-setosa</td></tr>\n",
       "<tr><td style=\"text-align: right;\">   6</td><td style=\"text-align: right;\">            5.4</td><td style=\"text-align: right;\">           3.9</td><td style=\"text-align: right;\">            1.7</td><td style=\"text-align: right;\">           0.4</td><td>Iris-setosa</td></tr>\n",
       "<tr><td style=\"text-align: right;\">   7</td><td style=\"text-align: right;\">            4.6</td><td style=\"text-align: right;\">           3.4</td><td style=\"text-align: right;\">            1.4</td><td style=\"text-align: right;\">           0.3</td><td>Iris-setosa</td></tr>\n",
       "<tr><td style=\"text-align: right;\">   8</td><td style=\"text-align: right;\">            5  </td><td style=\"text-align: right;\">           3.4</td><td style=\"text-align: right;\">            1.5</td><td style=\"text-align: right;\">           0.2</td><td>Iris-setosa</td></tr>\n",
       "<tr><td style=\"text-align: right;\">   9</td><td style=\"text-align: right;\">            4.4</td><td style=\"text-align: right;\">           2.9</td><td style=\"text-align: right;\">            1.4</td><td style=\"text-align: right;\">           0.2</td><td>Iris-setosa</td></tr>\n",
       "<tr><td style=\"text-align: right;\">  10</td><td style=\"text-align: right;\">            4.9</td><td style=\"text-align: right;\">           3.1</td><td style=\"text-align: right;\">            1.5</td><td style=\"text-align: right;\">           0.1</td><td>Iris-setosa</td></tr>\n",
       "</tbody>\n",
       "</table>"
      ]
     },
     "metadata": {},
     "output_type": "display_data"
    },
    {
     "data": {
      "text/plain": []
     },
     "execution_count": 15,
     "metadata": {},
     "output_type": "execute_result"
    }
   ],
   "source": [
    "df.head()"
   ]
  },
  {
   "cell_type": "code",
   "execution_count": 16,
   "metadata": {},
   "outputs": [],
   "source": [
    "##  they are are some other option for importing data\n",
    "#df = h2o.import_file(\"hdfs://namenode/user/path/to/my.csv\")\n",
    "#df = h2o.import_file(\"s3://<AWS_ACCESS_KEY>:<AWS_SECRET_KEY>@mybucket/my.csv\")\n",
    "#df = h2o.import_file(\"https://s3.amazonaws.com/mybucket/my.csv\")\n",
    "#df = h2o.import_file(\"/path/to/my.csv\")\n"
   ]
  },
  {
   "cell_type": "markdown",
   "metadata": {},
   "source": [
    "## we can use pandas dataframe too"
   ]
  },
  {
   "cell_type": "code",
   "execution_count": 17,
   "metadata": {},
   "outputs": [],
   "source": [
    "dfp = pd.read_csv('IRIS-PREDICTION/Iris.csv')"
   ]
  },
  {
   "cell_type": "code",
   "execution_count": 50,
   "metadata": {},
   "outputs": [
    {
     "name": "stdout",
     "output_type": "stream",
     "text": [
      "Parse progress: |█████████████████████████████████████████████████████████| 100%\n"
     ]
    }
   ],
   "source": [
    "df = h2o.H2OFrame(dfp)"
   ]
  },
  {
   "cell_type": "code",
   "execution_count": 51,
   "metadata": {},
   "outputs": [
    {
     "data": {
      "text/html": [
       "<table>\n",
       "<thead>\n",
       "<tr><th style=\"text-align: right;\">  Id</th><th style=\"text-align: right;\">  SepalLengthCm</th><th style=\"text-align: right;\">  SepalWidthCm</th><th style=\"text-align: right;\">  PetalLengthCm</th><th style=\"text-align: right;\">  PetalWidthCm</th><th>Species    </th></tr>\n",
       "</thead>\n",
       "<tbody>\n",
       "<tr><td style=\"text-align: right;\">   1</td><td style=\"text-align: right;\">            5.1</td><td style=\"text-align: right;\">           3.5</td><td style=\"text-align: right;\">            1.4</td><td style=\"text-align: right;\">           0.2</td><td>Iris-setosa</td></tr>\n",
       "<tr><td style=\"text-align: right;\">   2</td><td style=\"text-align: right;\">            4.9</td><td style=\"text-align: right;\">           3  </td><td style=\"text-align: right;\">            1.4</td><td style=\"text-align: right;\">           0.2</td><td>Iris-setosa</td></tr>\n",
       "<tr><td style=\"text-align: right;\">   3</td><td style=\"text-align: right;\">            4.7</td><td style=\"text-align: right;\">           3.2</td><td style=\"text-align: right;\">            1.3</td><td style=\"text-align: right;\">           0.2</td><td>Iris-setosa</td></tr>\n",
       "<tr><td style=\"text-align: right;\">   4</td><td style=\"text-align: right;\">            4.6</td><td style=\"text-align: right;\">           3.1</td><td style=\"text-align: right;\">            1.5</td><td style=\"text-align: right;\">           0.2</td><td>Iris-setosa</td></tr>\n",
       "<tr><td style=\"text-align: right;\">   5</td><td style=\"text-align: right;\">            5  </td><td style=\"text-align: right;\">           3.6</td><td style=\"text-align: right;\">            1.4</td><td style=\"text-align: right;\">           0.2</td><td>Iris-setosa</td></tr>\n",
       "<tr><td style=\"text-align: right;\">   6</td><td style=\"text-align: right;\">            5.4</td><td style=\"text-align: right;\">           3.9</td><td style=\"text-align: right;\">            1.7</td><td style=\"text-align: right;\">           0.4</td><td>Iris-setosa</td></tr>\n",
       "<tr><td style=\"text-align: right;\">   7</td><td style=\"text-align: right;\">            4.6</td><td style=\"text-align: right;\">           3.4</td><td style=\"text-align: right;\">            1.4</td><td style=\"text-align: right;\">           0.3</td><td>Iris-setosa</td></tr>\n",
       "<tr><td style=\"text-align: right;\">   8</td><td style=\"text-align: right;\">            5  </td><td style=\"text-align: right;\">           3.4</td><td style=\"text-align: right;\">            1.5</td><td style=\"text-align: right;\">           0.2</td><td>Iris-setosa</td></tr>\n",
       "<tr><td style=\"text-align: right;\">   9</td><td style=\"text-align: right;\">            4.4</td><td style=\"text-align: right;\">           2.9</td><td style=\"text-align: right;\">            1.4</td><td style=\"text-align: right;\">           0.2</td><td>Iris-setosa</td></tr>\n",
       "<tr><td style=\"text-align: right;\">  10</td><td style=\"text-align: right;\">            4.9</td><td style=\"text-align: right;\">           3.1</td><td style=\"text-align: right;\">            1.5</td><td style=\"text-align: right;\">           0.1</td><td>Iris-setosa</td></tr>\n",
       "</tbody>\n",
       "</table>"
      ]
     },
     "metadata": {},
     "output_type": "display_data"
    },
    {
     "data": {
      "text/plain": []
     },
     "execution_count": 51,
     "metadata": {},
     "output_type": "execute_result"
    }
   ],
   "source": [
    "df.head()"
   ]
  },
  {
   "cell_type": "code",
   "execution_count": 52,
   "metadata": {},
   "outputs": [],
   "source": [
    "## names of the column"
   ]
  },
  {
   "cell_type": "code",
   "execution_count": 53,
   "metadata": {},
   "outputs": [
    {
     "data": {
      "text/plain": [
       "['Id',\n",
       " 'SepalLengthCm',\n",
       " 'SepalWidthCm',\n",
       " 'PetalLengthCm',\n",
       " 'PetalWidthCm',\n",
       " 'Species']"
      ]
     },
     "execution_count": 53,
     "metadata": {},
     "output_type": "execute_result"
    }
   ],
   "source": [
    "df.names"
   ]
  },
  {
   "cell_type": "code",
   "execution_count": 54,
   "metadata": {},
   "outputs": [],
   "source": [
    "## df types"
   ]
  },
  {
   "cell_type": "code",
   "execution_count": 55,
   "metadata": {},
   "outputs": [
    {
     "data": {
      "text/plain": [
       "{'Id': 'int',\n",
       " 'SepalLengthCm': 'real',\n",
       " 'SepalWidthCm': 'real',\n",
       " 'PetalLengthCm': 'real',\n",
       " 'PetalWidthCm': 'real',\n",
       " 'Species': 'enum'}"
      ]
     },
     "execution_count": 55,
     "metadata": {},
     "output_type": "execute_result"
    }
   ],
   "source": [
    "df.types"
   ]
  },
  {
   "cell_type": "code",
   "execution_count": 56,
   "metadata": {},
   "outputs": [
    {
     "data": {
      "text/plain": [
       "'Key_Frame__upload_871de6ce02116ea42ea5ec7b5d094092.hex'"
      ]
     },
     "execution_count": 56,
     "metadata": {},
     "output_type": "execute_result"
    }
   ],
   "source": [
    "df.frame_id"
   ]
  },
  {
   "cell_type": "code",
   "execution_count": 57,
   "metadata": {},
   "outputs": [
    {
     "data": {
      "text/plain": [
       "7.9"
      ]
     },
     "execution_count": 57,
     "metadata": {},
     "output_type": "execute_result"
    }
   ],
   "source": [
    "df[['SepalLengthCm']].max()"
   ]
  },
  {
   "cell_type": "code",
   "execution_count": 58,
   "metadata": {},
   "outputs": [
    {
     "data": {
      "text/plain": [
       "4.3"
      ]
     },
     "execution_count": 58,
     "metadata": {},
     "output_type": "execute_result"
    }
   ],
   "source": [
    "df[['SepalLengthCm']].min()"
   ]
  },
  {
   "cell_type": "code",
   "execution_count": 59,
   "metadata": {},
   "outputs": [
    {
     "data": {
      "text/plain": [
       "[5.843333333333333]"
      ]
     },
     "execution_count": 59,
     "metadata": {},
     "output_type": "execute_result"
    }
   ],
   "source": [
    "df[['SepalLengthCm']].mean()"
   ]
  },
  {
   "cell_type": "code",
   "execution_count": 60,
   "metadata": {},
   "outputs": [
    {
     "data": {
      "image/png": "[encoded data removed]",
      "text/plain": [
       "<Figure size 432x288 with 1 Axes>"
      ]
     },
     "metadata": {
      "needs_background": "light"
     },
     "output_type": "display_data"
    }
   ],
   "source": [
    "df[['SepalLengthCm']].hist()"
   ]
  },
  {
   "cell_type": "code",
   "execution_count": 61,
   "metadata": {},
   "outputs": [
    {
     "data": {
      "image/png": "[encoded data removed]",
      "text/plain": [
       "<Figure size 432x288 with 1 Axes>"
      ]
     },
     "metadata": {
      "needs_background": "light"
     },
     "output_type": "display_data"
    }
   ],
   "source": [
    "df[['SepalWidthCm']].hist()"
   ]
  },
  {
   "cell_type": "code",
   "execution_count": 62,
   "metadata": {},
   "outputs": [
    {
     "data": {
      "image/png": "[encoded data removed]",
      "text/plain": [
       "<Figure size 432x288 with 1 Axes>"
      ]
     },
     "metadata": {
      "needs_background": "light"
     },
     "output_type": "display_data"
    }
   ],
   "source": [
    "df[['PetalWidthCm']].hist()"
   ]
  },
  {
   "cell_type": "code",
   "execution_count": 63,
   "metadata": {},
   "outputs": [
    {
     "data": {
      "image/png": "[encoded data removed]",
      "text/plain": [
       "<Figure size 432x288 with 1 Axes>"
      ]
     },
     "metadata": {
      "needs_background": "light"
     },
     "output_type": "display_data"
    }
   ],
   "source": [
    "df[['PetalLengthCm']].hist()"
   ]
  },
  {
   "cell_type": "code",
   "execution_count": 64,
   "metadata": {},
   "outputs": [
    {
     "data": {
      "text/html": [
       "<table>\n",
       "<thead>\n",
       "<tr><th style=\"text-align: right;\">  Id</th><th style=\"text-align: right;\">  SepalLengthCm</th><th style=\"text-align: right;\">  SepalWidthCm</th><th style=\"text-align: right;\">  PetalLengthCm</th><th style=\"text-align: right;\">  PetalWidthCm</th><th>Species    </th></tr>\n",
       "</thead>\n",
       "<tbody>\n",
       "<tr><td style=\"text-align: right;\">   1</td><td style=\"text-align: right;\">            5.1</td><td style=\"text-align: right;\">           3.5</td><td style=\"text-align: right;\">            1.4</td><td style=\"text-align: right;\">           0.2</td><td>Iris-setosa</td></tr>\n",
       "<tr><td style=\"text-align: right;\">   2</td><td style=\"text-align: right;\">            4.9</td><td style=\"text-align: right;\">           3  </td><td style=\"text-align: right;\">            1.4</td><td style=\"text-align: right;\">           0.2</td><td>Iris-setosa</td></tr>\n",
       "<tr><td style=\"text-align: right;\">   3</td><td style=\"text-align: right;\">            4.7</td><td style=\"text-align: right;\">           3.2</td><td style=\"text-align: right;\">            1.3</td><td style=\"text-align: right;\">           0.2</td><td>Iris-setosa</td></tr>\n",
       "<tr><td style=\"text-align: right;\">   4</td><td style=\"text-align: right;\">            4.6</td><td style=\"text-align: right;\">           3.1</td><td style=\"text-align: right;\">            1.5</td><td style=\"text-align: right;\">           0.2</td><td>Iris-setosa</td></tr>\n",
       "<tr><td style=\"text-align: right;\">   5</td><td style=\"text-align: right;\">            5  </td><td style=\"text-align: right;\">           3.6</td><td style=\"text-align: right;\">            1.4</td><td style=\"text-align: right;\">           0.2</td><td>Iris-setosa</td></tr>\n",
       "<tr><td style=\"text-align: right;\">   6</td><td style=\"text-align: right;\">            5.4</td><td style=\"text-align: right;\">           3.9</td><td style=\"text-align: right;\">            1.7</td><td style=\"text-align: right;\">           0.4</td><td>Iris-setosa</td></tr>\n",
       "<tr><td style=\"text-align: right;\">   7</td><td style=\"text-align: right;\">            4.6</td><td style=\"text-align: right;\">           3.4</td><td style=\"text-align: right;\">            1.4</td><td style=\"text-align: right;\">           0.3</td><td>Iris-setosa</td></tr>\n",
       "<tr><td style=\"text-align: right;\">   8</td><td style=\"text-align: right;\">            5  </td><td style=\"text-align: right;\">           3.4</td><td style=\"text-align: right;\">            1.5</td><td style=\"text-align: right;\">           0.2</td><td>Iris-setosa</td></tr>\n",
       "<tr><td style=\"text-align: right;\">   9</td><td style=\"text-align: right;\">            4.4</td><td style=\"text-align: right;\">           2.9</td><td style=\"text-align: right;\">            1.4</td><td style=\"text-align: right;\">           0.2</td><td>Iris-setosa</td></tr>\n",
       "<tr><td style=\"text-align: right;\">  10</td><td style=\"text-align: right;\">            4.9</td><td style=\"text-align: right;\">           3.1</td><td style=\"text-align: right;\">            1.5</td><td style=\"text-align: right;\">           0.1</td><td>Iris-setosa</td></tr>\n",
       "</tbody>\n",
       "</table>"
      ]
     },
     "metadata": {},
     "output_type": "display_data"
    },
    {
     "data": {
      "text/plain": []
     },
     "execution_count": 64,
     "metadata": {},
     "output_type": "execute_result"
    }
   ],
   "source": [
    "df.head()"
   ]
  },
  {
   "cell_type": "code",
   "execution_count": 65,
   "metadata": {},
   "outputs": [],
   "source": [
    "## dropping column"
   ]
  },
  {
   "cell_type": "code",
   "execution_count": 66,
   "metadata": {},
   "outputs": [
    {
     "data": {
      "text/html": [
       "<table>\n",
       "<thead>\n",
       "<tr><th style=\"text-align: right;\">  SepalLengthCm</th><th style=\"text-align: right;\">  SepalWidthCm</th><th style=\"text-align: right;\">  PetalLengthCm</th><th style=\"text-align: right;\">  PetalWidthCm</th><th>Species    </th></tr>\n",
       "</thead>\n",
       "<tbody>\n",
       "<tr><td style=\"text-align: right;\">            5.1</td><td style=\"text-align: right;\">           3.5</td><td style=\"text-align: right;\">            1.4</td><td style=\"text-align: right;\">           0.2</td><td>Iris-setosa</td></tr>\n",
       "<tr><td style=\"text-align: right;\">            4.9</td><td style=\"text-align: right;\">           3  </td><td style=\"text-align: right;\">            1.4</td><td style=\"text-align: right;\">           0.2</td><td>Iris-setosa</td></tr>\n",
       "<tr><td style=\"text-align: right;\">            4.7</td><td style=\"text-align: right;\">           3.2</td><td style=\"text-align: right;\">            1.3</td><td style=\"text-align: right;\">           0.2</td><td>Iris-setosa</td></tr>\n",
       "<tr><td style=\"text-align: right;\">            4.6</td><td style=\"text-align: right;\">           3.1</td><td style=\"text-align: right;\">            1.5</td><td style=\"text-align: right;\">           0.2</td><td>Iris-setosa</td></tr>\n",
       "<tr><td style=\"text-align: right;\">            5  </td><td style=\"text-align: right;\">           3.6</td><td style=\"text-align: right;\">            1.4</td><td style=\"text-align: right;\">           0.2</td><td>Iris-setosa</td></tr>\n",
       "<tr><td style=\"text-align: right;\">            5.4</td><td style=\"text-align: right;\">           3.9</td><td style=\"text-align: right;\">            1.7</td><td style=\"text-align: right;\">           0.4</td><td>Iris-setosa</td></tr>\n",
       "<tr><td style=\"text-align: right;\">            4.6</td><td style=\"text-align: right;\">           3.4</td><td style=\"text-align: right;\">            1.4</td><td style=\"text-align: right;\">           0.3</td><td>Iris-setosa</td></tr>\n",
       "<tr><td style=\"text-align: right;\">            5  </td><td style=\"text-align: right;\">           3.4</td><td style=\"text-align: right;\">            1.5</td><td style=\"text-align: right;\">           0.2</td><td>Iris-setosa</td></tr>\n",
       "<tr><td style=\"text-align: right;\">            4.4</td><td style=\"text-align: right;\">           2.9</td><td style=\"text-align: right;\">            1.4</td><td style=\"text-align: right;\">           0.2</td><td>Iris-setosa</td></tr>\n",
       "<tr><td style=\"text-align: right;\">            4.9</td><td style=\"text-align: right;\">           3.1</td><td style=\"text-align: right;\">            1.5</td><td style=\"text-align: right;\">           0.1</td><td>Iris-setosa</td></tr>\n",
       "</tbody>\n",
       "</table>"
      ]
     },
     "metadata": {},
     "output_type": "display_data"
    },
    {
     "data": {
      "text/plain": []
     },
     "execution_count": 66,
     "metadata": {},
     "output_type": "execute_result"
    }
   ],
   "source": [
    "df.drop('Id',axis=1)"
   ]
  },
  {
   "cell_type": "code",
   "execution_count": 67,
   "metadata": {},
   "outputs": [],
   "source": [
    "###or"
   ]
  },
  {
   "cell_type": "code",
   "execution_count": 68,
   "metadata": {},
   "outputs": [],
   "source": [
    "df=df[:,1:]   ## take the datafrmame but lose the first column"
   ]
  },
  {
   "cell_type": "code",
   "execution_count": 69,
   "metadata": {},
   "outputs": [
    {
     "data": {
      "text/html": [
       "<table>\n",
       "<thead>\n",
       "<tr><th style=\"text-align: right;\">  SepalLengthCm</th><th style=\"text-align: right;\">  SepalWidthCm</th><th style=\"text-align: right;\">  PetalLengthCm</th><th style=\"text-align: right;\">  PetalWidthCm</th><th>Species    </th></tr>\n",
       "</thead>\n",
       "<tbody>\n",
       "<tr><td style=\"text-align: right;\">            5.1</td><td style=\"text-align: right;\">           3.5</td><td style=\"text-align: right;\">            1.4</td><td style=\"text-align: right;\">           0.2</td><td>Iris-setosa</td></tr>\n",
       "<tr><td style=\"text-align: right;\">            4.9</td><td style=\"text-align: right;\">           3  </td><td style=\"text-align: right;\">            1.4</td><td style=\"text-align: right;\">           0.2</td><td>Iris-setosa</td></tr>\n",
       "<tr><td style=\"text-align: right;\">            4.7</td><td style=\"text-align: right;\">           3.2</td><td style=\"text-align: right;\">            1.3</td><td style=\"text-align: right;\">           0.2</td><td>Iris-setosa</td></tr>\n",
       "<tr><td style=\"text-align: right;\">            4.6</td><td style=\"text-align: right;\">           3.1</td><td style=\"text-align: right;\">            1.5</td><td style=\"text-align: right;\">           0.2</td><td>Iris-setosa</td></tr>\n",
       "<tr><td style=\"text-align: right;\">            5  </td><td style=\"text-align: right;\">           3.6</td><td style=\"text-align: right;\">            1.4</td><td style=\"text-align: right;\">           0.2</td><td>Iris-setosa</td></tr>\n",
       "<tr><td style=\"text-align: right;\">            5.4</td><td style=\"text-align: right;\">           3.9</td><td style=\"text-align: right;\">            1.7</td><td style=\"text-align: right;\">           0.4</td><td>Iris-setosa</td></tr>\n",
       "<tr><td style=\"text-align: right;\">            4.6</td><td style=\"text-align: right;\">           3.4</td><td style=\"text-align: right;\">            1.4</td><td style=\"text-align: right;\">           0.3</td><td>Iris-setosa</td></tr>\n",
       "<tr><td style=\"text-align: right;\">            5  </td><td style=\"text-align: right;\">           3.4</td><td style=\"text-align: right;\">            1.5</td><td style=\"text-align: right;\">           0.2</td><td>Iris-setosa</td></tr>\n",
       "<tr><td style=\"text-align: right;\">            4.4</td><td style=\"text-align: right;\">           2.9</td><td style=\"text-align: right;\">            1.4</td><td style=\"text-align: right;\">           0.2</td><td>Iris-setosa</td></tr>\n",
       "<tr><td style=\"text-align: right;\">            4.9</td><td style=\"text-align: right;\">           3.1</td><td style=\"text-align: right;\">            1.5</td><td style=\"text-align: right;\">           0.1</td><td>Iris-setosa</td></tr>\n",
       "</tbody>\n",
       "</table>"
      ]
     },
     "metadata": {},
     "output_type": "display_data"
    },
    {
     "data": {
      "text/plain": []
     },
     "execution_count": 69,
     "metadata": {},
     "output_type": "execute_result"
    }
   ],
   "source": [
    "df.head()"
   ]
  },
  {
   "cell_type": "code",
   "execution_count": 70,
   "metadata": {},
   "outputs": [
    {
     "data": {
      "text/plain": [
       "'py_49_sid_85ad'"
      ]
     },
     "execution_count": 70,
     "metadata": {},
     "output_type": "execute_result"
    }
   ],
   "source": [
    "## applying seeding\n",
    "df.frame_id"
   ]
  },
  {
   "cell_type": "code",
   "execution_count": 73,
   "metadata": {},
   "outputs": [],
   "source": [
    "## describe data"
   ]
  },
  {
   "cell_type": "code",
   "execution_count": 75,
   "metadata": {},
   "outputs": [
    {
     "name": "stdout",
     "output_type": "stream",
     "text": [
      "Rows:150\n",
      "Cols:5\n",
      "\n",
      "\n"
     ]
    },
    {
     "data": {
      "text/html": [
       "<table>\n",
       "<thead>\n",
       "<tr><th>       </th><th>SepalLengthCm     </th><th>SepalWidthCm       </th><th>PetalLengthCm    </th><th>PetalWidthCm      </th><th>Species    </th></tr>\n",
       "</thead>\n",
       "<tbody>\n",
       "<tr><td>type   </td><td>real              </td><td>real               </td><td>real             </td><td>real              </td><td>enum       </td></tr>\n",
       "<tr><td>mins   </td><td>4.3               </td><td>2.0                </td><td>1.0              </td><td>0.1               </td><td>           </td></tr>\n",
       "<tr><td>mean   </td><td>5.843333333333333 </td><td>3.053999999999999  </td><td>3.758666666666667</td><td>1.1986666666666665</td><td>           </td></tr>\n",
       "<tr><td>maxs   </td><td>7.9               </td><td>4.4                </td><td>6.9              </td><td>2.5               </td><td>           </td></tr>\n",
       "<tr><td>sigma  </td><td>0.8280661279778637</td><td>0.43359431136217375</td><td>1.764420419952262</td><td>0.7631607417008414</td><td>           </td></tr>\n",
       "<tr><td>zeros  </td><td>0                 </td><td>0                  </td><td>0                </td><td>0                 </td><td>           </td></tr>\n",
       "<tr><td>missing</td><td>0                 </td><td>0                  </td><td>0                </td><td>0                 </td><td>0          </td></tr>\n",
       "<tr><td>0      </td><td>5.1               </td><td>3.5                </td><td>1.4              </td><td>0.2               </td><td>Iris-setosa</td></tr>\n",
       "<tr><td>1      </td><td>4.9               </td><td>3.0                </td><td>1.4              </td><td>0.2               </td><td>Iris-setosa</td></tr>\n",
       "<tr><td>2      </td><td>4.7               </td><td>3.2                </td><td>1.3              </td><td>0.2               </td><td>Iris-setosa</td></tr>\n",
       "<tr><td>3      </td><td>4.6               </td><td>3.1                </td><td>1.5              </td><td>0.2               </td><td>Iris-setosa</td></tr>\n",
       "<tr><td>4      </td><td>5.0               </td><td>3.6                </td><td>1.4              </td><td>0.2               </td><td>Iris-setosa</td></tr>\n",
       "<tr><td>5      </td><td>5.4               </td><td>3.9                </td><td>1.7              </td><td>0.4               </td><td>Iris-setosa</td></tr>\n",
       "<tr><td>6      </td><td>4.6               </td><td>3.4                </td><td>1.4              </td><td>0.3               </td><td>Iris-setosa</td></tr>\n",
       "<tr><td>7      </td><td>5.0               </td><td>3.4                </td><td>1.5              </td><td>0.2               </td><td>Iris-setosa</td></tr>\n",
       "<tr><td>8      </td><td>4.4               </td><td>2.9                </td><td>1.4              </td><td>0.2               </td><td>Iris-setosa</td></tr>\n",
       "<tr><td>9      </td><td>4.9               </td><td>3.1                </td><td>1.5              </td><td>0.1               </td><td>Iris-setosa</td></tr>\n",
       "</tbody>\n",
       "</table>"
      ]
     },
     "metadata": {},
     "output_type": "display_data"
    }
   ],
   "source": [
    "df.describe()"
   ]
  },
  {
   "cell_type": "code",
   "execution_count": 76,
   "metadata": {},
   "outputs": [],
   "source": [
    "## we can see there is no misssing value"
   ]
  },
  {
   "cell_type": "code",
   "execution_count": 78,
   "metadata": {},
   "outputs": [],
   "source": [
    "## Featuer Engineering"
   ]
  },
  {
   "cell_type": "code",
   "execution_count": 79,
   "metadata": {},
   "outputs": [],
   "source": [
    "df['sepal_ratio'] = df['SepalLengthCm']/df['SepalWidthCm']"
   ]
  },
  {
   "cell_type": "code",
   "execution_count": 80,
   "metadata": {},
   "outputs": [
    {
     "data": {
      "text/html": [
       "<table>\n",
       "<thead>\n",
       "<tr><th style=\"text-align: right;\">  SepalLengthCm</th><th style=\"text-align: right;\">  SepalWidthCm</th><th style=\"text-align: right;\">  PetalLengthCm</th><th style=\"text-align: right;\">  PetalWidthCm</th><th>Species    </th><th style=\"text-align: right;\">  sepal_ratio</th></tr>\n",
       "</thead>\n",
       "<tbody>\n",
       "<tr><td style=\"text-align: right;\">            5.1</td><td style=\"text-align: right;\">           3.5</td><td style=\"text-align: right;\">            1.4</td><td style=\"text-align: right;\">           0.2</td><td>Iris-setosa</td><td style=\"text-align: right;\">      1.45714</td></tr>\n",
       "<tr><td style=\"text-align: right;\">            4.9</td><td style=\"text-align: right;\">           3  </td><td style=\"text-align: right;\">            1.4</td><td style=\"text-align: right;\">           0.2</td><td>Iris-setosa</td><td style=\"text-align: right;\">      1.63333</td></tr>\n",
       "<tr><td style=\"text-align: right;\">            4.7</td><td style=\"text-align: right;\">           3.2</td><td style=\"text-align: right;\">            1.3</td><td style=\"text-align: right;\">           0.2</td><td>Iris-setosa</td><td style=\"text-align: right;\">      1.46875</td></tr>\n",
       "<tr><td style=\"text-align: right;\">            4.6</td><td style=\"text-align: right;\">           3.1</td><td style=\"text-align: right;\">            1.5</td><td style=\"text-align: right;\">           0.2</td><td>Iris-setosa</td><td style=\"text-align: right;\">      1.48387</td></tr>\n",
       "<tr><td style=\"text-align: right;\">            5  </td><td style=\"text-align: right;\">           3.6</td><td style=\"text-align: right;\">            1.4</td><td style=\"text-align: right;\">           0.2</td><td>Iris-setosa</td><td style=\"text-align: right;\">      1.38889</td></tr>\n",
       "<tr><td style=\"text-align: right;\">            5.4</td><td style=\"text-align: right;\">           3.9</td><td style=\"text-align: right;\">            1.7</td><td style=\"text-align: right;\">           0.4</td><td>Iris-setosa</td><td style=\"text-align: right;\">      1.38462</td></tr>\n",
       "<tr><td style=\"text-align: right;\">            4.6</td><td style=\"text-align: right;\">           3.4</td><td style=\"text-align: right;\">            1.4</td><td style=\"text-align: right;\">           0.3</td><td>Iris-setosa</td><td style=\"text-align: right;\">      1.35294</td></tr>\n",
       "<tr><td style=\"text-align: right;\">            5  </td><td style=\"text-align: right;\">           3.4</td><td style=\"text-align: right;\">            1.5</td><td style=\"text-align: right;\">           0.2</td><td>Iris-setosa</td><td style=\"text-align: right;\">      1.47059</td></tr>\n",
       "<tr><td style=\"text-align: right;\">            4.4</td><td style=\"text-align: right;\">           2.9</td><td style=\"text-align: right;\">            1.4</td><td style=\"text-align: right;\">           0.2</td><td>Iris-setosa</td><td style=\"text-align: right;\">      1.51724</td></tr>\n",
       "<tr><td style=\"text-align: right;\">            4.9</td><td style=\"text-align: right;\">           3.1</td><td style=\"text-align: right;\">            1.5</td><td style=\"text-align: right;\">           0.1</td><td>Iris-setosa</td><td style=\"text-align: right;\">      1.58065</td></tr>\n",
       "</tbody>\n",
       "</table>"
      ]
     },
     "metadata": {},
     "output_type": "display_data"
    },
    {
     "data": {
      "text/plain": []
     },
     "execution_count": 80,
     "metadata": {},
     "output_type": "execute_result"
    }
   ],
   "source": [
    "df.head()"
   ]
  },
  {
   "cell_type": "code",
   "execution_count": 81,
   "metadata": {},
   "outputs": [],
   "source": [
    "df['petal_ratio'] = df['PetalLengthCm']/df['PetalWidthCm']"
   ]
  },
  {
   "cell_type": "code",
   "execution_count": 82,
   "metadata": {},
   "outputs": [
    {
     "data": {
      "text/html": [
       "<table>\n",
       "<thead>\n",
       "<tr><th style=\"text-align: right;\">  SepalLengthCm</th><th style=\"text-align: right;\">  SepalWidthCm</th><th style=\"text-align: right;\">  PetalLengthCm</th><th style=\"text-align: right;\">  PetalWidthCm</th><th>Species    </th><th style=\"text-align: right;\">  sepal_ratio</th><th style=\"text-align: right;\">  petal_ratio</th></tr>\n",
       "</thead>\n",
       "<tbody>\n",
       "<tr><td style=\"text-align: right;\">            5.1</td><td style=\"text-align: right;\">           3.5</td><td style=\"text-align: right;\">            1.4</td><td style=\"text-align: right;\">           0.2</td><td>Iris-setosa</td><td style=\"text-align: right;\">      1.45714</td><td style=\"text-align: right;\">      7      </td></tr>\n",
       "<tr><td style=\"text-align: right;\">            4.9</td><td style=\"text-align: right;\">           3  </td><td style=\"text-align: right;\">            1.4</td><td style=\"text-align: right;\">           0.2</td><td>Iris-setosa</td><td style=\"text-align: right;\">      1.63333</td><td style=\"text-align: right;\">      7      </td></tr>\n",
       "<tr><td style=\"text-align: right;\">            4.7</td><td style=\"text-align: right;\">           3.2</td><td style=\"text-align: right;\">            1.3</td><td style=\"text-align: right;\">           0.2</td><td>Iris-setosa</td><td style=\"text-align: right;\">      1.46875</td><td style=\"text-align: right;\">      6.5    </td></tr>\n",
       "<tr><td style=\"text-align: right;\">            4.6</td><td style=\"text-align: right;\">           3.1</td><td style=\"text-align: right;\">            1.5</td><td style=\"text-align: right;\">           0.2</td><td>Iris-setosa</td><td style=\"text-align: right;\">      1.48387</td><td style=\"text-align: right;\">      7.5    </td></tr>\n",
       "<tr><td style=\"text-align: right;\">            5  </td><td style=\"text-align: right;\">           3.6</td><td style=\"text-align: right;\">            1.4</td><td style=\"text-align: right;\">           0.2</td><td>Iris-setosa</td><td style=\"text-align: right;\">      1.38889</td><td style=\"text-align: right;\">      7      </td></tr>\n",
       "<tr><td style=\"text-align: right;\">            5.4</td><td style=\"text-align: right;\">           3.9</td><td style=\"text-align: right;\">            1.7</td><td style=\"text-align: right;\">           0.4</td><td>Iris-setosa</td><td style=\"text-align: right;\">      1.38462</td><td style=\"text-align: right;\">      4.25   </td></tr>\n",
       "<tr><td style=\"text-align: right;\">            4.6</td><td style=\"text-align: right;\">           3.4</td><td style=\"text-align: right;\">            1.4</td><td style=\"text-align: right;\">           0.3</td><td>Iris-setosa</td><td style=\"text-align: right;\">      1.35294</td><td style=\"text-align: right;\">      4.66667</td></tr>\n",
       "<tr><td style=\"text-align: right;\">            5  </td><td style=\"text-align: right;\">           3.4</td><td style=\"text-align: right;\">            1.5</td><td style=\"text-align: right;\">           0.2</td><td>Iris-setosa</td><td style=\"text-align: right;\">      1.47059</td><td style=\"text-align: right;\">      7.5    </td></tr>\n",
       "<tr><td style=\"text-align: right;\">            4.4</td><td style=\"text-align: right;\">           2.9</td><td style=\"text-align: right;\">            1.4</td><td style=\"text-align: right;\">           0.2</td><td>Iris-setosa</td><td style=\"text-align: right;\">      1.51724</td><td style=\"text-align: right;\">      7      </td></tr>\n",
       "<tr><td style=\"text-align: right;\">            4.9</td><td style=\"text-align: right;\">           3.1</td><td style=\"text-align: right;\">            1.5</td><td style=\"text-align: right;\">           0.1</td><td>Iris-setosa</td><td style=\"text-align: right;\">      1.58065</td><td style=\"text-align: right;\">     15      </td></tr>\n",
       "</tbody>\n",
       "</table>"
      ]
     },
     "metadata": {},
     "output_type": "display_data"
    },
    {
     "data": {
      "text/plain": []
     },
     "execution_count": 82,
     "metadata": {},
     "output_type": "execute_result"
    }
   ],
   "source": [
    "df.head()"
   ]
  },
  {
   "cell_type": "code",
   "execution_count": 88,
   "metadata": {},
   "outputs": [],
   "source": [
    "## difference between pandas correlation and H2o correlation"
   ]
  },
  {
   "cell_type": "code",
   "execution_count": 86,
   "metadata": {},
   "outputs": [
    {
     "data": {
      "text/html": [
       "<table>\n",
       "<thead>\n",
       "<tr><th style=\"text-align: right;\">  SepalLengthCm</th><th style=\"text-align: right;\">  SepalWidthCm</th><th style=\"text-align: right;\">  PetalLengthCm</th><th style=\"text-align: right;\">  PetalWidthCm</th><th style=\"text-align: right;\">  Species</th><th style=\"text-align: right;\">  sepal_ratio</th><th style=\"text-align: right;\">  petal_ratio</th></tr>\n",
       "</thead>\n",
       "<tbody>\n",
       "<tr><td style=\"text-align: right;\">       1       </td><td style=\"text-align: right;\">     -0.109369</td><td style=\"text-align: right;\">       0.871754</td><td style=\"text-align: right;\">      0.817954</td><td style=\"text-align: right;\">      nan</td><td style=\"text-align: right;\">     0.728971</td><td style=\"text-align: right;\">    -0.563335</td></tr>\n",
       "<tr><td style=\"text-align: right;\">      -0.109369</td><td style=\"text-align: right;\">      1       </td><td style=\"text-align: right;\">      -0.420516</td><td style=\"text-align: right;\">     -0.356544</td><td style=\"text-align: right;\">      nan</td><td style=\"text-align: right;\">    -0.743521</td><td style=\"text-align: right;\">     0.320919</td></tr>\n",
       "<tr><td style=\"text-align: right;\">       0.871754</td><td style=\"text-align: right;\">     -0.420516</td><td style=\"text-align: right;\">       1       </td><td style=\"text-align: right;\">      0.962757</td><td style=\"text-align: right;\">      nan</td><td style=\"text-align: right;\">     0.836602</td><td style=\"text-align: right;\">    -0.684091</td></tr>\n",
       "<tr><td style=\"text-align: right;\">       0.817954</td><td style=\"text-align: right;\">     -0.356544</td><td style=\"text-align: right;\">       0.962757</td><td style=\"text-align: right;\">      1       </td><td style=\"text-align: right;\">      nan</td><td style=\"text-align: right;\">     0.751725</td><td style=\"text-align: right;\">    -0.73437 </td></tr>\n",
       "<tr><td style=\"text-align: right;\">     nan       </td><td style=\"text-align: right;\">    nan       </td><td style=\"text-align: right;\">     nan       </td><td style=\"text-align: right;\">    nan       </td><td style=\"text-align: right;\">      nan</td><td style=\"text-align: right;\">   nan       </td><td style=\"text-align: right;\">   nan       </td></tr>\n",
       "<tr><td style=\"text-align: right;\">       0.728971</td><td style=\"text-align: right;\">     -0.743521</td><td style=\"text-align: right;\">       0.836602</td><td style=\"text-align: right;\">      0.751725</td><td style=\"text-align: right;\">      nan</td><td style=\"text-align: right;\">     1       </td><td style=\"text-align: right;\">    -0.583908</td></tr>\n",
       "<tr><td style=\"text-align: right;\">      -0.563335</td><td style=\"text-align: right;\">      0.320919</td><td style=\"text-align: right;\">      -0.684091</td><td style=\"text-align: right;\">     -0.73437 </td><td style=\"text-align: right;\">      nan</td><td style=\"text-align: right;\">    -0.583908</td><td style=\"text-align: right;\">     1       </td></tr>\n",
       "</tbody>\n",
       "</table>"
      ]
     },
     "metadata": {},
     "output_type": "display_data"
    },
    {
     "data": {
      "text/plain": []
     },
     "execution_count": 86,
     "metadata": {},
     "output_type": "execute_result"
    }
   ],
   "source": [
    "df.cor() "
   ]
  },
  {
   "cell_type": "code",
   "execution_count": 87,
   "metadata": {},
   "outputs": [
    {
     "data": {
      "text/html": [
       "<div>\n",
       "<style scoped>\n",
       "    .dataframe tbody tr th:only-of-type {\n",
       "        vertical-align: middle;\n",
       "    }\n",
       "\n",
       "    .dataframe tbody tr th {\n",
       "        vertical-align: top;\n",
       "    }\n",
       "\n",
       "    .dataframe thead th {\n",
       "        text-align: right;\n",
       "    }\n",
       "</style>\n",
       "<table border=\"1\" class=\"dataframe\">\n",
       "  <thead>\n",
       "    <tr style=\"text-align: right;\">\n",
       "      <th></th>\n",
       "      <th>Id</th>\n",
       "      <th>SepalLengthCm</th>\n",
       "      <th>SepalWidthCm</th>\n",
       "      <th>PetalLengthCm</th>\n",
       "      <th>PetalWidthCm</th>\n",
       "    </tr>\n",
       "  </thead>\n",
       "  <tbody>\n",
       "    <tr>\n",
       "      <th>Id</th>\n",
       "      <td>1.000000</td>\n",
       "      <td>0.716676</td>\n",
       "      <td>-0.397729</td>\n",
       "      <td>0.882747</td>\n",
       "      <td>0.899759</td>\n",
       "    </tr>\n",
       "    <tr>\n",
       "      <th>SepalLengthCm</th>\n",
       "      <td>0.716676</td>\n",
       "      <td>1.000000</td>\n",
       "      <td>-0.109369</td>\n",
       "      <td>0.871754</td>\n",
       "      <td>0.817954</td>\n",
       "    </tr>\n",
       "    <tr>\n",
       "      <th>SepalWidthCm</th>\n",
       "      <td>-0.397729</td>\n",
       "      <td>-0.109369</td>\n",
       "      <td>1.000000</td>\n",
       "      <td>-0.420516</td>\n",
       "      <td>-0.356544</td>\n",
       "    </tr>\n",
       "    <tr>\n",
       "      <th>PetalLengthCm</th>\n",
       "      <td>0.882747</td>\n",
       "      <td>0.871754</td>\n",
       "      <td>-0.420516</td>\n",
       "      <td>1.000000</td>\n",
       "      <td>0.962757</td>\n",
       "    </tr>\n",
       "    <tr>\n",
       "      <th>PetalWidthCm</th>\n",
       "      <td>0.899759</td>\n",
       "      <td>0.817954</td>\n",
       "      <td>-0.356544</td>\n",
       "      <td>0.962757</td>\n",
       "      <td>1.000000</td>\n",
       "    </tr>\n",
       "  </tbody>\n",
       "</table>\n",
       "</div>"
      ],
      "text/plain": [
       "                     Id  SepalLengthCm  SepalWidthCm  PetalLengthCm  \\\n",
       "Id             1.000000       0.716676     -0.397729       0.882747   \n",
       "SepalLengthCm  0.716676       1.000000     -0.109369       0.871754   \n",
       "SepalWidthCm  -0.397729      -0.109369      1.000000      -0.420516   \n",
       "PetalLengthCm  0.882747       0.871754     -0.420516       1.000000   \n",
       "PetalWidthCm   0.899759       0.817954     -0.356544       0.962757   \n",
       "\n",
       "               PetalWidthCm  \n",
       "Id                 0.899759  \n",
       "SepalLengthCm      0.817954  \n",
       "SepalWidthCm      -0.356544  \n",
       "PetalLengthCm      0.962757  \n",
       "PetalWidthCm       1.000000  "
      ]
     },
     "execution_count": 87,
     "metadata": {},
     "output_type": "execute_result"
    }
   ],
   "source": [
    "dfp.corr()"
   ]
  },
  {
   "cell_type": "code",
   "execution_count": 90,
   "metadata": {},
   "outputs": [
    {
     "data": {
      "text/plain": [
       "<matplotlib.axes._subplots.AxesSubplot at 0x7fcb1c6309e8>"
      ]
     },
     "execution_count": 90,
     "metadata": {},
     "output_type": "execute_result"
    },
    {
     "data": {
      "image/png": "[encoded data removed]",
      "text/plain": [
       "<Figure size 432x288 with 2 Axes>"
      ]
     },
     "metadata": {
      "needs_background": "light"
     },
     "output_type": "display_data"
    }
   ],
   "source": [
    "sns.heatmap(dfp.corr())"
   ]
  },
  {
   "cell_type": "code",
   "execution_count": 91,
   "metadata": {},
   "outputs": [
    {
     "data": {
      "text/html": [
       "<div>\n",
       "<style scoped>\n",
       "    .dataframe tbody tr th:only-of-type {\n",
       "        vertical-align: middle;\n",
       "    }\n",
       "\n",
       "    .dataframe tbody tr th {\n",
       "        vertical-align: top;\n",
       "    }\n",
       "\n",
       "    .dataframe thead th {\n",
       "        text-align: right;\n",
       "    }\n",
       "</style>\n",
       "<table border=\"1\" class=\"dataframe\">\n",
       "  <thead>\n",
       "    <tr style=\"text-align: right;\">\n",
       "      <th></th>\n",
       "      <th>Id</th>\n",
       "      <th>SepalLengthCm</th>\n",
       "      <th>SepalWidthCm</th>\n",
       "      <th>PetalLengthCm</th>\n",
       "      <th>PetalWidthCm</th>\n",
       "    </tr>\n",
       "  </thead>\n",
       "  <tbody>\n",
       "    <tr>\n",
       "      <th>Id</th>\n",
       "      <td>1.000000</td>\n",
       "      <td>0.734054</td>\n",
       "      <td>-0.411539</td>\n",
       "      <td>0.868498</td>\n",
       "      <td>0.879045</td>\n",
       "    </tr>\n",
       "    <tr>\n",
       "      <th>SepalLengthCm</th>\n",
       "      <td>0.734054</td>\n",
       "      <td>1.000000</td>\n",
       "      <td>-0.159457</td>\n",
       "      <td>0.881386</td>\n",
       "      <td>0.834421</td>\n",
       "    </tr>\n",
       "    <tr>\n",
       "      <th>SepalWidthCm</th>\n",
       "      <td>-0.411539</td>\n",
       "      <td>-0.159457</td>\n",
       "      <td>1.000000</td>\n",
       "      <td>-0.303421</td>\n",
       "      <td>-0.277511</td>\n",
       "    </tr>\n",
       "    <tr>\n",
       "      <th>PetalLengthCm</th>\n",
       "      <td>0.868498</td>\n",
       "      <td>0.881386</td>\n",
       "      <td>-0.303421</td>\n",
       "      <td>1.000000</td>\n",
       "      <td>0.936003</td>\n",
       "    </tr>\n",
       "    <tr>\n",
       "      <th>PetalWidthCm</th>\n",
       "      <td>0.879045</td>\n",
       "      <td>0.834421</td>\n",
       "      <td>-0.277511</td>\n",
       "      <td>0.936003</td>\n",
       "      <td>1.000000</td>\n",
       "    </tr>\n",
       "  </tbody>\n",
       "</table>\n",
       "</div>"
      ],
      "text/plain": [
       "                     Id  SepalLengthCm  SepalWidthCm  PetalLengthCm  \\\n",
       "Id             1.000000       0.734054     -0.411539       0.868498   \n",
       "SepalLengthCm  0.734054       1.000000     -0.159457       0.881386   \n",
       "SepalWidthCm  -0.411539      -0.159457      1.000000      -0.303421   \n",
       "PetalLengthCm  0.868498       0.881386     -0.303421       1.000000   \n",
       "PetalWidthCm   0.879045       0.834421     -0.277511       0.936003   \n",
       "\n",
       "               PetalWidthCm  \n",
       "Id                 0.879045  \n",
       "SepalLengthCm      0.834421  \n",
       "SepalWidthCm      -0.277511  \n",
       "PetalLengthCm      0.936003  \n",
       "PetalWidthCm       1.000000  "
      ]
     },
     "execution_count": 91,
     "metadata": {},
     "output_type": "execute_result"
    }
   ],
   "source": [
    "dfp.corr(method='spearman')"
   ]
  },
  {
   "cell_type": "code",
   "execution_count": 92,
   "metadata": {},
   "outputs": [
    {
     "data": {
      "text/plain": [
       "<matplotlib.axes._subplots.AxesSubplot at 0x7fcb1c77bfd0>"
      ]
     },
     "execution_count": 92,
     "metadata": {},
     "output_type": "execute_result"
    },
    {
     "data": {
      "image/png": "[encoded data removed]",
      "text/plain": [
       "<Figure size 432x288 with 2 Axes>"
      ]
     },
     "metadata": {
      "needs_background": "light"
     },
     "output_type": "display_data"
    }
   ],
   "source": [
    "sns.heatmap(dfp.corr(method='spearman'))"
   ]
  },
  {
   "cell_type": "code",
   "execution_count": 93,
   "metadata": {},
   "outputs": [],
   "source": [
    "# splitting data in h2o and in sklearn"
   ]
  },
  {
   "cell_type": "code",
   "execution_count": 94,
   "metadata": {},
   "outputs": [],
   "source": [
    "## in H20\n",
    "train_h,test_h,valid_h = df.split_frame([0.6,0.2])"
   ]
  },
  {
   "cell_type": "code",
   "execution_count": 95,
   "metadata": {},
   "outputs": [
    {
     "data": {
      "text/html": [
       "<table>\n",
       "<thead>\n",
       "<tr><th style=\"text-align: right;\">  SepalLengthCm</th><th style=\"text-align: right;\">  SepalWidthCm</th><th style=\"text-align: right;\">  PetalLengthCm</th><th style=\"text-align: right;\">  PetalWidthCm</th><th>Species    </th><th style=\"text-align: right;\">  sepal_ratio</th><th style=\"text-align: right;\">  petal_ratio</th></tr>\n",
       "</thead>\n",
       "<tbody>\n",
       "<tr><td style=\"text-align: right;\">            4.6</td><td style=\"text-align: right;\">           3.1</td><td style=\"text-align: right;\">            1.5</td><td style=\"text-align: right;\">           0.2</td><td>Iris-setosa</td><td style=\"text-align: right;\">      1.48387</td><td style=\"text-align: right;\">      7.5    </td></tr>\n",
       "<tr><td style=\"text-align: right;\">            4.6</td><td style=\"text-align: right;\">           3.4</td><td style=\"text-align: right;\">            1.4</td><td style=\"text-align: right;\">           0.3</td><td>Iris-setosa</td><td style=\"text-align: right;\">      1.35294</td><td style=\"text-align: right;\">      4.66667</td></tr>\n",
       "<tr><td style=\"text-align: right;\">            5  </td><td style=\"text-align: right;\">           3.4</td><td style=\"text-align: right;\">            1.5</td><td style=\"text-align: right;\">           0.2</td><td>Iris-setosa</td><td style=\"text-align: right;\">      1.47059</td><td style=\"text-align: right;\">      7.5    </td></tr>\n",
       "<tr><td style=\"text-align: right;\">            4.4</td><td style=\"text-align: right;\">           2.9</td><td style=\"text-align: right;\">            1.4</td><td style=\"text-align: right;\">           0.2</td><td>Iris-setosa</td><td style=\"text-align: right;\">      1.51724</td><td style=\"text-align: right;\">      7      </td></tr>\n",
       "<tr><td style=\"text-align: right;\">            4.9</td><td style=\"text-align: right;\">           3.1</td><td style=\"text-align: right;\">            1.5</td><td style=\"text-align: right;\">           0.1</td><td>Iris-setosa</td><td style=\"text-align: right;\">      1.58065</td><td style=\"text-align: right;\">     15      </td></tr>\n",
       "<tr><td style=\"text-align: right;\">            5.4</td><td style=\"text-align: right;\">           3.7</td><td style=\"text-align: right;\">            1.5</td><td style=\"text-align: right;\">           0.2</td><td>Iris-setosa</td><td style=\"text-align: right;\">      1.45946</td><td style=\"text-align: right;\">      7.5    </td></tr>\n",
       "<tr><td style=\"text-align: right;\">            4.8</td><td style=\"text-align: right;\">           3  </td><td style=\"text-align: right;\">            1.4</td><td style=\"text-align: right;\">           0.1</td><td>Iris-setosa</td><td style=\"text-align: right;\">      1.6    </td><td style=\"text-align: right;\">     14      </td></tr>\n",
       "<tr><td style=\"text-align: right;\">            5.8</td><td style=\"text-align: right;\">           4  </td><td style=\"text-align: right;\">            1.2</td><td style=\"text-align: right;\">           0.2</td><td>Iris-setosa</td><td style=\"text-align: right;\">      1.45   </td><td style=\"text-align: right;\">      6      </td></tr>\n",
       "<tr><td style=\"text-align: right;\">            5.1</td><td style=\"text-align: right;\">           3.5</td><td style=\"text-align: right;\">            1.4</td><td style=\"text-align: right;\">           0.3</td><td>Iris-setosa</td><td style=\"text-align: right;\">      1.45714</td><td style=\"text-align: right;\">      4.66667</td></tr>\n",
       "<tr><td style=\"text-align: right;\">            5.7</td><td style=\"text-align: right;\">           3.8</td><td style=\"text-align: right;\">            1.7</td><td style=\"text-align: right;\">           0.3</td><td>Iris-setosa</td><td style=\"text-align: right;\">      1.5    </td><td style=\"text-align: right;\">      5.66667</td></tr>\n",
       "</tbody>\n",
       "</table>"
      ]
     },
     "metadata": {},
     "output_type": "display_data"
    },
    {
     "data": {
      "text/plain": []
     },
     "execution_count": 95,
     "metadata": {},
     "output_type": "execute_result"
    }
   ],
   "source": [
    "train_h"
   ]
  },
  {
   "cell_type": "code",
   "execution_count": 96,
   "metadata": {},
   "outputs": [
    {
     "data": {
      "text/html": [
       "<table>\n",
       "<thead>\n",
       "<tr><th style=\"text-align: right;\">  SepalLengthCm</th><th style=\"text-align: right;\">  SepalWidthCm</th><th style=\"text-align: right;\">  PetalLengthCm</th><th style=\"text-align: right;\">  PetalWidthCm</th><th>Species        </th><th style=\"text-align: right;\">  sepal_ratio</th><th style=\"text-align: right;\">  petal_ratio</th></tr>\n",
       "</thead>\n",
       "<tbody>\n",
       "<tr><td style=\"text-align: right;\">            5  </td><td style=\"text-align: right;\">           3.6</td><td style=\"text-align: right;\">            1.4</td><td style=\"text-align: right;\">           0.2</td><td>Iris-setosa    </td><td style=\"text-align: right;\">      1.38889</td><td style=\"text-align: right;\">      7      </td></tr>\n",
       "<tr><td style=\"text-align: right;\">            4.3</td><td style=\"text-align: right;\">           3  </td><td style=\"text-align: right;\">            1.1</td><td style=\"text-align: right;\">           0.1</td><td>Iris-setosa    </td><td style=\"text-align: right;\">      1.43333</td><td style=\"text-align: right;\">     11      </td></tr>\n",
       "<tr><td style=\"text-align: right;\">            4.8</td><td style=\"text-align: right;\">           3.4</td><td style=\"text-align: right;\">            1.9</td><td style=\"text-align: right;\">           0.2</td><td>Iris-setosa    </td><td style=\"text-align: right;\">      1.41176</td><td style=\"text-align: right;\">      9.5    </td></tr>\n",
       "<tr><td style=\"text-align: right;\">            5.2</td><td style=\"text-align: right;\">           3.4</td><td style=\"text-align: right;\">            1.4</td><td style=\"text-align: right;\">           0.2</td><td>Iris-setosa    </td><td style=\"text-align: right;\">      1.52941</td><td style=\"text-align: right;\">      7      </td></tr>\n",
       "<tr><td style=\"text-align: right;\">            5.5</td><td style=\"text-align: right;\">           4.2</td><td style=\"text-align: right;\">            1.4</td><td style=\"text-align: right;\">           0.2</td><td>Iris-setosa    </td><td style=\"text-align: right;\">      1.30952</td><td style=\"text-align: right;\">      7      </td></tr>\n",
       "<tr><td style=\"text-align: right;\">            5.5</td><td style=\"text-align: right;\">           3.5</td><td style=\"text-align: right;\">            1.3</td><td style=\"text-align: right;\">           0.2</td><td>Iris-setosa    </td><td style=\"text-align: right;\">      1.57143</td><td style=\"text-align: right;\">      6.5    </td></tr>\n",
       "<tr><td style=\"text-align: right;\">            4.9</td><td style=\"text-align: right;\">           3.1</td><td style=\"text-align: right;\">            1.5</td><td style=\"text-align: right;\">           0.1</td><td>Iris-setosa    </td><td style=\"text-align: right;\">      1.58065</td><td style=\"text-align: right;\">     15      </td></tr>\n",
       "<tr><td style=\"text-align: right;\">            5  </td><td style=\"text-align: right;\">           3.5</td><td style=\"text-align: right;\">            1.3</td><td style=\"text-align: right;\">           0.3</td><td>Iris-setosa    </td><td style=\"text-align: right;\">      1.42857</td><td style=\"text-align: right;\">      4.33333</td></tr>\n",
       "<tr><td style=\"text-align: right;\">            5.1</td><td style=\"text-align: right;\">           3.8</td><td style=\"text-align: right;\">            1.9</td><td style=\"text-align: right;\">           0.4</td><td>Iris-setosa    </td><td style=\"text-align: right;\">      1.34211</td><td style=\"text-align: right;\">      4.75   </td></tr>\n",
       "<tr><td style=\"text-align: right;\">            4.9</td><td style=\"text-align: right;\">           2.4</td><td style=\"text-align: right;\">            3.3</td><td style=\"text-align: right;\">           1  </td><td>Iris-versicolor</td><td style=\"text-align: right;\">      2.04167</td><td style=\"text-align: right;\">      3.3    </td></tr>\n",
       "</tbody>\n",
       "</table>"
      ]
     },
     "metadata": {},
     "output_type": "display_data"
    },
    {
     "data": {
      "text/plain": []
     },
     "execution_count": 96,
     "metadata": {},
     "output_type": "execute_result"
    }
   ],
   "source": [
    "test_h"
   ]
  },
  {
   "cell_type": "code",
   "execution_count": 97,
   "metadata": {},
   "outputs": [
    {
     "data": {
      "text/html": [
       "<table>\n",
       "<thead>\n",
       "<tr><th style=\"text-align: right;\">  SepalLengthCm</th><th style=\"text-align: right;\">  SepalWidthCm</th><th style=\"text-align: right;\">  PetalLengthCm</th><th style=\"text-align: right;\">  PetalWidthCm</th><th>Species    </th><th style=\"text-align: right;\">  sepal_ratio</th><th style=\"text-align: right;\">  petal_ratio</th></tr>\n",
       "</thead>\n",
       "<tbody>\n",
       "<tr><td style=\"text-align: right;\">            5.1</td><td style=\"text-align: right;\">           3.5</td><td style=\"text-align: right;\">            1.4</td><td style=\"text-align: right;\">           0.2</td><td>Iris-setosa</td><td style=\"text-align: right;\">      1.45714</td><td style=\"text-align: right;\">         7   </td></tr>\n",
       "<tr><td style=\"text-align: right;\">            4.9</td><td style=\"text-align: right;\">           3  </td><td style=\"text-align: right;\">            1.4</td><td style=\"text-align: right;\">           0.2</td><td>Iris-setosa</td><td style=\"text-align: right;\">      1.63333</td><td style=\"text-align: right;\">         7   </td></tr>\n",
       "<tr><td style=\"text-align: right;\">            4.7</td><td style=\"text-align: right;\">           3.2</td><td style=\"text-align: right;\">            1.3</td><td style=\"text-align: right;\">           0.2</td><td>Iris-setosa</td><td style=\"text-align: right;\">      1.46875</td><td style=\"text-align: right;\">         6.5 </td></tr>\n",
       "<tr><td style=\"text-align: right;\">            5.4</td><td style=\"text-align: right;\">           3.9</td><td style=\"text-align: right;\">            1.7</td><td style=\"text-align: right;\">           0.4</td><td>Iris-setosa</td><td style=\"text-align: right;\">      1.38462</td><td style=\"text-align: right;\">         4.25</td></tr>\n",
       "<tr><td style=\"text-align: right;\">            4.8</td><td style=\"text-align: right;\">           3.4</td><td style=\"text-align: right;\">            1.6</td><td style=\"text-align: right;\">           0.2</td><td>Iris-setosa</td><td style=\"text-align: right;\">      1.41176</td><td style=\"text-align: right;\">         8   </td></tr>\n",
       "<tr><td style=\"text-align: right;\">            5.7</td><td style=\"text-align: right;\">           4.4</td><td style=\"text-align: right;\">            1.5</td><td style=\"text-align: right;\">           0.4</td><td>Iris-setosa</td><td style=\"text-align: right;\">      1.29545</td><td style=\"text-align: right;\">         3.75</td></tr>\n",
       "<tr><td style=\"text-align: right;\">            5.4</td><td style=\"text-align: right;\">           3.9</td><td style=\"text-align: right;\">            1.3</td><td style=\"text-align: right;\">           0.4</td><td>Iris-setosa</td><td style=\"text-align: right;\">      1.38462</td><td style=\"text-align: right;\">         3.25</td></tr>\n",
       "<tr><td style=\"text-align: right;\">            5.4</td><td style=\"text-align: right;\">           3.4</td><td style=\"text-align: right;\">            1.7</td><td style=\"text-align: right;\">           0.2</td><td>Iris-setosa</td><td style=\"text-align: right;\">      1.58824</td><td style=\"text-align: right;\">         8.5 </td></tr>\n",
       "<tr><td style=\"text-align: right;\">            5.1</td><td style=\"text-align: right;\">           3.7</td><td style=\"text-align: right;\">            1.5</td><td style=\"text-align: right;\">           0.4</td><td>Iris-setosa</td><td style=\"text-align: right;\">      1.37838</td><td style=\"text-align: right;\">         3.75</td></tr>\n",
       "<tr><td style=\"text-align: right;\">            5.1</td><td style=\"text-align: right;\">           3.3</td><td style=\"text-align: right;\">            1.7</td><td style=\"text-align: right;\">           0.5</td><td>Iris-setosa</td><td style=\"text-align: right;\">      1.54545</td><td style=\"text-align: right;\">         3.4 </td></tr>\n",
       "</tbody>\n",
       "</table>"
      ]
     },
     "metadata": {},
     "output_type": "display_data"
    },
    {
     "data": {
      "text/plain": []
     },
     "execution_count": 97,
     "metadata": {},
     "output_type": "execute_result"
    }
   ],
   "source": [
    "valid_h"
   ]
  },
  {
   "cell_type": "code",
   "execution_count": 98,
   "metadata": {},
   "outputs": [],
   "source": [
    "## in sklearn"
   ]
  },
  {
   "cell_type": "code",
   "execution_count": 99,
   "metadata": {},
   "outputs": [],
   "source": [
    "from sklearn.model_selection import train_test_split"
   ]
  },
  {
   "cell_type": "code",
   "execution_count": 104,
   "metadata": {},
   "outputs": [],
   "source": [
    "xtrain,ytrain,xtest,ytest = train_test_split(dfp.drop('Species',axis=1),dfp[['Species']])"
   ]
  },
  {
   "cell_type": "code",
   "execution_count": 106,
   "metadata": {},
   "outputs": [
    {
     "data": {
      "text/html": [
       "<div>\n",
       "<style scoped>\n",
       "    .dataframe tbody tr th:only-of-type {\n",
       "        vertical-align: middle;\n",
       "    }\n",
       "\n",
       "    .dataframe tbody tr th {\n",
       "        vertical-align: top;\n",
       "    }\n",
       "\n",
       "    .dataframe thead th {\n",
       "        text-align: right;\n",
       "    }\n",
       "</style>\n",
       "<table border=\"1\" class=\"dataframe\">\n",
       "  <thead>\n",
       "    <tr style=\"text-align: right;\">\n",
       "      <th></th>\n",
       "      <th>Id</th>\n",
       "      <th>SepalLengthCm</th>\n",
       "      <th>SepalWidthCm</th>\n",
       "      <th>PetalLengthCm</th>\n",
       "      <th>PetalWidthCm</th>\n",
       "    </tr>\n",
       "  </thead>\n",
       "  <tbody>\n",
       "    <tr>\n",
       "      <th>120</th>\n",
       "      <td>121</td>\n",
       "      <td>6.9</td>\n",
       "      <td>3.2</td>\n",
       "      <td>5.7</td>\n",
       "      <td>2.3</td>\n",
       "    </tr>\n",
       "    <tr>\n",
       "      <th>80</th>\n",
       "      <td>81</td>\n",
       "      <td>5.5</td>\n",
       "      <td>2.4</td>\n",
       "      <td>3.8</td>\n",
       "      <td>1.1</td>\n",
       "    </tr>\n",
       "    <tr>\n",
       "      <th>90</th>\n",
       "      <td>91</td>\n",
       "      <td>5.5</td>\n",
       "      <td>2.6</td>\n",
       "      <td>4.4</td>\n",
       "      <td>1.2</td>\n",
       "    </tr>\n",
       "    <tr>\n",
       "      <th>134</th>\n",
       "      <td>135</td>\n",
       "      <td>6.1</td>\n",
       "      <td>2.6</td>\n",
       "      <td>5.6</td>\n",
       "      <td>1.4</td>\n",
       "    </tr>\n",
       "    <tr>\n",
       "      <th>119</th>\n",
       "      <td>120</td>\n",
       "      <td>6.0</td>\n",
       "      <td>2.2</td>\n",
       "      <td>5.0</td>\n",
       "      <td>1.5</td>\n",
       "    </tr>\n",
       "  </tbody>\n",
       "</table>\n",
       "</div>"
      ],
      "text/plain": [
       "      Id  SepalLengthCm  SepalWidthCm  PetalLengthCm  PetalWidthCm\n",
       "120  121            6.9           3.2            5.7           2.3\n",
       "80    81            5.5           2.4            3.8           1.1\n",
       "90    91            5.5           2.6            4.4           1.2\n",
       "134  135            6.1           2.6            5.6           1.4\n",
       "119  120            6.0           2.2            5.0           1.5"
      ]
     },
     "execution_count": 106,
     "metadata": {},
     "output_type": "execute_result"
    }
   ],
   "source": [
    "xtrain.head()"
   ]
  },
  {
   "cell_type": "code",
   "execution_count": 108,
   "metadata": {},
   "outputs": [
    {
     "data": {
      "text/html": [
       "<div>\n",
       "<style scoped>\n",
       "    .dataframe tbody tr th:only-of-type {\n",
       "        vertical-align: middle;\n",
       "    }\n",
       "\n",
       "    .dataframe tbody tr th {\n",
       "        vertical-align: top;\n",
       "    }\n",
       "\n",
       "    .dataframe thead th {\n",
       "        text-align: right;\n",
       "    }\n",
       "</style>\n",
       "<table border=\"1\" class=\"dataframe\">\n",
       "  <thead>\n",
       "    <tr style=\"text-align: right;\">\n",
       "      <th></th>\n",
       "      <th>Id</th>\n",
       "      <th>SepalLengthCm</th>\n",
       "      <th>SepalWidthCm</th>\n",
       "      <th>PetalLengthCm</th>\n",
       "      <th>PetalWidthCm</th>\n",
       "    </tr>\n",
       "  </thead>\n",
       "  <tbody>\n",
       "    <tr>\n",
       "      <th>95</th>\n",
       "      <td>96</td>\n",
       "      <td>5.7</td>\n",
       "      <td>3.0</td>\n",
       "      <td>4.2</td>\n",
       "      <td>1.2</td>\n",
       "    </tr>\n",
       "    <tr>\n",
       "      <th>57</th>\n",
       "      <td>58</td>\n",
       "      <td>4.9</td>\n",
       "      <td>2.4</td>\n",
       "      <td>3.3</td>\n",
       "      <td>1.0</td>\n",
       "    </tr>\n",
       "    <tr>\n",
       "      <th>20</th>\n",
       "      <td>21</td>\n",
       "      <td>5.4</td>\n",
       "      <td>3.4</td>\n",
       "      <td>1.7</td>\n",
       "      <td>0.2</td>\n",
       "    </tr>\n",
       "    <tr>\n",
       "      <th>0</th>\n",
       "      <td>1</td>\n",
       "      <td>5.1</td>\n",
       "      <td>3.5</td>\n",
       "      <td>1.4</td>\n",
       "      <td>0.2</td>\n",
       "    </tr>\n",
       "    <tr>\n",
       "      <th>50</th>\n",
       "      <td>51</td>\n",
       "      <td>7.0</td>\n",
       "      <td>3.2</td>\n",
       "      <td>4.7</td>\n",
       "      <td>1.4</td>\n",
       "    </tr>\n",
       "  </tbody>\n",
       "</table>\n",
       "</div>"
      ],
      "text/plain": [
       "    Id  SepalLengthCm  SepalWidthCm  PetalLengthCm  PetalWidthCm\n",
       "95  96            5.7           3.0            4.2           1.2\n",
       "57  58            4.9           2.4            3.3           1.0\n",
       "20  21            5.4           3.4            1.7           0.2\n",
       "0    1            5.1           3.5            1.4           0.2\n",
       "50  51            7.0           3.2            4.7           1.4"
      ]
     },
     "execution_count": 108,
     "metadata": {},
     "output_type": "execute_result"
    }
   ],
   "source": [
    "ytrain.head()"
   ]
  },
  {
   "cell_type": "code",
   "execution_count": 109,
   "metadata": {},
   "outputs": [
    {
     "data": {
      "text/html": [
       "<div>\n",
       "<style scoped>\n",
       "    .dataframe tbody tr th:only-of-type {\n",
       "        vertical-align: middle;\n",
       "    }\n",
       "\n",
       "    .dataframe tbody tr th {\n",
       "        vertical-align: top;\n",
       "    }\n",
       "\n",
       "    .dataframe thead th {\n",
       "        text-align: right;\n",
       "    }\n",
       "</style>\n",
       "<table border=\"1\" class=\"dataframe\">\n",
       "  <thead>\n",
       "    <tr style=\"text-align: right;\">\n",
       "      <th></th>\n",
       "      <th>Species</th>\n",
       "    </tr>\n",
       "  </thead>\n",
       "  <tbody>\n",
       "    <tr>\n",
       "      <th>120</th>\n",
       "      <td>Iris-virginica</td>\n",
       "    </tr>\n",
       "    <tr>\n",
       "      <th>80</th>\n",
       "      <td>Iris-versicolor</td>\n",
       "    </tr>\n",
       "    <tr>\n",
       "      <th>90</th>\n",
       "      <td>Iris-versicolor</td>\n",
       "    </tr>\n",
       "    <tr>\n",
       "      <th>134</th>\n",
       "      <td>Iris-virginica</td>\n",
       "    </tr>\n",
       "    <tr>\n",
       "      <th>119</th>\n",
       "      <td>Iris-virginica</td>\n",
       "    </tr>\n",
       "  </tbody>\n",
       "</table>\n",
       "</div>"
      ],
      "text/plain": [
       "             Species\n",
       "120   Iris-virginica\n",
       "80   Iris-versicolor\n",
       "90   Iris-versicolor\n",
       "134   Iris-virginica\n",
       "119   Iris-virginica"
      ]
     },
     "execution_count": 109,
     "metadata": {},
     "output_type": "execute_result"
    }
   ],
   "source": [
    "xtest.head()"
   ]
  },
  {
   "cell_type": "code",
   "execution_count": 111,
   "metadata": {},
   "outputs": [
    {
     "data": {
      "text/html": [
       "<div>\n",
       "<style scoped>\n",
       "    .dataframe tbody tr th:only-of-type {\n",
       "        vertical-align: middle;\n",
       "    }\n",
       "\n",
       "    .dataframe tbody tr th {\n",
       "        vertical-align: top;\n",
       "    }\n",
       "\n",
       "    .dataframe thead th {\n",
       "        text-align: right;\n",
       "    }\n",
       "</style>\n",
       "<table border=\"1\" class=\"dataframe\">\n",
       "  <thead>\n",
       "    <tr style=\"text-align: right;\">\n",
       "      <th></th>\n",
       "      <th>Species</th>\n",
       "    </tr>\n",
       "  </thead>\n",
       "  <tbody>\n",
       "    <tr>\n",
       "      <th>95</th>\n",
       "      <td>Iris-versicolor</td>\n",
       "    </tr>\n",
       "    <tr>\n",
       "      <th>57</th>\n",
       "      <td>Iris-versicolor</td>\n",
       "    </tr>\n",
       "    <tr>\n",
       "      <th>20</th>\n",
       "      <td>Iris-setosa</td>\n",
       "    </tr>\n",
       "    <tr>\n",
       "      <th>0</th>\n",
       "      <td>Iris-setosa</td>\n",
       "    </tr>\n",
       "    <tr>\n",
       "      <th>50</th>\n",
       "      <td>Iris-versicolor</td>\n",
       "    </tr>\n",
       "  </tbody>\n",
       "</table>\n",
       "</div>"
      ],
      "text/plain": [
       "            Species\n",
       "95  Iris-versicolor\n",
       "57  Iris-versicolor\n",
       "20      Iris-setosa\n",
       "0       Iris-setosa\n",
       "50  Iris-versicolor"
      ]
     },
     "execution_count": 111,
     "metadata": {},
     "output_type": "execute_result"
    }
   ],
   "source": [
    "ytest.head()"
   ]
  },
  {
   "cell_type": "code",
   "execution_count": 112,
   "metadata": {},
   "outputs": [],
   "source": [
    "## exporting data"
   ]
  },
  {
   "cell_type": "code",
   "execution_count": 113,
   "metadata": {},
   "outputs": [],
   "source": [
    "#h2o.exportFile(d, \"/path/to/d.csv\")\n",
    "#h2o.exportFile(d, \"s3://mybucket/d.csv\")\n",
    "#h2o.exportFile(d, \"s3://<AWS_ACCESS_KEY>:<AWS_SECRET_KEY>@mybucket/d.csv\")\n",
    "#h2o.exportFile(d, \"hdfs://namenode/path/to/d.csv\")"
   ]
  },
  {
   "cell_type": "code",
   "execution_count": 116,
   "metadata": {},
   "outputs": [
    {
     "name": "stdout",
     "output_type": "stream",
     "text": [
      "Export File progress: |███████████████████████████████████████████████████| 100%\n"
     ]
    }
   ],
   "source": [
    "h2o.export_file(df,'export.csv')"
   ]
  },
  {
   "cell_type": "code",
   "execution_count": 117,
   "metadata": {},
   "outputs": [
    {
     "name": "stdout",
     "output_type": "stream",
     "text": [
      "ABALONA_AGE_PREDICTION\tFruit_data    Iris_h20.ipynb   SOCIAL_MEDIA_PREDICTION\r\n",
      "CANCER_DETECTION\tgoogle_stock  IRIS-PREDICTION  TITANIC\r\n",
      "export.csv\t\thpuse_price   README.md\r\n"
     ]
    }
   ],
   "source": [
    "!ls"
   ]
  },
  {
   "cell_type": "code",
   "execution_count": 118,
   "metadata": {},
   "outputs": [
    {
     "name": "stdout",
     "output_type": "stream",
     "text": [
      "\"SepalLengthCm\",\"SepalWidthCm\",\"PetalLengthCm\",\"PetalWidthCm\",\"Species\",\"sepal_ratio\",\"petal_ratio\"\r\n",
      "5.1,3.5,1.4,0.2,\"Iris-setosa\",1.457142857142857,6.999999999999999\r\n",
      "4.9,3.0,1.4,0.2,\"Iris-setosa\",1.6333333333333335,6.999999999999999\r\n",
      "4.7,3.2,1.3,0.2,\"Iris-setosa\",1.46875,6.5\r\n",
      "4.6,3.1,1.5,0.2,\"Iris-setosa\",1.4838709677419353,7.5\r\n",
      "5.0,3.6,1.4,0.2,\"Iris-setosa\",1.3888888888888888,6.999999999999999\r\n",
      "5.4,3.9,1.7,0.4,\"Iris-setosa\",1.3846153846153848,4.25\r\n",
      "4.6,3.4,1.4,0.3,\"Iris-setosa\",1.352941176470588,4.666666666666667\r\n",
      "5.0,3.4,1.5,0.2,\"Iris-setosa\",1.4705882352941178,7.5\r\n",
      "4.4,2.9,1.4,0.2,\"Iris-setosa\",1.517241379310345,6.999999999999999\r\n",
      "4.9,3.1,1.5,0.1,\"Iris-setosa\",1.5806451612903227,15.0\r\n",
      "5.4,3.7,1.5,0.2,\"Iris-setosa\",1.4594594594594594,7.5\r\n",
      "4.8,3.4,1.6,0.2,\"Iris-setosa\",1.411764705882353,8.0\r\n",
      "4.8,3.0,1.4,0.1,\"Iris-setosa\",1.5999999999999999,13.999999999999998\r\n",
      "4.3,3.0,1.1,0.1,\"Iris-setosa\",1.4333333333333333,11.0\r\n",
      "5.8,4.0,1.2,0.2,\"Iris-setosa\",1.45,5.999999999999999\r\n",
      "5.7,4.4,1.5,0.4,\"Iris-setosa\",1.2954545454545454,3.75\r\n",
      "5.4,3.9,1.3,0.4,\"Iris-setosa\",1.3846153846153848,3.25\r\n",
      "5.1,3.5,1.4,0.3,\"Iris-setosa\",1.457142857142857,4.666666666666667\r\n",
      "5.7,3.8,1.7,0.3,\"Iris-setosa\",1.5000000000000002,5.666666666666667\r\n",
      "5.1,3.8,1.5,0.3,\"Iris-setosa\",1.3421052631578947,5.0\r\n",
      "5.4,3.4,1.7,0.2,\"Iris-setosa\",1.5882352941176472,8.5\r\n",
      "5.1,3.7,1.5,0.4,\"Iris-setosa\",1.3783783783783783,3.75\r\n",
      "4.6,3.6,1.0,0.2,\"Iris-setosa\",1.2777777777777777,5.0\r\n",
      "5.1,3.3,1.7,0.5,\"Iris-setosa\",1.5454545454545454,3.4\r\n",
      "4.8,3.4,1.9,0.2,\"Iris-setosa\",1.411764705882353,9.499999999999998\r\n",
      "5.0,3.0,1.6,0.2,\"Iris-setosa\",1.6666666666666667,8.0\r\n",
      "5.0,3.4,1.6,0.4,\"Iris-setosa\",1.4705882352941178,4.0\r\n",
      "5.2,3.5,1.5,0.2,\"Iris-setosa\",1.4857142857142858,7.5\r\n",
      "5.2,3.4,1.4,0.2,\"Iris-setosa\",1.5294117647058825,6.999999999999999\r\n",
      "4.7,3.2,1.6,0.2,\"Iris-setosa\",1.46875,8.0\r\n",
      "4.8,3.1,1.6,0.2,\"Iris-setosa\",1.5483870967741935,8.0\r\n",
      "5.4,3.4,1.5,0.4,\"Iris-setosa\",1.5882352941176472,3.75\r\n",
      "5.2,4.1,1.5,0.1,\"Iris-setosa\",1.2682926829268295,15.0\r\n",
      "5.5,4.2,1.4,0.2,\"Iris-setosa\",1.3095238095238095,6.999999999999999\r\n",
      "4.9,3.1,1.5,0.1,\"Iris-setosa\",1.5806451612903227,15.0\r\n",
      "5.0,3.2,1.2,0.2,\"Iris-setosa\",1.5625,5.999999999999999\r\n",
      "5.5,3.5,1.3,0.2,\"Iris-setosa\",1.5714285714285714,6.5\r\n",
      "4.9,3.1,1.5,0.1,\"Iris-setosa\",1.5806451612903227,15.0\r\n",
      "4.4,3.0,1.3,0.2,\"Iris-setosa\",1.4666666666666668,6.5\r\n",
      "5.1,3.4,1.5,0.2,\"Iris-setosa\",1.5,7.5\r\n",
      "5.0,3.5,1.3,0.3,\"Iris-setosa\",1.4285714285714286,4.333333333333334\r\n",
      "4.5,2.3,1.3,0.3,\"Iris-setosa\",1.956521739130435,4.333333333333334\r\n",
      "4.4,3.2,1.3,0.2,\"Iris-setosa\",1.375,6.5\r\n",
      "5.0,3.5,1.6,0.6,\"Iris-setosa\",1.4285714285714286,2.666666666666667\r\n",
      "5.1,3.8,1.9,0.4,\"Iris-setosa\",1.3421052631578947,4.749999999999999\r\n",
      "4.8,3.0,1.4,0.3,\"Iris-setosa\",1.5999999999999999,4.666666666666667\r\n",
      "5.1,3.8,1.6,0.2,\"Iris-setosa\",1.3421052631578947,8.0\r\n",
      "4.6,3.2,1.4,0.2,\"Iris-setosa\",1.4374999999999998,6.999999999999999\r\n",
      "5.3,3.7,1.5,0.2,\"Iris-setosa\",1.4324324324324322,7.5\r\n",
      "5.0,3.3,1.4,0.2,\"Iris-setosa\",1.5151515151515151,6.999999999999999\r\n",
      "7.0,3.2,4.7,1.4,\"Iris-versicolor\",2.1875,3.3571428571428577\r\n",
      "6.4,3.2,4.5,1.5,\"Iris-versicolor\",2.0,3.0\r\n",
      "6.9,3.1,4.9,1.5,\"Iris-versicolor\",2.2258064516129035,3.266666666666667\r\n",
      "5.5,2.3,4.0,1.3,\"Iris-versicolor\",2.3913043478260874,3.0769230769230766\r\n",
      "6.5,2.8,4.6,1.5,\"Iris-versicolor\",2.3214285714285716,3.0666666666666664\r\n",
      "5.7,2.8,4.5,1.3,\"Iris-versicolor\",2.035714285714286,3.4615384615384612\r\n",
      "6.3,3.3,4.7,1.6,\"Iris-versicolor\",1.9090909090909092,2.9375\r\n",
      "4.9,2.4,3.3,1.0,\"Iris-versicolor\",2.041666666666667,3.3\r\n",
      "6.6,2.9,4.6,1.3,\"Iris-versicolor\",2.2758620689655173,3.538461538461538\r\n",
      "5.2,2.7,3.9,1.4,\"Iris-versicolor\",1.9259259259259258,2.785714285714286\r\n",
      "5.0,2.0,3.5,1.0,\"Iris-versicolor\",2.5,3.5\r\n",
      "5.9,3.0,4.2,1.5,\"Iris-versicolor\",1.9666666666666668,2.8000000000000003\r\n",
      "6.0,2.2,4.0,1.0,\"Iris-versicolor\",2.727272727272727,4.0\r\n",
      "6.1,2.9,4.7,1.4,\"Iris-versicolor\",2.103448275862069,3.3571428571428577\r\n",
      "5.6,2.9,3.6,1.3,\"Iris-versicolor\",1.9310344827586206,2.769230769230769\r\n",
      "6.7,3.1,4.4,1.4,\"Iris-versicolor\",2.161290322580645,3.1428571428571432\r\n",
      "5.6,3.0,4.5,1.5,\"Iris-versicolor\",1.8666666666666665,3.0\r\n",
      "5.8,2.7,4.1,1.0,\"Iris-versicolor\",2.148148148148148,4.1\r\n",
      "6.2,2.2,4.5,1.5,\"Iris-versicolor\",2.818181818181818,3.0\r\n",
      "5.6,2.5,3.9,1.1,\"Iris-versicolor\",2.2399999999999998,3.545454545454545\r\n",
      "5.9,3.2,4.8,1.8,\"Iris-versicolor\",1.84375,2.6666666666666665\r\n",
      "6.1,2.8,4.0,1.3,\"Iris-versicolor\",2.1785714285714284,3.0769230769230766\r\n",
      "6.3,2.5,4.9,1.5,\"Iris-versicolor\",2.52,3.266666666666667\r\n",
      "6.1,2.8,4.7,1.2,\"Iris-versicolor\",2.1785714285714284,3.916666666666667\r\n",
      "6.4,2.9,4.3,1.3,\"Iris-versicolor\",2.206896551724138,3.3076923076923075\r\n",
      "6.6,3.0,4.4,1.4,\"Iris-versicolor\",2.1999999999999997,3.1428571428571432\r\n",
      "6.8,2.8,4.8,1.4,\"Iris-versicolor\",2.428571428571429,3.428571428571429\r\n",
      "6.7,3.0,5.0,1.7,\"Iris-versicolor\",2.2333333333333334,2.9411764705882355\r\n",
      "6.0,2.9,4.5,1.5,\"Iris-versicolor\",2.0689655172413794,3.0\r\n",
      "5.7,2.6,3.5,1.0,\"Iris-versicolor\",2.1923076923076925,3.5\r\n",
      "5.5,2.4,3.8,1.1,\"Iris-versicolor\",2.291666666666667,3.454545454545454\r\n",
      "5.5,2.4,3.7,1.0,\"Iris-versicolor\",2.291666666666667,3.7\r\n",
      "5.8,2.7,3.9,1.2,\"Iris-versicolor\",2.148148148148148,3.25\r\n",
      "6.0,2.7,5.1,1.6,\"Iris-versicolor\",2.222222222222222,3.1874999999999996\r\n",
      "5.4,3.0,4.5,1.5,\"Iris-versicolor\",1.8,3.0\r\n",
      "6.0,3.4,4.5,1.6,\"Iris-versicolor\",1.7647058823529411,2.8125\r\n",
      "6.7,3.1,4.7,1.5,\"Iris-versicolor\",2.161290322580645,3.1333333333333333\r\n",
      "6.3,2.3,4.4,1.3,\"Iris-versicolor\",2.739130434782609,3.3846153846153846\r\n",
      "5.6,3.0,4.1,1.3,\"Iris-versicolor\",1.8666666666666665,3.1538461538461533\r\n",
      "5.5,2.5,4.0,1.3,\"Iris-versicolor\",2.2,3.0769230769230766\r\n",
      "5.5,2.6,4.4,1.2,\"Iris-versicolor\",2.1153846153846154,3.666666666666667\r\n",
      "6.1,3.0,4.6,1.4,\"Iris-versicolor\",2.033333333333333,3.2857142857142856\r\n",
      "5.8,2.6,4.0,1.2,\"Iris-versicolor\",2.230769230769231,3.3333333333333335\r\n",
      "5.0,2.3,3.3,1.0,\"Iris-versicolor\",2.173913043478261,3.3\r\n",
      "5.6,2.7,4.2,1.3,\"Iris-versicolor\",2.074074074074074,3.230769230769231\r\n",
      "5.7,3.0,4.2,1.2,\"Iris-versicolor\",1.9000000000000001,3.5000000000000004\r\n",
      "5.7,2.9,4.2,1.3,\"Iris-versicolor\",1.9655172413793105,3.230769230769231\r\n",
      "6.2,2.9,4.3,1.3,\"Iris-versicolor\",2.137931034482759,3.3076923076923075\r\n",
      "5.1,2.5,3.0,1.1,\"Iris-versicolor\",2.04,2.727272727272727\r\n",
      "5.7,2.8,4.1,1.3,\"Iris-versicolor\",2.035714285714286,3.1538461538461533\r\n",
      "6.3,3.3,6.0,2.5,\"Iris-virginica\",1.9090909090909092,2.4\r\n",
      "5.8,2.7,5.1,1.9,\"Iris-virginica\",2.148148148148148,2.6842105263157894\r\n",
      "7.1,3.0,5.9,2.1,\"Iris-virginica\",2.3666666666666667,2.8095238095238098\r\n",
      "6.3,2.9,5.6,1.8,\"Iris-virginica\",2.1724137931034484,3.1111111111111107\r\n",
      "6.5,3.0,5.8,2.2,\"Iris-virginica\",2.1666666666666665,2.6363636363636362\r\n",
      "7.6,3.0,6.6,2.1,\"Iris-virginica\",2.533333333333333,3.1428571428571423\r\n",
      "4.9,2.5,4.5,1.7,\"Iris-virginica\",1.9600000000000002,2.6470588235294117\r\n",
      "7.3,2.9,6.3,1.8,\"Iris-virginica\",2.5172413793103448,3.5\r\n",
      "6.7,2.5,5.8,1.8,\"Iris-virginica\",2.68,3.222222222222222\r\n",
      "7.2,3.6,6.1,2.5,\"Iris-virginica\",2.0,2.44\r\n",
      "6.5,3.2,5.1,2.0,\"Iris-virginica\",2.03125,2.55\r\n",
      "6.4,2.7,5.3,1.9,\"Iris-virginica\",2.3703703703703702,2.7894736842105265\r\n",
      "6.8,3.0,5.5,2.1,\"Iris-virginica\",2.2666666666666666,2.619047619047619\r\n",
      "5.7,2.5,5.0,2.0,\"Iris-virginica\",2.2800000000000002,2.5\r\n",
      "5.8,2.8,5.1,2.4,\"Iris-virginica\",2.0714285714285716,2.125\r\n",
      "6.4,3.2,5.3,2.3,\"Iris-virginica\",2.0,2.3043478260869565\r\n",
      "6.5,3.0,5.5,1.8,\"Iris-virginica\",2.1666666666666665,3.0555555555555554\r\n",
      "7.7,3.8,6.7,2.2,\"Iris-virginica\",2.0263157894736845,3.0454545454545454\r\n",
      "7.7,2.6,6.9,2.3,\"Iris-virginica\",2.9615384615384617,3.0000000000000004\r\n",
      "6.0,2.2,5.0,1.5,\"Iris-virginica\",2.727272727272727,3.3333333333333335\r\n",
      "6.9,3.2,5.7,2.3,\"Iris-virginica\",2.15625,2.4782608695652177\r\n",
      "5.6,2.8,4.9,2.0,\"Iris-virginica\",2.0,2.45\r\n",
      "7.7,2.8,6.7,2.0,\"Iris-virginica\",2.7500000000000004,3.35\r\n",
      "6.3,2.7,4.9,1.8,\"Iris-virginica\",2.333333333333333,2.7222222222222223\r\n",
      "6.7,3.3,5.7,2.1,\"Iris-virginica\",2.0303030303030303,2.7142857142857144\r\n",
      "7.2,3.2,6.0,1.8,\"Iris-virginica\",2.25,3.333333333333333\r\n",
      "6.2,2.8,4.8,1.8,\"Iris-virginica\",2.2142857142857144,2.6666666666666665\r\n",
      "6.1,3.0,4.9,1.8,\"Iris-virginica\",2.033333333333333,2.7222222222222223\r\n",
      "6.4,2.8,5.6,2.1,\"Iris-virginica\",2.285714285714286,2.6666666666666665\r\n",
      "7.2,3.0,5.8,1.6,\"Iris-virginica\",2.4,3.6249999999999996\r\n",
      "7.4,2.8,6.1,1.9,\"Iris-virginica\",2.6428571428571432,3.2105263157894735\r\n",
      "7.9,3.8,6.4,2.0,\"Iris-virginica\",2.0789473684210527,3.2\r\n",
      "6.4,2.8,5.6,2.2,\"Iris-virginica\",2.285714285714286,2.545454545454545\r\n",
      "6.3,2.8,5.1,1.5,\"Iris-virginica\",2.25,3.4\r\n",
      "6.1,2.6,5.6,1.4,\"Iris-virginica\",2.346153846153846,4.0\r\n",
      "7.7,3.0,6.1,2.3,\"Iris-virginica\",2.566666666666667,2.6521739130434785\r\n",
      "6.3,3.4,5.6,2.4,\"Iris-virginica\",1.8529411764705883,2.3333333333333335\r\n",
      "6.4,3.1,5.5,1.8,\"Iris-virginica\",2.064516129032258,3.0555555555555554\r\n",
      "6.0,3.0,4.8,1.8,\"Iris-virginica\",2.0,2.6666666666666665\r\n",
      "6.9,3.1,5.4,2.1,\"Iris-virginica\",2.2258064516129035,2.5714285714285716\r\n",
      "6.7,3.1,5.6,2.4,\"Iris-virginica\",2.161290322580645,2.3333333333333335\r\n",
      "6.9,3.1,5.1,2.3,\"Iris-virginica\",2.2258064516129035,2.217391304347826\r\n",
      "5.8,2.7,5.1,1.9,\"Iris-virginica\",2.148148148148148,2.6842105263157894\r\n",
      "6.8,3.2,5.9,2.3,\"Iris-virginica\",2.125,2.565217391304348\r\n",
      "6.7,3.3,5.7,2.5,\"Iris-virginica\",2.0303030303030303,2.2800000000000002\r\n",
      "6.7,3.0,5.2,2.3,\"Iris-virginica\",2.2333333333333334,2.2608695652173916\r\n",
      "6.3,2.5,5.0,1.9,\"Iris-virginica\",2.52,2.6315789473684212\r\n",
      "6.5,3.0,5.2,2.0,\"Iris-virginica\",2.1666666666666665,2.6\r\n",
      "6.2,3.4,5.4,2.3,\"Iris-virginica\",1.823529411764706,2.347826086956522\r\n",
      "5.9,3.0,5.1,1.8,\"Iris-virginica\",1.9666666666666668,2.833333333333333\r\n"
     ]
    }
   ],
   "source": [
    "!cat export.csv"
   ]
  },
  {
   "cell_type": "code",
   "execution_count": 119,
   "metadata": {},
   "outputs": [],
   "source": [
    "## For saving to a location on the H2O server, use h2o.exportFile() (h2o.export_file() in\n",
    "#Python), where the first parameter is the frame to save, and the second is the disk path and\n",
    "#filename."
   ]
  },
  {
   "cell_type": "code",
   "execution_count": 120,
   "metadata": {},
   "outputs": [],
   "source": [
    "## POJO\n",
    "\n",
    "## pojo is  plain old java object\n",
    "## we can save our machine learning model or deep learning model in pojo format "
   ]
  },
  {
   "cell_type": "code",
   "execution_count": 122,
   "metadata": {},
   "outputs": [],
   "source": [
    "## you can apply pandas function \n",
    "## but in order to do that you have to change it to a data frame in pandas"
   ]
  },
  {
   "cell_type": "code",
   "execution_count": 124,
   "metadata": {},
   "outputs": [
    {
     "data": {
      "text/plain": [
       "<matplotlib.axes._subplots.AxesSubplot at 0x7fcb19e817b8>"
      ]
     },
     "execution_count": 124,
     "metadata": {},
     "output_type": "execute_result"
    },
    {
     "data": {
      "image/png": "[encoded data removed]",
      "text/plain": [
       "<Figure size 432x288 with 1 Axes>"
      ]
     },
     "metadata": {
      "needs_background": "light"
     },
     "output_type": "display_data"
    }
   ],
   "source": [
    "df.as_data_frame().plot()"
   ]
  },
  {
   "cell_type": "code",
   "execution_count": 125,
   "metadata": {},
   "outputs": [
    {
     "data": {
      "text/plain": [
       "<matplotlib.axes._subplots.AxesSubplot at 0x7fcb19fab780>"
      ]
     },
     "execution_count": 125,
     "metadata": {},
     "output_type": "execute_result"
    },
    {
     "data": {
      "image/png": "[encoded data removed]",
      "text/plain": [
       "<Figure size 432x288 with 2 Axes>"
      ]
     },
     "metadata": {
      "needs_background": "light"
     },
     "output_type": "display_data"
    }
   ],
   "source": [
    "sns.heatmap(df.as_data_frame().corr())"
   ]
  },
  {
   "cell_type": "code",
   "execution_count": 126,
   "metadata": {},
   "outputs": [
    {
     "data": {
      "text/plain": [
       "<matplotlib.axes._subplots.AxesSubplot at 0x7fcb19fadb38>"
      ]
     },
     "execution_count": 126,
     "metadata": {},
     "output_type": "execute_result"
    },
    {
     "data": {
      "image/png": "[encoded data removed]",
      "text/plain": [
       "<Figure size 432x288 with 2 Axes>"
      ]
     },
     "metadata": {
      "needs_background": "light"
     },
     "output_type": "display_data"
    }
   ],
   "source": [
    "sns.heatmap(df.as_data_frame().corr(method='spearman'))"
   ]
  },
  {
   "cell_type": "code",
   "execution_count": 127,
   "metadata": {},
   "outputs": [
    {
     "data": {
      "text/plain": [
       "<matplotlib.axes._subplots.AxesSubplot at 0x7fcb185d1f28>"
      ]
     },
     "execution_count": 127,
     "metadata": {},
     "output_type": "execute_result"
    },
    {
     "data": {
      "image/png": "[encoded data removed]",
      "text/plain": [
       "<Figure size 432x288 with 1 Axes>"
      ]
     },
     "metadata": {
      "needs_background": "light"
     },
     "output_type": "display_data"
    }
   ],
   "source": [
    "df.as_data_frame().plot.barh()"
   ]
  },
  {
   "cell_type": "code",
   "execution_count": 128,
   "metadata": {},
   "outputs": [],
   "source": [
    "d = df.as_data_frame()"
   ]
  },
  {
   "cell_type": "code",
   "execution_count": 130,
   "metadata": {},
   "outputs": [
    {
     "data": {
      "text/plain": [
       "array([[<matplotlib.axes._subplots.AxesSubplot object at 0x7fcb13c88438>,\n",
       "        <matplotlib.axes._subplots.AxesSubplot object at 0x7fcb1048de80>,\n",
       "        <matplotlib.axes._subplots.AxesSubplot object at 0x7fcb1048b128>,\n",
       "        <matplotlib.axes._subplots.AxesSubplot object at 0x7fcb102a8390>,\n",
       "        <matplotlib.axes._subplots.AxesSubplot object at 0x7fcb103c65f8>,\n",
       "        <matplotlib.axes._subplots.AxesSubplot object at 0x7fcb103f1860>],\n",
       "       [<matplotlib.axes._subplots.AxesSubplot object at 0x7fcb1035aac8>,\n",
       "        <matplotlib.axes._subplots.AxesSubplot object at 0x7fcb1037ad68>,\n",
       "        <matplotlib.axes._subplots.AxesSubplot object at 0x7fcb1037ada0>,\n",
       "        <matplotlib.axes._subplots.AxesSubplot object at 0x7fcb10314240>,\n",
       "        <matplotlib.axes._subplots.AxesSubplot object at 0x7fcb103384a8>,\n",
       "        <matplotlib.axes._subplots.AxesSubplot object at 0x7fcb102d6710>],\n",
       "       [<matplotlib.axes._subplots.AxesSubplot object at 0x7fcb102ff978>,\n",
       "        <matplotlib.axes._subplots.AxesSubplot object at 0x7fcb10220c88>,\n",
       "        <matplotlib.axes._subplots.AxesSubplot object at 0x7fcb10233240>,\n",
       "        <matplotlib.axes._subplots.AxesSubplot object at 0x7fcb101c47b8>,\n",
       "        <matplotlib.axes._subplots.AxesSubplot object at 0x7fcb101d3d30>,\n",
       "        <matplotlib.axes._subplots.AxesSubplot object at 0x7fcb101f32e8>],\n",
       "       [<matplotlib.axes._subplots.AxesSubplot object at 0x7fcb10195860>,\n",
       "        <matplotlib.axes._subplots.AxesSubplot object at 0x7fcb101bbdd8>,\n",
       "        <matplotlib.axes._subplots.AxesSubplot object at 0x7fcb10168390>,\n",
       "        <matplotlib.axes._subplots.AxesSubplot object at 0x7fcb1010b908>,\n",
       "        <matplotlib.axes._subplots.AxesSubplot object at 0x7fcb10131e80>,\n",
       "        <matplotlib.axes._subplots.AxesSubplot object at 0x7fcb100de438>],\n",
       "       [<matplotlib.axes._subplots.AxesSubplot object at 0x7fcb100829b0>,\n",
       "        <matplotlib.axes._subplots.AxesSubplot object at 0x7fcb100a7f28>,\n",
       "        <matplotlib.axes._subplots.AxesSubplot object at 0x7fcb100554e0>,\n",
       "        <matplotlib.axes._subplots.AxesSubplot object at 0x7fcb10079a58>,\n",
       "        <matplotlib.axes._subplots.AxesSubplot object at 0x7fcb1001efd0>,\n",
       "        <matplotlib.axes._subplots.AxesSubplot object at 0x7fcb0ffcc588>],\n",
       "       [<matplotlib.axes._subplots.AxesSubplot object at 0x7fcb0ffefb00>,\n",
       "        <matplotlib.axes._subplots.AxesSubplot object at 0x7fcb0ff9f0b8>,\n",
       "        <matplotlib.axes._subplots.AxesSubplot object at 0x7fcb0ff43630>,\n",
       "        <matplotlib.axes._subplots.AxesSubplot object at 0x7fcb0ff68ba8>,\n",
       "        <matplotlib.axes._subplots.AxesSubplot object at 0x7fcb0ff19160>,\n",
       "        <matplotlib.axes._subplots.AxesSubplot object at 0x7fcb0fec16d8>]],\n",
       "      dtype=object)"
      ]
     },
     "execution_count": 130,
     "metadata": {},
     "output_type": "execute_result"
    },
    {
     "data": {
      "image/png": "[encoded data removed]",
      "text/plain": [
       "<Figure size 432x288 with 36 Axes>"
      ]
     },
     "metadata": {
      "needs_background": "light"
     },
     "output_type": "display_data"
    }
   ],
   "source": [
    "pd.plotting.scatter_matrix(d)"
   ]
  },
  {
   "cell_type": "code",
   "execution_count": 132,
   "metadata": {},
   "outputs": [
    {
     "data": {
      "text/html": [
       "<table>\n",
       "<thead>\n",
       "<tr><th style=\"text-align: right;\">  SepalLengthCm</th><th style=\"text-align: right;\">  SepalWidthCm</th><th style=\"text-align: right;\">  PetalLengthCm</th><th style=\"text-align: right;\">  PetalWidthCm</th><th>Species    </th><th style=\"text-align: right;\">  sepal_ratio</th><th style=\"text-align: right;\">  petal_ratio</th></tr>\n",
       "</thead>\n",
       "<tbody>\n",
       "<tr><td style=\"text-align: right;\">            4.6</td><td style=\"text-align: right;\">           3.1</td><td style=\"text-align: right;\">            1.5</td><td style=\"text-align: right;\">           0.2</td><td>Iris-setosa</td><td style=\"text-align: right;\">      1.48387</td><td style=\"text-align: right;\">      7.5    </td></tr>\n",
       "<tr><td style=\"text-align: right;\">            4.6</td><td style=\"text-align: right;\">           3.4</td><td style=\"text-align: right;\">            1.4</td><td style=\"text-align: right;\">           0.3</td><td>Iris-setosa</td><td style=\"text-align: right;\">      1.35294</td><td style=\"text-align: right;\">      4.66667</td></tr>\n",
       "<tr><td style=\"text-align: right;\">            5  </td><td style=\"text-align: right;\">           3.4</td><td style=\"text-align: right;\">            1.5</td><td style=\"text-align: right;\">           0.2</td><td>Iris-setosa</td><td style=\"text-align: right;\">      1.47059</td><td style=\"text-align: right;\">      7.5    </td></tr>\n",
       "<tr><td style=\"text-align: right;\">            4.4</td><td style=\"text-align: right;\">           2.9</td><td style=\"text-align: right;\">            1.4</td><td style=\"text-align: right;\">           0.2</td><td>Iris-setosa</td><td style=\"text-align: right;\">      1.51724</td><td style=\"text-align: right;\">      7      </td></tr>\n",
       "<tr><td style=\"text-align: right;\">            4.9</td><td style=\"text-align: right;\">           3.1</td><td style=\"text-align: right;\">            1.5</td><td style=\"text-align: right;\">           0.1</td><td>Iris-setosa</td><td style=\"text-align: right;\">      1.58065</td><td style=\"text-align: right;\">     15      </td></tr>\n",
       "<tr><td style=\"text-align: right;\">            5.4</td><td style=\"text-align: right;\">           3.7</td><td style=\"text-align: right;\">            1.5</td><td style=\"text-align: right;\">           0.2</td><td>Iris-setosa</td><td style=\"text-align: right;\">      1.45946</td><td style=\"text-align: right;\">      7.5    </td></tr>\n",
       "<tr><td style=\"text-align: right;\">            4.8</td><td style=\"text-align: right;\">           3  </td><td style=\"text-align: right;\">            1.4</td><td style=\"text-align: right;\">           0.1</td><td>Iris-setosa</td><td style=\"text-align: right;\">      1.6    </td><td style=\"text-align: right;\">     14      </td></tr>\n",
       "<tr><td style=\"text-align: right;\">            5.8</td><td style=\"text-align: right;\">           4  </td><td style=\"text-align: right;\">            1.2</td><td style=\"text-align: right;\">           0.2</td><td>Iris-setosa</td><td style=\"text-align: right;\">      1.45   </td><td style=\"text-align: right;\">      6      </td></tr>\n",
       "<tr><td style=\"text-align: right;\">            5.1</td><td style=\"text-align: right;\">           3.5</td><td style=\"text-align: right;\">            1.4</td><td style=\"text-align: right;\">           0.3</td><td>Iris-setosa</td><td style=\"text-align: right;\">      1.45714</td><td style=\"text-align: right;\">      4.66667</td></tr>\n",
       "<tr><td style=\"text-align: right;\">            5.7</td><td style=\"text-align: right;\">           3.8</td><td style=\"text-align: right;\">            1.7</td><td style=\"text-align: right;\">           0.3</td><td>Iris-setosa</td><td style=\"text-align: right;\">      1.5    </td><td style=\"text-align: right;\">      5.66667</td></tr>\n",
       "</tbody>\n",
       "</table>"
      ]
     },
     "metadata": {},
     "output_type": "display_data"
    },
    {
     "data": {
      "text/plain": []
     },
     "execution_count": 132,
     "metadata": {},
     "output_type": "execute_result"
    }
   ],
   "source": [
    "## you can import the whole csv in  a folder\n",
    "train_h"
   ]
  },
  {
   "cell_type": "code",
   "execution_count": 133,
   "metadata": {},
   "outputs": [],
   "source": [
    "y = 'Species'"
   ]
  },
  {
   "cell_type": "code",
   "execution_count": 135,
   "metadata": {},
   "outputs": [],
   "source": [
    "x = df.names"
   ]
  },
  {
   "cell_type": "code",
   "execution_count": 137,
   "metadata": {},
   "outputs": [],
   "source": [
    "x.remove(y)"
   ]
  },
  {
   "cell_type": "code",
   "execution_count": 139,
   "metadata": {},
   "outputs": [],
   "source": [
    "## we will do a grid search for finding the best parameter"
   ]
  },
  {
   "cell_type": "code",
   "execution_count": 144,
   "metadata": {},
   "outputs": [
    {
     "name": "stdout",
     "output_type": "stream",
     "text": [
      "gbm Model Build progress: |███████████████████████████████████████████████| 100%\n",
      "Model Details\n",
      "=============\n",
      "H2OGradientBoostingEstimator :  Gradient Boosting Machine\n",
      "Model Key:  GBM_model_python_1566125904838_1\n",
      "\n",
      "Model Summary: \n"
     ]
    },
    {
     "data": {
      "text/html": [
       "<div style=\"overflow:auto\"><table style=\"width:50%\"><tr><td><b></b></td>\n",
       "<td><b>number_of_trees</b></td>\n",
       "<td><b>number_of_internal_trees</b></td>\n",
       "<td><b>model_size_in_bytes</b></td>\n",
       "<td><b>min_depth</b></td>\n",
       "<td><b>max_depth</b></td>\n",
       "<td><b>mean_depth</b></td>\n",
       "<td><b>min_leaves</b></td>\n",
       "<td><b>max_leaves</b></td>\n",
       "<td><b>mean_leaves</b></td></tr>\n",
       "<tr><td></td>\n",
       "<td>50.0</td>\n",
       "<td>150.0</td>\n",
       "<td>22109.0</td>\n",
       "<td>1.0</td>\n",
       "<td>5.0</td>\n",
       "<td>4.2933335</td>\n",
       "<td>2.0</td>\n",
       "<td>8.0</td>\n",
       "<td>7.0933332</td></tr></table></div>"
      ],
      "text/plain": [
       "    number_of_trees    number_of_internal_trees    model_size_in_bytes    min_depth    max_depth    mean_depth    min_leaves    max_leaves    mean_leaves\n",
       "--  -----------------  --------------------------  ---------------------  -----------  -----------  ------------  ------------  ------------  -------------\n",
       "    50                 150                         22109                  1            5            4.29333       2             8             7.09333"
      ]
     },
     "metadata": {},
     "output_type": "display_data"
    },
    {
     "name": "stdout",
     "output_type": "stream",
     "text": [
      "\n",
      "\n",
      "ModelMetricsMultinomial: gbm\n",
      "** Reported on train data. **\n",
      "\n",
      "MSE: 3.191912610261432e-05\n",
      "RMSE: 0.005649701417120583\n",
      "LogLoss: 0.003206023641568134\n",
      "Mean Per-Class Error: 0.0\n",
      "Confusion Matrix: Row labels: Actual class; Column labels: Predicted class\n",
      "\n"
     ]
    },
    {
     "data": {
      "text/html": [
       "<div style=\"overflow:auto\"><table style=\"width:50%\"><tr><td><b>Iris-setosa</b></td>\n",
       "<td><b>Iris-versicolor</b></td>\n",
       "<td><b>Iris-virginica</b></td>\n",
       "<td><b>Error</b></td>\n",
       "<td><b>Rate</b></td></tr>\n",
       "<tr><td>28.0</td>\n",
       "<td>0.0</td>\n",
       "<td>0.0</td>\n",
       "<td>0.0</td>\n",
       "<td>0 / 28</td></tr>\n",
       "<tr><td>0.0</td>\n",
       "<td>31.0</td>\n",
       "<td>0.0</td>\n",
       "<td>0.0</td>\n",
       "<td>0 / 31</td></tr>\n",
       "<tr><td>0.0</td>\n",
       "<td>0.0</td>\n",
       "<td>32.0</td>\n",
       "<td>0.0</td>\n",
       "<td>0 / 32</td></tr>\n",
       "<tr><td>28.0</td>\n",
       "<td>31.0</td>\n",
       "<td>32.0</td>\n",
       "<td>0.0</td>\n",
       "<td>0 / 91</td></tr></table></div>"
      ],
      "text/plain": [
       "Iris-setosa    Iris-versicolor    Iris-virginica    Error    Rate\n",
       "-------------  -----------------  ----------------  -------  ------\n",
       "28             0                  0                 0        0 / 28\n",
       "0              31                 0                 0        0 / 31\n",
       "0              0                  32                0        0 / 32\n",
       "28             31                 32                0        0 / 91"
      ]
     },
     "metadata": {},
     "output_type": "display_data"
    },
    {
     "name": "stdout",
     "output_type": "stream",
     "text": [
      "Top-3 Hit Ratios: \n"
     ]
    },
    {
     "data": {
      "text/html": [
       "<div style=\"overflow:auto\"><table style=\"width:50%\"><tr><td><b>k</b></td>\n",
       "<td><b>hit_ratio</b></td></tr>\n",
       "<tr><td>1</td>\n",
       "<td>1.0</td></tr>\n",
       "<tr><td>2</td>\n",
       "<td>1.0</td></tr>\n",
       "<tr><td>3</td>\n",
       "<td>1.0</td></tr></table></div>"
      ],
      "text/plain": [
       "k    hit_ratio\n",
       "---  -----------\n",
       "1    1\n",
       "2    1\n",
       "3    1"
      ]
     },
     "metadata": {},
     "output_type": "display_data"
    },
    {
     "name": "stdout",
     "output_type": "stream",
     "text": [
      "Scoring History: \n"
     ]
    },
    {
     "data": {
      "text/html": [
       "<div style=\"overflow:auto\"><table style=\"width:50%\"><tr><td><b></b></td>\n",
       "<td><b>timestamp</b></td>\n",
       "<td><b>duration</b></td>\n",
       "<td><b>number_of_trees</b></td>\n",
       "<td><b>training_rmse</b></td>\n",
       "<td><b>training_logloss</b></td>\n",
       "<td><b>training_classification_error</b></td></tr>\n",
       "<tr><td></td>\n",
       "<td>2019-08-18 19:07:30</td>\n",
       "<td> 0.120 sec</td>\n",
       "<td>0.0</td>\n",
       "<td>0.6666667</td>\n",
       "<td>1.0986123</td>\n",
       "<td>0.6923077</td></tr>\n",
       "<tr><td></td>\n",
       "<td>2019-08-18 19:07:30</td>\n",
       "<td> 0.576 sec</td>\n",
       "<td>1.0</td>\n",
       "<td>0.6010302</td>\n",
       "<td>0.9189722</td>\n",
       "<td>0.0109890</td></tr>\n",
       "<tr><td></td>\n",
       "<td>2019-08-18 19:07:30</td>\n",
       "<td> 0.715 sec</td>\n",
       "<td>2.0</td>\n",
       "<td>0.5407680</td>\n",
       "<td>0.7785029</td>\n",
       "<td>0.0219780</td></tr>\n",
       "<tr><td></td>\n",
       "<td>2019-08-18 19:07:30</td>\n",
       "<td> 0.781 sec</td>\n",
       "<td>3.0</td>\n",
       "<td>0.4857050</td>\n",
       "<td>0.6651198</td>\n",
       "<td>0.0219780</td></tr>\n",
       "<tr><td></td>\n",
       "<td>2019-08-18 19:07:30</td>\n",
       "<td> 0.829 sec</td>\n",
       "<td>4.0</td>\n",
       "<td>0.4358046</td>\n",
       "<td>0.5721953</td>\n",
       "<td>0.0219780</td></tr>\n",
       "<tr><td>---</td>\n",
       "<td>---</td>\n",
       "<td>---</td>\n",
       "<td>---</td>\n",
       "<td>---</td>\n",
       "<td>---</td>\n",
       "<td>---</td></tr>\n",
       "<tr><td></td>\n",
       "<td>2019-08-18 19:07:32</td>\n",
       "<td> 2.313 sec</td>\n",
       "<td>46.0</td>\n",
       "<td>0.0078032</td>\n",
       "<td>0.0046700</td>\n",
       "<td>0.0</td></tr>\n",
       "<tr><td></td>\n",
       "<td>2019-08-18 19:07:32</td>\n",
       "<td> 2.349 sec</td>\n",
       "<td>47.0</td>\n",
       "<td>0.0070381</td>\n",
       "<td>0.0042285</td>\n",
       "<td>0.0</td></tr>\n",
       "<tr><td></td>\n",
       "<td>2019-08-18 19:07:32</td>\n",
       "<td> 2.394 sec</td>\n",
       "<td>48.0</td>\n",
       "<td>0.0064796</td>\n",
       "<td>0.0038235</td>\n",
       "<td>0.0</td></tr>\n",
       "<tr><td></td>\n",
       "<td>2019-08-18 19:07:32</td>\n",
       "<td> 2.426 sec</td>\n",
       "<td>49.0</td>\n",
       "<td>0.0060138</td>\n",
       "<td>0.0035038</td>\n",
       "<td>0.0</td></tr>\n",
       "<tr><td></td>\n",
       "<td>2019-08-18 19:07:32</td>\n",
       "<td> 2.458 sec</td>\n",
       "<td>50.0</td>\n",
       "<td>0.0056497</td>\n",
       "<td>0.0032060</td>\n",
       "<td>0.0</td></tr></table></div>"
      ],
      "text/plain": [
       "     timestamp            duration    number_of_trees    training_rmse         training_logloss       training_classification_error\n",
       "---  -------------------  ----------  -----------------  --------------------  ---------------------  -------------------------------\n",
       "     2019-08-18 19:07:30  0.120 sec   0.0                0.6666666666666661    1.0986122886681084     0.6923076923076923\n",
       "     2019-08-18 19:07:30  0.576 sec   1.0                0.6010302195587989    0.9189722349587143     0.01098901098901099\n",
       "     2019-08-18 19:07:30  0.715 sec   2.0                0.5407680325484474    0.7785028959826941     0.02197802197802198\n",
       "     2019-08-18 19:07:30  0.781 sec   3.0                0.4857050165346503    0.6651197773398655     0.02197802197802198\n",
       "     2019-08-18 19:07:30  0.829 sec   4.0                0.4358045554396985    0.5721953306275237     0.02197802197802198\n",
       "---  ---                  ---         ---                ---                   ---                    ---\n",
       "     2019-08-18 19:07:32  2.313 sec   46.0               0.007803235319787891  0.004669996431743263   0.0\n",
       "     2019-08-18 19:07:32  2.349 sec   47.0               0.00703814292437726   0.004228543461967558   0.0\n",
       "     2019-08-18 19:07:32  2.394 sec   48.0               0.006479629074393786  0.003823467475499525   0.0\n",
       "     2019-08-18 19:07:32  2.426 sec   49.0               0.006013774034177783  0.0035038071907248025  0.0\n",
       "     2019-08-18 19:07:32  2.458 sec   50.0               0.005649701417120583  0.003206023641568134   0.0"
      ]
     },
     "metadata": {},
     "output_type": "display_data"
    },
    {
     "name": "stdout",
     "output_type": "stream",
     "text": [
      "\n",
      "See the whole table with table.as_data_frame()\n",
      "Variable Importances: \n"
     ]
    },
    {
     "data": {
      "text/html": [
       "<div style=\"overflow:auto\"><table style=\"width:50%\"><tr><td><b>variable</b></td>\n",
       "<td><b>relative_importance</b></td>\n",
       "<td><b>scaled_importance</b></td>\n",
       "<td><b>percentage</b></td></tr>\n",
       "<tr><td>PetalLengthCm</td>\n",
       "<td>140.6996002</td>\n",
       "<td>1.0</td>\n",
       "<td>0.4942172</td></tr>\n",
       "<tr><td>PetalWidthCm</td>\n",
       "<td>96.4603119</td>\n",
       "<td>0.6855763</td>\n",
       "<td>0.3388236</td></tr>\n",
       "<tr><td>sepal_ratio</td>\n",
       "<td>41.0030518</td>\n",
       "<td>0.2914227</td>\n",
       "<td>0.1440261</td></tr>\n",
       "<tr><td>petal_ratio</td>\n",
       "<td>6.3263035</td>\n",
       "<td>0.0449632</td>\n",
       "<td>0.0222216</td></tr>\n",
       "<tr><td>SepalLengthCm</td>\n",
       "<td>0.1865748</td>\n",
       "<td>0.0013261</td>\n",
       "<td>0.0006554</td></tr>\n",
       "<tr><td>SepalWidthCm</td>\n",
       "<td>0.0160012</td>\n",
       "<td>0.0001137</td>\n",
       "<td>0.0000562</td></tr></table></div>"
      ],
      "text/plain": [
       "variable       relative_importance    scaled_importance    percentage\n",
       "-------------  ---------------------  -------------------  ------------\n",
       "PetalLengthCm  140.7                  1                    0.494217\n",
       "PetalWidthCm   96.4603                0.685576             0.338824\n",
       "sepal_ratio    41.0031                0.291423             0.144026\n",
       "petal_ratio    6.3263                 0.0449632            0.0222216\n",
       "SepalLengthCm  0.186575               0.00132605           0.000655357\n",
       "SepalWidthCm   0.0160012              0.000113726          5.62055e-05"
      ]
     },
     "metadata": {},
     "output_type": "display_data"
    },
    {
     "name": "stdout",
     "output_type": "stream",
     "text": [
      "\n"
     ]
    }
   ],
   "source": [
    "import math\n",
    "from h2o.estimators.gbm import H2OGradientBoostingEstimator\n",
    "from h2o.grid.grid_search import H2OGridSearch\n",
    "\n",
    "#We only provide the required parameters, everything else is default\n",
    "gbm = H2OGradientBoostingEstimator()\n",
    "gbm.train(x=x, y=y, training_frame=train_h)\n",
    "\n",
    "## Show a detailed model summary\n",
    "print (gbm)\n",
    "\n"
   ]
  },
  {
   "cell_type": "code",
   "execution_count": 147,
   "metadata": {},
   "outputs": [],
   "source": [
    "perf = gbm.model_performance(valid_h)\n"
   ]
  },
  {
   "cell_type": "code",
   "execution_count": 149,
   "metadata": {},
   "outputs": [
    {
     "name": "stdout",
     "output_type": "stream",
     "text": [
      "\n",
      "ModelMetricsMultinomial: gbm\n",
      "** Reported on test data. **\n",
      "\n",
      "MSE: 0.03199206811017698\n",
      "RMSE: 0.1788632665199229\n",
      "LogLoss: 0.1714580568433917\n",
      "Mean Per-Class Error: 0.047619047619047616\n",
      "Confusion Matrix: Row labels: Actual class; Column labels: Predicted class\n",
      "\n"
     ]
    },
    {
     "data": {
      "text/html": [
       "<div style=\"overflow:auto\"><table style=\"width:50%\"><tr><td><b>Iris-setosa</b></td>\n",
       "<td><b>Iris-versicolor</b></td>\n",
       "<td><b>Iris-virginica</b></td>\n",
       "<td><b>Error</b></td>\n",
       "<td><b>Rate</b></td></tr>\n",
       "<tr><td>13.0</td>\n",
       "<td>0.0</td>\n",
       "<td>0.0</td>\n",
       "<td>0.0</td>\n",
       "<td>0 / 13</td></tr>\n",
       "<tr><td>0.0</td>\n",
       "<td>11.0</td>\n",
       "<td>0.0</td>\n",
       "<td>0.0</td>\n",
       "<td>0 / 11</td></tr>\n",
       "<tr><td>0.0</td>\n",
       "<td>1.0</td>\n",
       "<td>6.0</td>\n",
       "<td>0.1428571</td>\n",
       "<td>1 / 7</td></tr>\n",
       "<tr><td>13.0</td>\n",
       "<td>12.0</td>\n",
       "<td>6.0</td>\n",
       "<td>0.0322581</td>\n",
       "<td>1 / 31</td></tr></table></div>"
      ],
      "text/plain": [
       "Iris-setosa    Iris-versicolor    Iris-virginica    Error      Rate\n",
       "-------------  -----------------  ----------------  ---------  ------\n",
       "13             0                  0                 0          0 / 13\n",
       "0              11                 0                 0          0 / 11\n",
       "0              1                  6                 0.142857   1 / 7\n",
       "13             12                 6                 0.0322581  1 / 31"
      ]
     },
     "metadata": {},
     "output_type": "display_data"
    },
    {
     "name": "stdout",
     "output_type": "stream",
     "text": [
      "Top-3 Hit Ratios: \n"
     ]
    },
    {
     "data": {
      "text/html": [
       "<div style=\"overflow:auto\"><table style=\"width:50%\"><tr><td><b>k</b></td>\n",
       "<td><b>hit_ratio</b></td></tr>\n",
       "<tr><td>1</td>\n",
       "<td>0.9677419</td></tr>\n",
       "<tr><td>2</td>\n",
       "<td>1.0</td></tr>\n",
       "<tr><td>3</td>\n",
       "<td>1.0</td></tr></table></div>"
      ],
      "text/plain": [
       "k    hit_ratio\n",
       "---  -----------\n",
       "1    0.967742\n",
       "2    1\n",
       "3    1"
      ]
     },
     "metadata": {},
     "output_type": "display_data"
    },
    {
     "name": "stdout",
     "output_type": "stream",
     "text": [
      "\n"
     ]
    }
   ],
   "source": [
    "print(perf)"
   ]
  },
  {
   "cell_type": "code",
   "execution_count": 152,
   "metadata": {},
   "outputs": [
    {
     "name": "stdout",
     "output_type": "stream",
     "text": [
      "gbm Model Build progress: |███████████████████████████████████████████████| 100%\n"
     ]
    }
   ],
   "source": [
    "## with valid dataframne\n",
    "cv_gbm = H2OGradientBoostingEstimator(nfolds = 4, seed = 0xDECAF)\n",
    "cv_gbm.train(x = x, y = y, training_frame = train_h.rbind(valid_h))"
   ]
  },
  {
   "cell_type": "code",
   "execution_count": 154,
   "metadata": {},
   "outputs": [
    {
     "name": "stdout",
     "output_type": "stream",
     "text": [
      "Model Details\n",
      "=============\n",
      "H2OGradientBoostingEstimator :  Gradient Boosting Machine\n",
      "Model Key:  GBM_model_python_1566125904838_2\n",
      "\n",
      "Model Summary: \n"
     ]
    },
    {
     "data": {
      "text/html": [
       "<div style=\"overflow:auto\"><table style=\"width:50%\"><tr><td><b></b></td>\n",
       "<td><b>number_of_trees</b></td>\n",
       "<td><b>number_of_internal_trees</b></td>\n",
       "<td><b>model_size_in_bytes</b></td>\n",
       "<td><b>min_depth</b></td>\n",
       "<td><b>max_depth</b></td>\n",
       "<td><b>mean_depth</b></td>\n",
       "<td><b>min_leaves</b></td>\n",
       "<td><b>max_leaves</b></td>\n",
       "<td><b>mean_leaves</b></td></tr>\n",
       "<tr><td></td>\n",
       "<td>50.0</td>\n",
       "<td>150.0</td>\n",
       "<td>24774.0</td>\n",
       "<td>1.0</td>\n",
       "<td>5.0</td>\n",
       "<td>4.9066668</td>\n",
       "<td>2.0</td>\n",
       "<td>11.0</td>\n",
       "<td>8.513333</td></tr></table></div>"
      ],
      "text/plain": [
       "    number_of_trees    number_of_internal_trees    model_size_in_bytes    min_depth    max_depth    mean_depth    min_leaves    max_leaves    mean_leaves\n",
       "--  -----------------  --------------------------  ---------------------  -----------  -----------  ------------  ------------  ------------  -------------\n",
       "    50                 150                         24774                  1            5            4.90667       2             11            8.51333"
      ]
     },
     "metadata": {},
     "output_type": "display_data"
    },
    {
     "name": "stdout",
     "output_type": "stream",
     "text": [
      "\n",
      "\n",
      "ModelMetricsMultinomial: gbm\n",
      "** Reported on train data. **\n",
      "\n",
      "MSE: 2.9969451197284352e-05\n",
      "RMSE: 0.005474436153366331\n",
      "LogLoss: 0.003011142287553344\n",
      "Mean Per-Class Error: 0.0\n",
      "Confusion Matrix: Row labels: Actual class; Column labels: Predicted class\n",
      "\n"
     ]
    },
    {
     "data": {
      "text/html": [
       "<div style=\"overflow:auto\"><table style=\"width:50%\"><tr><td><b>Iris-setosa</b></td>\n",
       "<td><b>Iris-versicolor</b></td>\n",
       "<td><b>Iris-virginica</b></td>\n",
       "<td><b>Error</b></td>\n",
       "<td><b>Rate</b></td></tr>\n",
       "<tr><td>41.0</td>\n",
       "<td>0.0</td>\n",
       "<td>0.0</td>\n",
       "<td>0.0</td>\n",
       "<td>0 / 41</td></tr>\n",
       "<tr><td>0.0</td>\n",
       "<td>42.0</td>\n",
       "<td>0.0</td>\n",
       "<td>0.0</td>\n",
       "<td>0 / 42</td></tr>\n",
       "<tr><td>0.0</td>\n",
       "<td>0.0</td>\n",
       "<td>39.0</td>\n",
       "<td>0.0</td>\n",
       "<td>0 / 39</td></tr>\n",
       "<tr><td>41.0</td>\n",
       "<td>42.0</td>\n",
       "<td>39.0</td>\n",
       "<td>0.0</td>\n",
       "<td>0 / 122</td></tr></table></div>"
      ],
      "text/plain": [
       "Iris-setosa    Iris-versicolor    Iris-virginica    Error    Rate\n",
       "-------------  -----------------  ----------------  -------  -------\n",
       "41             0                  0                 0        0 / 41\n",
       "0              42                 0                 0        0 / 42\n",
       "0              0                  39                0        0 / 39\n",
       "41             42                 39                0        0 / 122"
      ]
     },
     "metadata": {},
     "output_type": "display_data"
    },
    {
     "name": "stdout",
     "output_type": "stream",
     "text": [
      "Top-3 Hit Ratios: \n"
     ]
    },
    {
     "data": {
      "text/html": [
       "<div style=\"overflow:auto\"><table style=\"width:50%\"><tr><td><b>k</b></td>\n",
       "<td><b>hit_ratio</b></td></tr>\n",
       "<tr><td>1</td>\n",
       "<td>1.0</td></tr>\n",
       "<tr><td>2</td>\n",
       "<td>1.0</td></tr>\n",
       "<tr><td>3</td>\n",
       "<td>1.0</td></tr></table></div>"
      ],
      "text/plain": [
       "k    hit_ratio\n",
       "---  -----------\n",
       "1    1\n",
       "2    1\n",
       "3    1"
      ]
     },
     "metadata": {},
     "output_type": "display_data"
    },
    {
     "name": "stdout",
     "output_type": "stream",
     "text": [
      "\n",
      "ModelMetricsMultinomial: gbm\n",
      "** Reported on cross-validation data. **\n",
      "\n",
      "MSE: 0.018534951270912172\n",
      "RMSE: 0.13614312788720617\n",
      "LogLoss: 0.07923985106124508\n",
      "Mean Per-Class Error: 0.02503052503052503\n",
      "Confusion Matrix: Row labels: Actual class; Column labels: Predicted class\n",
      "\n"
     ]
    },
    {
     "data": {
      "text/html": [
       "<div style=\"overflow:auto\"><table style=\"width:50%\"><tr><td><b>Iris-setosa</b></td>\n",
       "<td><b>Iris-versicolor</b></td>\n",
       "<td><b>Iris-virginica</b></td>\n",
       "<td><b>Error</b></td>\n",
       "<td><b>Rate</b></td></tr>\n",
       "<tr><td>41.0</td>\n",
       "<td>0.0</td>\n",
       "<td>0.0</td>\n",
       "<td>0.0</td>\n",
       "<td>0 / 41</td></tr>\n",
       "<tr><td>0.0</td>\n",
       "<td>41.0</td>\n",
       "<td>1.0</td>\n",
       "<td>0.0238095</td>\n",
       "<td>1 / 42</td></tr>\n",
       "<tr><td>0.0</td>\n",
       "<td>2.0</td>\n",
       "<td>37.0</td>\n",
       "<td>0.0512821</td>\n",
       "<td>2 / 39</td></tr>\n",
       "<tr><td>41.0</td>\n",
       "<td>43.0</td>\n",
       "<td>38.0</td>\n",
       "<td>0.0245902</td>\n",
       "<td>3 / 122</td></tr></table></div>"
      ],
      "text/plain": [
       "Iris-setosa    Iris-versicolor    Iris-virginica    Error      Rate\n",
       "-------------  -----------------  ----------------  ---------  -------\n",
       "41             0                  0                 0          0 / 41\n",
       "0              41                 1                 0.0238095  1 / 42\n",
       "0              2                  37                0.0512821  2 / 39\n",
       "41             43                 38                0.0245902  3 / 122"
      ]
     },
     "metadata": {},
     "output_type": "display_data"
    },
    {
     "name": "stdout",
     "output_type": "stream",
     "text": [
      "Top-3 Hit Ratios: \n"
     ]
    },
    {
     "data": {
      "text/html": [
       "<div style=\"overflow:auto\"><table style=\"width:50%\"><tr><td><b>k</b></td>\n",
       "<td><b>hit_ratio</b></td></tr>\n",
       "<tr><td>1</td>\n",
       "<td>0.9754099</td></tr>\n",
       "<tr><td>2</td>\n",
       "<td>1.0</td></tr>\n",
       "<tr><td>3</td>\n",
       "<td>1.0</td></tr></table></div>"
      ],
      "text/plain": [
       "k    hit_ratio\n",
       "---  -----------\n",
       "1    0.97541\n",
       "2    1\n",
       "3    1"
      ]
     },
     "metadata": {},
     "output_type": "display_data"
    },
    {
     "name": "stdout",
     "output_type": "stream",
     "text": [
      "Cross-Validation Metrics Summary: \n"
     ]
    },
    {
     "data": {
      "text/html": [
       "<div style=\"overflow:auto\"><table style=\"width:50%\"><tr><td><b></b></td>\n",
       "<td><b>mean</b></td>\n",
       "<td><b>sd</b></td>\n",
       "<td><b>cv_1_valid</b></td>\n",
       "<td><b>cv_2_valid</b></td>\n",
       "<td><b>cv_3_valid</b></td>\n",
       "<td><b>cv_4_valid</b></td></tr>\n",
       "<tr><td>accuracy</td>\n",
       "<td>0.9727047</td>\n",
       "<td>0.0222980</td>\n",
       "<td>0.9230769</td>\n",
       "<td>0.9677419</td>\n",
       "<td>1.0</td>\n",
       "<td>1.0</td></tr>\n",
       "<tr><td>err</td>\n",
       "<td>0.0272953</td>\n",
       "<td>0.0222980</td>\n",
       "<td>0.0769231</td>\n",
       "<td>0.0322581</td>\n",
       "<td>0.0</td>\n",
       "<td>0.0</td></tr>\n",
       "<tr><td>err_count</td>\n",
       "<td>0.75</td>\n",
       "<td>0.586302</td>\n",
       "<td>2.0</td>\n",
       "<td>1.0</td>\n",
       "<td>0.0</td>\n",
       "<td>0.0</td></tr>\n",
       "<tr><td>logloss</td>\n",
       "<td>0.0901523</td>\n",
       "<td>0.0890118</td>\n",
       "<td>0.3067966</td>\n",
       "<td>0.0410710</td>\n",
       "<td>0.0074545</td>\n",
       "<td>0.0052870</td></tr>\n",
       "<tr><td>max_per_class_error</td>\n",
       "<td>0.0520833</td>\n",
       "<td>0.0382733</td>\n",
       "<td>0.125</td>\n",
       "<td>0.0833333</td>\n",
       "<td>0.0</td>\n",
       "<td>0.0</td></tr>\n",
       "<tr><td>mean_per_class_accuracy</td>\n",
       "<td>0.9762287</td>\n",
       "<td>0.0194988</td>\n",
       "<td>0.9326923</td>\n",
       "<td>0.9722222</td>\n",
       "<td>1.0</td>\n",
       "<td>1.0</td></tr>\n",
       "<tr><td>mean_per_class_error</td>\n",
       "<td>0.0237714</td>\n",
       "<td>0.0194988</td>\n",
       "<td>0.0673077</td>\n",
       "<td>0.0277778</td>\n",
       "<td>0.0</td>\n",
       "<td>0.0</td></tr>\n",
       "<tr><td>mse</td>\n",
       "<td>0.0210291</td>\n",
       "<td>0.0201895</td>\n",
       "<td>0.0695030</td>\n",
       "<td>0.0141059</td>\n",
       "<td>0.0003918</td>\n",
       "<td>0.0001155</td></tr>\n",
       "<tr><td>r2</td>\n",
       "<td>0.9591114</td>\n",
       "<td>0.0419924</td>\n",
       "<td>0.8571915</td>\n",
       "<td>0.9800062</td>\n",
       "<td>0.9994201</td>\n",
       "<td>0.9998281</td></tr>\n",
       "<tr><td>rmse</td>\n",
       "<td>0.1032364</td>\n",
       "<td>0.0720115</td>\n",
       "<td>0.2636342</td>\n",
       "<td>0.1187684</td>\n",
       "<td>0.0197942</td>\n",
       "<td>0.0107490</td></tr></table></div>"
      ],
      "text/plain": [
       "                         mean       sd         cv_1_valid    cv_2_valid    cv_3_valid    cv_4_valid\n",
       "-----------------------  ---------  ---------  ------------  ------------  ------------  ------------\n",
       "accuracy                 0.972705   0.022298   0.923077      0.967742      1             1\n",
       "err                      0.0272953  0.022298   0.0769231     0.0322581     0             0\n",
       "err_count                0.75       0.586302   2             1             0             0\n",
       "logloss                  0.0901523  0.0890118  0.306797      0.041071      0.0074545     0.00528703\n",
       "max_per_class_error      0.0520833  0.0382733  0.125         0.0833333     0             0\n",
       "mean_per_class_accuracy  0.976229   0.0194988  0.932692      0.972222      1             1\n",
       "mean_per_class_error     0.0237714  0.0194988  0.0673077     0.0277778     0             0\n",
       "mse                      0.0210291  0.0201895  0.069503      0.0141059     0.000391811   0.000115541\n",
       "r2                       0.959111   0.0419924  0.857191      0.980006      0.99942       0.999828\n",
       "rmse                     0.103236   0.0720115  0.263634      0.118768      0.0197942     0.010749"
      ]
     },
     "metadata": {},
     "output_type": "display_data"
    },
    {
     "name": "stdout",
     "output_type": "stream",
     "text": [
      "Scoring History: \n"
     ]
    },
    {
     "data": {
      "text/html": [
       "<div style=\"overflow:auto\"><table style=\"width:50%\"><tr><td><b></b></td>\n",
       "<td><b>timestamp</b></td>\n",
       "<td><b>duration</b></td>\n",
       "<td><b>number_of_trees</b></td>\n",
       "<td><b>training_rmse</b></td>\n",
       "<td><b>training_logloss</b></td>\n",
       "<td><b>training_classification_error</b></td></tr>\n",
       "<tr><td></td>\n",
       "<td>2019-08-18 19:11:39</td>\n",
       "<td> 2.561 sec</td>\n",
       "<td>0.0</td>\n",
       "<td>0.6666667</td>\n",
       "<td>1.0986123</td>\n",
       "<td>0.6803279</td></tr>\n",
       "<tr><td></td>\n",
       "<td>2019-08-18 19:11:39</td>\n",
       "<td> 2.589 sec</td>\n",
       "<td>1.0</td>\n",
       "<td>0.6028087</td>\n",
       "<td>0.9235739</td>\n",
       "<td>0.0327869</td></tr>\n",
       "<tr><td></td>\n",
       "<td>2019-08-18 19:11:39</td>\n",
       "<td> 2.612 sec</td>\n",
       "<td>2.0</td>\n",
       "<td>0.5439558</td>\n",
       "<td>0.7855334</td>\n",
       "<td>0.0327869</td></tr>\n",
       "<tr><td></td>\n",
       "<td>2019-08-18 19:11:39</td>\n",
       "<td> 2.631 sec</td>\n",
       "<td>3.0</td>\n",
       "<td>0.4907450</td>\n",
       "<td>0.6751803</td>\n",
       "<td>0.0245902</td></tr>\n",
       "<tr><td></td>\n",
       "<td>2019-08-18 19:11:39</td>\n",
       "<td> 2.648 sec</td>\n",
       "<td>4.0</td>\n",
       "<td>0.4422441</td>\n",
       "<td>0.5837379</td>\n",
       "<td>0.0245902</td></tr>\n",
       "<tr><td>---</td>\n",
       "<td>---</td>\n",
       "<td>---</td>\n",
       "<td>---</td>\n",
       "<td>---</td>\n",
       "<td>---</td>\n",
       "<td>---</td></tr>\n",
       "<tr><td></td>\n",
       "<td>2019-08-18 19:11:40</td>\n",
       "<td> 3.280 sec</td>\n",
       "<td>46.0</td>\n",
       "<td>0.0078347</td>\n",
       "<td>0.0045212</td>\n",
       "<td>0.0</td></tr>\n",
       "<tr><td></td>\n",
       "<td>2019-08-18 19:11:40</td>\n",
       "<td> 3.292 sec</td>\n",
       "<td>47.0</td>\n",
       "<td>0.0071324</td>\n",
       "<td>0.0040728</td>\n",
       "<td>0.0</td></tr>\n",
       "<tr><td></td>\n",
       "<td>2019-08-18 19:11:40</td>\n",
       "<td> 3.304 sec</td>\n",
       "<td>48.0</td>\n",
       "<td>0.0065147</td>\n",
       "<td>0.0036616</td>\n",
       "<td>0.0</td></tr>\n",
       "<tr><td></td>\n",
       "<td>2019-08-18 19:11:40</td>\n",
       "<td> 3.318 sec</td>\n",
       "<td>49.0</td>\n",
       "<td>0.0060069</td>\n",
       "<td>0.0033374</td>\n",
       "<td>0.0</td></tr>\n",
       "<tr><td></td>\n",
       "<td>2019-08-18 19:11:40</td>\n",
       "<td> 3.332 sec</td>\n",
       "<td>50.0</td>\n",
       "<td>0.0054744</td>\n",
       "<td>0.0030111</td>\n",
       "<td>0.0</td></tr></table></div>"
      ],
      "text/plain": [
       "     timestamp            duration    number_of_trees    training_rmse         training_logloss       training_classification_error\n",
       "---  -------------------  ----------  -----------------  --------------------  ---------------------  -------------------------------\n",
       "     2019-08-18 19:11:39  2.561 sec   0.0                0.6666666666666662    1.098612288668109      0.680327868852459\n",
       "     2019-08-18 19:11:39  2.589 sec   1.0                0.6028086670601001    0.9235738735732235     0.03278688524590164\n",
       "     2019-08-18 19:11:39  2.612 sec   2.0                0.5439558187724273    0.7855334061944594     0.03278688524590164\n",
       "     2019-08-18 19:11:39  2.631 sec   3.0                0.4907449931458908    0.6751803089602506     0.02459016393442623\n",
       "     2019-08-18 19:11:39  2.648 sec   4.0                0.44224409644113244   0.5837379460517653     0.02459016393442623\n",
       "---  ---                  ---         ---                ---                   ---                    ---\n",
       "     2019-08-18 19:11:40  3.280 sec   46.0               0.007834657374507151  0.00452121213849838    0.0\n",
       "     2019-08-18 19:11:40  3.292 sec   47.0               0.00713243679511913   0.004072766088811673   0.0\n",
       "     2019-08-18 19:11:40  3.304 sec   48.0               0.00651472016517186   0.0036615763545860334  0.0\n",
       "     2019-08-18 19:11:40  3.318 sec   49.0               0.006006939065306034  0.003337402573980482   0.0\n",
       "     2019-08-18 19:11:40  3.332 sec   50.0               0.005474436153366331  0.003011142287553344   0.0"
      ]
     },
     "metadata": {},
     "output_type": "display_data"
    },
    {
     "name": "stdout",
     "output_type": "stream",
     "text": [
      "\n",
      "See the whole table with table.as_data_frame()\n",
      "Variable Importances: \n"
     ]
    },
    {
     "data": {
      "text/html": [
       "<div style=\"overflow:auto\"><table style=\"width:50%\"><tr><td><b>variable</b></td>\n",
       "<td><b>relative_importance</b></td>\n",
       "<td><b>scaled_importance</b></td>\n",
       "<td><b>percentage</b></td></tr>\n",
       "<tr><td>PetalLengthCm</td>\n",
       "<td>191.2373657</td>\n",
       "<td>1.0</td>\n",
       "<td>0.5006374</td></tr>\n",
       "<tr><td>PetalWidthCm</td>\n",
       "<td>178.8000336</td>\n",
       "<td>0.9349639</td>\n",
       "<td>0.4680779</td></tr>\n",
       "<tr><td>petal_ratio</td>\n",
       "<td>9.5424633</td>\n",
       "<td>0.0498985</td>\n",
       "<td>0.0249811</td></tr>\n",
       "<tr><td>sepal_ratio</td>\n",
       "<td>1.6426661</td>\n",
       "<td>0.0085897</td>\n",
       "<td>0.0043003</td></tr>\n",
       "<tr><td>SepalWidthCm</td>\n",
       "<td>0.4038662</td>\n",
       "<td>0.0021119</td>\n",
       "<td>0.0010573</td></tr>\n",
       "<tr><td>SepalLengthCm</td>\n",
       "<td>0.3613695</td>\n",
       "<td>0.0018896</td>\n",
       "<td>0.0009460</td></tr></table></div>"
      ],
      "text/plain": [
       "variable       relative_importance    scaled_importance    percentage\n",
       "-------------  ---------------------  -------------------  ------------\n",
       "PetalLengthCm  191.237                1                    0.500637\n",
       "PetalWidthCm   178.8                  0.934964             0.468078\n",
       "petal_ratio    9.54246                0.0498985            0.0249811\n",
       "sepal_ratio    1.64267                0.00858967           0.00430031\n",
       "SepalWidthCm   0.403866               0.00211186           0.00105728\n",
       "SepalLengthCm  0.361369               0.00188964           0.000946024"
      ]
     },
     "metadata": {},
     "output_type": "display_data"
    },
    {
     "data": {
      "text/plain": []
     },
     "execution_count": 154,
     "metadata": {},
     "output_type": "execute_result"
    }
   ],
   "source": [
    "cv_gbm"
   ]
  },
  {
   "cell_type": "code",
   "execution_count": 160,
   "metadata": {},
   "outputs": [],
   "source": [
    "## now with grid search (this may take time depending on the spec of your computer .altough its run on jvm dont take too much time)"
   ]
  },
  {
   "cell_type": "code",
   "execution_count": 173,
   "metadata": {},
   "outputs": [],
   "source": [
    "gbm_params1 = {'learn_rate': [0.01, 0.1],\n",
    "                'max_depth': [3, 5, 9],\n",
    "                'sample_rate': [0.8, 1.0],\n",
    "                'col_sample_rate': [0.2, 0.5, 1.0]}"
   ]
  },
  {
   "cell_type": "code",
   "execution_count": 174,
   "metadata": {},
   "outputs": [],
   "source": [
    "gbm_grid1 = H2OGridSearch(model=H2OGradientBoostingEstimator,\n",
    "                          grid_id='gbm_grid1',\n",
    "                          hyper_params=gbm_params1)"
   ]
  },
  {
   "cell_type": "code",
   "execution_count": 175,
   "metadata": {},
   "outputs": [
    {
     "name": "stdout",
     "output_type": "stream",
     "text": [
      "gbm Grid Build progress: |████████████████████████████████████████████████| 100%\n"
     ]
    }
   ],
   "source": [
    "gbm_grid1.train(x=x, y=y,\n",
    "                training_frame=train_h,\n",
    "                validation_frame=valid_h,\n",
    "                ntrees=100,stopping_metric = \"AUC\",\n",
    "                seed=1)"
   ]
  },
  {
   "cell_type": "code",
   "execution_count": 176,
   "metadata": {},
   "outputs": [
    {
     "name": "stdout",
     "output_type": "stream",
     "text": [
      "      col_sample_rate learn_rate max_depth sample_rate           model_ids  \\\n",
      "0                 0.2        0.1         3         0.8   gbm_grid1_model_4   \n",
      "1                 0.2        0.1         3         0.8  gbm_grid1_model_40   \n",
      "2                 0.2        0.1         5         0.8  gbm_grid1_model_46   \n",
      "3                 0.2        0.1         9         0.8  gbm_grid1_model_16   \n",
      "4                 0.2        0.1         5         0.8  gbm_grid1_model_10   \n",
      "5                 0.2        0.1         9         0.8  gbm_grid1_model_52   \n",
      "6                 0.2        0.1         3         1.0  gbm_grid1_model_58   \n",
      "7                 0.2        0.1         3         1.0  gbm_grid1_model_22   \n",
      "8                 0.2        0.1         5         1.0  gbm_grid1_model_64   \n",
      "9                 0.2        0.1         5         1.0  gbm_grid1_model_28   \n",
      "10                0.2        0.1         9         1.0  gbm_grid1_model_34   \n",
      "11                0.2        0.1         9         1.0  gbm_grid1_model_70   \n",
      "12                0.5        0.1         3         0.8  gbm_grid1_model_41   \n",
      "13                0.5        0.1         3         0.8   gbm_grid1_model_5   \n",
      "14                0.5        0.1         5         0.8  gbm_grid1_model_47   \n",
      "15                0.5        0.1         5         0.8  gbm_grid1_model_11   \n",
      "16                0.5        0.1         9         0.8  gbm_grid1_model_17   \n",
      "17                0.5        0.1         9         0.8  gbm_grid1_model_53   \n",
      "18                0.5        0.1         3         1.0  gbm_grid1_model_23   \n",
      "19                0.5        0.1         3         1.0  gbm_grid1_model_59   \n",
      "20                1.0        0.1         5         0.8  gbm_grid1_model_12   \n",
      "21                1.0        0.1         9         0.8  gbm_grid1_model_54   \n",
      "22                1.0        0.1         5         0.8  gbm_grid1_model_48   \n",
      "23                1.0        0.1         9         0.8  gbm_grid1_model_18   \n",
      "24                0.5        0.1         9         1.0  gbm_grid1_model_71   \n",
      "25                0.5        0.1         9         1.0  gbm_grid1_model_35   \n",
      "26                0.5        0.1         5         1.0  gbm_grid1_model_65   \n",
      "27                0.5        0.1         5         1.0  gbm_grid1_model_29   \n",
      "28                1.0        0.1         3         0.8  gbm_grid1_model_42   \n",
      "29                1.0        0.1         3         0.8   gbm_grid1_model_6   \n",
      ".. ..             ...        ...       ...         ...                 ...   \n",
      "42                0.5       0.01         9         1.0  gbm_grid1_model_32   \n",
      "43                0.5       0.01         9         1.0  gbm_grid1_model_68   \n",
      "44                1.0       0.01         5         0.8   gbm_grid1_model_9   \n",
      "45                1.0       0.01         9         0.8  gbm_grid1_model_15   \n",
      "46                1.0       0.01         9         0.8  gbm_grid1_model_51   \n",
      "47                1.0       0.01         5         0.8  gbm_grid1_model_45   \n",
      "48                1.0       0.01         3         0.8  gbm_grid1_model_39   \n",
      "49                1.0       0.01         3         0.8   gbm_grid1_model_3   \n",
      "50                0.5       0.01         3         1.0  gbm_grid1_model_20   \n",
      "51                0.5       0.01         3         1.0  gbm_grid1_model_56   \n",
      "52                0.5       0.01         5         1.0  gbm_grid1_model_26   \n",
      "53                0.5       0.01         5         1.0  gbm_grid1_model_62   \n",
      "54                0.5       0.01         5         0.8  gbm_grid1_model_44   \n",
      "55                0.5       0.01         9         0.8  gbm_grid1_model_50   \n",
      "56                0.5       0.01         9         0.8  gbm_grid1_model_14   \n",
      "57                0.5       0.01         5         0.8   gbm_grid1_model_8   \n",
      "58                0.5       0.01         3         0.8   gbm_grid1_model_2   \n",
      "59                0.5       0.01         3         0.8  gbm_grid1_model_38   \n",
      "60                0.2       0.01         9         1.0  gbm_grid1_model_67   \n",
      "61                0.2       0.01         9         1.0  gbm_grid1_model_31   \n",
      "62                0.2       0.01         5         1.0  gbm_grid1_model_61   \n",
      "63                0.2       0.01         5         1.0  gbm_grid1_model_25   \n",
      "64                0.2       0.01         3         1.0  gbm_grid1_model_55   \n",
      "65                0.2       0.01         3         1.0  gbm_grid1_model_19   \n",
      "66                0.2       0.01         5         0.8  gbm_grid1_model_43   \n",
      "67                0.2       0.01         9         0.8  gbm_grid1_model_13   \n",
      "68                0.2       0.01         9         0.8  gbm_grid1_model_49   \n",
      "69                0.2       0.01         5         0.8   gbm_grid1_model_7   \n",
      "70                0.2       0.01         3         0.8   gbm_grid1_model_1   \n",
      "71                0.2       0.01         3         0.8  gbm_grid1_model_37   \n",
      "\n",
      "                logloss  \n",
      "0   0.15091874273539463  \n",
      "1   0.15091874273539463  \n",
      "2    0.1531147657920202  \n",
      "3    0.1531147657920202  \n",
      "4    0.1531147657920202  \n",
      "5    0.1531147657920202  \n",
      "6    0.1598798571819927  \n",
      "7    0.1598798571819927  \n",
      "8   0.17010543832915015  \n",
      "9   0.17010543832915015  \n",
      "10   0.1758617009700465  \n",
      "11   0.1758617009700465  \n",
      "12  0.18448496494622033  \n",
      "13  0.18448496494622033  \n",
      "14  0.18461213829088832  \n",
      "15  0.18461213829088832  \n",
      "16   0.1846121382909196  \n",
      "17   0.1846121382909196  \n",
      "18  0.24363710176917108  \n",
      "19  0.24363710176917108  \n",
      "20  0.24828513382063513  \n",
      "21  0.24828513382063513  \n",
      "22  0.24828513382063513  \n",
      "23  0.24828513382063513  \n",
      "24  0.24978277346950753  \n",
      "25  0.24978277346950753  \n",
      "26  0.25014504603979126  \n",
      "27  0.25014504603979126  \n",
      "28  0.25705457716600777  \n",
      "29  0.25705457716600777  \n",
      "..                  ...  \n",
      "42  0.34893963743046325  \n",
      "43  0.34893963743046325  \n",
      "44   0.3491176104396102  \n",
      "45   0.3491176104396102  \n",
      "46   0.3491176104396102  \n",
      "47   0.3491176104396102  \n",
      "48   0.3493102990220661  \n",
      "49   0.3493102990220661  \n",
      "50   0.3498675329034101  \n",
      "51   0.3498675329034101  \n",
      "52   0.3516986786846584  \n",
      "53   0.3516986786846584  \n",
      "54   0.3590081307468104  \n",
      "55   0.3590081307468104  \n",
      "56   0.3590081307468104  \n",
      "57   0.3590081307468104  \n",
      "58   0.3609700801521411  \n",
      "59   0.3609700801521411  \n",
      "60  0.43731694295038365  \n",
      "61  0.43731694295038365  \n",
      "62   0.4373189137115599  \n",
      "63   0.4373189137115599  \n",
      "64  0.44946980777412365  \n",
      "65  0.44946980777412365  \n",
      "66  0.46220922843978984  \n",
      "67  0.46220922843978984  \n",
      "68  0.46220922843978984  \n",
      "69  0.46220922843978984  \n",
      "70   0.4662359826722936  \n",
      "71   0.4662359826722936  \n",
      "\n",
      "[72 rows x 7 columns]\n"
     ]
    },
    {
     "data": {
      "text/plain": []
     },
     "execution_count": 176,
     "metadata": {},
     "output_type": "execute_result"
    }
   ],
   "source": [
    "gbm_grid1"
   ]
  },
  {
   "cell_type": "code",
   "execution_count": 187,
   "metadata": {},
   "outputs": [],
   "source": [
    "## RANDOm GRID search "
   ]
  },
  {
   "cell_type": "code",
   "execution_count": 191,
   "metadata": {},
   "outputs": [
    {
     "name": "stdout",
     "output_type": "stream",
     "text": [
      "gbm Grid Build progress: |████████████████████████████████████████████████| 100%\n"
     ]
    }
   ],
   "source": [
    "gbm_params2 = {'learn_rate': [i * 0.01 for i in range(1, 11)],\n",
    "                'max_depth': list(range(2, 11)),\n",
    "                'sample_rate': [i * 0.1 for i in range(5, 11)],\n",
    "                'col_sample_rate': [i * 0.1 for i in range(1, 11)]}\n",
    "\n",
    "# Search criteria\n",
    "search_criteria = {'strategy': 'RandomDiscrete', 'max_models': 36, 'seed': 1}\n",
    "\n",
    "# Train and validate a random grid of GBMs\n",
    "gbm_grid2 = H2OGridSearch(model=H2OGradientBoostingEstimator,\n",
    "                          grid_id='gbm_grid2',\n",
    "                          hyper_params=gbm_params2,\n",
    "                          search_criteria=search_criteria)\n",
    "gbm_grid2.train(x=x, y=y,\n",
    "                training_frame=train_h,\n",
    "                validation_frame=valid_h,\n",
    "                ntrees=100,\n",
    "                seed=1)\n",
    "\n",
    "\n",
    "# 0.7810757307013204"
   ]
  },
  {
   "cell_type": "code",
   "execution_count": 192,
   "metadata": {},
   "outputs": [
    {
     "name": "stdout",
     "output_type": "stream",
     "text": [
      "          col_sample_rate learn_rate max_depth         sample_rate  \\\n",
      "0                     0.4       0.07         5                 0.5   \n",
      "1                     0.2       0.06         7                 0.8   \n",
      "2     0.30000000000000004       0.04        10                 0.9   \n",
      "3                     0.2       0.06         4                 0.9   \n",
      "4     0.30000000000000004       0.08         6                 0.8   \n",
      "5                     0.4       0.04         9                 0.5   \n",
      "6      0.6000000000000001       0.04         7                 0.8   \n",
      "7     0.30000000000000004       0.06         2  0.7000000000000001   \n",
      "8      0.7000000000000001       0.09        10                 0.5   \n",
      "9      0.6000000000000001       0.05         4                 0.9   \n",
      "10                    0.1        0.1        10                 0.5   \n",
      "11                    0.4       0.08         5                 0.8   \n",
      "12                    0.1       0.09         3                 0.9   \n",
      "13                    0.2        0.1         3                 0.8   \n",
      "14     0.7000000000000001       0.08         2                 0.5   \n",
      "15                    0.2       0.03         7                 1.0   \n",
      "16                    0.8       0.05        10  0.6000000000000001   \n",
      "17     0.7000000000000001       0.08         9  0.6000000000000001   \n",
      "18                    0.2       0.09         6                 1.0   \n",
      "19                    0.9       0.04         7                 1.0   \n",
      "20     0.7000000000000001       0.04         8                 1.0   \n",
      "21                    0.9       0.04         4                 0.5   \n",
      "22    0.30000000000000004        0.1         6  0.7000000000000001   \n",
      "23                    1.0       0.09         5                 0.5   \n",
      "24                    0.8       0.09        10  0.7000000000000001   \n",
      "25                    0.5        0.1         8  0.7000000000000001   \n",
      "26                    0.9       0.06         6                 0.9   \n",
      "27                    1.0       0.07         2  0.6000000000000001   \n",
      "28     0.7000000000000001        0.1         3  0.7000000000000001   \n",
      "29                    0.9       0.06         3                 0.8   \n",
      "30                    0.9       0.08         6                 0.8   \n",
      "31                    1.0       0.09        10                 0.9   \n",
      "32                    0.1       0.02         6                 0.5   \n",
      "33                    0.4       0.01         6  0.6000000000000001   \n",
      "34                    0.1       0.01         6  0.6000000000000001   \n",
      "35                    0.1       0.01        10                 0.5   \n",
      "\n",
      "             model_ids              logloss  \n",
      "0    gbm_grid2_model_6  0.10500506246462576  \n",
      "1   gbm_grid2_model_31  0.11406196677535031  \n",
      "2    gbm_grid2_model_2   0.1190544389095221  \n",
      "3   gbm_grid2_model_14  0.12236631872519395  \n",
      "4   gbm_grid2_model_16  0.12538310686488535  \n",
      "5   gbm_grid2_model_19  0.12877753171732242  \n",
      "6   gbm_grid2_model_33  0.12966188039476859  \n",
      "7    gbm_grid2_model_8  0.13732765412073236  \n",
      "8   gbm_grid2_model_36   0.1404523597792261  \n",
      "9   gbm_grid2_model_30  0.14159278697599925  \n",
      "10   gbm_grid2_model_9   0.1420916891612132  \n",
      "11   gbm_grid2_model_3   0.1493686133734428  \n",
      "12  gbm_grid2_model_21    0.149642885854691  \n",
      "13  gbm_grid2_model_25  0.15091874273539463  \n",
      "14  gbm_grid2_model_15  0.15197281059758114  \n",
      "15  gbm_grid2_model_29  0.15306978579859884  \n",
      "16   gbm_grid2_model_4  0.15568063650977865  \n",
      "17  gbm_grid2_model_27  0.15635622534972327  \n",
      "18  gbm_grid2_model_22  0.15660790872272248  \n",
      "19  gbm_grid2_model_35  0.15662510910645286  \n",
      "20  gbm_grid2_model_34  0.15905266664202286  \n",
      "21  gbm_grid2_model_13   0.1611401939162102  \n",
      "22  gbm_grid2_model_12   0.1651570163952335  \n",
      "23  gbm_grid2_model_24  0.17170288317640742  \n",
      "24  gbm_grid2_model_26  0.18165647753829467  \n",
      "25  gbm_grid2_model_20  0.19138558993682805  \n",
      "26   gbm_grid2_model_7  0.19937309828544944  \n",
      "27   gbm_grid2_model_5  0.19963203356765827  \n",
      "28  gbm_grid2_model_18  0.20435329077863681  \n",
      "29  gbm_grid2_model_17  0.20770599789856803  \n",
      "30  gbm_grid2_model_11  0.21537326833291506  \n",
      "31  gbm_grid2_model_28  0.26194036499496476  \n",
      "32  gbm_grid2_model_32  0.29493808518549025  \n",
      "33   gbm_grid2_model_1   0.3934590466515784  \n",
      "34  gbm_grid2_model_23  0.49325318059962187  \n",
      "35  gbm_grid2_model_10   0.5009372439479273  \n"
     ]
    },
    {
     "data": {
      "text/plain": []
     },
     "execution_count": 192,
     "metadata": {},
     "output_type": "execute_result"
    }
   ],
   "source": [
    "gbm_grid2"
   ]
  },
  {
   "cell_type": "code",
   "execution_count": 194,
   "metadata": {},
   "outputs": [],
   "source": [
    "gbm_gridperf2 = gbm_grid2.get_grid(sort_by='mse', decreasing=True)"
   ]
  },
  {
   "cell_type": "code",
   "execution_count": 195,
   "metadata": {},
   "outputs": [],
   "source": [
    "gbm_gridperf2\n",
    "\n",
    "# Grab the top GBM model, chosen by validation AUC\n",
    "best_gbm2 = gbm_gridperf2.models[0]\n",
    "\n",
    "# Now let's evaluate the model performance on a test set\n",
    "# so we get an honest estimate of top model performance\n",
    "#best_gbm_perf2 = best_gbm2.model_performance(test)\n"
   ]
  },
  {
   "cell_type": "code",
   "execution_count": 196,
   "metadata": {},
   "outputs": [
    {
     "name": "stdout",
     "output_type": "stream",
     "text": [
      "Model Details\n",
      "=============\n",
      "H2OGradientBoostingEstimator :  Gradient Boosting Machine\n",
      "Model Key:  gbm_grid2_model_10\n",
      "\n",
      "Model Summary: \n"
     ]
    },
    {
     "data": {
      "text/html": [
       "<div style=\"overflow:auto\"><table style=\"width:50%\"><tr><td><b></b></td>\n",
       "<td><b>number_of_trees</b></td>\n",
       "<td><b>number_of_internal_trees</b></td>\n",
       "<td><b>model_size_in_bytes</b></td>\n",
       "<td><b>min_depth</b></td>\n",
       "<td><b>max_depth</b></td>\n",
       "<td><b>mean_depth</b></td>\n",
       "<td><b>min_leaves</b></td>\n",
       "<td><b>max_leaves</b></td>\n",
       "<td><b>mean_leaves</b></td></tr>\n",
       "<tr><td></td>\n",
       "<td>100.0</td>\n",
       "<td>300.0</td>\n",
       "<td>30424.0</td>\n",
       "<td>1.0</td>\n",
       "<td>4.0</td>\n",
       "<td>2.3466666</td>\n",
       "<td>2.0</td>\n",
       "<td>5.0</td>\n",
       "<td>3.41</td></tr></table></div>"
      ],
      "text/plain": [
       "    number_of_trees    number_of_internal_trees    model_size_in_bytes    min_depth    max_depth    mean_depth    min_leaves    max_leaves    mean_leaves\n",
       "--  -----------------  --------------------------  ---------------------  -----------  -----------  ------------  ------------  ------------  -------------\n",
       "    100                300                         30424                  1            4            2.34667       2             5             3.41"
      ]
     },
     "metadata": {},
     "output_type": "display_data"
    },
    {
     "name": "stdout",
     "output_type": "stream",
     "text": [
      "\n",
      "\n",
      "ModelMetricsMultinomial: gbm\n",
      "** Reported on train data. **\n",
      "\n",
      "MSE: 0.10816858157569545\n",
      "RMSE: 0.3288899231896524\n",
      "LogLoss: 0.39276647064640097\n",
      "Mean Per-Class Error: 0.031586021505376344\n",
      "Confusion Matrix: Row labels: Actual class; Column labels: Predicted class\n",
      "\n"
     ]
    },
    {
     "data": {
      "text/html": [
       "<div style=\"overflow:auto\"><table style=\"width:50%\"><tr><td><b>Iris-setosa</b></td>\n",
       "<td><b>Iris-versicolor</b></td>\n",
       "<td><b>Iris-virginica</b></td>\n",
       "<td><b>Error</b></td>\n",
       "<td><b>Rate</b></td></tr>\n",
       "<tr><td>28.0</td>\n",
       "<td>0.0</td>\n",
       "<td>0.0</td>\n",
       "<td>0.0</td>\n",
       "<td>0 / 28</td></tr>\n",
       "<tr><td>0.0</td>\n",
       "<td>30.0</td>\n",
       "<td>1.0</td>\n",
       "<td>0.0322581</td>\n",
       "<td>1 / 31</td></tr>\n",
       "<tr><td>0.0</td>\n",
       "<td>2.0</td>\n",
       "<td>30.0</td>\n",
       "<td>0.0625</td>\n",
       "<td>2 / 32</td></tr>\n",
       "<tr><td>28.0</td>\n",
       "<td>32.0</td>\n",
       "<td>31.0</td>\n",
       "<td>0.0329670</td>\n",
       "<td>3 / 91</td></tr></table></div>"
      ],
      "text/plain": [
       "Iris-setosa    Iris-versicolor    Iris-virginica    Error      Rate\n",
       "-------------  -----------------  ----------------  ---------  ------\n",
       "28             0                  0                 0          0 / 28\n",
       "0              30                 1                 0.0322581  1 / 31\n",
       "0              2                  30                0.0625     2 / 32\n",
       "28             32                 31                0.032967   3 / 91"
      ]
     },
     "metadata": {},
     "output_type": "display_data"
    },
    {
     "name": "stdout",
     "output_type": "stream",
     "text": [
      "Top-3 Hit Ratios: \n"
     ]
    },
    {
     "data": {
      "text/html": [
       "<div style=\"overflow:auto\"><table style=\"width:50%\"><tr><td><b>k</b></td>\n",
       "<td><b>hit_ratio</b></td></tr>\n",
       "<tr><td>1</td>\n",
       "<td>0.9670330</td></tr>\n",
       "<tr><td>2</td>\n",
       "<td>1.0</td></tr>\n",
       "<tr><td>3</td>\n",
       "<td>1.0</td></tr></table></div>"
      ],
      "text/plain": [
       "k    hit_ratio\n",
       "---  -----------\n",
       "1    0.967033\n",
       "2    1\n",
       "3    1"
      ]
     },
     "metadata": {},
     "output_type": "display_data"
    },
    {
     "name": "stdout",
     "output_type": "stream",
     "text": [
      "\n",
      "ModelMetricsMultinomial: gbm\n",
      "** Reported on validation data. **\n",
      "\n",
      "MSE: 0.15823698203842265\n",
      "RMSE: 0.3977901231031543\n",
      "LogLoss: 0.5009372439479273\n",
      "Mean Per-Class Error: 0.07792207792207792\n",
      "Confusion Matrix: Row labels: Actual class; Column labels: Predicted class\n",
      "\n"
     ]
    },
    {
     "data": {
      "text/html": [
       "<div style=\"overflow:auto\"><table style=\"width:50%\"><tr><td><b>Iris-setosa</b></td>\n",
       "<td><b>Iris-versicolor</b></td>\n",
       "<td><b>Iris-virginica</b></td>\n",
       "<td><b>Error</b></td>\n",
       "<td><b>Rate</b></td></tr>\n",
       "<tr><td>13.0</td>\n",
       "<td>0.0</td>\n",
       "<td>0.0</td>\n",
       "<td>0.0</td>\n",
       "<td>0 / 13</td></tr>\n",
       "<tr><td>0.0</td>\n",
       "<td>10.0</td>\n",
       "<td>1.0</td>\n",
       "<td>0.0909091</td>\n",
       "<td>1 / 11</td></tr>\n",
       "<tr><td>0.0</td>\n",
       "<td>1.0</td>\n",
       "<td>6.0</td>\n",
       "<td>0.1428571</td>\n",
       "<td>1 / 7</td></tr>\n",
       "<tr><td>13.0</td>\n",
       "<td>11.0</td>\n",
       "<td>7.0</td>\n",
       "<td>0.0645161</td>\n",
       "<td>2 / 31</td></tr></table></div>"
      ],
      "text/plain": [
       "Iris-setosa    Iris-versicolor    Iris-virginica    Error      Rate\n",
       "-------------  -----------------  ----------------  ---------  ------\n",
       "13             0                  0                 0          0 / 13\n",
       "0              10                 1                 0.0909091  1 / 11\n",
       "0              1                  6                 0.142857   1 / 7\n",
       "13             11                 7                 0.0645161  2 / 31"
      ]
     },
     "metadata": {},
     "output_type": "display_data"
    },
    {
     "name": "stdout",
     "output_type": "stream",
     "text": [
      "Top-3 Hit Ratios: \n"
     ]
    },
    {
     "data": {
      "text/html": [
       "<div style=\"overflow:auto\"><table style=\"width:50%\"><tr><td><b>k</b></td>\n",
       "<td><b>hit_ratio</b></td></tr>\n",
       "<tr><td>1</td>\n",
       "<td>0.9354839</td></tr>\n",
       "<tr><td>2</td>\n",
       "<td>1.0</td></tr>\n",
       "<tr><td>3</td>\n",
       "<td>1.0</td></tr></table></div>"
      ],
      "text/plain": [
       "k    hit_ratio\n",
       "---  -----------\n",
       "1    0.935484\n",
       "2    1\n",
       "3    1"
      ]
     },
     "metadata": {},
     "output_type": "display_data"
    },
    {
     "name": "stdout",
     "output_type": "stream",
     "text": [
      "Scoring History: \n"
     ]
    },
    {
     "data": {
      "text/html": [
       "<div style=\"overflow:auto\"><table style=\"width:50%\"><tr><td><b></b></td>\n",
       "<td><b>timestamp</b></td>\n",
       "<td><b>duration</b></td>\n",
       "<td><b>number_of_trees</b></td>\n",
       "<td><b>training_rmse</b></td>\n",
       "<td><b>training_logloss</b></td>\n",
       "<td><b>training_classification_error</b></td>\n",
       "<td><b>validation_rmse</b></td>\n",
       "<td><b>validation_logloss</b></td>\n",
       "<td><b>validation_classification_error</b></td></tr>\n",
       "<tr><td></td>\n",
       "<td>2019-08-18 19:30:23</td>\n",
       "<td> 6.140 sec</td>\n",
       "<td>0.0</td>\n",
       "<td>0.6666667</td>\n",
       "<td>1.0986123</td>\n",
       "<td>0.6923077</td>\n",
       "<td>0.6666667</td>\n",
       "<td>1.0986123</td>\n",
       "<td>0.6129032</td></tr>\n",
       "<tr><td></td>\n",
       "<td>2019-08-18 19:30:23</td>\n",
       "<td> 6.145 sec</td>\n",
       "<td>1.0</td>\n",
       "<td>0.6643444</td>\n",
       "<td>1.0916832</td>\n",
       "<td>0.2857143</td>\n",
       "<td>0.6649105</td>\n",
       "<td>1.0933809</td>\n",
       "<td>0.3870968</td></tr>\n",
       "<tr><td></td>\n",
       "<td>2019-08-18 19:30:23</td>\n",
       "<td> 6.147 sec</td>\n",
       "<td>2.0</td>\n",
       "<td>0.6609967</td>\n",
       "<td>1.0817763</td>\n",
       "<td>0.2197802</td>\n",
       "<td>0.6617879</td>\n",
       "<td>1.0841473</td>\n",
       "<td>0.3548387</td></tr>\n",
       "<tr><td></td>\n",
       "<td>2019-08-18 19:30:23</td>\n",
       "<td> 6.149 sec</td>\n",
       "<td>3.0</td>\n",
       "<td>0.6572327</td>\n",
       "<td>1.0707766</td>\n",
       "<td>0.1978022</td>\n",
       "<td>0.6586767</td>\n",
       "<td>1.0750783</td>\n",
       "<td>0.2903226</td></tr>\n",
       "<tr><td></td>\n",
       "<td>2019-08-18 19:30:23</td>\n",
       "<td> 6.152 sec</td>\n",
       "<td>4.0</td>\n",
       "<td>0.6510870</td>\n",
       "<td>1.0530116</td>\n",
       "<td>0.0769231</td>\n",
       "<td>0.6529732</td>\n",
       "<td>1.0585259</td>\n",
       "<td>0.1935484</td></tr>\n",
       "<tr><td>---</td>\n",
       "<td>---</td>\n",
       "<td>---</td>\n",
       "<td>---</td>\n",
       "<td>---</td>\n",
       "<td>---</td>\n",
       "<td>---</td>\n",
       "<td>---</td>\n",
       "<td>---</td>\n",
       "<td>---</td></tr>\n",
       "<tr><td></td>\n",
       "<td>2019-08-18 19:30:23</td>\n",
       "<td> 6.697 sec</td>\n",
       "<td>96.0</td>\n",
       "<td>0.3395505</td>\n",
       "<td>0.4094666</td>\n",
       "<td>0.0329670</td>\n",
       "<td>0.4064525</td>\n",
       "<td>0.5164267</td>\n",
       "<td>0.0645161</td></tr>\n",
       "<tr><td></td>\n",
       "<td>2019-08-18 19:30:23</td>\n",
       "<td> 6.705 sec</td>\n",
       "<td>97.0</td>\n",
       "<td>0.3361974</td>\n",
       "<td>0.4042280</td>\n",
       "<td>0.0329670</td>\n",
       "<td>0.4038899</td>\n",
       "<td>0.5117919</td>\n",
       "<td>0.0645161</td></tr>\n",
       "<tr><td></td>\n",
       "<td>2019-08-18 19:30:23</td>\n",
       "<td> 6.712 sec</td>\n",
       "<td>98.0</td>\n",
       "<td>0.3343718</td>\n",
       "<td>0.4012832</td>\n",
       "<td>0.0329670</td>\n",
       "<td>0.4026097</td>\n",
       "<td>0.5094193</td>\n",
       "<td>0.0645161</td></tr>\n",
       "<tr><td></td>\n",
       "<td>2019-08-18 19:30:23</td>\n",
       "<td> 6.720 sec</td>\n",
       "<td>99.0</td>\n",
       "<td>0.3318944</td>\n",
       "<td>0.3973997</td>\n",
       "<td>0.0329670</td>\n",
       "<td>0.4004994</td>\n",
       "<td>0.5056787</td>\n",
       "<td>0.0645161</td></tr>\n",
       "<tr><td></td>\n",
       "<td>2019-08-18 19:30:23</td>\n",
       "<td> 6.728 sec</td>\n",
       "<td>100.0</td>\n",
       "<td>0.3288899</td>\n",
       "<td>0.3927665</td>\n",
       "<td>0.0329670</td>\n",
       "<td>0.3977901</td>\n",
       "<td>0.5009372</td>\n",
       "<td>0.0645161</td></tr></table></div>"
      ],
      "text/plain": [
       "     timestamp            duration    number_of_trees    training_rmse       training_logloss     training_classification_error    validation_rmse      validation_logloss    validation_classification_error\n",
       "---  -------------------  ----------  -----------------  ------------------  -------------------  -------------------------------  -------------------  --------------------  ---------------------------------\n",
       "     2019-08-18 19:30:23  6.140 sec   0.0                0.6666666666666661  1.0986122886681084   0.6923076923076923               0.6666666666666667   1.0986122886681104    0.6129032258064516\n",
       "     2019-08-18 19:30:23  6.145 sec   1.0                0.6643444084161018  1.0916831854115687   0.2857142857142857               0.664910480365152    1.0933808523602946    0.3870967741935484\n",
       "     2019-08-18 19:30:23  6.147 sec   2.0                0.6609967197057135  1.0817762583171158   0.21978021978021978              0.6617878890525691   1.084147300947322     0.3548387096774194\n",
       "     2019-08-18 19:30:23  6.149 sec   3.0                0.65723265566637    1.0707765621856897   0.1978021978021978               0.6586767013111886   1.0750783259211774    0.2903225806451613\n",
       "     2019-08-18 19:30:23  6.152 sec   4.0                0.6510870244835159  1.0530115610219535   0.07692307692307693              0.6529731786683047   1.0585259211450684    0.1935483870967742\n",
       "---  ---                  ---         ---                ---                 ---                  ---                              ---                  ---                   ---\n",
       "     2019-08-18 19:30:23  6.697 sec   96.0               0.3395504899874802  0.4094665884967059   0.03296703296703297              0.4064524934033574   0.5164267429651727    0.06451612903225806\n",
       "     2019-08-18 19:30:23  6.705 sec   97.0               0.3361973677813643  0.4042280481343458   0.03296703296703297              0.40388989079171217  0.5117918761913851    0.06451612903225806\n",
       "     2019-08-18 19:30:23  6.712 sec   98.0               0.3343717870610768  0.40128320379262766  0.03296703296703297              0.4026097259674754   0.5094193237540539    0.06451612903225806\n",
       "     2019-08-18 19:30:23  6.720 sec   99.0               0.3318944107593217  0.397399689768986    0.03296703296703297              0.4004993831278203   0.5056787027244888    0.06451612903225806\n",
       "     2019-08-18 19:30:23  6.728 sec   100.0              0.3288899231896524  0.39276647064640097  0.03296703296703297              0.3977901231031543   0.5009372439479273    0.06451612903225806"
      ]
     },
     "metadata": {},
     "output_type": "display_data"
    },
    {
     "name": "stdout",
     "output_type": "stream",
     "text": [
      "\n",
      "See the whole table with table.as_data_frame()\n",
      "Variable Importances: \n"
     ]
    },
    {
     "data": {
      "text/html": [
       "<div style=\"overflow:auto\"><table style=\"width:50%\"><tr><td><b>variable</b></td>\n",
       "<td><b>relative_importance</b></td>\n",
       "<td><b>scaled_importance</b></td>\n",
       "<td><b>percentage</b></td></tr>\n",
       "<tr><td>PetalWidthCm</td>\n",
       "<td>499.0529480</td>\n",
       "<td>1.0</td>\n",
       "<td>0.2795869</td></tr>\n",
       "<tr><td>PetalLengthCm</td>\n",
       "<td>405.8154297</td>\n",
       "<td>0.8131711</td>\n",
       "<td>0.2273520</td></tr>\n",
       "<tr><td>sepal_ratio</td>\n",
       "<td>299.3680725</td>\n",
       "<td>0.5998724</td>\n",
       "<td>0.1677164</td></tr>\n",
       "<tr><td>petal_ratio</td>\n",
       "<td>259.0765381</td>\n",
       "<td>0.5191364</td>\n",
       "<td>0.1451437</td></tr>\n",
       "<tr><td>SepalWidthCm</td>\n",
       "<td>161.9858398</td>\n",
       "<td>0.3245865</td>\n",
       "<td>0.0907501</td></tr>\n",
       "<tr><td>SepalLengthCm</td>\n",
       "<td>159.6667480</td>\n",
       "<td>0.3199395</td>\n",
       "<td>0.0894509</td></tr></table></div>"
      ],
      "text/plain": [
       "variable       relative_importance    scaled_importance    percentage\n",
       "-------------  ---------------------  -------------------  ------------\n",
       "PetalWidthCm   499.053                1                    0.279587\n",
       "PetalLengthCm  405.815                0.813171             0.227352\n",
       "sepal_ratio    299.368                0.599872             0.167716\n",
       "petal_ratio    259.077                0.519136             0.145144\n",
       "SepalWidthCm   161.986                0.324586             0.0907501\n",
       "SepalLengthCm  159.667                0.319939             0.0894509"
      ]
     },
     "metadata": {},
     "output_type": "display_data"
    },
    {
     "data": {
      "text/plain": []
     },
     "execution_count": 196,
     "metadata": {},
     "output_type": "execute_result"
    }
   ],
   "source": [
    "best_gbm2"
   ]
  },
  {
   "cell_type": "code",
   "execution_count": 199,
   "metadata": {},
   "outputs": [
    {
     "data": {
      "text/plain": [
       "0.135850255584159"
      ]
     },
     "execution_count": 199,
     "metadata": {},
     "output_type": "execute_result"
    }
   ],
   "source": [
    "\n",
    "best_gbm_perf2 = best_gbm2.model_performance(test_h)\n",
    "\n",
    "best_gbm_perf2.mse()"
   ]
  },
  {
   "cell_type": "code",
   "execution_count": 200,
   "metadata": {},
   "outputs": [
    {
     "data": {
      "text/plain": [
       "0.3685786965956646"
      ]
     },
     "execution_count": 200,
     "metadata": {},
     "output_type": "execute_result"
    }
   ],
   "source": [
    "best_gbm_perf2.rmse()"
   ]
  },
  {
   "cell_type": "code",
   "execution_count": 201,
   "metadata": {},
   "outputs": [],
   "source": [
    "## doing this thing again witha  differene"
   ]
  },
  {
   "cell_type": "code",
   "execution_count": 211,
   "metadata": {},
   "outputs": [
    {
     "name": "stdout",
     "output_type": "stream",
     "text": [
      "gbm prediction progress: |████████████████████████████████████████████████| 100%\n"
     ]
    }
   ],
   "source": [
    "predict = best_gbm2.predict(test_h)"
   ]
  },
  {
   "cell_type": "code",
   "execution_count": 212,
   "metadata": {},
   "outputs": [
    {
     "data": {
      "text/html": [
       "<table>\n",
       "<thead>\n",
       "<tr><th>predict        </th><th style=\"text-align: right;\">  Iris-setosa</th><th style=\"text-align: right;\">  Iris-versicolor</th><th style=\"text-align: right;\">  Iris-virginica</th></tr>\n",
       "</thead>\n",
       "<tbody>\n",
       "<tr><td>Iris-setosa    </td><td style=\"text-align: right;\">     0.761699</td><td style=\"text-align: right;\">         0.118409</td><td style=\"text-align: right;\">        0.119892</td></tr>\n",
       "<tr><td>Iris-setosa    </td><td style=\"text-align: right;\">     0.729632</td><td style=\"text-align: right;\">         0.146856</td><td style=\"text-align: right;\">        0.123512</td></tr>\n",
       "<tr><td>Iris-setosa    </td><td style=\"text-align: right;\">     0.762044</td><td style=\"text-align: right;\">         0.118468</td><td style=\"text-align: right;\">        0.119488</td></tr>\n",
       "<tr><td>Iris-setosa    </td><td style=\"text-align: right;\">     0.757939</td><td style=\"text-align: right;\">         0.122196</td><td style=\"text-align: right;\">        0.119864</td></tr>\n",
       "<tr><td>Iris-setosa    </td><td style=\"text-align: right;\">     0.704401</td><td style=\"text-align: right;\">         0.162444</td><td style=\"text-align: right;\">        0.133155</td></tr>\n",
       "<tr><td>Iris-setosa    </td><td style=\"text-align: right;\">     0.702852</td><td style=\"text-align: right;\">         0.164021</td><td style=\"text-align: right;\">        0.133127</td></tr>\n",
       "<tr><td>Iris-setosa    </td><td style=\"text-align: right;\">     0.739945</td><td style=\"text-align: right;\">         0.136132</td><td style=\"text-align: right;\">        0.123923</td></tr>\n",
       "<tr><td>Iris-setosa    </td><td style=\"text-align: right;\">     0.69692 </td><td style=\"text-align: right;\">         0.157636</td><td style=\"text-align: right;\">        0.145443</td></tr>\n",
       "<tr><td>Iris-setosa    </td><td style=\"text-align: right;\">     0.760984</td><td style=\"text-align: right;\">         0.118315</td><td style=\"text-align: right;\">        0.120701</td></tr>\n",
       "<tr><td>Iris-versicolor</td><td style=\"text-align: right;\">     0.191352</td><td style=\"text-align: right;\">         0.637624</td><td style=\"text-align: right;\">        0.171024</td></tr>\n",
       "</tbody>\n",
       "</table>"
      ]
     },
     "metadata": {},
     "output_type": "display_data"
    },
    {
     "data": {
      "text/plain": []
     },
     "execution_count": 212,
     "metadata": {},
     "output_type": "execute_result"
    }
   ],
   "source": [
    "predict"
   ]
  },
  {
   "cell_type": "code",
   "execution_count": 215,
   "metadata": {},
   "outputs": [],
   "source": [
    "# Predict the contributions using the GBM model and test data.\n",
    "staged_predict_proba = best_gbm2.staged_predict_proba(test_h)"
   ]
  },
  {
   "cell_type": "code",
   "execution_count": 216,
   "metadata": {},
   "outputs": [
    {
     "data": {
      "text/html": [
       "<table>\n",
       "<thead>\n",
       "<tr><th style=\"text-align: right;\">   T1.C1</th><th style=\"text-align: right;\">   T1.C2</th><th style=\"text-align: right;\">   T1.C3</th><th style=\"text-align: right;\">   T2.C1</th><th style=\"text-align: right;\">   T2.C2</th><th style=\"text-align: right;\">   T2.C3</th><th style=\"text-align: right;\">   T3.C1</th><th style=\"text-align: right;\">   T3.C2</th><th style=\"text-align: right;\">   T3.C3</th><th style=\"text-align: right;\">   T4.C1</th><th style=\"text-align: right;\">   T4.C2</th><th style=\"text-align: right;\">   T4.C3</th><th style=\"text-align: right;\">   T5.C1</th><th style=\"text-align: right;\">   T5.C2</th><th style=\"text-align: right;\">   T5.C3</th><th style=\"text-align: right;\">   T6.C1</th><th style=\"text-align: right;\">   T6.C2</th><th style=\"text-align: right;\">   T6.C3</th><th style=\"text-align: right;\">   T7.C1</th><th style=\"text-align: right;\">   T7.C2</th><th style=\"text-align: right;\">   T7.C3</th><th style=\"text-align: right;\">   T8.C1</th><th style=\"text-align: right;\">   T8.C2</th><th style=\"text-align: right;\">   T8.C3</th><th style=\"text-align: right;\">   T9.C1</th><th style=\"text-align: right;\">   T9.C2</th><th style=\"text-align: right;\">   T9.C3</th><th style=\"text-align: right;\">  T10.C1</th><th style=\"text-align: right;\">  T10.C2</th><th style=\"text-align: right;\">  T10.C3</th><th style=\"text-align: right;\">  T11.C1</th><th style=\"text-align: right;\">  T11.C2</th><th style=\"text-align: right;\">  T11.C3</th><th style=\"text-align: right;\">  T12.C1</th><th style=\"text-align: right;\">  T12.C2</th><th style=\"text-align: right;\">  T12.C3</th><th style=\"text-align: right;\">  T13.C1</th><th style=\"text-align: right;\">  T13.C2</th><th style=\"text-align: right;\">  T13.C3</th><th style=\"text-align: right;\">  T14.C1</th><th style=\"text-align: right;\">  T14.C2</th><th style=\"text-align: right;\">  T14.C3</th><th style=\"text-align: right;\">  T15.C1</th><th style=\"text-align: right;\">  T15.C2</th><th style=\"text-align: right;\">  T15.C3</th><th style=\"text-align: right;\">  T16.C1</th><th style=\"text-align: right;\">  T16.C2</th><th style=\"text-align: right;\">  T16.C3</th><th style=\"text-align: right;\">  T17.C1</th><th style=\"text-align: right;\">  T17.C2</th><th style=\"text-align: right;\">  T17.C3</th><th style=\"text-align: right;\">  T18.C1</th><th style=\"text-align: right;\">  T18.C2</th><th style=\"text-align: right;\">  T18.C3</th><th style=\"text-align: right;\">  T19.C1</th><th style=\"text-align: right;\">  T19.C2</th><th style=\"text-align: right;\">  T19.C3</th><th style=\"text-align: right;\">  T20.C1</th><th style=\"text-align: right;\">  T20.C2</th><th style=\"text-align: right;\">  T20.C3</th><th style=\"text-align: right;\">  T21.C1</th><th style=\"text-align: right;\">  T21.C2</th><th style=\"text-align: right;\">  T21.C3</th><th style=\"text-align: right;\">  T22.C1</th><th style=\"text-align: right;\">  T22.C2</th><th style=\"text-align: right;\">  T22.C3</th><th style=\"text-align: right;\">  T23.C1</th><th style=\"text-align: right;\">  T23.C2</th><th style=\"text-align: right;\">  T23.C3</th><th style=\"text-align: right;\">  T24.C1</th><th style=\"text-align: right;\">  T24.C2</th><th style=\"text-align: right;\">  T24.C3</th><th style=\"text-align: right;\">  T25.C1</th><th style=\"text-align: right;\">  T25.C2</th><th style=\"text-align: right;\">  T25.C3</th><th style=\"text-align: right;\">  T26.C1</th><th style=\"text-align: right;\">  T26.C2</th><th style=\"text-align: right;\">  T26.C3</th><th style=\"text-align: right;\">  T27.C1</th><th style=\"text-align: right;\">  T27.C2</th><th style=\"text-align: right;\">  T27.C3</th><th style=\"text-align: right;\">  T28.C1</th><th style=\"text-align: right;\">  T28.C2</th><th style=\"text-align: right;\">  T28.C3</th><th style=\"text-align: right;\">  T29.C1</th><th style=\"text-align: right;\">  T29.C2</th><th style=\"text-align: right;\">  T29.C3</th><th style=\"text-align: right;\">  T30.C1</th><th style=\"text-align: right;\">  T30.C2</th><th style=\"text-align: right;\">  T30.C3</th><th style=\"text-align: right;\">  T31.C1</th><th style=\"text-align: right;\">  T31.C2</th><th style=\"text-align: right;\">  T31.C3</th><th style=\"text-align: right;\">  T32.C1</th><th style=\"text-align: right;\">  T32.C2</th><th style=\"text-align: right;\">  T32.C3</th><th style=\"text-align: right;\">  T33.C1</th><th style=\"text-align: right;\">  T33.C2</th><th style=\"text-align: right;\">  T33.C3</th><th style=\"text-align: right;\">  T34.C1</th><th style=\"text-align: right;\">  T34.C2</th><th style=\"text-align: right;\">  T34.C3</th><th style=\"text-align: right;\">  T35.C1</th><th style=\"text-align: right;\">  T35.C2</th><th style=\"text-align: right;\">  T35.C3</th><th style=\"text-align: right;\">  T36.C1</th><th style=\"text-align: right;\">  T36.C2</th><th style=\"text-align: right;\">  T36.C3</th><th style=\"text-align: right;\">  T37.C1</th><th style=\"text-align: right;\">  T37.C2</th><th style=\"text-align: right;\">  T37.C3</th><th style=\"text-align: right;\">  T38.C1</th><th style=\"text-align: right;\">  T38.C2</th><th style=\"text-align: right;\">  T38.C3</th><th style=\"text-align: right;\">  T39.C1</th><th style=\"text-align: right;\">  T39.C2</th><th style=\"text-align: right;\">  T39.C3</th><th style=\"text-align: right;\">  T40.C1</th><th style=\"text-align: right;\">  T40.C2</th><th style=\"text-align: right;\">  T40.C3</th><th style=\"text-align: right;\">  T41.C1</th><th style=\"text-align: right;\">  T41.C2</th><th style=\"text-align: right;\">  T41.C3</th><th style=\"text-align: right;\">  T42.C1</th><th style=\"text-align: right;\">  T42.C2</th><th style=\"text-align: right;\">  T42.C3</th><th style=\"text-align: right;\">  T43.C1</th><th style=\"text-align: right;\">  T43.C2</th><th style=\"text-align: right;\">  T43.C3</th><th style=\"text-align: right;\">  T44.C1</th><th style=\"text-align: right;\">  T44.C2</th><th style=\"text-align: right;\">  T44.C3</th><th style=\"text-align: right;\">  T45.C1</th><th style=\"text-align: right;\">  T45.C2</th><th style=\"text-align: right;\">  T45.C3</th><th style=\"text-align: right;\">  T46.C1</th><th style=\"text-align: right;\">  T46.C2</th><th style=\"text-align: right;\">  T46.C3</th><th style=\"text-align: right;\">  T47.C1</th><th style=\"text-align: right;\">  T47.C2</th><th style=\"text-align: right;\">  T47.C3</th><th style=\"text-align: right;\">  T48.C1</th><th style=\"text-align: right;\">  T48.C2</th><th style=\"text-align: right;\">  T48.C3</th><th style=\"text-align: right;\">  T49.C1</th><th style=\"text-align: right;\">  T49.C2</th><th style=\"text-align: right;\">  T49.C3</th><th style=\"text-align: right;\">  T50.C1</th><th style=\"text-align: right;\">  T50.C2</th><th style=\"text-align: right;\">  T50.C3</th><th style=\"text-align: right;\">  T51.C1</th><th style=\"text-align: right;\">  T51.C2</th><th style=\"text-align: right;\">  T51.C3</th><th style=\"text-align: right;\">  T52.C1</th><th style=\"text-align: right;\">  T52.C2</th><th style=\"text-align: right;\">  T52.C3</th><th style=\"text-align: right;\">  T53.C1</th><th style=\"text-align: right;\">  T53.C2</th><th style=\"text-align: right;\">  T53.C3</th><th style=\"text-align: right;\">  T54.C1</th><th style=\"text-align: right;\">  T54.C2</th><th style=\"text-align: right;\">  T54.C3</th><th style=\"text-align: right;\">  T55.C1</th><th style=\"text-align: right;\">  T55.C2</th><th style=\"text-align: right;\">  T55.C3</th><th style=\"text-align: right;\">  T56.C1</th><th style=\"text-align: right;\">  T56.C2</th><th style=\"text-align: right;\">  T56.C3</th><th style=\"text-align: right;\">  T57.C1</th><th style=\"text-align: right;\">  T57.C2</th><th style=\"text-align: right;\">  T57.C3</th><th style=\"text-align: right;\">  T58.C1</th><th style=\"text-align: right;\">  T58.C2</th><th style=\"text-align: right;\">  T58.C3</th><th style=\"text-align: right;\">  T59.C1</th><th style=\"text-align: right;\">  T59.C2</th><th style=\"text-align: right;\">  T59.C3</th><th style=\"text-align: right;\">  T60.C1</th><th style=\"text-align: right;\">  T60.C2</th><th style=\"text-align: right;\">  T60.C3</th><th style=\"text-align: right;\">  T61.C1</th><th style=\"text-align: right;\">  T61.C2</th><th style=\"text-align: right;\">  T61.C3</th><th style=\"text-align: right;\">  T62.C1</th><th style=\"text-align: right;\">  T62.C2</th><th style=\"text-align: right;\">  T62.C3</th><th style=\"text-align: right;\">  T63.C1</th><th style=\"text-align: right;\">  T63.C2</th><th style=\"text-align: right;\">  T63.C3</th><th style=\"text-align: right;\">  T64.C1</th><th style=\"text-align: right;\">  T64.C2</th><th style=\"text-align: right;\">  T64.C3</th><th style=\"text-align: right;\">  T65.C1</th><th style=\"text-align: right;\">  T65.C2</th><th style=\"text-align: right;\">  T65.C3</th><th style=\"text-align: right;\">  T66.C1</th><th style=\"text-align: right;\">  T66.C2</th><th style=\"text-align: right;\">  T66.C3</th><th style=\"text-align: right;\">  T67.C1</th><th style=\"text-align: right;\">  T67.C2</th><th style=\"text-align: right;\">  T67.C3</th><th style=\"text-align: right;\">  T68.C1</th><th style=\"text-align: right;\">  T68.C2</th><th style=\"text-align: right;\">  T68.C3</th><th style=\"text-align: right;\">  T69.C1</th><th style=\"text-align: right;\">  T69.C2</th><th style=\"text-align: right;\">  T69.C3</th><th style=\"text-align: right;\">  T70.C1</th><th style=\"text-align: right;\">  T70.C2</th><th style=\"text-align: right;\">  T70.C3</th><th style=\"text-align: right;\">  T71.C1</th><th style=\"text-align: right;\">  T71.C2</th><th style=\"text-align: right;\">  T71.C3</th><th style=\"text-align: right;\">  T72.C1</th><th style=\"text-align: right;\">  T72.C2</th><th style=\"text-align: right;\">  T72.C3</th><th style=\"text-align: right;\">  T73.C1</th><th style=\"text-align: right;\">  T73.C2</th><th style=\"text-align: right;\">  T73.C3</th><th style=\"text-align: right;\">  T74.C1</th><th style=\"text-align: right;\">  T74.C2</th><th style=\"text-align: right;\">  T74.C3</th><th style=\"text-align: right;\">  T75.C1</th><th style=\"text-align: right;\">  T75.C2</th><th style=\"text-align: right;\">  T75.C3</th><th style=\"text-align: right;\">  T76.C1</th><th style=\"text-align: right;\">  T76.C2</th><th style=\"text-align: right;\">  T76.C3</th><th style=\"text-align: right;\">  T77.C1</th><th style=\"text-align: right;\">  T77.C2</th><th style=\"text-align: right;\">  T77.C3</th><th style=\"text-align: right;\">  T78.C1</th><th style=\"text-align: right;\">  T78.C2</th><th style=\"text-align: right;\">  T78.C3</th><th style=\"text-align: right;\">  T79.C1</th><th style=\"text-align: right;\">  T79.C2</th><th style=\"text-align: right;\">  T79.C3</th><th style=\"text-align: right;\">  T80.C1</th><th style=\"text-align: right;\">  T80.C2</th><th style=\"text-align: right;\">  T80.C3</th><th style=\"text-align: right;\">  T81.C1</th><th style=\"text-align: right;\">  T81.C2</th><th style=\"text-align: right;\">  T81.C3</th><th style=\"text-align: right;\">  T82.C1</th><th style=\"text-align: right;\">  T82.C2</th><th style=\"text-align: right;\">  T82.C3</th><th style=\"text-align: right;\">  T83.C1</th><th style=\"text-align: right;\">  T83.C2</th><th style=\"text-align: right;\">  T83.C3</th><th style=\"text-align: right;\">  T84.C1</th><th style=\"text-align: right;\">  T84.C2</th><th style=\"text-align: right;\">  T84.C3</th><th style=\"text-align: right;\">  T85.C1</th><th style=\"text-align: right;\">  T85.C2</th><th style=\"text-align: right;\">  T85.C3</th><th style=\"text-align: right;\">  T86.C1</th><th style=\"text-align: right;\">  T86.C2</th><th style=\"text-align: right;\">  T86.C3</th><th style=\"text-align: right;\">  T87.C1</th><th style=\"text-align: right;\">  T87.C2</th><th style=\"text-align: right;\">  T87.C3</th><th style=\"text-align: right;\">  T88.C1</th><th style=\"text-align: right;\">  T88.C2</th><th style=\"text-align: right;\">  T88.C3</th><th style=\"text-align: right;\">  T89.C1</th><th style=\"text-align: right;\">  T89.C2</th><th style=\"text-align: right;\">  T89.C3</th><th style=\"text-align: right;\">  T90.C1</th><th style=\"text-align: right;\">  T90.C2</th><th style=\"text-align: right;\">  T90.C3</th><th style=\"text-align: right;\">  T91.C1</th><th style=\"text-align: right;\">  T91.C2</th><th style=\"text-align: right;\">  T91.C3</th><th style=\"text-align: right;\">  T92.C1</th><th style=\"text-align: right;\">  T92.C2</th><th style=\"text-align: right;\">  T92.C3</th><th style=\"text-align: right;\">  T93.C1</th><th style=\"text-align: right;\">  T93.C2</th><th style=\"text-align: right;\">  T93.C3</th><th style=\"text-align: right;\">  T94.C1</th><th style=\"text-align: right;\">  T94.C2</th><th style=\"text-align: right;\">  T94.C3</th><th style=\"text-align: right;\">  T95.C1</th><th style=\"text-align: right;\">  T95.C2</th><th style=\"text-align: right;\">  T95.C3</th><th style=\"text-align: right;\">  T96.C1</th><th style=\"text-align: right;\">  T96.C2</th><th style=\"text-align: right;\">  T96.C3</th><th style=\"text-align: right;\">  T97.C1</th><th style=\"text-align: right;\">  T97.C2</th><th style=\"text-align: right;\">  T97.C3</th><th style=\"text-align: right;\">  T98.C1</th><th style=\"text-align: right;\">  T98.C2</th><th style=\"text-align: right;\">  T98.C3</th><th style=\"text-align: right;\">  T99.C1</th><th style=\"text-align: right;\">  T99.C2</th><th style=\"text-align: right;\">  T99.C3</th><th style=\"text-align: right;\">  T100.C1</th><th style=\"text-align: right;\">  T100.C2</th><th style=\"text-align: right;\">  T100.C3</th></tr>\n",
       "</thead>\n",
       "<tbody>\n",
       "<tr><td style=\"text-align: right;\">0.338688</td><td style=\"text-align: right;\">0.330436</td><td style=\"text-align: right;\">0.330877</td><td style=\"text-align: right;\">0.345165</td><td style=\"text-align: right;\">0.326893</td><td style=\"text-align: right;\">0.327942</td><td style=\"text-align: right;\">0.351615</td><td style=\"text-align: right;\">0.323349</td><td style=\"text-align: right;\">0.325036</td><td style=\"text-align: right;\">0.358238</td><td style=\"text-align: right;\">0.320051</td><td style=\"text-align: right;\">0.321711</td><td style=\"text-align: right;\">0.364822</td><td style=\"text-align: right;\">0.316775</td><td style=\"text-align: right;\">0.318403</td><td style=\"text-align: right;\">0.371071</td><td style=\"text-align: right;\">0.313236</td><td style=\"text-align: right;\">0.315693</td><td style=\"text-align: right;\">0.377594</td><td style=\"text-align: right;\">0.309994</td><td style=\"text-align: right;\">0.312412</td><td style=\"text-align: right;\">0.384084</td><td style=\"text-align: right;\">0.30677 </td><td style=\"text-align: right;\">0.309146</td><td style=\"text-align: right;\">0.388866</td><td style=\"text-align: right;\">0.305197</td><td style=\"text-align: right;\">0.305937</td><td style=\"text-align: right;\">0.393062</td><td style=\"text-align: right;\">0.30219 </td><td style=\"text-align: right;\">0.304748</td><td style=\"text-align: right;\">0.399503</td><td style=\"text-align: right;\">0.29899 </td><td style=\"text-align: right;\">0.301507</td><td style=\"text-align: right;\">0.405865</td><td style=\"text-align: right;\">0.295824</td><td style=\"text-align: right;\">0.298311</td><td style=\"text-align: right;\">0.411221</td><td style=\"text-align: right;\">0.293602</td><td style=\"text-align: right;\">0.295177</td><td style=\"text-align: right;\">0.417535</td><td style=\"text-align: right;\">0.290456</td><td style=\"text-align: right;\">0.292009</td><td style=\"text-align: right;\">0.423805</td><td style=\"text-align: right;\">0.287333</td><td style=\"text-align: right;\">0.288862</td><td style=\"text-align: right;\">0.429421</td><td style=\"text-align: right;\">0.285305</td><td style=\"text-align: right;\">0.285274</td><td style=\"text-align: right;\">0.433954</td><td style=\"text-align: right;\">0.282745</td><td style=\"text-align: right;\">0.283301</td><td style=\"text-align: right;\">0.440103</td><td style=\"text-align: right;\">0.279674</td><td style=\"text-align: right;\">0.280224</td><td style=\"text-align: right;\">0.440816</td><td style=\"text-align: right;\">0.277688</td><td style=\"text-align: right;\">0.281497</td><td style=\"text-align: right;\">0.446941</td><td style=\"text-align: right;\">0.274649</td><td style=\"text-align: right;\">0.27841 </td><td style=\"text-align: right;\">0.45083 </td><td style=\"text-align: right;\">0.271766</td><td style=\"text-align: right;\">0.277405</td><td style=\"text-align: right;\">0.45693 </td><td style=\"text-align: right;\">0.268749</td><td style=\"text-align: right;\">0.274321</td><td style=\"text-align: right;\">0.462907</td><td style=\"text-align: right;\">0.265794</td><td style=\"text-align: right;\">0.271299</td><td style=\"text-align: right;\">0.468464</td><td style=\"text-align: right;\">0.263476</td><td style=\"text-align: right;\">0.26806 </td><td style=\"text-align: right;\">0.474382</td><td style=\"text-align: right;\">0.26054 </td><td style=\"text-align: right;\">0.265078</td><td style=\"text-align: right;\">0.480243</td><td style=\"text-align: right;\">0.257636</td><td style=\"text-align: right;\">0.262121</td><td style=\"text-align: right;\">0.482491</td><td style=\"text-align: right;\">0.255824</td><td style=\"text-align: right;\">0.261685</td><td style=\"text-align: right;\">0.487166</td><td style=\"text-align: right;\">0.254017</td><td style=\"text-align: right;\">0.258817</td><td style=\"text-align: right;\">0.492932</td><td style=\"text-align: right;\">0.251147</td><td style=\"text-align: right;\">0.255921</td><td style=\"text-align: right;\">0.495824</td><td style=\"text-align: right;\">0.248611</td><td style=\"text-align: right;\">0.255565</td><td style=\"text-align: right;\">0.501481</td><td style=\"text-align: right;\">0.245827</td><td style=\"text-align: right;\">0.252692</td><td style=\"text-align: right;\">0.507144</td><td style=\"text-align: right;\">0.243053</td><td style=\"text-align: right;\">0.249802</td><td style=\"text-align: right;\">0.512738</td><td style=\"text-align: right;\">0.240292</td><td style=\"text-align: right;\">0.24697 </td><td style=\"text-align: right;\">0.517894</td><td style=\"text-align: right;\">0.238119</td><td style=\"text-align: right;\">0.243987</td><td style=\"text-align: right;\">0.52343 </td><td style=\"text-align: right;\">0.235384</td><td style=\"text-align: right;\">0.241186</td><td style=\"text-align: right;\">0.528896</td><td style=\"text-align: right;\">0.232682</td><td style=\"text-align: right;\">0.238422</td><td style=\"text-align: right;\">0.533793</td><td style=\"text-align: right;\">0.230491</td><td style=\"text-align: right;\">0.235716</td><td style=\"text-align: right;\">0.539134</td><td style=\"text-align: right;\">0.227845</td><td style=\"text-align: right;\">0.233021</td><td style=\"text-align: right;\">0.543199</td><td style=\"text-align: right;\">0.22543 </td><td style=\"text-align: right;\">0.231371</td><td style=\"text-align: right;\">0.54801 </td><td style=\"text-align: right;\">0.223511</td><td style=\"text-align: right;\">0.228479</td><td style=\"text-align: right;\">0.553237</td><td style=\"text-align: right;\">0.220923</td><td style=\"text-align: right;\">0.22584 </td><td style=\"text-align: right;\">0.558446</td><td style=\"text-align: right;\">0.218338</td><td style=\"text-align: right;\">0.223216</td><td style=\"text-align: right;\">0.562396</td><td style=\"text-align: right;\">0.216877</td><td style=\"text-align: right;\">0.220727</td><td style=\"text-align: right;\">0.563612</td><td style=\"text-align: right;\">0.216265</td><td style=\"text-align: right;\">0.220123</td><td style=\"text-align: right;\">0.56783 </td><td style=\"text-align: right;\">0.214319</td><td style=\"text-align: right;\">0.217852</td><td style=\"text-align: right;\">0.571834</td><td style=\"text-align: right;\">0.211903</td><td style=\"text-align: right;\">0.216263</td><td style=\"text-align: right;\">0.575907</td><td style=\"text-align: right;\">0.209598</td><td style=\"text-align: right;\">0.214495</td><td style=\"text-align: right;\">0.58092 </td><td style=\"text-align: right;\">0.207108</td><td style=\"text-align: right;\">0.211972</td><td style=\"text-align: right;\">0.585663</td><td style=\"text-align: right;\">0.204962</td><td style=\"text-align: right;\">0.209374</td><td style=\"text-align: right;\">0.587484</td><td style=\"text-align: right;\">0.202934</td><td style=\"text-align: right;\">0.209583</td><td style=\"text-align: right;\">0.591655</td><td style=\"text-align: right;\">0.20117 </td><td style=\"text-align: right;\">0.207175</td><td style=\"text-align: right;\">0.593619</td><td style=\"text-align: right;\">0.200063</td><td style=\"text-align: right;\">0.206318</td><td style=\"text-align: right;\">0.598174</td><td style=\"text-align: right;\">0.198039</td><td style=\"text-align: right;\">0.203786</td><td style=\"text-align: right;\">0.60301 </td><td style=\"text-align: right;\">0.195653</td><td style=\"text-align: right;\">0.201337</td><td style=\"text-align: right;\">0.607381</td><td style=\"text-align: right;\">0.193173</td><td style=\"text-align: right;\">0.199446</td><td style=\"text-align: right;\">0.611272</td><td style=\"text-align: right;\">0.19197 </td><td style=\"text-align: right;\">0.196758</td><td style=\"text-align: right;\">0.615376</td><td style=\"text-align: right;\">0.190161</td><td style=\"text-align: right;\">0.194462</td><td style=\"text-align: right;\">0.619974</td><td style=\"text-align: right;\">0.187879</td><td style=\"text-align: right;\">0.192148</td><td style=\"text-align: right;\">0.624543</td><td style=\"text-align: right;\">0.185619</td><td style=\"text-align: right;\">0.189839</td><td style=\"text-align: right;\">0.628905</td><td style=\"text-align: right;\">0.183587</td><td style=\"text-align: right;\">0.187508</td><td style=\"text-align: right;\">0.632293</td><td style=\"text-align: right;\">0.181564</td><td style=\"text-align: right;\">0.186143</td><td style=\"text-align: right;\">0.636768</td><td style=\"text-align: right;\">0.179353</td><td style=\"text-align: right;\">0.183879</td><td style=\"text-align: right;\">0.639649</td><td style=\"text-align: right;\">0.17736 </td><td style=\"text-align: right;\">0.18299 </td><td style=\"text-align: right;\">0.64373 </td><td style=\"text-align: right;\">0.175572</td><td style=\"text-align: right;\">0.180698</td><td style=\"text-align: right;\">0.647606</td><td style=\"text-align: right;\">0.173987</td><td style=\"text-align: right;\">0.178407</td><td style=\"text-align: right;\">0.651887</td><td style=\"text-align: right;\">0.171858</td><td style=\"text-align: right;\">0.176255</td><td style=\"text-align: right;\">0.655811</td><td style=\"text-align: right;\">0.170155</td><td style=\"text-align: right;\">0.174034</td><td style=\"text-align: right;\">0.658347</td><td style=\"text-align: right;\">0.168564</td><td style=\"text-align: right;\">0.173089</td><td style=\"text-align: right;\">0.662269</td><td style=\"text-align: right;\">0.166827</td><td style=\"text-align: right;\">0.170904</td><td style=\"text-align: right;\">0.663133</td><td style=\"text-align: right;\">0.165828</td><td style=\"text-align: right;\">0.171039</td><td style=\"text-align: right;\">0.666507</td><td style=\"text-align: right;\">0.164446</td><td style=\"text-align: right;\">0.169047</td><td style=\"text-align: right;\">0.670354</td><td style=\"text-align: right;\">0.162357</td><td style=\"text-align: right;\">0.167289</td><td style=\"text-align: right;\">0.674395</td><td style=\"text-align: right;\">0.160353</td><td style=\"text-align: right;\">0.165252</td><td style=\"text-align: right;\">0.676407</td><td style=\"text-align: right;\">0.15922 </td><td style=\"text-align: right;\">0.164373</td><td style=\"text-align: right;\">0.680427</td><td style=\"text-align: right;\">0.15723 </td><td style=\"text-align: right;\">0.162343</td><td style=\"text-align: right;\">0.684163</td><td style=\"text-align: right;\">0.15522 </td><td style=\"text-align: right;\">0.160617</td><td style=\"text-align: right;\">0.687805</td><td style=\"text-align: right;\">0.153614</td><td style=\"text-align: right;\">0.158581</td><td style=\"text-align: right;\">0.691504</td><td style=\"text-align: right;\">0.151643</td><td style=\"text-align: right;\">0.156853</td><td style=\"text-align: right;\">0.695347</td><td style=\"text-align: right;\">0.149745</td><td style=\"text-align: right;\">0.154907</td><td style=\"text-align: right;\">0.699131</td><td style=\"text-align: right;\">0.147873</td><td style=\"text-align: right;\">0.152996</td><td style=\"text-align: right;\">0.702879</td><td style=\"text-align: right;\">0.145996</td><td style=\"text-align: right;\">0.151125</td><td style=\"text-align: right;\">0.706571</td><td style=\"text-align: right;\">0.144171</td><td style=\"text-align: right;\">0.149258</td><td style=\"text-align: right;\">0.709791</td><td style=\"text-align: right;\">0.1429  </td><td style=\"text-align: right;\">0.147309</td><td style=\"text-align: right;\">0.713001</td><td style=\"text-align: right;\">0.141463</td><td style=\"text-align: right;\">0.145536</td><td style=\"text-align: right;\">0.715367</td><td style=\"text-align: right;\">0.140431</td><td style=\"text-align: right;\">0.144202</td><td style=\"text-align: right;\">0.718531</td><td style=\"text-align: right;\">0.139152</td><td style=\"text-align: right;\">0.142316</td><td style=\"text-align: right;\">0.72103 </td><td style=\"text-align: right;\">0.138293</td><td style=\"text-align: right;\">0.140677</td><td style=\"text-align: right;\">0.724555</td><td style=\"text-align: right;\">0.136529</td><td style=\"text-align: right;\">0.138915</td><td style=\"text-align: right;\">0.727818</td><td style=\"text-align: right;\">0.134733</td><td style=\"text-align: right;\">0.137449</td><td style=\"text-align: right;\">0.730443</td><td style=\"text-align: right;\">0.13342 </td><td style=\"text-align: right;\">0.136136</td><td style=\"text-align: right;\">0.733858</td><td style=\"text-align: right;\">0.131728</td><td style=\"text-align: right;\">0.134414</td><td style=\"text-align: right;\">0.736448</td><td style=\"text-align: right;\">0.130703</td><td style=\"text-align: right;\">0.132848</td><td style=\"text-align: right;\">0.739804</td><td style=\"text-align: right;\">0.129031</td><td style=\"text-align: right;\">0.131165</td><td style=\"text-align: right;\">0.742664</td><td style=\"text-align: right;\">0.127898</td><td style=\"text-align: right;\">0.129438</td><td style=\"text-align: right;\">0.745943</td><td style=\"text-align: right;\">0.126276</td><td style=\"text-align: right;\">0.127781</td><td style=\"text-align: right;\">0.749154</td><td style=\"text-align: right;\">0.124671</td><td style=\"text-align: right;\">0.126175</td><td style=\"text-align: right;\">0.752353</td><td style=\"text-align: right;\">0.123071</td><td style=\"text-align: right;\">0.124576</td><td style=\"text-align: right;\">0.755511</td><td style=\"text-align: right;\">0.121494</td><td style=\"text-align: right;\">0.122995</td><td style=\"text-align: right;\">0.758625</td><td style=\"text-align: right;\">0.119942</td><td style=\"text-align: right;\">0.121433</td><td style=\"text-align: right;\"> 0.761699</td><td style=\"text-align: right;\"> 0.118409</td><td style=\"text-align: right;\"> 0.119892</td></tr>\n",
       "<tr><td style=\"text-align: right;\">0.333381</td><td style=\"text-align: right;\">0.334257</td><td style=\"text-align: right;\">0.332362</td><td style=\"text-align: right;\">0.339809</td><td style=\"text-align: right;\">0.330725</td><td style=\"text-align: right;\">0.329466</td><td style=\"text-align: right;\">0.346213</td><td style=\"text-align: right;\">0.32719 </td><td style=\"text-align: right;\">0.326597</td><td style=\"text-align: right;\">0.35279 </td><td style=\"text-align: right;\">0.323904</td><td style=\"text-align: right;\">0.323306</td><td style=\"text-align: right;\">0.359345</td><td style=\"text-align: right;\">0.320653</td><td style=\"text-align: right;\">0.320002</td><td style=\"text-align: right;\">0.365193</td><td style=\"text-align: right;\">0.316804</td><td style=\"text-align: right;\">0.318003</td><td style=\"text-align: right;\">0.371673</td><td style=\"text-align: right;\">0.313576</td><td style=\"text-align: right;\">0.31475 </td><td style=\"text-align: right;\">0.378124</td><td style=\"text-align: right;\">0.310365</td><td style=\"text-align: right;\">0.311511</td><td style=\"text-align: right;\">0.382877</td><td style=\"text-align: right;\">0.30881 </td><td style=\"text-align: right;\">0.308313</td><td style=\"text-align: right;\">0.380951</td><td style=\"text-align: right;\">0.307916</td><td style=\"text-align: right;\">0.311133</td><td style=\"text-align: right;\">0.38732 </td><td style=\"text-align: right;\">0.304755</td><td style=\"text-align: right;\">0.307924</td><td style=\"text-align: right;\">0.393631</td><td style=\"text-align: right;\">0.301637</td><td style=\"text-align: right;\">0.304732</td><td style=\"text-align: right;\">0.393305</td><td style=\"text-align: right;\">0.302303</td><td style=\"text-align: right;\">0.304392</td><td style=\"text-align: right;\">0.39953 </td><td style=\"text-align: right;\">0.299204</td><td style=\"text-align: right;\">0.301266</td><td style=\"text-align: right;\">0.405719</td><td style=\"text-align: right;\">0.296125</td><td style=\"text-align: right;\">0.298157</td><td style=\"text-align: right;\">0.411283</td><td style=\"text-align: right;\">0.294169</td><td style=\"text-align: right;\">0.294548</td><td style=\"text-align: right;\">0.413697</td><td style=\"text-align: right;\">0.294153</td><td style=\"text-align: right;\">0.29215 </td><td style=\"text-align: right;\">0.419771</td><td style=\"text-align: right;\">0.291105</td><td style=\"text-align: right;\">0.289123</td><td style=\"text-align: right;\">0.421713</td><td style=\"text-align: right;\">0.289844</td><td style=\"text-align: right;\">0.288443</td><td style=\"text-align: right;\">0.427775</td><td style=\"text-align: right;\">0.286809</td><td style=\"text-align: right;\">0.285416</td><td style=\"text-align: right;\">0.433853</td><td style=\"text-align: right;\">0.283774</td><td style=\"text-align: right;\">0.282373</td><td style=\"text-align: right;\">0.439908</td><td style=\"text-align: right;\">0.280741</td><td style=\"text-align: right;\">0.279351</td><td style=\"text-align: right;\">0.445845</td><td style=\"text-align: right;\">0.277769</td><td style=\"text-align: right;\">0.276386</td><td style=\"text-align: right;\">0.449247</td><td style=\"text-align: right;\">0.278905</td><td style=\"text-align: right;\">0.271848</td><td style=\"text-align: right;\">0.45513 </td><td style=\"text-align: right;\">0.275924</td><td style=\"text-align: right;\">0.268947</td><td style=\"text-align: right;\">0.460962</td><td style=\"text-align: right;\">0.272971</td><td style=\"text-align: right;\">0.266067</td><td style=\"text-align: right;\">0.463416</td><td style=\"text-align: right;\">0.272338</td><td style=\"text-align: right;\">0.264246</td><td style=\"text-align: right;\">0.46806 </td><td style=\"text-align: right;\">0.270505</td><td style=\"text-align: right;\">0.261435</td><td style=\"text-align: right;\">0.47381 </td><td style=\"text-align: right;\">0.267566</td><td style=\"text-align: right;\">0.258624</td><td style=\"text-align: right;\">0.478633</td><td style=\"text-align: right;\">0.265122</td><td style=\"text-align: right;\">0.256245</td><td style=\"text-align: right;\">0.481633</td><td style=\"text-align: right;\">0.266363</td><td style=\"text-align: right;\">0.252004</td><td style=\"text-align: right;\">0.48729 </td><td style=\"text-align: right;\">0.263475</td><td style=\"text-align: right;\">0.249235</td><td style=\"text-align: right;\">0.492884</td><td style=\"text-align: right;\">0.260598</td><td style=\"text-align: right;\">0.246518</td><td style=\"text-align: right;\">0.492537</td><td style=\"text-align: right;\">0.25987 </td><td style=\"text-align: right;\">0.247593</td><td style=\"text-align: right;\">0.498082</td><td style=\"text-align: right;\">0.25703 </td><td style=\"text-align: right;\">0.244888</td><td style=\"text-align: right;\">0.503563</td><td style=\"text-align: right;\">0.254221</td><td style=\"text-align: right;\">0.242216</td><td style=\"text-align: right;\">0.508501</td><td style=\"text-align: right;\">0.251963</td><td style=\"text-align: right;\">0.239537</td><td style=\"text-align: right;\">0.513569</td><td style=\"text-align: right;\">0.24936 </td><td style=\"text-align: right;\">0.237071</td><td style=\"text-align: right;\">0.517151</td><td style=\"text-align: right;\">0.247536</td><td style=\"text-align: right;\">0.235313</td><td style=\"text-align: right;\">0.521976</td><td style=\"text-align: right;\">0.245544</td><td style=\"text-align: right;\">0.232481</td><td style=\"text-align: right;\">0.527244</td><td style=\"text-align: right;\">0.242835</td><td style=\"text-align: right;\">0.229922</td><td style=\"text-align: right;\">0.532501</td><td style=\"text-align: right;\">0.240125</td><td style=\"text-align: right;\">0.227375</td><td style=\"text-align: right;\">0.536468</td><td style=\"text-align: right;\">0.238608</td><td style=\"text-align: right;\">0.224924</td><td style=\"text-align: right;\">0.538301</td><td style=\"text-align: right;\">0.238811</td><td style=\"text-align: right;\">0.222888</td><td style=\"text-align: right;\">0.542557</td><td style=\"text-align: right;\">0.236761</td><td style=\"text-align: right;\">0.220682</td><td style=\"text-align: right;\">0.544714</td><td style=\"text-align: right;\">0.235724</td><td style=\"text-align: right;\">0.219562</td><td style=\"text-align: right;\">0.547534</td><td style=\"text-align: right;\">0.234054</td><td style=\"text-align: right;\">0.218412</td><td style=\"text-align: right;\">0.552623</td><td style=\"text-align: right;\">0.231408</td><td style=\"text-align: right;\">0.215969</td><td style=\"text-align: right;\">0.557431</td><td style=\"text-align: right;\">0.229133</td><td style=\"text-align: right;\">0.213436</td><td style=\"text-align: right;\">0.560766</td><td style=\"text-align: right;\">0.227427</td><td style=\"text-align: right;\">0.211806</td><td style=\"text-align: right;\">0.564989</td><td style=\"text-align: right;\">0.225547</td><td style=\"text-align: right;\">0.209464</td><td style=\"text-align: right;\">0.567563</td><td style=\"text-align: right;\">0.224921</td><td style=\"text-align: right;\">0.207517</td><td style=\"text-align: right;\">0.570045</td><td style=\"text-align: right;\">0.22569 </td><td style=\"text-align: right;\">0.204265</td><td style=\"text-align: right;\">0.574979</td><td style=\"text-align: right;\">0.223097</td><td style=\"text-align: right;\">0.201924</td><td style=\"text-align: right;\">0.579833</td><td style=\"text-align: right;\">0.22053 </td><td style=\"text-align: right;\">0.199637</td><td style=\"text-align: right;\">0.583754</td><td style=\"text-align: right;\">0.219234</td><td style=\"text-align: right;\">0.197012</td><td style=\"text-align: right;\">0.587935</td><td style=\"text-align: right;\">0.217265</td><td style=\"text-align: right;\">0.1948  </td><td style=\"text-align: right;\">0.592644</td><td style=\"text-align: right;\">0.214772</td><td style=\"text-align: right;\">0.192584</td><td style=\"text-align: right;\">0.597328</td><td style=\"text-align: right;\">0.212301</td><td style=\"text-align: right;\">0.19037 </td><td style=\"text-align: right;\">0.601826</td><td style=\"text-align: right;\">0.210091</td><td style=\"text-align: right;\">0.188083</td><td style=\"text-align: right;\">0.602627</td><td style=\"text-align: right;\">0.208605</td><td style=\"text-align: right;\">0.188768</td><td style=\"text-align: right;\">0.607239</td><td style=\"text-align: right;\">0.206183</td><td style=\"text-align: right;\">0.186578</td><td style=\"text-align: right;\">0.610842</td><td style=\"text-align: right;\">0.204293</td><td style=\"text-align: right;\">0.184865</td><td style=\"text-align: right;\">0.615034</td><td style=\"text-align: right;\">0.20233 </td><td style=\"text-align: right;\">0.182637</td><td style=\"text-align: right;\">0.619008</td><td style=\"text-align: right;\">0.200591</td><td style=\"text-align: right;\">0.1804  </td><td style=\"text-align: right;\">0.623436</td><td style=\"text-align: right;\">0.198244</td><td style=\"text-align: right;\">0.17832 </td><td style=\"text-align: right;\">0.627477</td><td style=\"text-align: right;\">0.196369</td><td style=\"text-align: right;\">0.176154</td><td style=\"text-align: right;\">0.628379</td><td style=\"text-align: right;\">0.19684 </td><td style=\"text-align: right;\">0.174781</td><td style=\"text-align: right;\">0.632433</td><td style=\"text-align: right;\">0.194908</td><td style=\"text-align: right;\">0.172659</td><td style=\"text-align: right;\">0.63185 </td><td style=\"text-align: right;\">0.196947</td><td style=\"text-align: right;\">0.171202</td><td style=\"text-align: right;\">0.635332</td><td style=\"text-align: right;\">0.195388</td><td style=\"text-align: right;\">0.169281</td><td style=\"text-align: right;\">0.639367</td><td style=\"text-align: right;\">0.193016</td><td style=\"text-align: right;\">0.167617</td><td style=\"text-align: right;\">0.643588</td><td style=\"text-align: right;\">0.190742</td><td style=\"text-align: right;\">0.16567 </td><td style=\"text-align: right;\">0.642864</td><td style=\"text-align: right;\">0.190358</td><td style=\"text-align: right;\">0.166778</td><td style=\"text-align: right;\">0.647085</td><td style=\"text-align: right;\">0.188094</td><td style=\"text-align: right;\">0.164821</td><td style=\"text-align: right;\">0.651031</td><td style=\"text-align: right;\">0.185803</td><td style=\"text-align: right;\">0.163166</td><td style=\"text-align: right;\">0.654841</td><td style=\"text-align: right;\">0.183976</td><td style=\"text-align: right;\">0.161183</td><td style=\"text-align: right;\">0.658754</td><td style=\"text-align: right;\">0.181724</td><td style=\"text-align: right;\">0.159522</td><td style=\"text-align: right;\">0.662808</td><td style=\"text-align: right;\">0.179556</td><td style=\"text-align: right;\">0.157636</td><td style=\"text-align: right;\">0.666803</td><td style=\"text-align: right;\">0.177415</td><td style=\"text-align: right;\">0.155782</td><td style=\"text-align: right;\">0.670769</td><td style=\"text-align: right;\">0.175264</td><td style=\"text-align: right;\">0.153967</td><td style=\"text-align: right;\">0.674708</td><td style=\"text-align: right;\">0.173181</td><td style=\"text-align: right;\">0.152111</td><td style=\"text-align: right;\">0.67808 </td><td style=\"text-align: right;\">0.17173 </td><td style=\"text-align: right;\">0.15019 </td><td style=\"text-align: right;\">0.681466</td><td style=\"text-align: right;\">0.170083</td><td style=\"text-align: right;\">0.148451</td><td style=\"text-align: right;\">0.681914</td><td style=\"text-align: right;\">0.170522</td><td style=\"text-align: right;\">0.147564</td><td style=\"text-align: right;\">0.685249</td><td style=\"text-align: right;\">0.169048</td><td style=\"text-align: right;\">0.145702</td><td style=\"text-align: right;\">0.687865</td><td style=\"text-align: right;\">0.168061</td><td style=\"text-align: right;\">0.144073</td><td style=\"text-align: right;\">0.691633</td><td style=\"text-align: right;\">0.166015</td><td style=\"text-align: right;\">0.142352</td><td style=\"text-align: right;\">0.695146</td><td style=\"text-align: right;\">0.163924</td><td style=\"text-align: right;\">0.14093 </td><td style=\"text-align: right;\">0.695926</td><td style=\"text-align: right;\">0.164583</td><td style=\"text-align: right;\">0.139492</td><td style=\"text-align: right;\">0.699598</td><td style=\"text-align: right;\">0.162592</td><td style=\"text-align: right;\">0.13781 </td><td style=\"text-align: right;\">0.702349</td><td style=\"text-align: right;\">0.161392</td><td style=\"text-align: right;\">0.136259</td><td style=\"text-align: right;\">0.705967</td><td style=\"text-align: right;\">0.159422</td><td style=\"text-align: right;\">0.134611</td><td style=\"text-align: right;\">0.70901 </td><td style=\"text-align: right;\">0.158092</td><td style=\"text-align: right;\">0.132898</td><td style=\"text-align: right;\">0.712551</td><td style=\"text-align: right;\">0.156177</td><td style=\"text-align: right;\">0.131272</td><td style=\"text-align: right;\">0.716025</td><td style=\"text-align: right;\">0.154279</td><td style=\"text-align: right;\">0.129696</td><td style=\"text-align: right;\">0.719489</td><td style=\"text-align: right;\">0.152386</td><td style=\"text-align: right;\">0.128125</td><td style=\"text-align: right;\">0.722913</td><td style=\"text-align: right;\">0.150517</td><td style=\"text-align: right;\">0.12657 </td><td style=\"text-align: right;\">0.726292</td><td style=\"text-align: right;\">0.148676</td><td style=\"text-align: right;\">0.125032</td><td style=\"text-align: right;\"> 0.729632</td><td style=\"text-align: right;\"> 0.146856</td><td style=\"text-align: right;\"> 0.123512</td></tr>\n",
       "<tr><td style=\"text-align: right;\">0.338688</td><td style=\"text-align: right;\">0.330436</td><td style=\"text-align: right;\">0.330877</td><td style=\"text-align: right;\">0.345165</td><td style=\"text-align: right;\">0.326893</td><td style=\"text-align: right;\">0.327942</td><td style=\"text-align: right;\">0.351615</td><td style=\"text-align: right;\">0.323349</td><td style=\"text-align: right;\">0.325036</td><td style=\"text-align: right;\">0.358238</td><td style=\"text-align: right;\">0.320051</td><td style=\"text-align: right;\">0.321711</td><td style=\"text-align: right;\">0.364822</td><td style=\"text-align: right;\">0.316775</td><td style=\"text-align: right;\">0.318403</td><td style=\"text-align: right;\">0.371071</td><td style=\"text-align: right;\">0.313236</td><td style=\"text-align: right;\">0.315693</td><td style=\"text-align: right;\">0.377594</td><td style=\"text-align: right;\">0.309994</td><td style=\"text-align: right;\">0.312412</td><td style=\"text-align: right;\">0.384084</td><td style=\"text-align: right;\">0.30677 </td><td style=\"text-align: right;\">0.309146</td><td style=\"text-align: right;\">0.388866</td><td style=\"text-align: right;\">0.305197</td><td style=\"text-align: right;\">0.305937</td><td style=\"text-align: right;\">0.393062</td><td style=\"text-align: right;\">0.30219 </td><td style=\"text-align: right;\">0.304748</td><td style=\"text-align: right;\">0.399503</td><td style=\"text-align: right;\">0.29899 </td><td style=\"text-align: right;\">0.301507</td><td style=\"text-align: right;\">0.405865</td><td style=\"text-align: right;\">0.295824</td><td style=\"text-align: right;\">0.298311</td><td style=\"text-align: right;\">0.411221</td><td style=\"text-align: right;\">0.293602</td><td style=\"text-align: right;\">0.295177</td><td style=\"text-align: right;\">0.417535</td><td style=\"text-align: right;\">0.290456</td><td style=\"text-align: right;\">0.292009</td><td style=\"text-align: right;\">0.423805</td><td style=\"text-align: right;\">0.287333</td><td style=\"text-align: right;\">0.288862</td><td style=\"text-align: right;\">0.429421</td><td style=\"text-align: right;\">0.285305</td><td style=\"text-align: right;\">0.285274</td><td style=\"text-align: right;\">0.433954</td><td style=\"text-align: right;\">0.282745</td><td style=\"text-align: right;\">0.283301</td><td style=\"text-align: right;\">0.440103</td><td style=\"text-align: right;\">0.279674</td><td style=\"text-align: right;\">0.280224</td><td style=\"text-align: right;\">0.440816</td><td style=\"text-align: right;\">0.277688</td><td style=\"text-align: right;\">0.281497</td><td style=\"text-align: right;\">0.446941</td><td style=\"text-align: right;\">0.274649</td><td style=\"text-align: right;\">0.27841 </td><td style=\"text-align: right;\">0.450824</td><td style=\"text-align: right;\">0.271775</td><td style=\"text-align: right;\">0.277401</td><td style=\"text-align: right;\">0.456924</td><td style=\"text-align: right;\">0.268758</td><td style=\"text-align: right;\">0.274318</td><td style=\"text-align: right;\">0.462901</td><td style=\"text-align: right;\">0.265803</td><td style=\"text-align: right;\">0.271295</td><td style=\"text-align: right;\">0.468458</td><td style=\"text-align: right;\">0.263485</td><td style=\"text-align: right;\">0.268057</td><td style=\"text-align: right;\">0.474376</td><td style=\"text-align: right;\">0.26055 </td><td style=\"text-align: right;\">0.265075</td><td style=\"text-align: right;\">0.480237</td><td style=\"text-align: right;\">0.257645</td><td style=\"text-align: right;\">0.262118</td><td style=\"text-align: right;\">0.482485</td><td style=\"text-align: right;\">0.255833</td><td style=\"text-align: right;\">0.261682</td><td style=\"text-align: right;\">0.48716 </td><td style=\"text-align: right;\">0.254026</td><td style=\"text-align: right;\">0.258814</td><td style=\"text-align: right;\">0.492926</td><td style=\"text-align: right;\">0.251156</td><td style=\"text-align: right;\">0.255918</td><td style=\"text-align: right;\">0.495818</td><td style=\"text-align: right;\">0.24862 </td><td style=\"text-align: right;\">0.255562</td><td style=\"text-align: right;\">0.501476</td><td style=\"text-align: right;\">0.245836</td><td style=\"text-align: right;\">0.252689</td><td style=\"text-align: right;\">0.507138</td><td style=\"text-align: right;\">0.243062</td><td style=\"text-align: right;\">0.2498  </td><td style=\"text-align: right;\">0.512732</td><td style=\"text-align: right;\">0.240301</td><td style=\"text-align: right;\">0.246967</td><td style=\"text-align: right;\">0.517889</td><td style=\"text-align: right;\">0.238127</td><td style=\"text-align: right;\">0.243984</td><td style=\"text-align: right;\">0.523424</td><td style=\"text-align: right;\">0.235393</td><td style=\"text-align: right;\">0.241183</td><td style=\"text-align: right;\">0.52889 </td><td style=\"text-align: right;\">0.232691</td><td style=\"text-align: right;\">0.238419</td><td style=\"text-align: right;\">0.533787</td><td style=\"text-align: right;\">0.230499</td><td style=\"text-align: right;\">0.235714</td><td style=\"text-align: right;\">0.539128</td><td style=\"text-align: right;\">0.227854</td><td style=\"text-align: right;\">0.233018</td><td style=\"text-align: right;\">0.543193</td><td style=\"text-align: right;\">0.225438</td><td style=\"text-align: right;\">0.231369</td><td style=\"text-align: right;\">0.548004</td><td style=\"text-align: right;\">0.223519</td><td style=\"text-align: right;\">0.228477</td><td style=\"text-align: right;\">0.553231</td><td style=\"text-align: right;\">0.220932</td><td style=\"text-align: right;\">0.225838</td><td style=\"text-align: right;\">0.55844 </td><td style=\"text-align: right;\">0.218346</td><td style=\"text-align: right;\">0.223213</td><td style=\"text-align: right;\">0.56244 </td><td style=\"text-align: right;\">0.216905</td><td style=\"text-align: right;\">0.220655</td><td style=\"text-align: right;\">0.563656</td><td style=\"text-align: right;\">0.216292</td><td style=\"text-align: right;\">0.220051</td><td style=\"text-align: right;\">0.567874</td><td style=\"text-align: right;\">0.214345</td><td style=\"text-align: right;\">0.217781</td><td style=\"text-align: right;\">0.571878</td><td style=\"text-align: right;\">0.21193 </td><td style=\"text-align: right;\">0.216192</td><td style=\"text-align: right;\">0.575952</td><td style=\"text-align: right;\">0.209624</td><td style=\"text-align: right;\">0.214424</td><td style=\"text-align: right;\">0.580964</td><td style=\"text-align: right;\">0.207133</td><td style=\"text-align: right;\">0.211902</td><td style=\"text-align: right;\">0.585707</td><td style=\"text-align: right;\">0.204988</td><td style=\"text-align: right;\">0.209305</td><td style=\"text-align: right;\">0.587528</td><td style=\"text-align: right;\">0.202958</td><td style=\"text-align: right;\">0.209514</td><td style=\"text-align: right;\">0.591699</td><td style=\"text-align: right;\">0.201194</td><td style=\"text-align: right;\">0.207107</td><td style=\"text-align: right;\">0.593663</td><td style=\"text-align: right;\">0.200087</td><td style=\"text-align: right;\">0.20625 </td><td style=\"text-align: right;\">0.598218</td><td style=\"text-align: right;\">0.198063</td><td style=\"text-align: right;\">0.203719</td><td style=\"text-align: right;\">0.603054</td><td style=\"text-align: right;\">0.195676</td><td style=\"text-align: right;\">0.20127 </td><td style=\"text-align: right;\">0.607805</td><td style=\"text-align: right;\">0.193317</td><td style=\"text-align: right;\">0.198878</td><td style=\"text-align: right;\">0.611692</td><td style=\"text-align: right;\">0.192111</td><td style=\"text-align: right;\">0.196197</td><td style=\"text-align: right;\">0.615794</td><td style=\"text-align: right;\">0.1903  </td><td style=\"text-align: right;\">0.193906</td><td style=\"text-align: right;\">0.62039 </td><td style=\"text-align: right;\">0.188014</td><td style=\"text-align: right;\">0.191596</td><td style=\"text-align: right;\">0.624957</td><td style=\"text-align: right;\">0.185751</td><td style=\"text-align: right;\">0.189292</td><td style=\"text-align: right;\">0.629317</td><td style=\"text-align: right;\">0.183716</td><td style=\"text-align: right;\">0.186967</td><td style=\"text-align: right;\">0.632704</td><td style=\"text-align: right;\">0.18169 </td><td style=\"text-align: right;\">0.185605</td><td style=\"text-align: right;\">0.637177</td><td style=\"text-align: right;\">0.179477</td><td style=\"text-align: right;\">0.183346</td><td style=\"text-align: right;\">0.640058</td><td style=\"text-align: right;\">0.177482</td><td style=\"text-align: right;\">0.182459</td><td style=\"text-align: right;\">0.644137</td><td style=\"text-align: right;\">0.175691</td><td style=\"text-align: right;\">0.180172</td><td style=\"text-align: right;\">0.64801 </td><td style=\"text-align: right;\">0.174103</td><td style=\"text-align: right;\">0.177887</td><td style=\"text-align: right;\">0.652289</td><td style=\"text-align: right;\">0.171972</td><td style=\"text-align: right;\">0.175739</td><td style=\"text-align: right;\">0.65621 </td><td style=\"text-align: right;\">0.170266</td><td style=\"text-align: right;\">0.173524</td><td style=\"text-align: right;\">0.658745</td><td style=\"text-align: right;\">0.168674</td><td style=\"text-align: right;\">0.172581</td><td style=\"text-align: right;\">0.662664</td><td style=\"text-align: right;\">0.166935</td><td style=\"text-align: right;\">0.170401</td><td style=\"text-align: right;\">0.663529</td><td style=\"text-align: right;\">0.165935</td><td style=\"text-align: right;\">0.170535</td><td style=\"text-align: right;\">0.6669  </td><td style=\"text-align: right;\">0.164551</td><td style=\"text-align: right;\">0.168549</td><td style=\"text-align: right;\">0.670746</td><td style=\"text-align: right;\">0.162459</td><td style=\"text-align: right;\">0.166795</td><td style=\"text-align: right;\">0.674817</td><td style=\"text-align: right;\">0.16046 </td><td style=\"text-align: right;\">0.164723</td><td style=\"text-align: right;\">0.676827</td><td style=\"text-align: right;\">0.159327</td><td style=\"text-align: right;\">0.163846</td><td style=\"text-align: right;\">0.680845</td><td style=\"text-align: right;\">0.157334</td><td style=\"text-align: right;\">0.161822</td><td style=\"text-align: right;\">0.684579</td><td style=\"text-align: right;\">0.155322</td><td style=\"text-align: right;\">0.1601  </td><td style=\"text-align: right;\">0.688218</td><td style=\"text-align: right;\">0.153713</td><td style=\"text-align: right;\">0.158069</td><td style=\"text-align: right;\">0.691914</td><td style=\"text-align: right;\">0.15174 </td><td style=\"text-align: right;\">0.156346</td><td style=\"text-align: right;\">0.695755</td><td style=\"text-align: right;\">0.14984 </td><td style=\"text-align: right;\">0.154405</td><td style=\"text-align: right;\">0.699535</td><td style=\"text-align: right;\">0.147966</td><td style=\"text-align: right;\">0.152499</td><td style=\"text-align: right;\">0.703281</td><td style=\"text-align: right;\">0.146086</td><td style=\"text-align: right;\">0.150633</td><td style=\"text-align: right;\">0.70697 </td><td style=\"text-align: right;\">0.144259</td><td style=\"text-align: right;\">0.148771</td><td style=\"text-align: right;\">0.710186</td><td style=\"text-align: right;\">0.142986</td><td style=\"text-align: right;\">0.146828</td><td style=\"text-align: right;\">0.713393</td><td style=\"text-align: right;\">0.141548</td><td style=\"text-align: right;\">0.145059</td><td style=\"text-align: right;\">0.715757</td><td style=\"text-align: right;\">0.140514</td><td style=\"text-align: right;\">0.143729</td><td style=\"text-align: right;\">0.718918</td><td style=\"text-align: right;\">0.139234</td><td style=\"text-align: right;\">0.141848</td><td style=\"text-align: right;\">0.721413</td><td style=\"text-align: right;\">0.138373</td><td style=\"text-align: right;\">0.140214</td><td style=\"text-align: right;\">0.724936</td><td style=\"text-align: right;\">0.136608</td><td style=\"text-align: right;\">0.138457</td><td style=\"text-align: right;\">0.728196</td><td style=\"text-align: right;\">0.134809</td><td style=\"text-align: right;\">0.136994</td><td style=\"text-align: right;\">0.730819</td><td style=\"text-align: right;\">0.133495</td><td style=\"text-align: right;\">0.135686</td><td style=\"text-align: right;\">0.734231</td><td style=\"text-align: right;\">0.131801</td><td style=\"text-align: right;\">0.133968</td><td style=\"text-align: right;\">0.736818</td><td style=\"text-align: right;\">0.130775</td><td style=\"text-align: right;\">0.132407</td><td style=\"text-align: right;\">0.740171</td><td style=\"text-align: right;\">0.129101</td><td style=\"text-align: right;\">0.130728</td><td style=\"text-align: right;\">0.743028</td><td style=\"text-align: right;\">0.127967</td><td style=\"text-align: right;\">0.129006</td><td style=\"text-align: right;\">0.746303</td><td style=\"text-align: right;\">0.126343</td><td style=\"text-align: right;\">0.127354</td><td style=\"text-align: right;\">0.749512</td><td style=\"text-align: right;\">0.124736</td><td style=\"text-align: right;\">0.125752</td><td style=\"text-align: right;\">0.752707</td><td style=\"text-align: right;\">0.123135</td><td style=\"text-align: right;\">0.124158</td><td style=\"text-align: right;\">0.755862</td><td style=\"text-align: right;\">0.121556</td><td style=\"text-align: right;\">0.122581</td><td style=\"text-align: right;\">0.758973</td><td style=\"text-align: right;\">0.120003</td><td style=\"text-align: right;\">0.121024</td><td style=\"text-align: right;\"> 0.762044</td><td style=\"text-align: right;\"> 0.118468</td><td style=\"text-align: right;\"> 0.119488</td></tr>\n",
       "<tr><td style=\"text-align: right;\">0.338688</td><td style=\"text-align: right;\">0.330436</td><td style=\"text-align: right;\">0.330877</td><td style=\"text-align: right;\">0.345165</td><td style=\"text-align: right;\">0.326893</td><td style=\"text-align: right;\">0.327942</td><td style=\"text-align: right;\">0.351615</td><td style=\"text-align: right;\">0.323349</td><td style=\"text-align: right;\">0.325036</td><td style=\"text-align: right;\">0.358238</td><td style=\"text-align: right;\">0.320051</td><td style=\"text-align: right;\">0.321711</td><td style=\"text-align: right;\">0.364822</td><td style=\"text-align: right;\">0.316775</td><td style=\"text-align: right;\">0.318403</td><td style=\"text-align: right;\">0.371071</td><td style=\"text-align: right;\">0.313236</td><td style=\"text-align: right;\">0.315693</td><td style=\"text-align: right;\">0.377594</td><td style=\"text-align: right;\">0.309994</td><td style=\"text-align: right;\">0.312412</td><td style=\"text-align: right;\">0.384084</td><td style=\"text-align: right;\">0.30677 </td><td style=\"text-align: right;\">0.309146</td><td style=\"text-align: right;\">0.388866</td><td style=\"text-align: right;\">0.305197</td><td style=\"text-align: right;\">0.305937</td><td style=\"text-align: right;\">0.393062</td><td style=\"text-align: right;\">0.30219 </td><td style=\"text-align: right;\">0.304748</td><td style=\"text-align: right;\">0.399503</td><td style=\"text-align: right;\">0.29899 </td><td style=\"text-align: right;\">0.301507</td><td style=\"text-align: right;\">0.405865</td><td style=\"text-align: right;\">0.295824</td><td style=\"text-align: right;\">0.298311</td><td style=\"text-align: right;\">0.411221</td><td style=\"text-align: right;\">0.293602</td><td style=\"text-align: right;\">0.295177</td><td style=\"text-align: right;\">0.417535</td><td style=\"text-align: right;\">0.290456</td><td style=\"text-align: right;\">0.292009</td><td style=\"text-align: right;\">0.423805</td><td style=\"text-align: right;\">0.287333</td><td style=\"text-align: right;\">0.288862</td><td style=\"text-align: right;\">0.429421</td><td style=\"text-align: right;\">0.285305</td><td style=\"text-align: right;\">0.285274</td><td style=\"text-align: right;\">0.433954</td><td style=\"text-align: right;\">0.282745</td><td style=\"text-align: right;\">0.283301</td><td style=\"text-align: right;\">0.440103</td><td style=\"text-align: right;\">0.279674</td><td style=\"text-align: right;\">0.280224</td><td style=\"text-align: right;\">0.440816</td><td style=\"text-align: right;\">0.277688</td><td style=\"text-align: right;\">0.281497</td><td style=\"text-align: right;\">0.446941</td><td style=\"text-align: right;\">0.274649</td><td style=\"text-align: right;\">0.27841 </td><td style=\"text-align: right;\">0.45083 </td><td style=\"text-align: right;\">0.271766</td><td style=\"text-align: right;\">0.277405</td><td style=\"text-align: right;\">0.45693 </td><td style=\"text-align: right;\">0.268749</td><td style=\"text-align: right;\">0.274321</td><td style=\"text-align: right;\">0.462907</td><td style=\"text-align: right;\">0.265794</td><td style=\"text-align: right;\">0.271299</td><td style=\"text-align: right;\">0.468464</td><td style=\"text-align: right;\">0.263476</td><td style=\"text-align: right;\">0.26806 </td><td style=\"text-align: right;\">0.474382</td><td style=\"text-align: right;\">0.26054 </td><td style=\"text-align: right;\">0.265078</td><td style=\"text-align: right;\">0.480243</td><td style=\"text-align: right;\">0.257636</td><td style=\"text-align: right;\">0.262121</td><td style=\"text-align: right;\">0.482491</td><td style=\"text-align: right;\">0.255824</td><td style=\"text-align: right;\">0.261685</td><td style=\"text-align: right;\">0.487166</td><td style=\"text-align: right;\">0.254017</td><td style=\"text-align: right;\">0.258817</td><td style=\"text-align: right;\">0.492915</td><td style=\"text-align: right;\">0.251175</td><td style=\"text-align: right;\">0.25591 </td><td style=\"text-align: right;\">0.495807</td><td style=\"text-align: right;\">0.248638</td><td style=\"text-align: right;\">0.255555</td><td style=\"text-align: right;\">0.501464</td><td style=\"text-align: right;\">0.245854</td><td style=\"text-align: right;\">0.252681</td><td style=\"text-align: right;\">0.507127</td><td style=\"text-align: right;\">0.24308 </td><td style=\"text-align: right;\">0.249792</td><td style=\"text-align: right;\">0.512721</td><td style=\"text-align: right;\">0.240319</td><td style=\"text-align: right;\">0.24696 </td><td style=\"text-align: right;\">0.517877</td><td style=\"text-align: right;\">0.238145</td><td style=\"text-align: right;\">0.243977</td><td style=\"text-align: right;\">0.521021</td><td style=\"text-align: right;\">0.238905</td><td style=\"text-align: right;\">0.240074</td><td style=\"text-align: right;\">0.52649 </td><td style=\"text-align: right;\">0.236175</td><td style=\"text-align: right;\">0.237335</td><td style=\"text-align: right;\">0.531387</td><td style=\"text-align: right;\">0.23396 </td><td style=\"text-align: right;\">0.234652</td><td style=\"text-align: right;\">0.536732</td><td style=\"text-align: right;\">0.231287</td><td style=\"text-align: right;\">0.231981</td><td style=\"text-align: right;\">0.540804</td><td style=\"text-align: right;\">0.228846</td><td style=\"text-align: right;\">0.23035 </td><td style=\"text-align: right;\">0.545615</td><td style=\"text-align: right;\">0.226906</td><td style=\"text-align: right;\">0.227479</td><td style=\"text-align: right;\">0.550846</td><td style=\"text-align: right;\">0.224291</td><td style=\"text-align: right;\">0.224863</td><td style=\"text-align: right;\">0.556061</td><td style=\"text-align: right;\">0.221678</td><td style=\"text-align: right;\">0.222261</td><td style=\"text-align: right;\">0.56001 </td><td style=\"text-align: right;\">0.2202  </td><td style=\"text-align: right;\">0.21979 </td><td style=\"text-align: right;\">0.561228</td><td style=\"text-align: right;\">0.219582</td><td style=\"text-align: right;\">0.21919 </td><td style=\"text-align: right;\">0.565449</td><td style=\"text-align: right;\">0.217614</td><td style=\"text-align: right;\">0.216937</td><td style=\"text-align: right;\">0.569463</td><td style=\"text-align: right;\">0.215171</td><td style=\"text-align: right;\">0.215365</td><td style=\"text-align: right;\">0.573546</td><td style=\"text-align: right;\">0.21284 </td><td style=\"text-align: right;\">0.213614</td><td style=\"text-align: right;\">0.578567</td><td style=\"text-align: right;\">0.210322</td><td style=\"text-align: right;\">0.211112</td><td style=\"text-align: right;\">0.581244</td><td style=\"text-align: right;\">0.210963</td><td style=\"text-align: right;\">0.207793</td><td style=\"text-align: right;\">0.583094</td><td style=\"text-align: right;\">0.20889 </td><td style=\"text-align: right;\">0.208015</td><td style=\"text-align: right;\">0.587272</td><td style=\"text-align: right;\">0.207088</td><td style=\"text-align: right;\">0.20564 </td><td style=\"text-align: right;\">0.589246</td><td style=\"text-align: right;\">0.205957</td><td style=\"text-align: right;\">0.204797</td><td style=\"text-align: right;\">0.593812</td><td style=\"text-align: right;\">0.203889</td><td style=\"text-align: right;\">0.202299</td><td style=\"text-align: right;\">0.598665</td><td style=\"text-align: right;\">0.20145 </td><td style=\"text-align: right;\">0.199885</td><td style=\"text-align: right;\">0.60306 </td><td style=\"text-align: right;\">0.198915</td><td style=\"text-align: right;\">0.198025</td><td style=\"text-align: right;\">0.606949</td><td style=\"text-align: right;\">0.197685</td><td style=\"text-align: right;\">0.195366</td><td style=\"text-align: right;\">0.611065</td><td style=\"text-align: right;\">0.195836</td><td style=\"text-align: right;\">0.193099</td><td style=\"text-align: right;\">0.615682</td><td style=\"text-align: right;\">0.193501</td><td style=\"text-align: right;\">0.190817</td><td style=\"text-align: right;\">0.620271</td><td style=\"text-align: right;\">0.191189</td><td style=\"text-align: right;\">0.188539</td><td style=\"text-align: right;\">0.62465 </td><td style=\"text-align: right;\">0.189111</td><td style=\"text-align: right;\">0.186239</td><td style=\"text-align: right;\">0.628063</td><td style=\"text-align: right;\">0.187041</td><td style=\"text-align: right;\">0.184897</td><td style=\"text-align: right;\">0.632559</td><td style=\"text-align: right;\">0.184778</td><td style=\"text-align: right;\">0.182662</td><td style=\"text-align: right;\">0.635468</td><td style=\"text-align: right;\">0.182739</td><td style=\"text-align: right;\">0.181793</td><td style=\"text-align: right;\">0.639565</td><td style=\"text-align: right;\">0.180908</td><td style=\"text-align: right;\">0.179528</td><td style=\"text-align: right;\">0.643453</td><td style=\"text-align: right;\">0.179285</td><td style=\"text-align: right;\">0.177262</td><td style=\"text-align: right;\">0.647411</td><td style=\"text-align: right;\">0.177011</td><td style=\"text-align: right;\">0.175579</td><td style=\"text-align: right;\">0.651353</td><td style=\"text-align: right;\">0.175268</td><td style=\"text-align: right;\">0.173379</td><td style=\"text-align: right;\">0.653912</td><td style=\"text-align: right;\">0.17364 </td><td style=\"text-align: right;\">0.172448</td><td style=\"text-align: right;\">0.657854</td><td style=\"text-align: right;\">0.171864</td><td style=\"text-align: right;\">0.170283</td><td style=\"text-align: right;\">0.658736</td><td style=\"text-align: right;\">0.170841</td><td style=\"text-align: right;\">0.170423</td><td style=\"text-align: right;\">0.662125</td><td style=\"text-align: right;\">0.169426</td><td style=\"text-align: right;\">0.168449</td><td style=\"text-align: right;\">0.666002</td><td style=\"text-align: right;\">0.167288</td><td style=\"text-align: right;\">0.166711</td><td style=\"text-align: right;\">0.670071</td><td style=\"text-align: right;\">0.165236</td><td style=\"text-align: right;\">0.164694</td><td style=\"text-align: right;\">0.672099</td><td style=\"text-align: right;\">0.164076</td><td style=\"text-align: right;\">0.163824</td><td style=\"text-align: right;\">0.676148</td><td style=\"text-align: right;\">0.162038</td><td style=\"text-align: right;\">0.161815</td><td style=\"text-align: right;\">0.679914</td><td style=\"text-align: right;\">0.159979</td><td style=\"text-align: right;\">0.160106</td><td style=\"text-align: right;\">0.683578</td><td style=\"text-align: right;\">0.158334</td><td style=\"text-align: right;\">0.158088</td><td style=\"text-align: right;\">0.687308</td><td style=\"text-align: right;\">0.156315</td><td style=\"text-align: right;\">0.156377</td><td style=\"text-align: right;\">0.69118 </td><td style=\"text-align: right;\">0.154371</td><td style=\"text-align: right;\">0.154449</td><td style=\"text-align: right;\">0.694993</td><td style=\"text-align: right;\">0.152452</td><td style=\"text-align: right;\">0.152555</td><td style=\"text-align: right;\">0.698498</td><td style=\"text-align: right;\">0.150469</td><td style=\"text-align: right;\">0.151033</td><td style=\"text-align: right;\">0.702221</td><td style=\"text-align: right;\">0.1486  </td><td style=\"text-align: right;\">0.149179</td><td style=\"text-align: right;\">0.705462</td><td style=\"text-align: right;\">0.147298</td><td style=\"text-align: right;\">0.14724 </td><td style=\"text-align: right;\">0.708697</td><td style=\"text-align: right;\">0.145827</td><td style=\"text-align: right;\">0.145476</td><td style=\"text-align: right;\">0.711082</td><td style=\"text-align: right;\">0.144769</td><td style=\"text-align: right;\">0.14415 </td><td style=\"text-align: right;\">0.714301</td><td style=\"text-align: right;\">0.143466</td><td style=\"text-align: right;\">0.142233</td><td style=\"text-align: right;\">0.716814</td><td style=\"text-align: right;\">0.142586</td><td style=\"text-align: right;\">0.140601</td><td style=\"text-align: right;\">0.720372</td><td style=\"text-align: right;\">0.140778</td><td style=\"text-align: right;\">0.13885 </td><td style=\"text-align: right;\">0.72367 </td><td style=\"text-align: right;\">0.138935</td><td style=\"text-align: right;\">0.137395</td><td style=\"text-align: right;\">0.72632 </td><td style=\"text-align: right;\">0.13759 </td><td style=\"text-align: right;\">0.13609 </td><td style=\"text-align: right;\">0.729768</td><td style=\"text-align: right;\">0.135854</td><td style=\"text-align: right;\">0.134378</td><td style=\"text-align: right;\">0.732377</td><td style=\"text-align: right;\">0.134804</td><td style=\"text-align: right;\">0.132819</td><td style=\"text-align: right;\">0.735767</td><td style=\"text-align: right;\">0.133088</td><td style=\"text-align: right;\">0.131145</td><td style=\"text-align: right;\">0.738649</td><td style=\"text-align: right;\">0.131926</td><td style=\"text-align: right;\">0.129425</td><td style=\"text-align: right;\">0.741961</td><td style=\"text-align: right;\">0.130262</td><td style=\"text-align: right;\">0.127777</td><td style=\"text-align: right;\">0.745206</td><td style=\"text-align: right;\">0.128615</td><td style=\"text-align: right;\">0.12618 </td><td style=\"text-align: right;\">0.748438</td><td style=\"text-align: right;\">0.126974</td><td style=\"text-align: right;\">0.124589</td><td style=\"text-align: right;\">0.75163 </td><td style=\"text-align: right;\">0.125355</td><td style=\"text-align: right;\">0.123016</td><td style=\"text-align: right;\">0.754777</td><td style=\"text-align: right;\">0.123761</td><td style=\"text-align: right;\">0.121462</td><td style=\"text-align: right;\"> 0.757939</td><td style=\"text-align: right;\"> 0.122196</td><td style=\"text-align: right;\"> 0.119864</td></tr>\n",
       "<tr><td style=\"text-align: right;\">0.338688</td><td style=\"text-align: right;\">0.330436</td><td style=\"text-align: right;\">0.330877</td><td style=\"text-align: right;\">0.345165</td><td style=\"text-align: right;\">0.326893</td><td style=\"text-align: right;\">0.327942</td><td style=\"text-align: right;\">0.351615</td><td style=\"text-align: right;\">0.323349</td><td style=\"text-align: right;\">0.325036</td><td style=\"text-align: right;\">0.358238</td><td style=\"text-align: right;\">0.320051</td><td style=\"text-align: right;\">0.321711</td><td style=\"text-align: right;\">0.364822</td><td style=\"text-align: right;\">0.316775</td><td style=\"text-align: right;\">0.318403</td><td style=\"text-align: right;\">0.371071</td><td style=\"text-align: right;\">0.313236</td><td style=\"text-align: right;\">0.315693</td><td style=\"text-align: right;\">0.377594</td><td style=\"text-align: right;\">0.309994</td><td style=\"text-align: right;\">0.312412</td><td style=\"text-align: right;\">0.384084</td><td style=\"text-align: right;\">0.30677 </td><td style=\"text-align: right;\">0.309146</td><td style=\"text-align: right;\">0.38254 </td><td style=\"text-align: right;\">0.310475</td><td style=\"text-align: right;\">0.306985</td><td style=\"text-align: right;\">0.386715</td><td style=\"text-align: right;\">0.307455</td><td style=\"text-align: right;\">0.30583 </td><td style=\"text-align: right;\">0.39312 </td><td style=\"text-align: right;\">0.304252</td><td style=\"text-align: right;\">0.302629</td><td style=\"text-align: right;\">0.399447</td><td style=\"text-align: right;\">0.301081</td><td style=\"text-align: right;\">0.299472</td><td style=\"text-align: right;\">0.404774</td><td style=\"text-align: right;\">0.29886 </td><td style=\"text-align: right;\">0.296366</td><td style=\"text-align: right;\">0.411058</td><td style=\"text-align: right;\">0.295707</td><td style=\"text-align: right;\">0.293235</td><td style=\"text-align: right;\">0.417313</td><td style=\"text-align: right;\">0.292586</td><td style=\"text-align: right;\">0.290101</td><td style=\"text-align: right;\">0.422902</td><td style=\"text-align: right;\">0.290561</td><td style=\"text-align: right;\">0.286538</td><td style=\"text-align: right;\">0.427419</td><td style=\"text-align: right;\">0.28799 </td><td style=\"text-align: right;\">0.284591</td><td style=\"text-align: right;\">0.433546</td><td style=\"text-align: right;\">0.284908</td><td style=\"text-align: right;\">0.281546</td><td style=\"text-align: right;\">0.434267</td><td style=\"text-align: right;\">0.282896</td><td style=\"text-align: right;\">0.282837</td><td style=\"text-align: right;\">0.440373</td><td style=\"text-align: right;\">0.279846</td><td style=\"text-align: right;\">0.279781</td><td style=\"text-align: right;\">0.444256</td><td style=\"text-align: right;\">0.27694 </td><td style=\"text-align: right;\">0.278803</td><td style=\"text-align: right;\">0.450341</td><td style=\"text-align: right;\">0.273911</td><td style=\"text-align: right;\">0.275749</td><td style=\"text-align: right;\">0.456304</td><td style=\"text-align: right;\">0.270942</td><td style=\"text-align: right;\">0.272754</td><td style=\"text-align: right;\">0.461847</td><td style=\"text-align: right;\">0.268617</td><td style=\"text-align: right;\">0.269536</td><td style=\"text-align: right;\">0.467754</td><td style=\"text-align: right;\">0.265666</td><td style=\"text-align: right;\">0.266579</td><td style=\"text-align: right;\">0.473607</td><td style=\"text-align: right;\">0.262745</td><td style=\"text-align: right;\">0.263647</td><td style=\"text-align: right;\">0.475858</td><td style=\"text-align: right;\">0.260915</td><td style=\"text-align: right;\">0.263227</td><td style=\"text-align: right;\">0.474669</td><td style=\"text-align: right;\">0.263469</td><td style=\"text-align: right;\">0.261862</td><td style=\"text-align: right;\">0.480408</td><td style=\"text-align: right;\">0.260596</td><td style=\"text-align: right;\">0.258996</td><td style=\"text-align: right;\">0.48331 </td><td style=\"text-align: right;\">0.258009</td><td style=\"text-align: right;\">0.258681</td><td style=\"text-align: right;\">0.488963</td><td style=\"text-align: right;\">0.255192</td><td style=\"text-align: right;\">0.255845</td><td style=\"text-align: right;\">0.494625</td><td style=\"text-align: right;\">0.252384</td><td style=\"text-align: right;\">0.252991</td><td style=\"text-align: right;\">0.50022 </td><td style=\"text-align: right;\">0.249587</td><td style=\"text-align: right;\">0.250193</td><td style=\"text-align: right;\">0.505377</td><td style=\"text-align: right;\">0.247391</td><td style=\"text-align: right;\">0.247232</td><td style=\"text-align: right;\">0.508495</td><td style=\"text-align: right;\">0.248204</td><td style=\"text-align: right;\">0.243301</td><td style=\"text-align: right;\">0.513974</td><td style=\"text-align: right;\">0.245435</td><td style=\"text-align: right;\">0.240591</td><td style=\"text-align: right;\">0.51382 </td><td style=\"text-align: right;\">0.246328</td><td style=\"text-align: right;\">0.239851</td><td style=\"text-align: right;\">0.519184</td><td style=\"text-align: right;\">0.243606</td><td style=\"text-align: right;\">0.23721 </td><td style=\"text-align: right;\">0.52328 </td><td style=\"text-align: right;\">0.241107</td><td style=\"text-align: right;\">0.235613</td><td style=\"text-align: right;\">0.528106</td><td style=\"text-align: right;\">0.239141</td><td style=\"text-align: right;\">0.232753</td><td style=\"text-align: right;\">0.533367</td><td style=\"text-align: right;\">0.236472</td><td style=\"text-align: right;\">0.230161</td><td style=\"text-align: right;\">0.538615</td><td style=\"text-align: right;\">0.233803</td><td style=\"text-align: right;\">0.227582</td><td style=\"text-align: right;\">0.535993</td><td style=\"text-align: right;\">0.237508</td><td style=\"text-align: right;\">0.226499</td><td style=\"text-align: right;\">0.537223</td><td style=\"text-align: right;\">0.236869</td><td style=\"text-align: right;\">0.225908</td><td style=\"text-align: right;\">0.534347</td><td style=\"text-align: right;\">0.240624</td><td style=\"text-align: right;\">0.225029</td><td style=\"text-align: right;\">0.53843 </td><td style=\"text-align: right;\">0.238052</td><td style=\"text-align: right;\">0.223519</td><td style=\"text-align: right;\">0.542581</td><td style=\"text-align: right;\">0.235599</td><td style=\"text-align: right;\">0.22182 </td><td style=\"text-align: right;\">0.547679</td><td style=\"text-align: right;\">0.232959</td><td style=\"text-align: right;\">0.219361</td><td style=\"text-align: right;\">0.550326</td><td style=\"text-align: right;\">0.233718</td><td style=\"text-align: right;\">0.215957</td><td style=\"text-align: right;\">0.551036</td><td style=\"text-align: right;\">0.233184</td><td style=\"text-align: right;\">0.21578 </td><td style=\"text-align: right;\">0.549873</td><td style=\"text-align: right;\">0.235788</td><td style=\"text-align: right;\">0.214338</td><td style=\"text-align: right;\">0.551897</td><td style=\"text-align: right;\">0.234575</td><td style=\"text-align: right;\">0.213528</td><td style=\"text-align: right;\">0.556554</td><td style=\"text-align: right;\">0.232379</td><td style=\"text-align: right;\">0.211068</td><td style=\"text-align: right;\">0.561524</td><td style=\"text-align: right;\">0.229771</td><td style=\"text-align: right;\">0.208705</td><td style=\"text-align: right;\">0.566048</td><td style=\"text-align: right;\">0.227041</td><td style=\"text-align: right;\">0.206911</td><td style=\"text-align: right;\">0.570002</td><td style=\"text-align: right;\">0.225757</td><td style=\"text-align: right;\">0.204241</td><td style=\"text-align: right;\">0.570193</td><td style=\"text-align: right;\">0.22624 </td><td style=\"text-align: right;\">0.203567</td><td style=\"text-align: right;\">0.574959</td><td style=\"text-align: right;\">0.223721</td><td style=\"text-align: right;\">0.201321</td><td style=\"text-align: right;\">0.579702</td><td style=\"text-align: right;\">0.221223</td><td style=\"text-align: right;\">0.199075</td><td style=\"text-align: right;\">0.584228</td><td style=\"text-align: right;\">0.21898 </td><td style=\"text-align: right;\">0.196792</td><td style=\"text-align: right;\">0.587786</td><td style=\"text-align: right;\">0.216718</td><td style=\"text-align: right;\">0.195496</td><td style=\"text-align: right;\">0.592454</td><td style=\"text-align: right;\">0.214263</td><td style=\"text-align: right;\">0.193283</td><td style=\"text-align: right;\">0.595512</td><td style=\"text-align: right;\">0.212017</td><td style=\"text-align: right;\">0.192471</td><td style=\"text-align: right;\">0.597901</td><td style=\"text-align: right;\">0.212486</td><td style=\"text-align: right;\">0.189613</td><td style=\"text-align: right;\">0.600329</td><td style=\"text-align: right;\">0.212826</td><td style=\"text-align: right;\">0.186844</td><td style=\"text-align: right;\">0.604494</td><td style=\"text-align: right;\">0.210291</td><td style=\"text-align: right;\">0.185215</td><td style=\"text-align: right;\">0.608607</td><td style=\"text-align: right;\">0.208369</td><td style=\"text-align: right;\">0.183024</td><td style=\"text-align: right;\">0.61132 </td><td style=\"text-align: right;\">0.206542</td><td style=\"text-align: right;\">0.182138</td><td style=\"text-align: right;\">0.615445</td><td style=\"text-align: right;\">0.204575</td><td style=\"text-align: right;\">0.179979</td><td style=\"text-align: right;\">0.616421</td><td style=\"text-align: right;\">0.203407</td><td style=\"text-align: right;\">0.180172</td><td style=\"text-align: right;\">0.615268</td><td style=\"text-align: right;\">0.205378</td><td style=\"text-align: right;\">0.179354</td><td style=\"text-align: right;\">0.619391</td><td style=\"text-align: right;\">0.202956</td><td style=\"text-align: right;\">0.177653</td><td style=\"text-align: right;\">0.623708</td><td style=\"text-align: right;\">0.200638</td><td style=\"text-align: right;\">0.175654</td><td style=\"text-align: right;\">0.625876</td><td style=\"text-align: right;\">0.19932 </td><td style=\"text-align: right;\">0.174804</td><td style=\"text-align: right;\">0.630182</td><td style=\"text-align: right;\">0.197011</td><td style=\"text-align: right;\">0.172807</td><td style=\"text-align: right;\">0.63421 </td><td style=\"text-align: right;\">0.194667</td><td style=\"text-align: right;\">0.171122</td><td style=\"text-align: right;\">0.638102</td><td style=\"text-align: right;\">0.192808</td><td style=\"text-align: right;\">0.16909 </td><td style=\"text-align: right;\">0.642101</td><td style=\"text-align: right;\">0.190503</td><td style=\"text-align: right;\">0.167396</td><td style=\"text-align: right;\">0.646246</td><td style=\"text-align: right;\">0.188287</td><td style=\"text-align: right;\">0.165467</td><td style=\"text-align: right;\">0.650334</td><td style=\"text-align: right;\">0.186097</td><td style=\"text-align: right;\">0.163569</td><td style=\"text-align: right;\">0.654394</td><td style=\"text-align: right;\">0.183895</td><td style=\"text-align: right;\">0.161711</td><td style=\"text-align: right;\">0.658397</td><td style=\"text-align: right;\">0.181753</td><td style=\"text-align: right;\">0.15985 </td><td style=\"text-align: right;\">0.660301</td><td style=\"text-align: right;\">0.182198</td><td style=\"text-align: right;\">0.157501</td><td style=\"text-align: right;\">0.659068</td><td style=\"text-align: right;\">0.183692</td><td style=\"text-align: right;\">0.15724 </td><td style=\"text-align: right;\">0.661648</td><td style=\"text-align: right;\">0.18246 </td><td style=\"text-align: right;\">0.155892</td><td style=\"text-align: right;\">0.663598</td><td style=\"text-align: right;\">0.182824</td><td style=\"text-align: right;\">0.153578</td><td style=\"text-align: right;\">0.662526</td><td style=\"text-align: right;\">0.184588</td><td style=\"text-align: right;\">0.152886</td><td style=\"text-align: right;\">0.666452</td><td style=\"text-align: right;\">0.182421</td><td style=\"text-align: right;\">0.151127</td><td style=\"text-align: right;\">0.670119</td><td style=\"text-align: right;\">0.1802  </td><td style=\"text-align: right;\">0.149681</td><td style=\"text-align: right;\">0.673053</td><td style=\"text-align: right;\">0.178582</td><td style=\"text-align: right;\">0.148365</td><td style=\"text-align: right;\">0.676873</td><td style=\"text-align: right;\">0.176493</td><td style=\"text-align: right;\">0.146634</td><td style=\"text-align: right;\">0.675709</td><td style=\"text-align: right;\">0.177904</td><td style=\"text-align: right;\">0.146387</td><td style=\"text-align: right;\">0.679503</td><td style=\"text-align: right;\">0.175813</td><td style=\"text-align: right;\">0.144684</td><td style=\"text-align: right;\">0.682691</td><td style=\"text-align: right;\">0.174412</td><td style=\"text-align: right;\">0.142897</td><td style=\"text-align: right;\">0.68641 </td><td style=\"text-align: right;\">0.172378</td><td style=\"text-align: right;\">0.141213</td><td style=\"text-align: right;\">0.690063</td><td style=\"text-align: right;\">0.170358</td><td style=\"text-align: right;\">0.139579</td><td style=\"text-align: right;\">0.693708</td><td style=\"text-align: right;\">0.168343</td><td style=\"text-align: right;\">0.137949</td><td style=\"text-align: right;\">0.697315</td><td style=\"text-align: right;\">0.166351</td><td style=\"text-align: right;\">0.136334</td><td style=\"text-align: right;\">0.700877</td><td style=\"text-align: right;\">0.164388</td><td style=\"text-align: right;\">0.134736</td><td style=\"text-align: right;\"> 0.704401</td><td style=\"text-align: right;\"> 0.162444</td><td style=\"text-align: right;\"> 0.133155</td></tr>\n",
       "<tr><td style=\"text-align: right;\">0.338688</td><td style=\"text-align: right;\">0.330436</td><td style=\"text-align: right;\">0.330877</td><td style=\"text-align: right;\">0.345165</td><td style=\"text-align: right;\">0.326893</td><td style=\"text-align: right;\">0.327942</td><td style=\"text-align: right;\">0.351615</td><td style=\"text-align: right;\">0.323349</td><td style=\"text-align: right;\">0.325036</td><td style=\"text-align: right;\">0.358238</td><td style=\"text-align: right;\">0.320051</td><td style=\"text-align: right;\">0.321711</td><td style=\"text-align: right;\">0.364822</td><td style=\"text-align: right;\">0.316775</td><td style=\"text-align: right;\">0.318403</td><td style=\"text-align: right;\">0.371071</td><td style=\"text-align: right;\">0.313236</td><td style=\"text-align: right;\">0.315693</td><td style=\"text-align: right;\">0.377594</td><td style=\"text-align: right;\">0.309994</td><td style=\"text-align: right;\">0.312412</td><td style=\"text-align: right;\">0.384084</td><td style=\"text-align: right;\">0.30677 </td><td style=\"text-align: right;\">0.309146</td><td style=\"text-align: right;\">0.38254 </td><td style=\"text-align: right;\">0.310475</td><td style=\"text-align: right;\">0.306985</td><td style=\"text-align: right;\">0.386715</td><td style=\"text-align: right;\">0.307455</td><td style=\"text-align: right;\">0.30583 </td><td style=\"text-align: right;\">0.39312 </td><td style=\"text-align: right;\">0.304252</td><td style=\"text-align: right;\">0.302629</td><td style=\"text-align: right;\">0.399447</td><td style=\"text-align: right;\">0.301081</td><td style=\"text-align: right;\">0.299472</td><td style=\"text-align: right;\">0.404774</td><td style=\"text-align: right;\">0.29886 </td><td style=\"text-align: right;\">0.296366</td><td style=\"text-align: right;\">0.411058</td><td style=\"text-align: right;\">0.295707</td><td style=\"text-align: right;\">0.293235</td><td style=\"text-align: right;\">0.417313</td><td style=\"text-align: right;\">0.292586</td><td style=\"text-align: right;\">0.290101</td><td style=\"text-align: right;\">0.422902</td><td style=\"text-align: right;\">0.290561</td><td style=\"text-align: right;\">0.286538</td><td style=\"text-align: right;\">0.427419</td><td style=\"text-align: right;\">0.28799 </td><td style=\"text-align: right;\">0.284591</td><td style=\"text-align: right;\">0.433546</td><td style=\"text-align: right;\">0.284908</td><td style=\"text-align: right;\">0.281546</td><td style=\"text-align: right;\">0.434267</td><td style=\"text-align: right;\">0.282896</td><td style=\"text-align: right;\">0.282837</td><td style=\"text-align: right;\">0.440373</td><td style=\"text-align: right;\">0.279846</td><td style=\"text-align: right;\">0.279781</td><td style=\"text-align: right;\">0.444256</td><td style=\"text-align: right;\">0.27694 </td><td style=\"text-align: right;\">0.278803</td><td style=\"text-align: right;\">0.450341</td><td style=\"text-align: right;\">0.273911</td><td style=\"text-align: right;\">0.275749</td><td style=\"text-align: right;\">0.456304</td><td style=\"text-align: right;\">0.270942</td><td style=\"text-align: right;\">0.272754</td><td style=\"text-align: right;\">0.461847</td><td style=\"text-align: right;\">0.268617</td><td style=\"text-align: right;\">0.269536</td><td style=\"text-align: right;\">0.467754</td><td style=\"text-align: right;\">0.265666</td><td style=\"text-align: right;\">0.266579</td><td style=\"text-align: right;\">0.473607</td><td style=\"text-align: right;\">0.262745</td><td style=\"text-align: right;\">0.263647</td><td style=\"text-align: right;\">0.475858</td><td style=\"text-align: right;\">0.260915</td><td style=\"text-align: right;\">0.263227</td><td style=\"text-align: right;\">0.474669</td><td style=\"text-align: right;\">0.263469</td><td style=\"text-align: right;\">0.261862</td><td style=\"text-align: right;\">0.480408</td><td style=\"text-align: right;\">0.260596</td><td style=\"text-align: right;\">0.258996</td><td style=\"text-align: right;\">0.48331 </td><td style=\"text-align: right;\">0.258009</td><td style=\"text-align: right;\">0.258681</td><td style=\"text-align: right;\">0.488963</td><td style=\"text-align: right;\">0.255192</td><td style=\"text-align: right;\">0.255845</td><td style=\"text-align: right;\">0.494625</td><td style=\"text-align: right;\">0.252384</td><td style=\"text-align: right;\">0.252991</td><td style=\"text-align: right;\">0.50022 </td><td style=\"text-align: right;\">0.249587</td><td style=\"text-align: right;\">0.250193</td><td style=\"text-align: right;\">0.505377</td><td style=\"text-align: right;\">0.247391</td><td style=\"text-align: right;\">0.247232</td><td style=\"text-align: right;\">0.508495</td><td style=\"text-align: right;\">0.248204</td><td style=\"text-align: right;\">0.243301</td><td style=\"text-align: right;\">0.513974</td><td style=\"text-align: right;\">0.245435</td><td style=\"text-align: right;\">0.240591</td><td style=\"text-align: right;\">0.51382 </td><td style=\"text-align: right;\">0.246328</td><td style=\"text-align: right;\">0.239851</td><td style=\"text-align: right;\">0.519184</td><td style=\"text-align: right;\">0.243606</td><td style=\"text-align: right;\">0.23721 </td><td style=\"text-align: right;\">0.52328 </td><td style=\"text-align: right;\">0.241107</td><td style=\"text-align: right;\">0.235613</td><td style=\"text-align: right;\">0.528106</td><td style=\"text-align: right;\">0.239141</td><td style=\"text-align: right;\">0.232753</td><td style=\"text-align: right;\">0.533367</td><td style=\"text-align: right;\">0.236472</td><td style=\"text-align: right;\">0.230161</td><td style=\"text-align: right;\">0.538615</td><td style=\"text-align: right;\">0.233803</td><td style=\"text-align: right;\">0.227582</td><td style=\"text-align: right;\">0.535993</td><td style=\"text-align: right;\">0.237508</td><td style=\"text-align: right;\">0.226499</td><td style=\"text-align: right;\">0.537223</td><td style=\"text-align: right;\">0.236869</td><td style=\"text-align: right;\">0.225908</td><td style=\"text-align: right;\">0.534347</td><td style=\"text-align: right;\">0.240624</td><td style=\"text-align: right;\">0.225029</td><td style=\"text-align: right;\">0.53843 </td><td style=\"text-align: right;\">0.238052</td><td style=\"text-align: right;\">0.223519</td><td style=\"text-align: right;\">0.542581</td><td style=\"text-align: right;\">0.235599</td><td style=\"text-align: right;\">0.22182 </td><td style=\"text-align: right;\">0.547679</td><td style=\"text-align: right;\">0.232959</td><td style=\"text-align: right;\">0.219361</td><td style=\"text-align: right;\">0.550326</td><td style=\"text-align: right;\">0.233718</td><td style=\"text-align: right;\">0.215957</td><td style=\"text-align: right;\">0.551036</td><td style=\"text-align: right;\">0.233184</td><td style=\"text-align: right;\">0.21578 </td><td style=\"text-align: right;\">0.549873</td><td style=\"text-align: right;\">0.235788</td><td style=\"text-align: right;\">0.214338</td><td style=\"text-align: right;\">0.551897</td><td style=\"text-align: right;\">0.234575</td><td style=\"text-align: right;\">0.213528</td><td style=\"text-align: right;\">0.556554</td><td style=\"text-align: right;\">0.232379</td><td style=\"text-align: right;\">0.211068</td><td style=\"text-align: right;\">0.561524</td><td style=\"text-align: right;\">0.229771</td><td style=\"text-align: right;\">0.208705</td><td style=\"text-align: right;\">0.566048</td><td style=\"text-align: right;\">0.227041</td><td style=\"text-align: right;\">0.206911</td><td style=\"text-align: right;\">0.570002</td><td style=\"text-align: right;\">0.225757</td><td style=\"text-align: right;\">0.204241</td><td style=\"text-align: right;\">0.570193</td><td style=\"text-align: right;\">0.22624 </td><td style=\"text-align: right;\">0.203567</td><td style=\"text-align: right;\">0.574959</td><td style=\"text-align: right;\">0.223721</td><td style=\"text-align: right;\">0.201321</td><td style=\"text-align: right;\">0.579702</td><td style=\"text-align: right;\">0.221223</td><td style=\"text-align: right;\">0.199075</td><td style=\"text-align: right;\">0.584228</td><td style=\"text-align: right;\">0.21898 </td><td style=\"text-align: right;\">0.196792</td><td style=\"text-align: right;\">0.587786</td><td style=\"text-align: right;\">0.216718</td><td style=\"text-align: right;\">0.195496</td><td style=\"text-align: right;\">0.592454</td><td style=\"text-align: right;\">0.214263</td><td style=\"text-align: right;\">0.193283</td><td style=\"text-align: right;\">0.595512</td><td style=\"text-align: right;\">0.212017</td><td style=\"text-align: right;\">0.192471</td><td style=\"text-align: right;\">0.597901</td><td style=\"text-align: right;\">0.212486</td><td style=\"text-align: right;\">0.189613</td><td style=\"text-align: right;\">0.600329</td><td style=\"text-align: right;\">0.212826</td><td style=\"text-align: right;\">0.186844</td><td style=\"text-align: right;\">0.604494</td><td style=\"text-align: right;\">0.210291</td><td style=\"text-align: right;\">0.185215</td><td style=\"text-align: right;\">0.608607</td><td style=\"text-align: right;\">0.208369</td><td style=\"text-align: right;\">0.183024</td><td style=\"text-align: right;\">0.61132 </td><td style=\"text-align: right;\">0.206542</td><td style=\"text-align: right;\">0.182138</td><td style=\"text-align: right;\">0.615445</td><td style=\"text-align: right;\">0.204575</td><td style=\"text-align: right;\">0.179979</td><td style=\"text-align: right;\">0.616421</td><td style=\"text-align: right;\">0.203407</td><td style=\"text-align: right;\">0.180172</td><td style=\"text-align: right;\">0.615268</td><td style=\"text-align: right;\">0.205378</td><td style=\"text-align: right;\">0.179354</td><td style=\"text-align: right;\">0.619391</td><td style=\"text-align: right;\">0.202956</td><td style=\"text-align: right;\">0.177653</td><td style=\"text-align: right;\">0.623708</td><td style=\"text-align: right;\">0.200638</td><td style=\"text-align: right;\">0.175654</td><td style=\"text-align: right;\">0.625876</td><td style=\"text-align: right;\">0.19932 </td><td style=\"text-align: right;\">0.174804</td><td style=\"text-align: right;\">0.630182</td><td style=\"text-align: right;\">0.197011</td><td style=\"text-align: right;\">0.172807</td><td style=\"text-align: right;\">0.63421 </td><td style=\"text-align: right;\">0.194667</td><td style=\"text-align: right;\">0.171122</td><td style=\"text-align: right;\">0.638102</td><td style=\"text-align: right;\">0.192808</td><td style=\"text-align: right;\">0.16909 </td><td style=\"text-align: right;\">0.642101</td><td style=\"text-align: right;\">0.190503</td><td style=\"text-align: right;\">0.167396</td><td style=\"text-align: right;\">0.646246</td><td style=\"text-align: right;\">0.188287</td><td style=\"text-align: right;\">0.165467</td><td style=\"text-align: right;\">0.650334</td><td style=\"text-align: right;\">0.186097</td><td style=\"text-align: right;\">0.163569</td><td style=\"text-align: right;\">0.654119</td><td style=\"text-align: right;\">0.183818</td><td style=\"text-align: right;\">0.162063</td><td style=\"text-align: right;\">0.658123</td><td style=\"text-align: right;\">0.181678</td><td style=\"text-align: right;\">0.160199</td><td style=\"text-align: right;\">0.66003 </td><td style=\"text-align: right;\">0.182123</td><td style=\"text-align: right;\">0.157846</td><td style=\"text-align: right;\">0.658798</td><td style=\"text-align: right;\">0.183617</td><td style=\"text-align: right;\">0.157585</td><td style=\"text-align: right;\">0.66138 </td><td style=\"text-align: right;\">0.182386</td><td style=\"text-align: right;\">0.156234</td><td style=\"text-align: right;\">0.663333</td><td style=\"text-align: right;\">0.182751</td><td style=\"text-align: right;\">0.153915</td><td style=\"text-align: right;\">0.662263</td><td style=\"text-align: right;\">0.184514</td><td style=\"text-align: right;\">0.153223</td><td style=\"text-align: right;\">0.66619 </td><td style=\"text-align: right;\">0.18235 </td><td style=\"text-align: right;\">0.15146 </td><td style=\"text-align: right;\">0.669859</td><td style=\"text-align: right;\">0.18013 </td><td style=\"text-align: right;\">0.150012</td><td style=\"text-align: right;\">0.672793</td><td style=\"text-align: right;\">0.178513</td><td style=\"text-align: right;\">0.148694</td><td style=\"text-align: right;\">0.676615</td><td style=\"text-align: right;\">0.176425</td><td style=\"text-align: right;\">0.14696 </td><td style=\"text-align: right;\">0.675451</td><td style=\"text-align: right;\">0.177836</td><td style=\"text-align: right;\">0.146712</td><td style=\"text-align: right;\">0.679247</td><td style=\"text-align: right;\">0.175747</td><td style=\"text-align: right;\">0.145006</td><td style=\"text-align: right;\">0.682437</td><td style=\"text-align: right;\">0.174348</td><td style=\"text-align: right;\">0.143215</td><td style=\"text-align: right;\">0.686158</td><td style=\"text-align: right;\">0.172314</td><td style=\"text-align: right;\">0.141528</td><td style=\"text-align: right;\">0.689812</td><td style=\"text-align: right;\">0.170297</td><td style=\"text-align: right;\">0.139891</td><td style=\"text-align: right;\">0.693459</td><td style=\"text-align: right;\">0.168282</td><td style=\"text-align: right;\">0.138258</td><td style=\"text-align: right;\">0.697068</td><td style=\"text-align: right;\">0.166292</td><td style=\"text-align: right;\">0.13664 </td><td style=\"text-align: right;\">0.700631</td><td style=\"text-align: right;\">0.16433 </td><td style=\"text-align: right;\">0.135039</td><td style=\"text-align: right;\"> 0.702852</td><td style=\"text-align: right;\"> 0.164021</td><td style=\"text-align: right;\"> 0.133127</td></tr>\n",
       "<tr><td style=\"text-align: right;\">0.334493</td><td style=\"text-align: right;\">0.332035</td><td style=\"text-align: right;\">0.333471</td><td style=\"text-align: right;\">0.340931</td><td style=\"text-align: right;\">0.328515</td><td style=\"text-align: right;\">0.330554</td><td style=\"text-align: right;\">0.347344</td><td style=\"text-align: right;\">0.324992</td><td style=\"text-align: right;\">0.327664</td><td style=\"text-align: right;\">0.353931</td><td style=\"text-align: right;\">0.321718</td><td style=\"text-align: right;\">0.324352</td><td style=\"text-align: right;\">0.360495</td><td style=\"text-align: right;\">0.318478</td><td style=\"text-align: right;\">0.321026</td><td style=\"text-align: right;\">0.366348</td><td style=\"text-align: right;\">0.314643</td><td style=\"text-align: right;\">0.319009</td><td style=\"text-align: right;\">0.372837</td><td style=\"text-align: right;\">0.311428</td><td style=\"text-align: right;\">0.315735</td><td style=\"text-align: right;\">0.379295</td><td style=\"text-align: right;\">0.308229</td><td style=\"text-align: right;\">0.312476</td><td style=\"text-align: right;\">0.384057</td><td style=\"text-align: right;\">0.30668 </td><td style=\"text-align: right;\">0.309263</td><td style=\"text-align: right;\">0.384964</td><td style=\"text-align: right;\">0.304991</td><td style=\"text-align: right;\">0.310045</td><td style=\"text-align: right;\">0.391358</td><td style=\"text-align: right;\">0.301828</td><td style=\"text-align: right;\">0.306814</td><td style=\"text-align: right;\">0.397691</td><td style=\"text-align: right;\">0.298707</td><td style=\"text-align: right;\">0.303601</td><td style=\"text-align: right;\">0.397365</td><td style=\"text-align: right;\">0.29937 </td><td style=\"text-align: right;\">0.303265</td><td style=\"text-align: right;\">0.403612</td><td style=\"text-align: right;\">0.296269</td><td style=\"text-align: right;\">0.300118</td><td style=\"text-align: right;\">0.409821</td><td style=\"text-align: right;\">0.293189</td><td style=\"text-align: right;\">0.29699 </td><td style=\"text-align: right;\">0.415387</td><td style=\"text-align: right;\">0.291215</td><td style=\"text-align: right;\">0.293398</td><td style=\"text-align: right;\">0.417811</td><td style=\"text-align: right;\">0.291189</td><td style=\"text-align: right;\">0.291   </td><td style=\"text-align: right;\">0.423902</td><td style=\"text-align: right;\">0.288142</td><td style=\"text-align: right;\">0.287955</td><td style=\"text-align: right;\">0.425848</td><td style=\"text-align: right;\">0.286884</td><td style=\"text-align: right;\">0.287268</td><td style=\"text-align: right;\">0.431926</td><td style=\"text-align: right;\">0.28385 </td><td style=\"text-align: right;\">0.284224</td><td style=\"text-align: right;\">0.438017</td><td style=\"text-align: right;\">0.280818</td><td style=\"text-align: right;\">0.281165</td><td style=\"text-align: right;\">0.444084</td><td style=\"text-align: right;\">0.277789</td><td style=\"text-align: right;\">0.278127</td><td style=\"text-align: right;\">0.450033</td><td style=\"text-align: right;\">0.274819</td><td style=\"text-align: right;\">0.275148</td><td style=\"text-align: right;\">0.453448</td><td style=\"text-align: right;\">0.275933</td><td style=\"text-align: right;\">0.270619</td><td style=\"text-align: right;\">0.45934 </td><td style=\"text-align: right;\">0.272956</td><td style=\"text-align: right;\">0.267704</td><td style=\"text-align: right;\">0.46518 </td><td style=\"text-align: right;\">0.270008</td><td style=\"text-align: right;\">0.264812</td><td style=\"text-align: right;\">0.467639</td><td style=\"text-align: right;\">0.269372</td><td style=\"text-align: right;\">0.262989</td><td style=\"text-align: right;\">0.47229 </td><td style=\"text-align: right;\">0.267538</td><td style=\"text-align: right;\">0.260172</td><td style=\"text-align: right;\">0.478045</td><td style=\"text-align: right;\">0.264606</td><td style=\"text-align: right;\">0.257349</td><td style=\"text-align: right;\">0.482872</td><td style=\"text-align: right;\">0.262167</td><td style=\"text-align: right;\">0.254961</td><td style=\"text-align: right;\">0.488524</td><td style=\"text-align: right;\">0.259308</td><td style=\"text-align: right;\">0.252168</td><td style=\"text-align: right;\">0.494185</td><td style=\"text-align: right;\">0.256457</td><td style=\"text-align: right;\">0.249358</td><td style=\"text-align: right;\">0.499781</td><td style=\"text-align: right;\">0.253617</td><td style=\"text-align: right;\">0.246602</td><td style=\"text-align: right;\">0.499422</td><td style=\"text-align: right;\">0.252904</td><td style=\"text-align: right;\">0.247674</td><td style=\"text-align: right;\">0.504967</td><td style=\"text-align: right;\">0.250102</td><td style=\"text-align: right;\">0.24493 </td><td style=\"text-align: right;\">0.510447</td><td style=\"text-align: right;\">0.247332</td><td style=\"text-align: right;\">0.242222</td><td style=\"text-align: right;\">0.515354</td><td style=\"text-align: right;\">0.245088</td><td style=\"text-align: right;\">0.239557</td><td style=\"text-align: right;\">0.520418</td><td style=\"text-align: right;\">0.242523</td><td style=\"text-align: right;\">0.237059</td><td style=\"text-align: right;\">0.523997</td><td style=\"text-align: right;\">0.240726</td><td style=\"text-align: right;\">0.235278</td><td style=\"text-align: right;\">0.528823</td><td style=\"text-align: right;\">0.238759</td><td style=\"text-align: right;\">0.232418</td><td style=\"text-align: right;\">0.534082</td><td style=\"text-align: right;\">0.236091</td><td style=\"text-align: right;\">0.229826</td><td style=\"text-align: right;\">0.53933 </td><td style=\"text-align: right;\">0.233423</td><td style=\"text-align: right;\">0.227248</td><td style=\"text-align: right;\">0.543297</td><td style=\"text-align: right;\">0.231926</td><td style=\"text-align: right;\">0.224777</td><td style=\"text-align: right;\">0.545142</td><td style=\"text-align: right;\">0.232119</td><td style=\"text-align: right;\">0.222739</td><td style=\"text-align: right;\">0.549391</td><td style=\"text-align: right;\">0.230101</td><td style=\"text-align: right;\">0.220508</td><td style=\"text-align: right;\">0.551543</td><td style=\"text-align: right;\">0.22908 </td><td style=\"text-align: right;\">0.219377</td><td style=\"text-align: right;\">0.554352</td><td style=\"text-align: right;\">0.227438</td><td style=\"text-align: right;\">0.21821 </td><td style=\"text-align: right;\">0.559426</td><td style=\"text-align: right;\">0.224835</td><td style=\"text-align: right;\">0.215739</td><td style=\"text-align: right;\">0.564222</td><td style=\"text-align: right;\">0.222597</td><td style=\"text-align: right;\">0.213181</td><td style=\"text-align: right;\">0.567546</td><td style=\"text-align: right;\">0.220919</td><td style=\"text-align: right;\">0.211535</td><td style=\"text-align: right;\">0.571758</td><td style=\"text-align: right;\">0.219069</td><td style=\"text-align: right;\">0.209172</td><td style=\"text-align: right;\">0.574333</td><td style=\"text-align: right;\">0.21845 </td><td style=\"text-align: right;\">0.207217</td><td style=\"text-align: right;\">0.578959</td><td style=\"text-align: right;\">0.216323</td><td style=\"text-align: right;\">0.204718</td><td style=\"text-align: right;\">0.583866</td><td style=\"text-align: right;\">0.213799</td><td style=\"text-align: right;\">0.202336</td><td style=\"text-align: right;\">0.588691</td><td style=\"text-align: right;\">0.211302</td><td style=\"text-align: right;\">0.200008</td><td style=\"text-align: right;\">0.592606</td><td style=\"text-align: right;\">0.210037</td><td style=\"text-align: right;\">0.197357</td><td style=\"text-align: right;\">0.596766</td><td style=\"text-align: right;\">0.208121</td><td style=\"text-align: right;\">0.195113</td><td style=\"text-align: right;\">0.601442</td><td style=\"text-align: right;\">0.205697</td><td style=\"text-align: right;\">0.19286 </td><td style=\"text-align: right;\">0.606093</td><td style=\"text-align: right;\">0.203296</td><td style=\"text-align: right;\">0.190611</td><td style=\"text-align: right;\">0.610529</td><td style=\"text-align: right;\">0.201137</td><td style=\"text-align: right;\">0.188334</td><td style=\"text-align: right;\">0.611295</td><td style=\"text-align: right;\">0.1997  </td><td style=\"text-align: right;\">0.189005</td><td style=\"text-align: right;\">0.61587 </td><td style=\"text-align: right;\">0.197348</td><td style=\"text-align: right;\">0.186782</td><td style=\"text-align: right;\">0.619444</td><td style=\"text-align: right;\">0.195514</td><td style=\"text-align: right;\">0.185042</td><td style=\"text-align: right;\">0.623606</td><td style=\"text-align: right;\">0.193607</td><td style=\"text-align: right;\">0.182786</td><td style=\"text-align: right;\">0.627556</td><td style=\"text-align: right;\">0.191919</td><td style=\"text-align: right;\">0.180525</td><td style=\"text-align: right;\">0.631943</td><td style=\"text-align: right;\">0.189643</td><td style=\"text-align: right;\">0.178414</td><td style=\"text-align: right;\">0.635953</td><td style=\"text-align: right;\">0.187824</td><td style=\"text-align: right;\">0.176224</td><td style=\"text-align: right;\">0.637874</td><td style=\"text-align: right;\">0.187   </td><td style=\"text-align: right;\">0.175126</td><td style=\"text-align: right;\">0.641891</td><td style=\"text-align: right;\">0.185136</td><td style=\"text-align: right;\">0.172973</td><td style=\"text-align: right;\">0.643079</td><td style=\"text-align: right;\">0.184931</td><td style=\"text-align: right;\">0.17199 </td><td style=\"text-align: right;\">0.646527</td><td style=\"text-align: right;\">0.183439</td><td style=\"text-align: right;\">0.170034</td><td style=\"text-align: right;\">0.650497</td><td style=\"text-align: right;\">0.181175</td><td style=\"text-align: right;\">0.168328</td><td style=\"text-align: right;\">0.654658</td><td style=\"text-align: right;\">0.179004</td><td style=\"text-align: right;\">0.166338</td><td style=\"text-align: right;\">0.653911</td><td style=\"text-align: right;\">0.178641</td><td style=\"text-align: right;\">0.167449</td><td style=\"text-align: right;\">0.65807 </td><td style=\"text-align: right;\">0.17648 </td><td style=\"text-align: right;\">0.16545 </td><td style=\"text-align: right;\">0.661949</td><td style=\"text-align: right;\">0.174295</td><td style=\"text-align: right;\">0.163756</td><td style=\"text-align: right;\">0.66571 </td><td style=\"text-align: right;\">0.172552</td><td style=\"text-align: right;\">0.161738</td><td style=\"text-align: right;\">0.669555</td><td style=\"text-align: right;\">0.170406</td><td style=\"text-align: right;\">0.160039</td><td style=\"text-align: right;\">0.673543</td><td style=\"text-align: right;\">0.16834 </td><td style=\"text-align: right;\">0.158116</td><td style=\"text-align: right;\">0.677473</td><td style=\"text-align: right;\">0.166301</td><td style=\"text-align: right;\">0.156226</td><td style=\"text-align: right;\">0.681097</td><td style=\"text-align: right;\">0.164187</td><td style=\"text-align: right;\">0.154716</td><td style=\"text-align: right;\">0.684939</td><td style=\"text-align: right;\">0.162198</td><td style=\"text-align: right;\">0.152863</td><td style=\"text-align: right;\">0.68827 </td><td style=\"text-align: right;\">0.160817</td><td style=\"text-align: right;\">0.150913</td><td style=\"text-align: right;\">0.691605</td><td style=\"text-align: right;\">0.159251</td><td style=\"text-align: right;\">0.149144</td><td style=\"text-align: right;\">0.692815</td><td style=\"text-align: right;\">0.15877 </td><td style=\"text-align: right;\">0.148415</td><td style=\"text-align: right;\">0.696103</td><td style=\"text-align: right;\">0.157376</td><td style=\"text-align: right;\">0.146521</td><td style=\"text-align: right;\">0.698691</td><td style=\"text-align: right;\">0.156441</td><td style=\"text-align: right;\">0.144868</td><td style=\"text-align: right;\">0.702383</td><td style=\"text-align: right;\">0.154507</td><td style=\"text-align: right;\">0.14311 </td><td style=\"text-align: right;\">0.705815</td><td style=\"text-align: right;\">0.152532</td><td style=\"text-align: right;\">0.141653</td><td style=\"text-align: right;\">0.708193</td><td style=\"text-align: right;\">0.151285</td><td style=\"text-align: right;\">0.140522</td><td style=\"text-align: right;\">0.711778</td><td style=\"text-align: right;\">0.149424</td><td style=\"text-align: right;\">0.138798</td><td style=\"text-align: right;\">0.714481</td><td style=\"text-align: right;\">0.148301</td><td style=\"text-align: right;\">0.137218</td><td style=\"text-align: right;\">0.71801 </td><td style=\"text-align: right;\">0.146459</td><td style=\"text-align: right;\">0.13553 </td><td style=\"text-align: right;\">0.720999</td><td style=\"text-align: right;\">0.145216</td><td style=\"text-align: right;\">0.133785</td><td style=\"text-align: right;\">0.724451</td><td style=\"text-align: right;\">0.143427</td><td style=\"text-align: right;\">0.132122</td><td style=\"text-align: right;\">0.727835</td><td style=\"text-align: right;\">0.141655</td><td style=\"text-align: right;\">0.130509</td><td style=\"text-align: right;\">0.731209</td><td style=\"text-align: right;\">0.139889</td><td style=\"text-align: right;\">0.128902</td><td style=\"text-align: right;\">0.734542</td><td style=\"text-align: right;\">0.138146</td><td style=\"text-align: right;\">0.127312</td><td style=\"text-align: right;\">0.73783 </td><td style=\"text-align: right;\">0.13643 </td><td style=\"text-align: right;\">0.12574 </td><td style=\"text-align: right;\"> 0.739945</td><td style=\"text-align: right;\"> 0.136132</td><td style=\"text-align: right;\"> 0.123923</td></tr>\n",
       "<tr><td style=\"text-align: right;\">0.338688</td><td style=\"text-align: right;\">0.330436</td><td style=\"text-align: right;\">0.330877</td><td style=\"text-align: right;\">0.345165</td><td style=\"text-align: right;\">0.326893</td><td style=\"text-align: right;\">0.327942</td><td style=\"text-align: right;\">0.351615</td><td style=\"text-align: right;\">0.323349</td><td style=\"text-align: right;\">0.325036</td><td style=\"text-align: right;\">0.358238</td><td style=\"text-align: right;\">0.320051</td><td style=\"text-align: right;\">0.321711</td><td style=\"text-align: right;\">0.364822</td><td style=\"text-align: right;\">0.316775</td><td style=\"text-align: right;\">0.318403</td><td style=\"text-align: right;\">0.362298</td><td style=\"text-align: right;\">0.321439</td><td style=\"text-align: right;\">0.316263</td><td style=\"text-align: right;\">0.368757</td><td style=\"text-align: right;\">0.31819 </td><td style=\"text-align: right;\">0.313053</td><td style=\"text-align: right;\">0.375187</td><td style=\"text-align: right;\">0.314957</td><td style=\"text-align: right;\">0.309856</td><td style=\"text-align: right;\">0.37992 </td><td style=\"text-align: right;\">0.313392</td><td style=\"text-align: right;\">0.306688</td><td style=\"text-align: right;\">0.384088</td><td style=\"text-align: right;\">0.31036 </td><td style=\"text-align: right;\">0.305551</td><td style=\"text-align: right;\">0.390477</td><td style=\"text-align: right;\">0.307149</td><td style=\"text-align: right;\">0.302375</td><td style=\"text-align: right;\">0.39679 </td><td style=\"text-align: right;\">0.303969</td><td style=\"text-align: right;\">0.299242</td><td style=\"text-align: right;\">0.402102</td><td style=\"text-align: right;\">0.301743</td><td style=\"text-align: right;\">0.296154</td><td style=\"text-align: right;\">0.408373</td><td style=\"text-align: right;\">0.298581</td><td style=\"text-align: right;\">0.293045</td><td style=\"text-align: right;\">0.407576</td><td style=\"text-align: right;\">0.299944</td><td style=\"text-align: right;\">0.29248 </td><td style=\"text-align: right;\">0.413121</td><td style=\"text-align: right;\">0.29793 </td><td style=\"text-align: right;\">0.288949</td><td style=\"text-align: right;\">0.417612</td><td style=\"text-align: right;\">0.295349</td><td style=\"text-align: right;\">0.287039</td><td style=\"text-align: right;\">0.42334 </td><td style=\"text-align: right;\">0.29201 </td><td style=\"text-align: right;\">0.28465 </td><td style=\"text-align: right;\">0.424066</td><td style=\"text-align: right;\">0.289964</td><td style=\"text-align: right;\">0.28597 </td><td style=\"text-align: right;\">0.430137</td><td style=\"text-align: right;\">0.286911</td><td style=\"text-align: right;\">0.282952</td><td style=\"text-align: right;\">0.434007</td><td style=\"text-align: right;\">0.283981</td><td style=\"text-align: right;\">0.282012</td><td style=\"text-align: right;\">0.433437</td><td style=\"text-align: right;\">0.285708</td><td style=\"text-align: right;\">0.280855</td><td style=\"text-align: right;\">0.439355</td><td style=\"text-align: right;\">0.282727</td><td style=\"text-align: right;\">0.277917</td><td style=\"text-align: right;\">0.444856</td><td style=\"text-align: right;\">0.280404</td><td style=\"text-align: right;\">0.27474 </td><td style=\"text-align: right;\">0.450728</td><td style=\"text-align: right;\">0.277436</td><td style=\"text-align: right;\">0.271836</td><td style=\"text-align: right;\">0.456551</td><td style=\"text-align: right;\">0.274495</td><td style=\"text-align: right;\">0.268953</td><td style=\"text-align: right;\">0.458799</td><td style=\"text-align: right;\">0.27263 </td><td style=\"text-align: right;\">0.268571</td><td style=\"text-align: right;\">0.463441</td><td style=\"text-align: right;\">0.27082 </td><td style=\"text-align: right;\">0.265739</td><td style=\"text-align: right;\">0.469183</td><td style=\"text-align: right;\">0.267907</td><td style=\"text-align: right;\">0.26291 </td><td style=\"text-align: right;\">0.472086</td><td style=\"text-align: right;\">0.265286</td><td style=\"text-align: right;\">0.262628</td><td style=\"text-align: right;\">0.477729</td><td style=\"text-align: right;\">0.262456</td><td style=\"text-align: right;\">0.259815</td><td style=\"text-align: right;\">0.476169</td><td style=\"text-align: right;\">0.265666</td><td style=\"text-align: right;\">0.258164</td><td style=\"text-align: right;\">0.481755</td><td style=\"text-align: right;\">0.262831</td><td style=\"text-align: right;\">0.255414</td><td style=\"text-align: right;\">0.486901</td><td style=\"text-align: right;\">0.260614</td><td style=\"text-align: right;\">0.252485</td><td style=\"text-align: right;\">0.492444</td><td style=\"text-align: right;\">0.257798</td><td style=\"text-align: right;\">0.249758</td><td style=\"text-align: right;\">0.493157</td><td style=\"text-align: right;\">0.258033</td><td style=\"text-align: right;\">0.248811</td><td style=\"text-align: right;\">0.498065</td><td style=\"text-align: right;\">0.255778</td><td style=\"text-align: right;\">0.246157</td><td style=\"text-align: right;\">0.503434</td><td style=\"text-align: right;\">0.253037</td><td style=\"text-align: right;\">0.243529</td><td style=\"text-align: right;\">0.50754 </td><td style=\"text-align: right;\">0.250508</td><td style=\"text-align: right;\">0.241952</td><td style=\"text-align: right;\">0.512375</td><td style=\"text-align: right;\">0.248539</td><td style=\"text-align: right;\">0.239086</td><td style=\"text-align: right;\">0.514998</td><td style=\"text-align: right;\">0.249833</td><td style=\"text-align: right;\">0.235168</td><td style=\"text-align: right;\">0.512981</td><td style=\"text-align: right;\">0.252727</td><td style=\"text-align: right;\">0.234292</td><td style=\"text-align: right;\">0.516958</td><td style=\"text-align: right;\">0.251205</td><td style=\"text-align: right;\">0.231837</td><td style=\"text-align: right;\">0.518193</td><td style=\"text-align: right;\">0.250553</td><td style=\"text-align: right;\">0.231254</td><td style=\"text-align: right;\">0.522469</td><td style=\"text-align: right;\">0.248487</td><td style=\"text-align: right;\">0.229043</td><td style=\"text-align: right;\">0.526568</td><td style=\"text-align: right;\">0.245881</td><td style=\"text-align: right;\">0.227552</td><td style=\"text-align: right;\">0.530735</td><td style=\"text-align: right;\">0.243396</td><td style=\"text-align: right;\">0.225868</td><td style=\"text-align: right;\">0.535853</td><td style=\"text-align: right;\">0.240728</td><td style=\"text-align: right;\">0.223419</td><td style=\"text-align: right;\">0.540691</td><td style=\"text-align: right;\">0.238439</td><td style=\"text-align: right;\">0.22087 </td><td style=\"text-align: right;\">0.542621</td><td style=\"text-align: right;\">0.236187</td><td style=\"text-align: right;\">0.221192</td><td style=\"text-align: right;\">0.546879</td><td style=\"text-align: right;\">0.234308</td><td style=\"text-align: right;\">0.218814</td><td style=\"text-align: right;\">0.548902</td><td style=\"text-align: right;\">0.233107</td><td style=\"text-align: right;\">0.217991</td><td style=\"text-align: right;\">0.553569</td><td style=\"text-align: right;\">0.230939</td><td style=\"text-align: right;\">0.215492</td><td style=\"text-align: right;\">0.554286</td><td style=\"text-align: right;\">0.230564</td><td style=\"text-align: right;\">0.215149</td><td style=\"text-align: right;\">0.558821</td><td style=\"text-align: right;\">0.227853</td><td style=\"text-align: right;\">0.213326</td><td style=\"text-align: right;\">0.562802</td><td style=\"text-align: right;\">0.226596</td><td style=\"text-align: right;\">0.210602</td><td style=\"text-align: right;\">0.567043</td><td style=\"text-align: right;\">0.224643</td><td style=\"text-align: right;\">0.208314</td><td style=\"text-align: right;\">0.571816</td><td style=\"text-align: right;\">0.222156</td><td style=\"text-align: right;\">0.206028</td><td style=\"text-align: right;\">0.576569</td><td style=\"text-align: right;\">0.219689</td><td style=\"text-align: right;\">0.203742</td><td style=\"text-align: right;\">0.577079</td><td style=\"text-align: right;\">0.219566</td><td style=\"text-align: right;\">0.203355</td><td style=\"text-align: right;\">0.580648</td><td style=\"text-align: right;\">0.217318</td><td style=\"text-align: right;\">0.202034</td><td style=\"text-align: right;\">0.58534 </td><td style=\"text-align: right;\">0.214886</td><td style=\"text-align: right;\">0.199775</td><td style=\"text-align: right;\">0.588402</td><td style=\"text-align: right;\">0.212648</td><td style=\"text-align: right;\">0.19895 </td><td style=\"text-align: right;\">0.59268 </td><td style=\"text-align: right;\">0.210689</td><td style=\"text-align: right;\">0.196631</td><td style=\"text-align: right;\">0.596741</td><td style=\"text-align: right;\">0.20896 </td><td style=\"text-align: right;\">0.194299</td><td style=\"text-align: right;\">0.601261</td><td style=\"text-align: right;\">0.206601</td><td style=\"text-align: right;\">0.192138</td><td style=\"text-align: right;\">0.605394</td><td style=\"text-align: right;\">0.204727</td><td style=\"text-align: right;\">0.189879</td><td style=\"text-align: right;\">0.608102</td><td style=\"text-align: right;\">0.202935</td><td style=\"text-align: right;\">0.188962</td><td style=\"text-align: right;\">0.60779 </td><td style=\"text-align: right;\">0.203327</td><td style=\"text-align: right;\">0.188882</td><td style=\"text-align: right;\">0.608751</td><td style=\"text-align: right;\">0.202165</td><td style=\"text-align: right;\">0.189083</td><td style=\"text-align: right;\">0.612332</td><td style=\"text-align: right;\">0.200638</td><td style=\"text-align: right;\">0.18703 </td><td style=\"text-align: right;\">0.616458</td><td style=\"text-align: right;\">0.19828 </td><td style=\"text-align: right;\">0.185263</td><td style=\"text-align: right;\">0.617609</td><td style=\"text-align: right;\">0.197669</td><td style=\"text-align: right;\">0.184723</td><td style=\"text-align: right;\">0.619784</td><td style=\"text-align: right;\">0.196378</td><td style=\"text-align: right;\">0.183838</td><td style=\"text-align: right;\">0.624117</td><td style=\"text-align: right;\">0.194125</td><td style=\"text-align: right;\">0.181758</td><td style=\"text-align: right;\">0.628164</td><td style=\"text-align: right;\">0.191833</td><td style=\"text-align: right;\">0.180002</td><td style=\"text-align: right;\">0.627861</td><td style=\"text-align: right;\">0.192208</td><td style=\"text-align: right;\">0.17993 </td><td style=\"text-align: right;\">0.631901</td><td style=\"text-align: right;\">0.189941</td><td style=\"text-align: right;\">0.178157</td><td style=\"text-align: right;\">0.636097</td><td style=\"text-align: right;\">0.187767</td><td style=\"text-align: right;\">0.176136</td><td style=\"text-align: right;\">0.640237</td><td style=\"text-align: right;\">0.185616</td><td style=\"text-align: right;\">0.174147</td><td style=\"text-align: right;\">0.64089 </td><td style=\"text-align: right;\">0.185236</td><td style=\"text-align: right;\">0.173874</td><td style=\"text-align: right;\">0.641477</td><td style=\"text-align: right;\">0.184921</td><td style=\"text-align: right;\">0.173603</td><td style=\"text-align: right;\">0.641721</td><td style=\"text-align: right;\">0.185178</td><td style=\"text-align: right;\">0.173101</td><td style=\"text-align: right;\">0.645297</td><td style=\"text-align: right;\">0.183508</td><td style=\"text-align: right;\">0.171195</td><td style=\"text-align: right;\">0.647935</td><td style=\"text-align: right;\">0.182308</td><td style=\"text-align: right;\">0.169756</td><td style=\"text-align: right;\">0.651462</td><td style=\"text-align: right;\">0.180832</td><td style=\"text-align: right;\">0.167706</td><td style=\"text-align: right;\">0.654239</td><td style=\"text-align: right;\">0.179856</td><td style=\"text-align: right;\">0.165905</td><td style=\"text-align: right;\">0.65821 </td><td style=\"text-align: right;\">0.177771</td><td style=\"text-align: right;\">0.164019</td><td style=\"text-align: right;\">0.658533</td><td style=\"text-align: right;\">0.177378</td><td style=\"text-align: right;\">0.164089</td><td style=\"text-align: right;\">0.661517</td><td style=\"text-align: right;\">0.175812</td><td style=\"text-align: right;\">0.162671</td><td style=\"text-align: right;\">0.665405</td><td style=\"text-align: right;\">0.17379 </td><td style=\"text-align: right;\">0.160806</td><td style=\"text-align: right;\">0.667797</td><td style=\"text-align: right;\">0.172449</td><td style=\"text-align: right;\">0.159754</td><td style=\"text-align: right;\">0.671638</td><td style=\"text-align: right;\">0.170445</td><td style=\"text-align: right;\">0.157917</td><td style=\"text-align: right;\">0.674896</td><td style=\"text-align: right;\">0.169114</td><td style=\"text-align: right;\">0.15599 </td><td style=\"text-align: right;\">0.678664</td><td style=\"text-align: right;\">0.167163</td><td style=\"text-align: right;\">0.154173</td><td style=\"text-align: right;\">0.682364</td><td style=\"text-align: right;\">0.165227</td><td style=\"text-align: right;\">0.152409</td><td style=\"text-align: right;\">0.686079</td><td style=\"text-align: right;\">0.163298</td><td style=\"text-align: right;\">0.150623</td><td style=\"text-align: right;\">0.689735</td><td style=\"text-align: right;\">0.161387</td><td style=\"text-align: right;\">0.148879</td><td style=\"text-align: right;\">0.693346</td><td style=\"text-align: right;\">0.159502</td><td style=\"text-align: right;\">0.147152</td><td style=\"text-align: right;\"> 0.69692 </td><td style=\"text-align: right;\"> 0.157636</td><td style=\"text-align: right;\"> 0.145443</td></tr>\n",
       "<tr><td style=\"text-align: right;\">0.338688</td><td style=\"text-align: right;\">0.330436</td><td style=\"text-align: right;\">0.330877</td><td style=\"text-align: right;\">0.345165</td><td style=\"text-align: right;\">0.326893</td><td style=\"text-align: right;\">0.327942</td><td style=\"text-align: right;\">0.351615</td><td style=\"text-align: right;\">0.323349</td><td style=\"text-align: right;\">0.325036</td><td style=\"text-align: right;\">0.358238</td><td style=\"text-align: right;\">0.320051</td><td style=\"text-align: right;\">0.321711</td><td style=\"text-align: right;\">0.364822</td><td style=\"text-align: right;\">0.316775</td><td style=\"text-align: right;\">0.318403</td><td style=\"text-align: right;\">0.371071</td><td style=\"text-align: right;\">0.313236</td><td style=\"text-align: right;\">0.315693</td><td style=\"text-align: right;\">0.377594</td><td style=\"text-align: right;\">0.309994</td><td style=\"text-align: right;\">0.312412</td><td style=\"text-align: right;\">0.384084</td><td style=\"text-align: right;\">0.30677 </td><td style=\"text-align: right;\">0.309146</td><td style=\"text-align: right;\">0.388866</td><td style=\"text-align: right;\">0.305197</td><td style=\"text-align: right;\">0.305937</td><td style=\"text-align: right;\">0.393062</td><td style=\"text-align: right;\">0.30219 </td><td style=\"text-align: right;\">0.304748</td><td style=\"text-align: right;\">0.399503</td><td style=\"text-align: right;\">0.29899 </td><td style=\"text-align: right;\">0.301507</td><td style=\"text-align: right;\">0.405865</td><td style=\"text-align: right;\">0.295824</td><td style=\"text-align: right;\">0.298311</td><td style=\"text-align: right;\">0.411221</td><td style=\"text-align: right;\">0.293602</td><td style=\"text-align: right;\">0.295177</td><td style=\"text-align: right;\">0.417535</td><td style=\"text-align: right;\">0.290456</td><td style=\"text-align: right;\">0.292009</td><td style=\"text-align: right;\">0.423805</td><td style=\"text-align: right;\">0.287333</td><td style=\"text-align: right;\">0.288862</td><td style=\"text-align: right;\">0.429421</td><td style=\"text-align: right;\">0.285305</td><td style=\"text-align: right;\">0.285274</td><td style=\"text-align: right;\">0.433954</td><td style=\"text-align: right;\">0.282745</td><td style=\"text-align: right;\">0.283301</td><td style=\"text-align: right;\">0.439731</td><td style=\"text-align: right;\">0.279438</td><td style=\"text-align: right;\">0.280831</td><td style=\"text-align: right;\">0.440442</td><td style=\"text-align: right;\">0.277452</td><td style=\"text-align: right;\">0.282105</td><td style=\"text-align: right;\">0.446566</td><td style=\"text-align: right;\">0.274419</td><td style=\"text-align: right;\">0.279015</td><td style=\"text-align: right;\">0.450453</td><td style=\"text-align: right;\">0.271539</td><td style=\"text-align: right;\">0.278008</td><td style=\"text-align: right;\">0.456553</td><td style=\"text-align: right;\">0.268527</td><td style=\"text-align: right;\">0.27492 </td><td style=\"text-align: right;\">0.46256 </td><td style=\"text-align: right;\">0.265595</td><td style=\"text-align: right;\">0.271845</td><td style=\"text-align: right;\">0.468116</td><td style=\"text-align: right;\">0.263281</td><td style=\"text-align: right;\">0.268603</td><td style=\"text-align: right;\">0.474034</td><td style=\"text-align: right;\">0.260349</td><td style=\"text-align: right;\">0.265617</td><td style=\"text-align: right;\">0.479895</td><td style=\"text-align: right;\">0.257449</td><td style=\"text-align: right;\">0.262656</td><td style=\"text-align: right;\">0.482142</td><td style=\"text-align: right;\">0.255638</td><td style=\"text-align: right;\">0.26222 </td><td style=\"text-align: right;\">0.486817</td><td style=\"text-align: right;\">0.253836</td><td style=\"text-align: right;\">0.259347</td><td style=\"text-align: right;\">0.492566</td><td style=\"text-align: right;\">0.250997</td><td style=\"text-align: right;\">0.256437</td><td style=\"text-align: right;\">0.495457</td><td style=\"text-align: right;\">0.248463</td><td style=\"text-align: right;\">0.256081</td><td style=\"text-align: right;\">0.501114</td><td style=\"text-align: right;\">0.245683</td><td style=\"text-align: right;\">0.253204</td><td style=\"text-align: right;\">0.506777</td><td style=\"text-align: right;\">0.242912</td><td style=\"text-align: right;\">0.250311</td><td style=\"text-align: right;\">0.51237 </td><td style=\"text-align: right;\">0.240155</td><td style=\"text-align: right;\">0.247475</td><td style=\"text-align: right;\">0.517528</td><td style=\"text-align: right;\">0.237985</td><td style=\"text-align: right;\">0.244488</td><td style=\"text-align: right;\">0.523064</td><td style=\"text-align: right;\">0.235253</td><td style=\"text-align: right;\">0.241683</td><td style=\"text-align: right;\">0.52853 </td><td style=\"text-align: right;\">0.232555</td><td style=\"text-align: right;\">0.238915</td><td style=\"text-align: right;\">0.533428</td><td style=\"text-align: right;\">0.230366</td><td style=\"text-align: right;\">0.236206</td><td style=\"text-align: right;\">0.538769</td><td style=\"text-align: right;\">0.227724</td><td style=\"text-align: right;\">0.233506</td><td style=\"text-align: right;\">0.542834</td><td style=\"text-align: right;\">0.225312</td><td style=\"text-align: right;\">0.231854</td><td style=\"text-align: right;\">0.547647</td><td style=\"text-align: right;\">0.223395</td><td style=\"text-align: right;\">0.228958</td><td style=\"text-align: right;\">0.552874</td><td style=\"text-align: right;\">0.220811</td><td style=\"text-align: right;\">0.226315</td><td style=\"text-align: right;\">0.558084</td><td style=\"text-align: right;\">0.218228</td><td style=\"text-align: right;\">0.223687</td><td style=\"text-align: right;\">0.562085</td><td style=\"text-align: right;\">0.216789</td><td style=\"text-align: right;\">0.221126</td><td style=\"text-align: right;\">0.563302</td><td style=\"text-align: right;\">0.216178</td><td style=\"text-align: right;\">0.22052 </td><td style=\"text-align: right;\">0.567521</td><td style=\"text-align: right;\">0.214233</td><td style=\"text-align: right;\">0.218246</td><td style=\"text-align: right;\">0.571525</td><td style=\"text-align: right;\">0.21182 </td><td style=\"text-align: right;\">0.216656</td><td style=\"text-align: right;\">0.575599</td><td style=\"text-align: right;\">0.209516</td><td style=\"text-align: right;\">0.214885</td><td style=\"text-align: right;\">0.580613</td><td style=\"text-align: right;\">0.207028</td><td style=\"text-align: right;\">0.212359</td><td style=\"text-align: right;\">0.585391</td><td style=\"text-align: right;\">0.204897</td><td style=\"text-align: right;\">0.209713</td><td style=\"text-align: right;\">0.58721 </td><td style=\"text-align: right;\">0.202868</td><td style=\"text-align: right;\">0.209921</td><td style=\"text-align: right;\">0.591382</td><td style=\"text-align: right;\">0.201106</td><td style=\"text-align: right;\">0.207511</td><td style=\"text-align: right;\">0.593347</td><td style=\"text-align: right;\">0.2     </td><td style=\"text-align: right;\">0.206653</td><td style=\"text-align: right;\">0.597903</td><td style=\"text-align: right;\">0.197978</td><td style=\"text-align: right;\">0.204118</td><td style=\"text-align: right;\">0.60274 </td><td style=\"text-align: right;\">0.195594</td><td style=\"text-align: right;\">0.201666</td><td style=\"text-align: right;\">0.607112</td><td style=\"text-align: right;\">0.193116</td><td style=\"text-align: right;\">0.199772</td><td style=\"text-align: right;\">0.611004</td><td style=\"text-align: right;\">0.191914</td><td style=\"text-align: right;\">0.197082</td><td style=\"text-align: right;\">0.61511 </td><td style=\"text-align: right;\">0.190107</td><td style=\"text-align: right;\">0.194783</td><td style=\"text-align: right;\">0.619709</td><td style=\"text-align: right;\">0.187826</td><td style=\"text-align: right;\">0.192466</td><td style=\"text-align: right;\">0.624279</td><td style=\"text-align: right;\">0.185567</td><td style=\"text-align: right;\">0.190154</td><td style=\"text-align: right;\">0.628642</td><td style=\"text-align: right;\">0.183537</td><td style=\"text-align: right;\">0.187821</td><td style=\"text-align: right;\">0.632031</td><td style=\"text-align: right;\">0.181515</td><td style=\"text-align: right;\">0.186454</td><td style=\"text-align: right;\">0.636508</td><td style=\"text-align: right;\">0.179306</td><td style=\"text-align: right;\">0.184186</td><td style=\"text-align: right;\">0.639389</td><td style=\"text-align: right;\">0.177314</td><td style=\"text-align: right;\">0.183297</td><td style=\"text-align: right;\">0.643472</td><td style=\"text-align: right;\">0.175527</td><td style=\"text-align: right;\">0.181002</td><td style=\"text-align: right;\">0.647349</td><td style=\"text-align: right;\">0.173943</td><td style=\"text-align: right;\">0.178708</td><td style=\"text-align: right;\">0.651632</td><td style=\"text-align: right;\">0.171816</td><td style=\"text-align: right;\">0.176553</td><td style=\"text-align: right;\">0.655557</td><td style=\"text-align: right;\">0.170113</td><td style=\"text-align: right;\">0.174329</td><td style=\"text-align: right;\">0.658094</td><td style=\"text-align: right;\">0.168523</td><td style=\"text-align: right;\">0.173383</td><td style=\"text-align: right;\">0.662017</td><td style=\"text-align: right;\">0.166788</td><td style=\"text-align: right;\">0.171195</td><td style=\"text-align: right;\">0.662881</td><td style=\"text-align: right;\">0.165789</td><td style=\"text-align: right;\">0.17133 </td><td style=\"text-align: right;\">0.666256</td><td style=\"text-align: right;\">0.164408</td><td style=\"text-align: right;\">0.169336</td><td style=\"text-align: right;\">0.670105</td><td style=\"text-align: right;\">0.16232 </td><td style=\"text-align: right;\">0.167576</td><td style=\"text-align: right;\">0.67418 </td><td style=\"text-align: right;\">0.160324</td><td style=\"text-align: right;\">0.165496</td><td style=\"text-align: right;\">0.676192</td><td style=\"text-align: right;\">0.159193</td><td style=\"text-align: right;\">0.164616</td><td style=\"text-align: right;\">0.680213</td><td style=\"text-align: right;\">0.157203</td><td style=\"text-align: right;\">0.162584</td><td style=\"text-align: right;\">0.683951</td><td style=\"text-align: right;\">0.155194</td><td style=\"text-align: right;\">0.160855</td><td style=\"text-align: right;\">0.687594</td><td style=\"text-align: right;\">0.153589</td><td style=\"text-align: right;\">0.158817</td><td style=\"text-align: right;\">0.691294</td><td style=\"text-align: right;\">0.151619</td><td style=\"text-align: right;\">0.157087</td><td style=\"text-align: right;\">0.695139</td><td style=\"text-align: right;\">0.149722</td><td style=\"text-align: right;\">0.155139</td><td style=\"text-align: right;\">0.698784</td><td style=\"text-align: right;\">0.147821</td><td style=\"text-align: right;\">0.153395</td><td style=\"text-align: right;\">0.702534</td><td style=\"text-align: right;\">0.145945</td><td style=\"text-align: right;\">0.151521</td><td style=\"text-align: right;\">0.706228</td><td style=\"text-align: right;\">0.144122</td><td style=\"text-align: right;\">0.14965 </td><td style=\"text-align: right;\">0.709451</td><td style=\"text-align: right;\">0.142852</td><td style=\"text-align: right;\">0.147697</td><td style=\"text-align: right;\">0.712664</td><td style=\"text-align: right;\">0.141417</td><td style=\"text-align: right;\">0.145919</td><td style=\"text-align: right;\">0.715032</td><td style=\"text-align: right;\">0.140385</td><td style=\"text-align: right;\">0.144583</td><td style=\"text-align: right;\">0.718232</td><td style=\"text-align: right;\">0.139115</td><td style=\"text-align: right;\">0.142653</td><td style=\"text-align: right;\">0.720733</td><td style=\"text-align: right;\">0.138256</td><td style=\"text-align: right;\">0.141011</td><td style=\"text-align: right;\">0.724261</td><td style=\"text-align: right;\">0.136494</td><td style=\"text-align: right;\">0.139245</td><td style=\"text-align: right;\">0.727526</td><td style=\"text-align: right;\">0.134698</td><td style=\"text-align: right;\">0.137776</td><td style=\"text-align: right;\">0.730152</td><td style=\"text-align: right;\">0.133387</td><td style=\"text-align: right;\">0.136461</td><td style=\"text-align: right;\">0.733569</td><td style=\"text-align: right;\">0.131695</td><td style=\"text-align: right;\">0.134735</td><td style=\"text-align: right;\">0.735662</td><td style=\"text-align: right;\">0.130583</td><td style=\"text-align: right;\">0.133755</td><td style=\"text-align: right;\">0.739024</td><td style=\"text-align: right;\">0.128914</td><td style=\"text-align: right;\">0.132062</td><td style=\"text-align: right;\">0.741892</td><td style=\"text-align: right;\">0.127783</td><td style=\"text-align: right;\">0.130325</td><td style=\"text-align: right;\">0.745177</td><td style=\"text-align: right;\">0.126165</td><td style=\"text-align: right;\">0.128658</td><td style=\"text-align: right;\">0.748395</td><td style=\"text-align: right;\">0.124562</td><td style=\"text-align: right;\">0.127043</td><td style=\"text-align: right;\">0.751619</td><td style=\"text-align: right;\">0.122969</td><td style=\"text-align: right;\">0.125412</td><td style=\"text-align: right;\">0.754783</td><td style=\"text-align: right;\">0.121395</td><td style=\"text-align: right;\">0.123822</td><td style=\"text-align: right;\">0.757903</td><td style=\"text-align: right;\">0.119845</td><td style=\"text-align: right;\">0.122251</td><td style=\"text-align: right;\"> 0.760984</td><td style=\"text-align: right;\"> 0.118315</td><td style=\"text-align: right;\"> 0.120701</td></tr>\n",
       "<tr><td style=\"text-align: right;\">0.330002</td><td style=\"text-align: right;\">0.337511</td><td style=\"text-align: right;\">0.332486</td><td style=\"text-align: right;\">0.326573</td><td style=\"text-align: right;\">0.33905 </td><td style=\"text-align: right;\">0.334377</td><td style=\"text-align: right;\">0.322785</td><td style=\"text-align: right;\">0.340943</td><td style=\"text-align: right;\">0.336272</td><td style=\"text-align: right;\">0.319809</td><td style=\"text-align: right;\">0.347029</td><td style=\"text-align: right;\">0.333162</td><td style=\"text-align: right;\">0.31657 </td><td style=\"text-align: right;\">0.353701</td><td style=\"text-align: right;\">0.329729</td><td style=\"text-align: right;\">0.31375 </td><td style=\"text-align: right;\">0.358188</td><td style=\"text-align: right;\">0.328062</td><td style=\"text-align: right;\">0.310504</td><td style=\"text-align: right;\">0.362156</td><td style=\"text-align: right;\">0.327341</td><td style=\"text-align: right;\">0.307341</td><td style=\"text-align: right;\">0.368745</td><td style=\"text-align: right;\">0.323915</td><td style=\"text-align: right;\">0.311612</td><td style=\"text-align: right;\">0.367378</td><td style=\"text-align: right;\">0.32101 </td><td style=\"text-align: right;\">0.309436</td><td style=\"text-align: right;\">0.371883</td><td style=\"text-align: right;\">0.318681</td><td style=\"text-align: right;\">0.306298</td><td style=\"text-align: right;\">0.378362</td><td style=\"text-align: right;\">0.31534 </td><td style=\"text-align: right;\">0.30332 </td><td style=\"text-align: right;\">0.384441</td><td style=\"text-align: right;\">0.312239</td><td style=\"text-align: right;\">0.300214</td><td style=\"text-align: right;\">0.390834</td><td style=\"text-align: right;\">0.308952</td><td style=\"text-align: right;\">0.297095</td><td style=\"text-align: right;\">0.397262</td><td style=\"text-align: right;\">0.305643</td><td style=\"text-align: right;\">0.296325</td><td style=\"text-align: right;\">0.398818</td><td style=\"text-align: right;\">0.304857</td><td style=\"text-align: right;\">0.293255</td><td style=\"text-align: right;\">0.405127</td><td style=\"text-align: right;\">0.301618</td><td style=\"text-align: right;\">0.294038</td><td style=\"text-align: right;\">0.40775 </td><td style=\"text-align: right;\">0.298212</td><td style=\"text-align: right;\">0.29095 </td><td style=\"text-align: right;\">0.414052</td><td style=\"text-align: right;\">0.294998</td><td style=\"text-align: right;\">0.287231</td><td style=\"text-align: right;\">0.417021</td><td style=\"text-align: right;\">0.295748</td><td style=\"text-align: right;\">0.284173</td><td style=\"text-align: right;\">0.420374</td><td style=\"text-align: right;\">0.295453</td><td style=\"text-align: right;\">0.281847</td><td style=\"text-align: right;\">0.423128</td><td style=\"text-align: right;\">0.295024</td><td style=\"text-align: right;\">0.281198</td><td style=\"text-align: right;\">0.42528 </td><td style=\"text-align: right;\">0.293522</td><td style=\"text-align: right;\">0.278316</td><td style=\"text-align: right;\">0.431234</td><td style=\"text-align: right;\">0.29045 </td><td style=\"text-align: right;\">0.275915</td><td style=\"text-align: right;\">0.436255</td><td style=\"text-align: right;\">0.28783 </td><td style=\"text-align: right;\">0.272979</td><td style=\"text-align: right;\">0.4424  </td><td style=\"text-align: right;\">0.28462 </td><td style=\"text-align: right;\">0.27015 </td><td style=\"text-align: right;\">0.445865</td><td style=\"text-align: right;\">0.283985</td><td style=\"text-align: right;\">0.269625</td><td style=\"text-align: right;\">0.450373</td><td style=\"text-align: right;\">0.280002</td><td style=\"text-align: right;\">0.273029</td><td style=\"text-align: right;\">0.448493</td><td style=\"text-align: right;\">0.278478</td><td style=\"text-align: right;\">0.270109</td><td style=\"text-align: right;\">0.454472</td><td style=\"text-align: right;\">0.27542 </td><td style=\"text-align: right;\">0.267516</td><td style=\"text-align: right;\">0.458223</td><td style=\"text-align: right;\">0.274261</td><td style=\"text-align: right;\">0.264948</td><td style=\"text-align: right;\">0.463497</td><td style=\"text-align: right;\">0.271556</td><td style=\"text-align: right;\">0.263272</td><td style=\"text-align: right;\">0.467726</td><td style=\"text-align: right;\">0.269002</td><td style=\"text-align: right;\">0.260471</td><td style=\"text-align: right;\">0.471211</td><td style=\"text-align: right;\">0.268318</td><td style=\"text-align: right;\">0.258165</td><td style=\"text-align: right;\">0.473186</td><td style=\"text-align: right;\">0.268649</td><td style=\"text-align: right;\">0.258168</td><td style=\"text-align: right;\">0.473183</td><td style=\"text-align: right;\">0.268648</td><td style=\"text-align: right;\">0.255401</td><td style=\"text-align: right;\">0.47894 </td><td style=\"text-align: right;\">0.265659</td><td style=\"text-align: right;\">0.25912 </td><td style=\"text-align: right;\">0.476923</td><td style=\"text-align: right;\">0.263957</td><td style=\"text-align: right;\">0.260475</td><td style=\"text-align: right;\">0.479607</td><td style=\"text-align: right;\">0.259918</td><td style=\"text-align: right;\">0.257885</td><td style=\"text-align: right;\">0.4825  </td><td style=\"text-align: right;\">0.259615</td><td style=\"text-align: right;\">0.255119</td><td style=\"text-align: right;\">0.488166</td><td style=\"text-align: right;\">0.256714</td><td style=\"text-align: right;\">0.25252 </td><td style=\"text-align: right;\">0.493524</td><td style=\"text-align: right;\">0.253956</td><td style=\"text-align: right;\">0.250654</td><td style=\"text-align: right;\">0.497386</td><td style=\"text-align: right;\">0.251959</td><td style=\"text-align: right;\">0.253559</td><td style=\"text-align: right;\">0.496274</td><td style=\"text-align: right;\">0.250167</td><td style=\"text-align: right;\">0.251823</td><td style=\"text-align: right;\">0.499775</td><td style=\"text-align: right;\">0.248402</td><td style=\"text-align: right;\">0.255028</td><td style=\"text-align: right;\">0.497854</td><td style=\"text-align: right;\">0.247118</td><td style=\"text-align: right;\">0.25498 </td><td style=\"text-align: right;\">0.500176</td><td style=\"text-align: right;\">0.244845</td><td style=\"text-align: right;\">0.255358</td><td style=\"text-align: right;\">0.501975</td><td style=\"text-align: right;\">0.242667</td><td style=\"text-align: right;\">0.252583</td><td style=\"text-align: right;\">0.507513</td><td style=\"text-align: right;\">0.239904</td><td style=\"text-align: right;\">0.252323</td><td style=\"text-align: right;\">0.508047</td><td style=\"text-align: right;\">0.239631</td><td style=\"text-align: right;\">0.252681</td><td style=\"text-align: right;\">0.510596</td><td style=\"text-align: right;\">0.236723</td><td style=\"text-align: right;\">0.255847</td><td style=\"text-align: right;\">0.508887</td><td style=\"text-align: right;\">0.235266</td><td style=\"text-align: right;\">0.255968</td><td style=\"text-align: right;\">0.511901</td><td style=\"text-align: right;\">0.232131</td><td style=\"text-align: right;\">0.253447</td><td style=\"text-align: right;\">0.516702</td><td style=\"text-align: right;\">0.229851</td><td style=\"text-align: right;\">0.251684</td><td style=\"text-align: right;\">0.520723</td><td style=\"text-align: right;\">0.227593</td><td style=\"text-align: right;\">0.248956</td><td style=\"text-align: right;\">0.525494</td><td style=\"text-align: right;\">0.22555 </td><td style=\"text-align: right;\">0.246663</td><td style=\"text-align: right;\">0.529905</td><td style=\"text-align: right;\">0.223432</td><td style=\"text-align: right;\">0.249659</td><td style=\"text-align: right;\">0.527744</td><td style=\"text-align: right;\">0.222597</td><td style=\"text-align: right;\">0.24696 </td><td style=\"text-align: right;\">0.532606</td><td style=\"text-align: right;\">0.220433</td><td style=\"text-align: right;\">0.244253</td><td style=\"text-align: right;\">0.537414</td><td style=\"text-align: right;\">0.218332</td><td style=\"text-align: right;\">0.243625</td><td style=\"text-align: right;\">0.53927 </td><td style=\"text-align: right;\">0.217105</td><td style=\"text-align: right;\">0.24156 </td><td style=\"text-align: right;\">0.542274</td><td style=\"text-align: right;\">0.216166</td><td style=\"text-align: right;\">0.239194</td><td style=\"text-align: right;\">0.546775</td><td style=\"text-align: right;\">0.214031</td><td style=\"text-align: right;\">0.240452</td><td style=\"text-align: right;\">0.547816</td><td style=\"text-align: right;\">0.211732</td><td style=\"text-align: right;\">0.240108</td><td style=\"text-align: right;\">0.548441</td><td style=\"text-align: right;\">0.211451</td><td style=\"text-align: right;\">0.239615</td><td style=\"text-align: right;\">0.549411</td><td style=\"text-align: right;\">0.210974</td><td style=\"text-align: right;\">0.237232</td><td style=\"text-align: right;\">0.551807</td><td style=\"text-align: right;\">0.21096 </td><td style=\"text-align: right;\">0.235267</td><td style=\"text-align: right;\">0.555654</td><td style=\"text-align: right;\">0.209079</td><td style=\"text-align: right;\">0.233106</td><td style=\"text-align: right;\">0.557896</td><td style=\"text-align: right;\">0.208998</td><td style=\"text-align: right;\">0.230528</td><td style=\"text-align: right;\">0.562768</td><td style=\"text-align: right;\">0.206705</td><td style=\"text-align: right;\">0.229413</td><td style=\"text-align: right;\">0.566428</td><td style=\"text-align: right;\">0.204158</td><td style=\"text-align: right;\">0.231974</td><td style=\"text-align: right;\">0.565099</td><td style=\"text-align: right;\">0.202927</td><td style=\"text-align: right;\">0.229657</td><td style=\"text-align: right;\">0.568079</td><td style=\"text-align: right;\">0.202264</td><td style=\"text-align: right;\">0.228665</td><td style=\"text-align: right;\">0.570964</td><td style=\"text-align: right;\">0.200371</td><td style=\"text-align: right;\">0.226596</td><td style=\"text-align: right;\">0.57384 </td><td style=\"text-align: right;\">0.199564</td><td style=\"text-align: right;\">0.22381 </td><td style=\"text-align: right;\">0.577501</td><td style=\"text-align: right;\">0.198689</td><td style=\"text-align: right;\">0.221379</td><td style=\"text-align: right;\">0.581749</td><td style=\"text-align: right;\">0.196872</td><td style=\"text-align: right;\">0.219157</td><td style=\"text-align: right;\">0.585035</td><td style=\"text-align: right;\">0.195808</td><td style=\"text-align: right;\">0.216983</td><td style=\"text-align: right;\">0.587245</td><td style=\"text-align: right;\">0.195772</td><td style=\"text-align: right;\">0.215206</td><td style=\"text-align: right;\">0.590697</td><td style=\"text-align: right;\">0.194097</td><td style=\"text-align: right;\">0.21289 </td><td style=\"text-align: right;\">0.594838</td><td style=\"text-align: right;\">0.192273</td><td style=\"text-align: right;\">0.211243</td><td style=\"text-align: right;\">0.597971</td><td style=\"text-align: right;\">0.190787</td><td style=\"text-align: right;\">0.209489</td><td style=\"text-align: right;\">0.601339</td><td style=\"text-align: right;\">0.189172</td><td style=\"text-align: right;\">0.208961</td><td style=\"text-align: right;\">0.602416</td><td style=\"text-align: right;\">0.188623</td><td style=\"text-align: right;\">0.211359</td><td style=\"text-align: right;\">0.600488</td><td style=\"text-align: right;\">0.188153</td><td style=\"text-align: right;\">0.209552</td><td style=\"text-align: right;\">0.602436</td><td style=\"text-align: right;\">0.188012</td><td style=\"text-align: right;\">0.209027</td><td style=\"text-align: right;\">0.603412</td><td style=\"text-align: right;\">0.187562</td><td style=\"text-align: right;\">0.210629</td><td style=\"text-align: right;\">0.602189</td><td style=\"text-align: right;\">0.187181</td><td style=\"text-align: right;\">0.208408</td><td style=\"text-align: right;\">0.606056</td><td style=\"text-align: right;\">0.185536</td><td style=\"text-align: right;\">0.20652 </td><td style=\"text-align: right;\">0.607684</td><td style=\"text-align: right;\">0.185795</td><td style=\"text-align: right;\">0.206446</td><td style=\"text-align: right;\">0.609224</td><td style=\"text-align: right;\">0.18433 </td><td style=\"text-align: right;\">0.204108</td><td style=\"text-align: right;\">0.613652</td><td style=\"text-align: right;\">0.18224 </td><td style=\"text-align: right;\">0.205911</td><td style=\"text-align: right;\">0.612096</td><td style=\"text-align: right;\">0.181993</td><td style=\"text-align: right;\">0.203847</td><td style=\"text-align: right;\">0.615962</td><td style=\"text-align: right;\">0.180191</td><td style=\"text-align: right;\">0.20327 </td><td style=\"text-align: right;\">0.617026</td><td style=\"text-align: right;\">0.179704</td><td style=\"text-align: right;\">0.201322</td><td style=\"text-align: right;\">0.620694</td><td style=\"text-align: right;\">0.177984</td><td style=\"text-align: right;\">0.19919 </td><td style=\"text-align: right;\">0.624809</td><td style=\"text-align: right;\">0.176001</td><td style=\"text-align: right;\">0.196932</td><td style=\"text-align: right;\">0.629175</td><td style=\"text-align: right;\">0.173893</td><td style=\"text-align: right;\">0.195028</td><td style=\"text-align: right;\">0.631604</td><td style=\"text-align: right;\">0.173368</td><td style=\"text-align: right;\">0.193075</td><td style=\"text-align: right;\">0.634311</td><td style=\"text-align: right;\">0.172614</td><td style=\"text-align: right;\"> 0.191352</td><td style=\"text-align: right;\"> 0.637624</td><td style=\"text-align: right;\"> 0.171024</td></tr>\n",
       "</tbody>\n",
       "</table>"
      ]
     },
     "metadata": {},
     "output_type": "display_data"
    },
    {
     "data": {
      "text/plain": []
     },
     "execution_count": 216,
     "metadata": {},
     "output_type": "execute_result"
    }
   ],
   "source": [
    "staged_predict_proba"
   ]
  },
  {
   "cell_type": "code",
   "execution_count": 221,
   "metadata": {},
   "outputs": [],
   "source": [
    "conf = best_gbm2.confusion_matrix(test_h)"
   ]
  },
  {
   "cell_type": "code",
   "execution_count": 225,
   "metadata": {},
   "outputs": [
    {
     "name": "stdout",
     "output_type": "stream",
     "text": [
      "Confusion Matrix: Row labels: Actual class; Column labels: Predicted class\n",
      "\n"
     ]
    },
    {
     "data": {
      "text/html": [
       "<div style=\"overflow:auto\"><table style=\"width:50%\"><tr><td><b>Iris-setosa</b></td>\n",
       "<td><b>Iris-versicolor</b></td>\n",
       "<td><b>Iris-virginica</b></td>\n",
       "<td><b>Error</b></td>\n",
       "<td><b>Rate</b></td></tr>\n",
       "<tr><td>9.0</td>\n",
       "<td>0.0</td>\n",
       "<td>0.0</td>\n",
       "<td>0.0</td>\n",
       "<td>0 / 9</td></tr>\n",
       "<tr><td>0.0</td>\n",
       "<td>7.0</td>\n",
       "<td>1.0</td>\n",
       "<td>0.125</td>\n",
       "<td>1 / 8</td></tr>\n",
       "<tr><td>0.0</td>\n",
       "<td>1.0</td>\n",
       "<td>10.0</td>\n",
       "<td>0.0909091</td>\n",
       "<td>1 / 11</td></tr>\n",
       "<tr><td>9.0</td>\n",
       "<td>8.0</td>\n",
       "<td>11.0</td>\n",
       "<td>0.0714286</td>\n",
       "<td>2 / 28</td></tr></table></div>"
      ],
      "text/plain": [
       "Iris-setosa    Iris-versicolor    Iris-virginica    Error      Rate\n",
       "-------------  -----------------  ----------------  ---------  ------\n",
       "9              0                  0                 0          0 / 9\n",
       "0              7                  1                 0.125      1 / 8\n",
       "0              1                  10                0.0909091  1 / 11\n",
       "9              8                  11                0.0714286  2 / 28"
      ]
     },
     "metadata": {},
     "output_type": "display_data"
    },
    {
     "data": {
      "text/plain": []
     },
     "execution_count": 225,
     "metadata": {},
     "output_type": "execute_result"
    }
   ],
   "source": [
    "conf"
   ]
  },
  {
   "cell_type": "markdown",
   "metadata": {},
   "source": [
    "# Random forest classification \n",
    "\n"
   ]
  },
  {
   "cell_type": "code",
   "execution_count": 227,
   "metadata": {},
   "outputs": [
    {
     "name": "stdout",
     "output_type": "stream",
     "text": [
      "drf Model Build progress: |███████████████████████████████████████████████| 100%\n"
     ]
    }
   ],
   "source": [
    "from h2o.estimators.random_forest import H2ORandomForestEstimator\n",
    "m = H2ORandomForestEstimator(\n",
    "ntrees=100,\n",
    "stopping_metric=\"misclassification\",\n",
    "stopping_rounds=3,\n",
    "stopping_tolerance=0.02, #2%\n",
    "max_runtime_secs=60,\n",
    "model_id=\"RF:stop_test\"\n",
    ")\n",
    "m.train(x, y, train_h, validation_frame=valid_h)"
   ]
  },
  {
   "cell_type": "code",
   "execution_count": 228,
   "metadata": {},
   "outputs": [
    {
     "name": "stdout",
     "output_type": "stream",
     "text": [
      "Model Details\n",
      "=============\n",
      "H2ORandomForestEstimator :  Distributed Random Forest\n",
      "Model Key:  RF:stop_test\n",
      "\n",
      "Model Summary: \n"
     ]
    },
    {
     "data": {
      "text/html": [
       "<div style=\"overflow:auto\"><table style=\"width:50%\"><tr><td><b></b></td>\n",
       "<td><b>number_of_trees</b></td>\n",
       "<td><b>number_of_internal_trees</b></td>\n",
       "<td><b>model_size_in_bytes</b></td>\n",
       "<td><b>min_depth</b></td>\n",
       "<td><b>max_depth</b></td>\n",
       "<td><b>mean_depth</b></td>\n",
       "<td><b>min_leaves</b></td>\n",
       "<td><b>max_leaves</b></td>\n",
       "<td><b>mean_leaves</b></td></tr>\n",
       "<tr><td></td>\n",
       "<td>7.0</td>\n",
       "<td>21.0</td>\n",
       "<td>2238.0</td>\n",
       "<td>1.0</td>\n",
       "<td>5.0</td>\n",
       "<td>2.6190476</td>\n",
       "<td>2.0</td>\n",
       "<td>6.0</td>\n",
       "<td>3.9047618</td></tr></table></div>"
      ],
      "text/plain": [
       "    number_of_trees    number_of_internal_trees    model_size_in_bytes    min_depth    max_depth    mean_depth    min_leaves    max_leaves    mean_leaves\n",
       "--  -----------------  --------------------------  ---------------------  -----------  -----------  ------------  ------------  ------------  -------------\n",
       "    7                  21                          2238                   1            5            2.61905       2             6             3.90476"
      ]
     },
     "metadata": {},
     "output_type": "display_data"
    },
    {
     "name": "stdout",
     "output_type": "stream",
     "text": [
      "\n",
      "\n",
      "ModelMetricsMultinomial: drf\n",
      "** Reported on train data. **\n",
      "\n",
      "MSE: 0.03566722078808025\n",
      "RMSE: 0.18885767336298584\n",
      "LogLoss: 0.8062773324745997\n",
      "Mean Per-Class Error: 0.04233870967741935\n",
      "Confusion Matrix: Row labels: Actual class; Column labels: Predicted class\n",
      "\n"
     ]
    },
    {
     "data": {
      "text/html": [
       "<div style=\"overflow:auto\"><table style=\"width:50%\"><tr><td><b>Iris-setosa</b></td>\n",
       "<td><b>Iris-versicolor</b></td>\n",
       "<td><b>Iris-virginica</b></td>\n",
       "<td><b>Error</b></td>\n",
       "<td><b>Rate</b></td></tr>\n",
       "<tr><td>27.0</td>\n",
       "<td>0.0</td>\n",
       "<td>0.0</td>\n",
       "<td>0.0</td>\n",
       "<td>0 / 27</td></tr>\n",
       "<tr><td>0.0</td>\n",
       "<td>29.0</td>\n",
       "<td>2.0</td>\n",
       "<td>0.0645161</td>\n",
       "<td>2 / 31</td></tr>\n",
       "<tr><td>0.0</td>\n",
       "<td>2.0</td>\n",
       "<td>30.0</td>\n",
       "<td>0.0625</td>\n",
       "<td>2 / 32</td></tr>\n",
       "<tr><td>27.0</td>\n",
       "<td>31.0</td>\n",
       "<td>32.0</td>\n",
       "<td>0.0444444</td>\n",
       "<td>4 / 90</td></tr></table></div>"
      ],
      "text/plain": [
       "Iris-setosa    Iris-versicolor    Iris-virginica    Error      Rate\n",
       "-------------  -----------------  ----------------  ---------  ------\n",
       "27             0                  0                 0          0 / 27\n",
       "0              29                 2                 0.0645161  2 / 31\n",
       "0              2                  30                0.0625     2 / 32\n",
       "27             31                 32                0.0444444  4 / 90"
      ]
     },
     "metadata": {},
     "output_type": "display_data"
    },
    {
     "name": "stdout",
     "output_type": "stream",
     "text": [
      "Top-3 Hit Ratios: \n"
     ]
    },
    {
     "data": {
      "text/html": [
       "<div style=\"overflow:auto\"><table style=\"width:50%\"><tr><td><b>k</b></td>\n",
       "<td><b>hit_ratio</b></td></tr>\n",
       "<tr><td>1</td>\n",
       "<td>0.9555556</td></tr>\n",
       "<tr><td>2</td>\n",
       "<td>0.9888889</td></tr>\n",
       "<tr><td>3</td>\n",
       "<td>1.0</td></tr></table></div>"
      ],
      "text/plain": [
       "k    hit_ratio\n",
       "---  -----------\n",
       "1    0.955556\n",
       "2    0.988889\n",
       "3    1"
      ]
     },
     "metadata": {},
     "output_type": "display_data"
    },
    {
     "name": "stdout",
     "output_type": "stream",
     "text": [
      "\n",
      "ModelMetricsMultinomial: drf\n",
      "** Reported on validation data. **\n",
      "\n",
      "MSE: 0.02441077528512961\n",
      "RMSE: 0.15623948055830705\n",
      "LogLoss: 0.07296388855701476\n",
      "Mean Per-Class Error: 0.025641025641025644\n",
      "Confusion Matrix: Row labels: Actual class; Column labels: Predicted class\n",
      "\n"
     ]
    },
    {
     "data": {
      "text/html": [
       "<div style=\"overflow:auto\"><table style=\"width:50%\"><tr><td><b>Iris-setosa</b></td>\n",
       "<td><b>Iris-versicolor</b></td>\n",
       "<td><b>Iris-virginica</b></td>\n",
       "<td><b>Error</b></td>\n",
       "<td><b>Rate</b></td></tr>\n",
       "<tr><td>12.0</td>\n",
       "<td>1.0</td>\n",
       "<td>0.0</td>\n",
       "<td>0.0769231</td>\n",
       "<td>1 / 13</td></tr>\n",
       "<tr><td>0.0</td>\n",
       "<td>11.0</td>\n",
       "<td>0.0</td>\n",
       "<td>0.0</td>\n",
       "<td>0 / 11</td></tr>\n",
       "<tr><td>0.0</td>\n",
       "<td>0.0</td>\n",
       "<td>7.0</td>\n",
       "<td>0.0</td>\n",
       "<td>0 / 7</td></tr>\n",
       "<tr><td>12.0</td>\n",
       "<td>12.0</td>\n",
       "<td>7.0</td>\n",
       "<td>0.0322581</td>\n",
       "<td>1 / 31</td></tr></table></div>"
      ],
      "text/plain": [
       "Iris-setosa    Iris-versicolor    Iris-virginica    Error      Rate\n",
       "-------------  -----------------  ----------------  ---------  ------\n",
       "12             1                  0                 0.0769231  1 / 13\n",
       "0              11                 0                 0          0 / 11\n",
       "0              0                  7                 0          0 / 7\n",
       "12             12                 7                 0.0322581  1 / 31"
      ]
     },
     "metadata": {},
     "output_type": "display_data"
    },
    {
     "name": "stdout",
     "output_type": "stream",
     "text": [
      "Top-3 Hit Ratios: \n"
     ]
    },
    {
     "data": {
      "text/html": [
       "<div style=\"overflow:auto\"><table style=\"width:50%\"><tr><td><b>k</b></td>\n",
       "<td><b>hit_ratio</b></td></tr>\n",
       "<tr><td>1</td>\n",
       "<td>0.9677419</td></tr>\n",
       "<tr><td>2</td>\n",
       "<td>1.0</td></tr>\n",
       "<tr><td>3</td>\n",
       "<td>1.0</td></tr></table></div>"
      ],
      "text/plain": [
       "k    hit_ratio\n",
       "---  -----------\n",
       "1    0.967742\n",
       "2    1\n",
       "3    1"
      ]
     },
     "metadata": {},
     "output_type": "display_data"
    },
    {
     "name": "stdout",
     "output_type": "stream",
     "text": [
      "Scoring History: \n"
     ]
    },
    {
     "data": {
      "text/html": [
       "<div style=\"overflow:auto\"><table style=\"width:50%\"><tr><td><b></b></td>\n",
       "<td><b>timestamp</b></td>\n",
       "<td><b>duration</b></td>\n",
       "<td><b>number_of_trees</b></td>\n",
       "<td><b>training_rmse</b></td>\n",
       "<td><b>training_logloss</b></td>\n",
       "<td><b>training_classification_error</b></td>\n",
       "<td><b>validation_rmse</b></td>\n",
       "<td><b>validation_logloss</b></td>\n",
       "<td><b>validation_classification_error</b></td></tr>\n",
       "<tr><td></td>\n",
       "<td>2019-08-18 19:59:39</td>\n",
       "<td> 0.008 sec</td>\n",
       "<td>0.0</td>\n",
       "<td>nan</td>\n",
       "<td>nan</td>\n",
       "<td>nan</td>\n",
       "<td>nan</td>\n",
       "<td>nan</td>\n",
       "<td>nan</td></tr>\n",
       "<tr><td></td>\n",
       "<td>2019-08-18 19:59:39</td>\n",
       "<td> 0.126 sec</td>\n",
       "<td>1.0</td>\n",
       "<td>0.2342606</td>\n",
       "<td>1.7017244</td>\n",
       "<td>0.0731707</td>\n",
       "<td>0.2694080</td>\n",
       "<td>2.2506677</td>\n",
       "<td>0.0322581</td></tr>\n",
       "<tr><td></td>\n",
       "<td>2019-08-18 19:59:39</td>\n",
       "<td> 0.156 sec</td>\n",
       "<td>2.0</td>\n",
       "<td>0.2174987</td>\n",
       "<td>1.1538624</td>\n",
       "<td>0.0645161</td>\n",
       "<td>0.1225390</td>\n",
       "<td>0.0480261</td>\n",
       "<td>0.0</td></tr>\n",
       "<tr><td></td>\n",
       "<td>2019-08-18 19:59:39</td>\n",
       "<td> 0.174 sec</td>\n",
       "<td>3.0</td>\n",
       "<td>0.2122356</td>\n",
       "<td>1.0031227</td>\n",
       "<td>0.0694444</td>\n",
       "<td>0.1651665</td>\n",
       "<td>0.0736850</td>\n",
       "<td>0.0322581</td></tr>\n",
       "<tr><td></td>\n",
       "<td>2019-08-18 19:59:39</td>\n",
       "<td> 0.189 sec</td>\n",
       "<td>4.0</td>\n",
       "<td>0.2034964</td>\n",
       "<td>0.8966704</td>\n",
       "<td>0.0493827</td>\n",
       "<td>0.1709036</td>\n",
       "<td>0.0831353</td>\n",
       "<td>0.0322581</td></tr>\n",
       "<tr><td></td>\n",
       "<td>2019-08-18 19:59:39</td>\n",
       "<td> 0.202 sec</td>\n",
       "<td>5.0</td>\n",
       "<td>0.1960560</td>\n",
       "<td>0.8431688</td>\n",
       "<td>0.0465116</td>\n",
       "<td>0.1688273</td>\n",
       "<td>0.0817218</td>\n",
       "<td>0.0645161</td></tr>\n",
       "<tr><td></td>\n",
       "<td>2019-08-18 19:59:39</td>\n",
       "<td> 0.212 sec</td>\n",
       "<td>6.0</td>\n",
       "<td>0.1953643</td>\n",
       "<td>0.8122167</td>\n",
       "<td>0.0444444</td>\n",
       "<td>0.1629708</td>\n",
       "<td>0.0777818</td>\n",
       "<td>0.0322581</td></tr>\n",
       "<tr><td></td>\n",
       "<td>2019-08-18 19:59:39</td>\n",
       "<td> 0.222 sec</td>\n",
       "<td>7.0</td>\n",
       "<td>0.1888577</td>\n",
       "<td>0.8062773</td>\n",
       "<td>0.0444444</td>\n",
       "<td>0.1562395</td>\n",
       "<td>0.0729639</td>\n",
       "<td>0.0322581</td></tr></table></div>"
      ],
      "text/plain": [
       "    timestamp            duration    number_of_trees    training_rmse    training_logloss    training_classification_error    validation_rmse    validation_logloss    validation_classification_error\n",
       "--  -------------------  ----------  -----------------  ---------------  ------------------  -------------------------------  -----------------  --------------------  ---------------------------------\n",
       "    2019-08-18 19:59:39  0.008 sec   0                  nan              nan                 nan                              nan                nan                   nan\n",
       "    2019-08-18 19:59:39  0.126 sec   1                  0.234261         1.70172             0.0731707                        0.269408           2.25067               0.0322581\n",
       "    2019-08-18 19:59:39  0.156 sec   2                  0.217499         1.15386             0.0645161                        0.122539           0.0480261             0\n",
       "    2019-08-18 19:59:39  0.174 sec   3                  0.212236         1.00312             0.0694444                        0.165166           0.073685              0.0322581\n",
       "    2019-08-18 19:59:39  0.189 sec   4                  0.203496         0.89667             0.0493827                        0.170904           0.0831353             0.0322581\n",
       "    2019-08-18 19:59:39  0.202 sec   5                  0.196056         0.843169            0.0465116                        0.168827           0.0817218             0.0645161\n",
       "    2019-08-18 19:59:39  0.212 sec   6                  0.195364         0.812217            0.0444444                        0.162971           0.0777818             0.0322581\n",
       "    2019-08-18 19:59:39  0.222 sec   7                  0.188858         0.806277            0.0444444                        0.156239           0.0729639             0.0322581"
      ]
     },
     "metadata": {},
     "output_type": "display_data"
    },
    {
     "name": "stdout",
     "output_type": "stream",
     "text": [
      "Variable Importances: \n"
     ]
    },
    {
     "data": {
      "text/html": [
       "<div style=\"overflow:auto\"><table style=\"width:50%\"><tr><td><b>variable</b></td>\n",
       "<td><b>relative_importance</b></td>\n",
       "<td><b>scaled_importance</b></td>\n",
       "<td><b>percentage</b></td></tr>\n",
       "<tr><td>petal_ratio</td>\n",
       "<td>109.8676453</td>\n",
       "<td>1.0</td>\n",
       "<td>0.3061988</td></tr>\n",
       "<tr><td>PetalLengthCm</td>\n",
       "<td>96.2286987</td>\n",
       "<td>0.8758602</td>\n",
       "<td>0.2681874</td></tr>\n",
       "<tr><td>sepal_ratio</td>\n",
       "<td>78.4120865</td>\n",
       "<td>0.7136959</td>\n",
       "<td>0.2185328</td></tr>\n",
       "<tr><td>PetalWidthCm</td>\n",
       "<td>43.0927353</td>\n",
       "<td>0.3922241</td>\n",
       "<td>0.1200985</td></tr>\n",
       "<tr><td>SepalLengthCm</td>\n",
       "<td>23.5936852</td>\n",
       "<td>0.2147464</td>\n",
       "<td>0.0657551</td></tr>\n",
       "<tr><td>SepalWidthCm</td>\n",
       "<td>7.6166124</td>\n",
       "<td>0.0693253</td>\n",
       "<td>0.0212273</td></tr></table></div>"
      ],
      "text/plain": [
       "variable       relative_importance    scaled_importance    percentage\n",
       "-------------  ---------------------  -------------------  ------------\n",
       "petal_ratio    109.868                1                    0.306199\n",
       "PetalLengthCm  96.2287                0.87586              0.268187\n",
       "sepal_ratio    78.4121                0.713696             0.218533\n",
       "PetalWidthCm   43.0927                0.392224             0.120099\n",
       "SepalLengthCm  23.5937                0.214746             0.0657551\n",
       "SepalWidthCm   7.61661                0.0693253            0.0212273"
      ]
     },
     "metadata": {},
     "output_type": "display_data"
    },
    {
     "data": {
      "text/plain": []
     },
     "execution_count": 228,
     "metadata": {},
     "output_type": "execute_result"
    }
   ],
   "source": [
    "m"
   ]
  },
  {
   "cell_type": "code",
   "execution_count": 229,
   "metadata": {},
   "outputs": [],
   "source": [
    "pref = m.model_performance(valid_h)"
   ]
  },
  {
   "cell_type": "code",
   "execution_count": 230,
   "metadata": {},
   "outputs": [
    {
     "name": "stdout",
     "output_type": "stream",
     "text": [
      "\n",
      "ModelMetricsMultinomial: drf\n",
      "** Reported on test data. **\n",
      "\n",
      "MSE: 0.02441077528512961\n",
      "RMSE: 0.15623948055830705\n",
      "LogLoss: 0.07296388855701476\n",
      "Mean Per-Class Error: 0.025641025641025644\n",
      "Confusion Matrix: Row labels: Actual class; Column labels: Predicted class\n",
      "\n"
     ]
    },
    {
     "data": {
      "text/html": [
       "<div style=\"overflow:auto\"><table style=\"width:50%\"><tr><td><b>Iris-setosa</b></td>\n",
       "<td><b>Iris-versicolor</b></td>\n",
       "<td><b>Iris-virginica</b></td>\n",
       "<td><b>Error</b></td>\n",
       "<td><b>Rate</b></td></tr>\n",
       "<tr><td>12.0</td>\n",
       "<td>1.0</td>\n",
       "<td>0.0</td>\n",
       "<td>0.0769231</td>\n",
       "<td>1 / 13</td></tr>\n",
       "<tr><td>0.0</td>\n",
       "<td>11.0</td>\n",
       "<td>0.0</td>\n",
       "<td>0.0</td>\n",
       "<td>0 / 11</td></tr>\n",
       "<tr><td>0.0</td>\n",
       "<td>0.0</td>\n",
       "<td>7.0</td>\n",
       "<td>0.0</td>\n",
       "<td>0 / 7</td></tr>\n",
       "<tr><td>12.0</td>\n",
       "<td>12.0</td>\n",
       "<td>7.0</td>\n",
       "<td>0.0322581</td>\n",
       "<td>1 / 31</td></tr></table></div>"
      ],
      "text/plain": [
       "Iris-setosa    Iris-versicolor    Iris-virginica    Error      Rate\n",
       "-------------  -----------------  ----------------  ---------  ------\n",
       "12             1                  0                 0.0769231  1 / 13\n",
       "0              11                 0                 0          0 / 11\n",
       "0              0                  7                 0          0 / 7\n",
       "12             12                 7                 0.0322581  1 / 31"
      ]
     },
     "metadata": {},
     "output_type": "display_data"
    },
    {
     "name": "stdout",
     "output_type": "stream",
     "text": [
      "Top-3 Hit Ratios: \n"
     ]
    },
    {
     "data": {
      "text/html": [
       "<div style=\"overflow:auto\"><table style=\"width:50%\"><tr><td><b>k</b></td>\n",
       "<td><b>hit_ratio</b></td></tr>\n",
       "<tr><td>1</td>\n",
       "<td>0.9677419</td></tr>\n",
       "<tr><td>2</td>\n",
       "<td>1.0</td></tr>\n",
       "<tr><td>3</td>\n",
       "<td>1.0</td></tr></table></div>"
      ],
      "text/plain": [
       "k    hit_ratio\n",
       "---  -----------\n",
       "1    0.967742\n",
       "2    1\n",
       "3    1"
      ]
     },
     "metadata": {},
     "output_type": "display_data"
    },
    {
     "data": {
      "text/plain": []
     },
     "execution_count": 230,
     "metadata": {},
     "output_type": "execute_result"
    }
   ],
   "source": [
    "pref"
   ]
  },
  {
   "cell_type": "code",
   "execution_count": 231,
   "metadata": {},
   "outputs": [
    {
     "name": "stdout",
     "output_type": "stream",
     "text": [
      "gbm Model Build progress: |███████████████████████████████████████████████| 100%\n"
     ]
    }
   ],
   "source": [
    "cv_m = H2OGradientBoostingEstimator()\n",
    "cv_m.train(x = x, y = y, training_frame = train_h.rbind(valid_h))"
   ]
  },
  {
   "cell_type": "code",
   "execution_count": 232,
   "metadata": {},
   "outputs": [
    {
     "name": "stdout",
     "output_type": "stream",
     "text": [
      "Model Details\n",
      "=============\n",
      "H2OGradientBoostingEstimator :  Gradient Boosting Machine\n",
      "Model Key:  GBM_model_python_1566125904838_3\n",
      "\n",
      "Model Summary: \n"
     ]
    },
    {
     "data": {
      "text/html": [
       "<div style=\"overflow:auto\"><table style=\"width:50%\"><tr><td><b></b></td>\n",
       "<td><b>number_of_trees</b></td>\n",
       "<td><b>number_of_internal_trees</b></td>\n",
       "<td><b>model_size_in_bytes</b></td>\n",
       "<td><b>min_depth</b></td>\n",
       "<td><b>max_depth</b></td>\n",
       "<td><b>mean_depth</b></td>\n",
       "<td><b>min_leaves</b></td>\n",
       "<td><b>max_leaves</b></td>\n",
       "<td><b>mean_leaves</b></td></tr>\n",
       "<tr><td></td>\n",
       "<td>50.0</td>\n",
       "<td>150.0</td>\n",
       "<td>24776.0</td>\n",
       "<td>1.0</td>\n",
       "<td>5.0</td>\n",
       "<td>4.9066668</td>\n",
       "<td>2.0</td>\n",
       "<td>11.0</td>\n",
       "<td>8.513333</td></tr></table></div>"
      ],
      "text/plain": [
       "    number_of_trees    number_of_internal_trees    model_size_in_bytes    min_depth    max_depth    mean_depth    min_leaves    max_leaves    mean_leaves\n",
       "--  -----------------  --------------------------  ---------------------  -----------  -----------  ------------  ------------  ------------  -------------\n",
       "    50                 150                         24776                  1            5            4.90667       2             11            8.51333"
      ]
     },
     "metadata": {},
     "output_type": "display_data"
    },
    {
     "name": "stdout",
     "output_type": "stream",
     "text": [
      "\n",
      "\n",
      "ModelMetricsMultinomial: gbm\n",
      "** Reported on train data. **\n",
      "\n",
      "MSE: 2.9969451197284352e-05\n",
      "RMSE: 0.005474436153366331\n",
      "LogLoss: 0.003011142287553344\n",
      "Mean Per-Class Error: 0.0\n",
      "Confusion Matrix: Row labels: Actual class; Column labels: Predicted class\n",
      "\n"
     ]
    },
    {
     "data": {
      "text/html": [
       "<div style=\"overflow:auto\"><table style=\"width:50%\"><tr><td><b>Iris-setosa</b></td>\n",
       "<td><b>Iris-versicolor</b></td>\n",
       "<td><b>Iris-virginica</b></td>\n",
       "<td><b>Error</b></td>\n",
       "<td><b>Rate</b></td></tr>\n",
       "<tr><td>41.0</td>\n",
       "<td>0.0</td>\n",
       "<td>0.0</td>\n",
       "<td>0.0</td>\n",
       "<td>0 / 41</td></tr>\n",
       "<tr><td>0.0</td>\n",
       "<td>42.0</td>\n",
       "<td>0.0</td>\n",
       "<td>0.0</td>\n",
       "<td>0 / 42</td></tr>\n",
       "<tr><td>0.0</td>\n",
       "<td>0.0</td>\n",
       "<td>39.0</td>\n",
       "<td>0.0</td>\n",
       "<td>0 / 39</td></tr>\n",
       "<tr><td>41.0</td>\n",
       "<td>42.0</td>\n",
       "<td>39.0</td>\n",
       "<td>0.0</td>\n",
       "<td>0 / 122</td></tr></table></div>"
      ],
      "text/plain": [
       "Iris-setosa    Iris-versicolor    Iris-virginica    Error    Rate\n",
       "-------------  -----------------  ----------------  -------  -------\n",
       "41             0                  0                 0        0 / 41\n",
       "0              42                 0                 0        0 / 42\n",
       "0              0                  39                0        0 / 39\n",
       "41             42                 39                0        0 / 122"
      ]
     },
     "metadata": {},
     "output_type": "display_data"
    },
    {
     "name": "stdout",
     "output_type": "stream",
     "text": [
      "Top-3 Hit Ratios: \n"
     ]
    },
    {
     "data": {
      "text/html": [
       "<div style=\"overflow:auto\"><table style=\"width:50%\"><tr><td><b>k</b></td>\n",
       "<td><b>hit_ratio</b></td></tr>\n",
       "<tr><td>1</td>\n",
       "<td>1.0</td></tr>\n",
       "<tr><td>2</td>\n",
       "<td>1.0</td></tr>\n",
       "<tr><td>3</td>\n",
       "<td>1.0</td></tr></table></div>"
      ],
      "text/plain": [
       "k    hit_ratio\n",
       "---  -----------\n",
       "1    1\n",
       "2    1\n",
       "3    1"
      ]
     },
     "metadata": {},
     "output_type": "display_data"
    },
    {
     "name": "stdout",
     "output_type": "stream",
     "text": [
      "Scoring History: \n"
     ]
    },
    {
     "data": {
      "text/html": [
       "<div style=\"overflow:auto\"><table style=\"width:50%\"><tr><td><b></b></td>\n",
       "<td><b>timestamp</b></td>\n",
       "<td><b>duration</b></td>\n",
       "<td><b>number_of_trees</b></td>\n",
       "<td><b>training_rmse</b></td>\n",
       "<td><b>training_logloss</b></td>\n",
       "<td><b>training_classification_error</b></td></tr>\n",
       "<tr><td></td>\n",
       "<td>2019-08-18 20:12:50</td>\n",
       "<td> 0.004 sec</td>\n",
       "<td>0.0</td>\n",
       "<td>0.6666667</td>\n",
       "<td>1.0986123</td>\n",
       "<td>0.6803279</td></tr>\n",
       "<tr><td></td>\n",
       "<td>2019-08-18 20:12:50</td>\n",
       "<td> 0.032 sec</td>\n",
       "<td>1.0</td>\n",
       "<td>0.6028087</td>\n",
       "<td>0.9235739</td>\n",
       "<td>0.0327869</td></tr>\n",
       "<tr><td></td>\n",
       "<td>2019-08-18 20:12:50</td>\n",
       "<td> 0.051 sec</td>\n",
       "<td>2.0</td>\n",
       "<td>0.5439558</td>\n",
       "<td>0.7855334</td>\n",
       "<td>0.0327869</td></tr>\n",
       "<tr><td></td>\n",
       "<td>2019-08-18 20:12:50</td>\n",
       "<td> 0.064 sec</td>\n",
       "<td>3.0</td>\n",
       "<td>0.4907450</td>\n",
       "<td>0.6751803</td>\n",
       "<td>0.0245902</td></tr>\n",
       "<tr><td></td>\n",
       "<td>2019-08-18 20:12:50</td>\n",
       "<td> 0.078 sec</td>\n",
       "<td>4.0</td>\n",
       "<td>0.4422441</td>\n",
       "<td>0.5837379</td>\n",
       "<td>0.0245902</td></tr>\n",
       "<tr><td>---</td>\n",
       "<td>---</td>\n",
       "<td>---</td>\n",
       "<td>---</td>\n",
       "<td>---</td>\n",
       "<td>---</td>\n",
       "<td>---</td></tr>\n",
       "<tr><td></td>\n",
       "<td>2019-08-18 20:12:51</td>\n",
       "<td> 0.876 sec</td>\n",
       "<td>46.0</td>\n",
       "<td>0.0078347</td>\n",
       "<td>0.0045212</td>\n",
       "<td>0.0</td></tr>\n",
       "<tr><td></td>\n",
       "<td>2019-08-18 20:12:51</td>\n",
       "<td> 0.895 sec</td>\n",
       "<td>47.0</td>\n",
       "<td>0.0071324</td>\n",
       "<td>0.0040728</td>\n",
       "<td>0.0</td></tr>\n",
       "<tr><td></td>\n",
       "<td>2019-08-18 20:12:51</td>\n",
       "<td> 0.913 sec</td>\n",
       "<td>48.0</td>\n",
       "<td>0.0065147</td>\n",
       "<td>0.0036616</td>\n",
       "<td>0.0</td></tr>\n",
       "<tr><td></td>\n",
       "<td>2019-08-18 20:12:51</td>\n",
       "<td> 0.932 sec</td>\n",
       "<td>49.0</td>\n",
       "<td>0.0060069</td>\n",
       "<td>0.0033374</td>\n",
       "<td>0.0</td></tr>\n",
       "<tr><td></td>\n",
       "<td>2019-08-18 20:12:51</td>\n",
       "<td> 0.954 sec</td>\n",
       "<td>50.0</td>\n",
       "<td>0.0054744</td>\n",
       "<td>0.0030111</td>\n",
       "<td>0.0</td></tr></table></div>"
      ],
      "text/plain": [
       "     timestamp            duration    number_of_trees    training_rmse         training_logloss       training_classification_error\n",
       "---  -------------------  ----------  -----------------  --------------------  ---------------------  -------------------------------\n",
       "     2019-08-18 20:12:50  0.004 sec   0.0                0.6666666666666662    1.098612288668109      0.680327868852459\n",
       "     2019-08-18 20:12:50  0.032 sec   1.0                0.6028086670601001    0.9235738735732235     0.03278688524590164\n",
       "     2019-08-18 20:12:50  0.051 sec   2.0                0.5439558187724273    0.7855334061944594     0.03278688524590164\n",
       "     2019-08-18 20:12:50  0.064 sec   3.0                0.4907449931458908    0.6751803089602506     0.02459016393442623\n",
       "     2019-08-18 20:12:50  0.078 sec   4.0                0.44224409644113244   0.5837379460517653     0.02459016393442623\n",
       "---  ---                  ---         ---                ---                   ---                    ---\n",
       "     2019-08-18 20:12:51  0.876 sec   46.0               0.007834657374507151  0.00452121213849838    0.0\n",
       "     2019-08-18 20:12:51  0.895 sec   47.0               0.00713243679511913   0.004072766088811673   0.0\n",
       "     2019-08-18 20:12:51  0.913 sec   48.0               0.00651472016517186   0.0036615763545860334  0.0\n",
       "     2019-08-18 20:12:51  0.932 sec   49.0               0.006006939065306034  0.003337402573980482   0.0\n",
       "     2019-08-18 20:12:51  0.954 sec   50.0               0.005474436153366331  0.003011142287553344   0.0"
      ]
     },
     "metadata": {},
     "output_type": "display_data"
    },
    {
     "name": "stdout",
     "output_type": "stream",
     "text": [
      "\n",
      "See the whole table with table.as_data_frame()\n",
      "Variable Importances: \n"
     ]
    },
    {
     "data": {
      "text/html": [
       "<div style=\"overflow:auto\"><table style=\"width:50%\"><tr><td><b>variable</b></td>\n",
       "<td><b>relative_importance</b></td>\n",
       "<td><b>scaled_importance</b></td>\n",
       "<td><b>percentage</b></td></tr>\n",
       "<tr><td>PetalLengthCm</td>\n",
       "<td>191.2373657</td>\n",
       "<td>1.0</td>\n",
       "<td>0.5006374</td></tr>\n",
       "<tr><td>PetalWidthCm</td>\n",
       "<td>178.8000336</td>\n",
       "<td>0.9349639</td>\n",
       "<td>0.4680779</td></tr>\n",
       "<tr><td>petal_ratio</td>\n",
       "<td>9.5424633</td>\n",
       "<td>0.0498985</td>\n",
       "<td>0.0249811</td></tr>\n",
       "<tr><td>sepal_ratio</td>\n",
       "<td>1.6426661</td>\n",
       "<td>0.0085897</td>\n",
       "<td>0.0043003</td></tr>\n",
       "<tr><td>SepalWidthCm</td>\n",
       "<td>0.4038662</td>\n",
       "<td>0.0021119</td>\n",
       "<td>0.0010573</td></tr>\n",
       "<tr><td>SepalLengthCm</td>\n",
       "<td>0.3613695</td>\n",
       "<td>0.0018896</td>\n",
       "<td>0.0009460</td></tr></table></div>"
      ],
      "text/plain": [
       "variable       relative_importance    scaled_importance    percentage\n",
       "-------------  ---------------------  -------------------  ------------\n",
       "PetalLengthCm  191.237                1                    0.500637\n",
       "PetalWidthCm   178.8                  0.934964             0.468078\n",
       "petal_ratio    9.54246                0.0498985            0.0249811\n",
       "sepal_ratio    1.64267                0.00858967           0.00430031\n",
       "SepalWidthCm   0.403866               0.00211186           0.00105728\n",
       "SepalLengthCm  0.36137                0.00188964           0.000946024"
      ]
     },
     "metadata": {},
     "output_type": "display_data"
    },
    {
     "data": {
      "text/plain": []
     },
     "execution_count": 232,
     "metadata": {},
     "output_type": "execute_result"
    }
   ],
   "source": [
    "cv_m"
   ]
  },
  {
   "cell_type": "code",
   "execution_count": 242,
   "metadata": {},
   "outputs": [
    {
     "name": "stdout",
     "output_type": "stream",
     "text": [
      "drf Grid Build progress: |████████████████████████████████████████████████| 100%\n"
     ]
    }
   ],
   "source": [
    "import h2o.grid\n",
    "g = h2o.grid.H2OGridSearch(\n",
    "h2o.estimators.H2ORandomForestEstimator(\n",
    "nfolds=10\n",
    "),\n",
    "hyper_params={\n",
    "\"ntrees\": [50, 100, 120],\n",
    "\"max_depth\": [40, 60],\n",
    "\"min_rows\": [1, 2]\n",
    "}\n",
    ")\n",
    "g.train(x, y, train_h)"
   ]
  },
  {
   "cell_type": "code",
   "execution_count": 245,
   "metadata": {},
   "outputs": [],
   "source": [
    "g_gridperf2 = g.get_grid(sort_by='mse', decreasing=True)"
   ]
  },
  {
   "cell_type": "code",
   "execution_count": 246,
   "metadata": {},
   "outputs": [
    {
     "name": "stdout",
     "output_type": "stream",
     "text": [
      "     max_depth min_rows ntrees  \\\n",
      "0           40      2.0    120   \n",
      "1           60      1.0    100   \n",
      "2           60      2.0     50   \n",
      "3           40      1.0     50   \n",
      "4           40      2.0     50   \n",
      "5           40      1.0    100   \n",
      "6           60      2.0    120   \n",
      "7           60      2.0    100   \n",
      "8           60      1.0     50   \n",
      "9           40      1.0    120   \n",
      "10          60      1.0    120   \n",
      "11          40      2.0    100   \n",
      "\n",
      "                                                        model_ids  \\\n",
      "0   Grid_DRF_py_60_sid_85ad_model_python_1566125904838_4_model_11   \n",
      "1    Grid_DRF_py_60_sid_85ad_model_python_1566125904838_4_model_6   \n",
      "2    Grid_DRF_py_60_sid_85ad_model_python_1566125904838_4_model_4   \n",
      "3    Grid_DRF_py_60_sid_85ad_model_python_1566125904838_4_model_1   \n",
      "4    Grid_DRF_py_60_sid_85ad_model_python_1566125904838_4_model_3   \n",
      "5    Grid_DRF_py_60_sid_85ad_model_python_1566125904838_4_model_5   \n",
      "6   Grid_DRF_py_60_sid_85ad_model_python_1566125904838_4_model_12   \n",
      "7    Grid_DRF_py_60_sid_85ad_model_python_1566125904838_4_model_8   \n",
      "8    Grid_DRF_py_60_sid_85ad_model_python_1566125904838_4_model_2   \n",
      "9    Grid_DRF_py_60_sid_85ad_model_python_1566125904838_4_model_9   \n",
      "10  Grid_DRF_py_60_sid_85ad_model_python_1566125904838_4_model_10   \n",
      "11   Grid_DRF_py_60_sid_85ad_model_python_1566125904838_4_model_7   \n",
      "\n",
      "                     mse  \n",
      "0   0.027645977905526187  \n",
      "1   0.027509726242141284  \n",
      "2    0.02728235586110009  \n",
      "3   0.027250589756767814  \n",
      "4   0.025624540689476068  \n",
      "5   0.025115763515876733  \n",
      "6   0.025010179069303598  \n",
      "7     0.0249452432764998  \n",
      "8    0.02486747367360586  \n",
      "9   0.024335254232005447  \n",
      "10  0.023501099745014572  \n",
      "11   0.02260112293098961  \n"
     ]
    },
    {
     "data": {
      "text/plain": []
     },
     "execution_count": 246,
     "metadata": {},
     "output_type": "execute_result"
    }
   ],
   "source": [
    "g_gridperf2"
   ]
  },
  {
   "cell_type": "code",
   "execution_count": 247,
   "metadata": {},
   "outputs": [
    {
     "name": "stdout",
     "output_type": "stream",
     "text": [
      "Confusion Matrix: Row labels: Actual class; Column labels: Predicted class\n",
      "\n"
     ]
    },
    {
     "data": {
      "text/html": [
       "<div style=\"overflow:auto\"><table style=\"width:50%\"><tr><td><b>Iris-setosa</b></td>\n",
       "<td><b>Iris-versicolor</b></td>\n",
       "<td><b>Iris-virginica</b></td>\n",
       "<td><b>Error</b></td>\n",
       "<td><b>Rate</b></td></tr>\n",
       "<tr><td>9.0</td>\n",
       "<td>0.0</td>\n",
       "<td>0.0</td>\n",
       "<td>0.0</td>\n",
       "<td>0 / 9</td></tr>\n",
       "<tr><td>0.0</td>\n",
       "<td>6.0</td>\n",
       "<td>2.0</td>\n",
       "<td>0.25</td>\n",
       "<td>2 / 8</td></tr>\n",
       "<tr><td>0.0</td>\n",
       "<td>1.0</td>\n",
       "<td>10.0</td>\n",
       "<td>0.0909091</td>\n",
       "<td>1 / 11</td></tr>\n",
       "<tr><td>9.0</td>\n",
       "<td>7.0</td>\n",
       "<td>12.0</td>\n",
       "<td>0.1071429</td>\n",
       "<td>3 / 28</td></tr></table></div>"
      ],
      "text/plain": [
       "Iris-setosa    Iris-versicolor    Iris-virginica    Error      Rate\n",
       "-------------  -----------------  ----------------  ---------  ------\n",
       "9              0                  0                 0          0 / 9\n",
       "0              6                  2                 0.25       2 / 8\n",
       "0              1                  10                0.0909091  1 / 11\n",
       "9              7                  12                0.107143   3 / 28"
      ]
     },
     "metadata": {},
     "output_type": "display_data"
    },
    {
     "name": "stdout",
     "output_type": "stream",
     "text": [
      "Confusion Matrix: Row labels: Actual class; Column labels: Predicted class\n",
      "\n"
     ]
    },
    {
     "data": {
      "text/html": [
       "<div style=\"overflow:auto\"><table style=\"width:50%\"><tr><td><b>Iris-setosa</b></td>\n",
       "<td><b>Iris-versicolor</b></td>\n",
       "<td><b>Iris-virginica</b></td>\n",
       "<td><b>Error</b></td>\n",
       "<td><b>Rate</b></td></tr>\n",
       "<tr><td>9.0</td>\n",
       "<td>0.0</td>\n",
       "<td>0.0</td>\n",
       "<td>0.0</td>\n",
       "<td>0 / 9</td></tr>\n",
       "<tr><td>0.0</td>\n",
       "<td>6.0</td>\n",
       "<td>2.0</td>\n",
       "<td>0.25</td>\n",
       "<td>2 / 8</td></tr>\n",
       "<tr><td>0.0</td>\n",
       "<td>1.0</td>\n",
       "<td>10.0</td>\n",
       "<td>0.0909091</td>\n",
       "<td>1 / 11</td></tr>\n",
       "<tr><td>9.0</td>\n",
       "<td>7.0</td>\n",
       "<td>12.0</td>\n",
       "<td>0.1071429</td>\n",
       "<td>3 / 28</td></tr></table></div>"
      ],
      "text/plain": [
       "Iris-setosa    Iris-versicolor    Iris-virginica    Error      Rate\n",
       "-------------  -----------------  ----------------  ---------  ------\n",
       "9              0                  0                 0          0 / 9\n",
       "0              6                  2                 0.25       2 / 8\n",
       "0              1                  10                0.0909091  1 / 11\n",
       "9              7                  12                0.107143   3 / 28"
      ]
     },
     "metadata": {},
     "output_type": "display_data"
    },
    {
     "name": "stdout",
     "output_type": "stream",
     "text": [
      "Confusion Matrix: Row labels: Actual class; Column labels: Predicted class\n",
      "\n"
     ]
    },
    {
     "data": {
      "text/html": [
       "<div style=\"overflow:auto\"><table style=\"width:50%\"><tr><td><b>Iris-setosa</b></td>\n",
       "<td><b>Iris-versicolor</b></td>\n",
       "<td><b>Iris-virginica</b></td>\n",
       "<td><b>Error</b></td>\n",
       "<td><b>Rate</b></td></tr>\n",
       "<tr><td>9.0</td>\n",
       "<td>0.0</td>\n",
       "<td>0.0</td>\n",
       "<td>0.0</td>\n",
       "<td>0 / 9</td></tr>\n",
       "<tr><td>0.0</td>\n",
       "<td>7.0</td>\n",
       "<td>1.0</td>\n",
       "<td>0.125</td>\n",
       "<td>1 / 8</td></tr>\n",
       "<tr><td>0.0</td>\n",
       "<td>1.0</td>\n",
       "<td>10.0</td>\n",
       "<td>0.0909091</td>\n",
       "<td>1 / 11</td></tr>\n",
       "<tr><td>9.0</td>\n",
       "<td>8.0</td>\n",
       "<td>11.0</td>\n",
       "<td>0.0714286</td>\n",
       "<td>2 / 28</td></tr></table></div>"
      ],
      "text/plain": [
       "Iris-setosa    Iris-versicolor    Iris-virginica    Error      Rate\n",
       "-------------  -----------------  ----------------  ---------  ------\n",
       "9              0                  0                 0          0 / 9\n",
       "0              7                  1                 0.125      1 / 8\n",
       "0              1                  10                0.0909091  1 / 11\n",
       "9              8                  11                0.0714286  2 / 28"
      ]
     },
     "metadata": {},
     "output_type": "display_data"
    },
    {
     "name": "stdout",
     "output_type": "stream",
     "text": [
      "Confusion Matrix: Row labels: Actual class; Column labels: Predicted class\n",
      "\n"
     ]
    },
    {
     "data": {
      "text/html": [
       "<div style=\"overflow:auto\"><table style=\"width:50%\"><tr><td><b>Iris-setosa</b></td>\n",
       "<td><b>Iris-versicolor</b></td>\n",
       "<td><b>Iris-virginica</b></td>\n",
       "<td><b>Error</b></td>\n",
       "<td><b>Rate</b></td></tr>\n",
       "<tr><td>9.0</td>\n",
       "<td>0.0</td>\n",
       "<td>0.0</td>\n",
       "<td>0.0</td>\n",
       "<td>0 / 9</td></tr>\n",
       "<tr><td>0.0</td>\n",
       "<td>7.0</td>\n",
       "<td>1.0</td>\n",
       "<td>0.125</td>\n",
       "<td>1 / 8</td></tr>\n",
       "<tr><td>0.0</td>\n",
       "<td>1.0</td>\n",
       "<td>10.0</td>\n",
       "<td>0.0909091</td>\n",
       "<td>1 / 11</td></tr>\n",
       "<tr><td>9.0</td>\n",
       "<td>8.0</td>\n",
       "<td>11.0</td>\n",
       "<td>0.0714286</td>\n",
       "<td>2 / 28</td></tr></table></div>"
      ],
      "text/plain": [
       "Iris-setosa    Iris-versicolor    Iris-virginica    Error      Rate\n",
       "-------------  -----------------  ----------------  ---------  ------\n",
       "9              0                  0                 0          0 / 9\n",
       "0              7                  1                 0.125      1 / 8\n",
       "0              1                  10                0.0909091  1 / 11\n",
       "9              8                  11                0.0714286  2 / 28"
      ]
     },
     "metadata": {},
     "output_type": "display_data"
    },
    {
     "name": "stdout",
     "output_type": "stream",
     "text": [
      "Confusion Matrix: Row labels: Actual class; Column labels: Predicted class\n",
      "\n"
     ]
    },
    {
     "data": {
      "text/html": [
       "<div style=\"overflow:auto\"><table style=\"width:50%\"><tr><td><b>Iris-setosa</b></td>\n",
       "<td><b>Iris-versicolor</b></td>\n",
       "<td><b>Iris-virginica</b></td>\n",
       "<td><b>Error</b></td>\n",
       "<td><b>Rate</b></td></tr>\n",
       "<tr><td>9.0</td>\n",
       "<td>0.0</td>\n",
       "<td>0.0</td>\n",
       "<td>0.0</td>\n",
       "<td>0 / 9</td></tr>\n",
       "<tr><td>0.0</td>\n",
       "<td>6.0</td>\n",
       "<td>2.0</td>\n",
       "<td>0.25</td>\n",
       "<td>2 / 8</td></tr>\n",
       "<tr><td>0.0</td>\n",
       "<td>1.0</td>\n",
       "<td>10.0</td>\n",
       "<td>0.0909091</td>\n",
       "<td>1 / 11</td></tr>\n",
       "<tr><td>9.0</td>\n",
       "<td>7.0</td>\n",
       "<td>12.0</td>\n",
       "<td>0.1071429</td>\n",
       "<td>3 / 28</td></tr></table></div>"
      ],
      "text/plain": [
       "Iris-setosa    Iris-versicolor    Iris-virginica    Error      Rate\n",
       "-------------  -----------------  ----------------  ---------  ------\n",
       "9              0                  0                 0          0 / 9\n",
       "0              6                  2                 0.25       2 / 8\n",
       "0              1                  10                0.0909091  1 / 11\n",
       "9              7                  12                0.107143   3 / 28"
      ]
     },
     "metadata": {},
     "output_type": "display_data"
    },
    {
     "name": "stdout",
     "output_type": "stream",
     "text": [
      "Confusion Matrix: Row labels: Actual class; Column labels: Predicted class\n",
      "\n"
     ]
    },
    {
     "data": {
      "text/html": [
       "<div style=\"overflow:auto\"><table style=\"width:50%\"><tr><td><b>Iris-setosa</b></td>\n",
       "<td><b>Iris-versicolor</b></td>\n",
       "<td><b>Iris-virginica</b></td>\n",
       "<td><b>Error</b></td>\n",
       "<td><b>Rate</b></td></tr>\n",
       "<tr><td>9.0</td>\n",
       "<td>0.0</td>\n",
       "<td>0.0</td>\n",
       "<td>0.0</td>\n",
       "<td>0 / 9</td></tr>\n",
       "<tr><td>0.0</td>\n",
       "<td>7.0</td>\n",
       "<td>1.0</td>\n",
       "<td>0.125</td>\n",
       "<td>1 / 8</td></tr>\n",
       "<tr><td>0.0</td>\n",
       "<td>1.0</td>\n",
       "<td>10.0</td>\n",
       "<td>0.0909091</td>\n",
       "<td>1 / 11</td></tr>\n",
       "<tr><td>9.0</td>\n",
       "<td>8.0</td>\n",
       "<td>11.0</td>\n",
       "<td>0.0714286</td>\n",
       "<td>2 / 28</td></tr></table></div>"
      ],
      "text/plain": [
       "Iris-setosa    Iris-versicolor    Iris-virginica    Error      Rate\n",
       "-------------  -----------------  ----------------  ---------  ------\n",
       "9              0                  0                 0          0 / 9\n",
       "0              7                  1                 0.125      1 / 8\n",
       "0              1                  10                0.0909091  1 / 11\n",
       "9              8                  11                0.0714286  2 / 28"
      ]
     },
     "metadata": {},
     "output_type": "display_data"
    },
    {
     "name": "stdout",
     "output_type": "stream",
     "text": [
      "Confusion Matrix: Row labels: Actual class; Column labels: Predicted class\n",
      "\n"
     ]
    },
    {
     "data": {
      "text/html": [
       "<div style=\"overflow:auto\"><table style=\"width:50%\"><tr><td><b>Iris-setosa</b></td>\n",
       "<td><b>Iris-versicolor</b></td>\n",
       "<td><b>Iris-virginica</b></td>\n",
       "<td><b>Error</b></td>\n",
       "<td><b>Rate</b></td></tr>\n",
       "<tr><td>9.0</td>\n",
       "<td>0.0</td>\n",
       "<td>0.0</td>\n",
       "<td>0.0</td>\n",
       "<td>0 / 9</td></tr>\n",
       "<tr><td>0.0</td>\n",
       "<td>6.0</td>\n",
       "<td>2.0</td>\n",
       "<td>0.25</td>\n",
       "<td>2 / 8</td></tr>\n",
       "<tr><td>0.0</td>\n",
       "<td>1.0</td>\n",
       "<td>10.0</td>\n",
       "<td>0.0909091</td>\n",
       "<td>1 / 11</td></tr>\n",
       "<tr><td>9.0</td>\n",
       "<td>7.0</td>\n",
       "<td>12.0</td>\n",
       "<td>0.1071429</td>\n",
       "<td>3 / 28</td></tr></table></div>"
      ],
      "text/plain": [
       "Iris-setosa    Iris-versicolor    Iris-virginica    Error      Rate\n",
       "-------------  -----------------  ----------------  ---------  ------\n",
       "9              0                  0                 0          0 / 9\n",
       "0              6                  2                 0.25       2 / 8\n",
       "0              1                  10                0.0909091  1 / 11\n",
       "9              7                  12                0.107143   3 / 28"
      ]
     },
     "metadata": {},
     "output_type": "display_data"
    },
    {
     "name": "stdout",
     "output_type": "stream",
     "text": [
      "Confusion Matrix: Row labels: Actual class; Column labels: Predicted class\n",
      "\n"
     ]
    },
    {
     "data": {
      "text/html": [
       "<div style=\"overflow:auto\"><table style=\"width:50%\"><tr><td><b>Iris-setosa</b></td>\n",
       "<td><b>Iris-versicolor</b></td>\n",
       "<td><b>Iris-virginica</b></td>\n",
       "<td><b>Error</b></td>\n",
       "<td><b>Rate</b></td></tr>\n",
       "<tr><td>9.0</td>\n",
       "<td>0.0</td>\n",
       "<td>0.0</td>\n",
       "<td>0.0</td>\n",
       "<td>0 / 9</td></tr>\n",
       "<tr><td>0.0</td>\n",
       "<td>6.0</td>\n",
       "<td>2.0</td>\n",
       "<td>0.25</td>\n",
       "<td>2 / 8</td></tr>\n",
       "<tr><td>0.0</td>\n",
       "<td>1.0</td>\n",
       "<td>10.0</td>\n",
       "<td>0.0909091</td>\n",
       "<td>1 / 11</td></tr>\n",
       "<tr><td>9.0</td>\n",
       "<td>7.0</td>\n",
       "<td>12.0</td>\n",
       "<td>0.1071429</td>\n",
       "<td>3 / 28</td></tr></table></div>"
      ],
      "text/plain": [
       "Iris-setosa    Iris-versicolor    Iris-virginica    Error      Rate\n",
       "-------------  -----------------  ----------------  ---------  ------\n",
       "9              0                  0                 0          0 / 9\n",
       "0              6                  2                 0.25       2 / 8\n",
       "0              1                  10                0.0909091  1 / 11\n",
       "9              7                  12                0.107143   3 / 28"
      ]
     },
     "metadata": {},
     "output_type": "display_data"
    },
    {
     "name": "stdout",
     "output_type": "stream",
     "text": [
      "Confusion Matrix: Row labels: Actual class; Column labels: Predicted class\n",
      "\n"
     ]
    },
    {
     "data": {
      "text/html": [
       "<div style=\"overflow:auto\"><table style=\"width:50%\"><tr><td><b>Iris-setosa</b></td>\n",
       "<td><b>Iris-versicolor</b></td>\n",
       "<td><b>Iris-virginica</b></td>\n",
       "<td><b>Error</b></td>\n",
       "<td><b>Rate</b></td></tr>\n",
       "<tr><td>9.0</td>\n",
       "<td>0.0</td>\n",
       "<td>0.0</td>\n",
       "<td>0.0</td>\n",
       "<td>0 / 9</td></tr>\n",
       "<tr><td>0.0</td>\n",
       "<td>6.0</td>\n",
       "<td>2.0</td>\n",
       "<td>0.25</td>\n",
       "<td>2 / 8</td></tr>\n",
       "<tr><td>0.0</td>\n",
       "<td>1.0</td>\n",
       "<td>10.0</td>\n",
       "<td>0.0909091</td>\n",
       "<td>1 / 11</td></tr>\n",
       "<tr><td>9.0</td>\n",
       "<td>7.0</td>\n",
       "<td>12.0</td>\n",
       "<td>0.1071429</td>\n",
       "<td>3 / 28</td></tr></table></div>"
      ],
      "text/plain": [
       "Iris-setosa    Iris-versicolor    Iris-virginica    Error      Rate\n",
       "-------------  -----------------  ----------------  ---------  ------\n",
       "9              0                  0                 0          0 / 9\n",
       "0              6                  2                 0.25       2 / 8\n",
       "0              1                  10                0.0909091  1 / 11\n",
       "9              7                  12                0.107143   3 / 28"
      ]
     },
     "metadata": {},
     "output_type": "display_data"
    },
    {
     "name": "stdout",
     "output_type": "stream",
     "text": [
      "Confusion Matrix: Row labels: Actual class; Column labels: Predicted class\n",
      "\n"
     ]
    },
    {
     "data": {
      "text/html": [
       "<div style=\"overflow:auto\"><table style=\"width:50%\"><tr><td><b>Iris-setosa</b></td>\n",
       "<td><b>Iris-versicolor</b></td>\n",
       "<td><b>Iris-virginica</b></td>\n",
       "<td><b>Error</b></td>\n",
       "<td><b>Rate</b></td></tr>\n",
       "<tr><td>9.0</td>\n",
       "<td>0.0</td>\n",
       "<td>0.0</td>\n",
       "<td>0.0</td>\n",
       "<td>0 / 9</td></tr>\n",
       "<tr><td>0.0</td>\n",
       "<td>7.0</td>\n",
       "<td>1.0</td>\n",
       "<td>0.125</td>\n",
       "<td>1 / 8</td></tr>\n",
       "<tr><td>0.0</td>\n",
       "<td>1.0</td>\n",
       "<td>10.0</td>\n",
       "<td>0.0909091</td>\n",
       "<td>1 / 11</td></tr>\n",
       "<tr><td>9.0</td>\n",
       "<td>8.0</td>\n",
       "<td>11.0</td>\n",
       "<td>0.0714286</td>\n",
       "<td>2 / 28</td></tr></table></div>"
      ],
      "text/plain": [
       "Iris-setosa    Iris-versicolor    Iris-virginica    Error      Rate\n",
       "-------------  -----------------  ----------------  ---------  ------\n",
       "9              0                  0                 0          0 / 9\n",
       "0              7                  1                 0.125      1 / 8\n",
       "0              1                  10                0.0909091  1 / 11\n",
       "9              8                  11                0.0714286  2 / 28"
      ]
     },
     "metadata": {},
     "output_type": "display_data"
    },
    {
     "name": "stdout",
     "output_type": "stream",
     "text": [
      "Confusion Matrix: Row labels: Actual class; Column labels: Predicted class\n",
      "\n"
     ]
    },
    {
     "data": {
      "text/html": [
       "<div style=\"overflow:auto\"><table style=\"width:50%\"><tr><td><b>Iris-setosa</b></td>\n",
       "<td><b>Iris-versicolor</b></td>\n",
       "<td><b>Iris-virginica</b></td>\n",
       "<td><b>Error</b></td>\n",
       "<td><b>Rate</b></td></tr>\n",
       "<tr><td>9.0</td>\n",
       "<td>0.0</td>\n",
       "<td>0.0</td>\n",
       "<td>0.0</td>\n",
       "<td>0 / 9</td></tr>\n",
       "<tr><td>0.0</td>\n",
       "<td>6.0</td>\n",
       "<td>2.0</td>\n",
       "<td>0.25</td>\n",
       "<td>2 / 8</td></tr>\n",
       "<tr><td>0.0</td>\n",
       "<td>1.0</td>\n",
       "<td>10.0</td>\n",
       "<td>0.0909091</td>\n",
       "<td>1 / 11</td></tr>\n",
       "<tr><td>9.0</td>\n",
       "<td>7.0</td>\n",
       "<td>12.0</td>\n",
       "<td>0.1071429</td>\n",
       "<td>3 / 28</td></tr></table></div>"
      ],
      "text/plain": [
       "Iris-setosa    Iris-versicolor    Iris-virginica    Error      Rate\n",
       "-------------  -----------------  ----------------  ---------  ------\n",
       "9              0                  0                 0          0 / 9\n",
       "0              6                  2                 0.25       2 / 8\n",
       "0              1                  10                0.0909091  1 / 11\n",
       "9              7                  12                0.107143   3 / 28"
      ]
     },
     "metadata": {},
     "output_type": "display_data"
    },
    {
     "name": "stdout",
     "output_type": "stream",
     "text": [
      "Confusion Matrix: Row labels: Actual class; Column labels: Predicted class\n",
      "\n"
     ]
    },
    {
     "data": {
      "text/html": [
       "<div style=\"overflow:auto\"><table style=\"width:50%\"><tr><td><b>Iris-setosa</b></td>\n",
       "<td><b>Iris-versicolor</b></td>\n",
       "<td><b>Iris-virginica</b></td>\n",
       "<td><b>Error</b></td>\n",
       "<td><b>Rate</b></td></tr>\n",
       "<tr><td>9.0</td>\n",
       "<td>0.0</td>\n",
       "<td>0.0</td>\n",
       "<td>0.0</td>\n",
       "<td>0 / 9</td></tr>\n",
       "<tr><td>0.0</td>\n",
       "<td>7.0</td>\n",
       "<td>1.0</td>\n",
       "<td>0.125</td>\n",
       "<td>1 / 8</td></tr>\n",
       "<tr><td>0.0</td>\n",
       "<td>1.0</td>\n",
       "<td>10.0</td>\n",
       "<td>0.0909091</td>\n",
       "<td>1 / 11</td></tr>\n",
       "<tr><td>9.0</td>\n",
       "<td>8.0</td>\n",
       "<td>11.0</td>\n",
       "<td>0.0714286</td>\n",
       "<td>2 / 28</td></tr></table></div>"
      ],
      "text/plain": [
       "Iris-setosa    Iris-versicolor    Iris-virginica    Error      Rate\n",
       "-------------  -----------------  ----------------  ---------  ------\n",
       "9              0                  0                 0          0 / 9\n",
       "0              7                  1                 0.125      1 / 8\n",
       "0              1                  10                0.0909091  1 / 11\n",
       "9              8                  11                0.0714286  2 / 28"
      ]
     },
     "metadata": {},
     "output_type": "display_data"
    },
    {
     "data": {
      "text/plain": [
       "{'Grid_DRF_py_60_sid_85ad_model_python_1566125904838_4_model_10': ,\n",
       " 'Grid_DRF_py_60_sid_85ad_model_python_1566125904838_4_model_7': ,\n",
       " 'Grid_DRF_py_60_sid_85ad_model_python_1566125904838_4_model_9': ,\n",
       " 'Grid_DRF_py_60_sid_85ad_model_python_1566125904838_4_model_2': ,\n",
       " 'Grid_DRF_py_60_sid_85ad_model_python_1566125904838_4_model_5': ,\n",
       " 'Grid_DRF_py_60_sid_85ad_model_python_1566125904838_4_model_6': ,\n",
       " 'Grid_DRF_py_60_sid_85ad_model_python_1566125904838_4_model_3': ,\n",
       " 'Grid_DRF_py_60_sid_85ad_model_python_1566125904838_4_model_12': ,\n",
       " 'Grid_DRF_py_60_sid_85ad_model_python_1566125904838_4_model_8': ,\n",
       " 'Grid_DRF_py_60_sid_85ad_model_python_1566125904838_4_model_4': ,\n",
       " 'Grid_DRF_py_60_sid_85ad_model_python_1566125904838_4_model_1': ,\n",
       " 'Grid_DRF_py_60_sid_85ad_model_python_1566125904838_4_model_11': }"
      ]
     },
     "execution_count": 247,
     "metadata": {},
     "output_type": "execute_result"
    }
   ],
   "source": [
    "g.confusion_matrix(test_h)"
   ]
  },
  {
   "cell_type": "code",
   "execution_count": 261,
   "metadata": {},
   "outputs": [],
   "source": [
    "from h2o.estimators import naive_bayes"
   ]
  },
  {
   "cell_type": "code",
   "execution_count": 262,
   "metadata": {},
   "outputs": [],
   "source": [
    "nv = naive_bayes.H2ONaiveBayesEstimator()"
   ]
  },
  {
   "cell_type": "code",
   "execution_count": 267,
   "metadata": {},
   "outputs": [
    {
     "name": "stdout",
     "output_type": "stream",
     "text": [
      "naivebayes Model Build progress: |████████████████████████████████████████| 100%\n"
     ]
    }
   ],
   "source": [
    "nv.train(x,y,train_h)"
   ]
  },
  {
   "cell_type": "code",
   "execution_count": null,
   "metadata": {},
   "outputs": [],
   "source": []
  },
  {
   "cell_type": "code",
   "execution_count": null,
   "metadata": {},
   "outputs": [],
   "source": []
  }
 ],
 "metadata": {
  "kernelspec": {
   "display_name": "Python 3",
   "language": "python",
   "name": "python3"
  },
  "language_info": {
   "codemirror_mode": {
    "name": "ipython",
    "version": 3
   },
   "file_extension": ".py",
   "mimetype": "text/x-python",
   "name": "python",
   "nbconvert_exporter": "python",
   "pygments_lexer": "ipython3",
   "version": "3.7.3"
  }
 },
 "nbformat": 4,
 "nbformat_minor": 2
}
