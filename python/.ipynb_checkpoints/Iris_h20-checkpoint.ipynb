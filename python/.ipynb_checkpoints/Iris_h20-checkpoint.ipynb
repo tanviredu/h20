{
 "cells": [
  {
   "cell_type": "markdown",
   "metadata": {},
   "source": [
    "# <center> IRIS PROJECT WITH H2O </center>"
   ]
  },
  {
   "cell_type": "code",
   "execution_count": 4,
   "metadata": {},
   "outputs": [],
   "source": [
    "import h2o"
   ]
  },
  {
   "cell_type": "code",
   "execution_count": 5,
   "metadata": {},
   "outputs": [
    {
     "name": "stdout",
     "output_type": "stream",
     "text": [
      "Checking whether there is an H2O instance running at http://localhost:54321 . connected.\n"
     ]
    },
    {
     "data": {
      "text/html": [
       "<div style=\"overflow:auto\"><table style=\"width:50%\"><tr><td>H2O cluster uptime:</td>\n",
       "<td>55 mins 29 secs</td></tr>\n",
       "<tr><td>H2O cluster timezone:</td>\n",
       "<td>Asia/Thimphu</td></tr>\n",
       "<tr><td>H2O data parsing timezone:</td>\n",
       "<td>UTC</td></tr>\n",
       "<tr><td>H2O cluster version:</td>\n",
       "<td>3.26.0.2</td></tr>\n",
       "<tr><td>H2O cluster version age:</td>\n",
       "<td>22 days </td></tr>\n",
       "<tr><td>H2O cluster name:</td>\n",
       "<td>H2O_from_python_tanvir_6mmog5</td></tr>\n",
       "<tr><td>H2O cluster total nodes:</td>\n",
       "<td>1</td></tr>\n",
       "<tr><td>H2O cluster free memory:</td>\n",
       "<td>852 Mb</td></tr>\n",
       "<tr><td>H2O cluster total cores:</td>\n",
       "<td>4</td></tr>\n",
       "<tr><td>H2O cluster allowed cores:</td>\n",
       "<td>4</td></tr>\n",
       "<tr><td>H2O cluster status:</td>\n",
       "<td>locked, healthy</td></tr>\n",
       "<tr><td>H2O connection url:</td>\n",
       "<td>http://localhost:54321</td></tr>\n",
       "<tr><td>H2O connection proxy:</td>\n",
       "<td>None</td></tr>\n",
       "<tr><td>H2O internal security:</td>\n",
       "<td>False</td></tr>\n",
       "<tr><td>H2O API Extensions:</td>\n",
       "<td>Amazon S3, XGBoost, Algos, AutoML, Core V3, Core V4</td></tr>\n",
       "<tr><td>Python version:</td>\n",
       "<td>3.7.3 final</td></tr></table></div>"
      ],
      "text/plain": [
       "--------------------------  ---------------------------------------------------\n",
       "H2O cluster uptime:         55 mins 29 secs\n",
       "H2O cluster timezone:       Asia/Thimphu\n",
       "H2O data parsing timezone:  UTC\n",
       "H2O cluster version:        3.26.0.2\n",
       "H2O cluster version age:    22 days\n",
       "H2O cluster name:           H2O_from_python_tanvir_6mmog5\n",
       "H2O cluster total nodes:    1\n",
       "H2O cluster free memory:    852 Mb\n",
       "H2O cluster total cores:    4\n",
       "H2O cluster allowed cores:  4\n",
       "H2O cluster status:         locked, healthy\n",
       "H2O connection url:         http://localhost:54321\n",
       "H2O connection proxy:\n",
       "H2O internal security:      False\n",
       "H2O API Extensions:         Amazon S3, XGBoost, Algos, AutoML, Core V3, Core V4\n",
       "Python version:             3.7.3 final\n",
       "--------------------------  ---------------------------------------------------"
      ]
     },
     "metadata": {},
     "output_type": "display_data"
    }
   ],
   "source": [
    "h2o.init()"
   ]
  },
  {
   "cell_type": "markdown",
   "metadata": {},
   "source": [
    "## importing data with h20 we can import data from pandas too"
   ]
  },
  {
   "cell_type": "code",
   "execution_count": 6,
   "metadata": {},
   "outputs": [],
   "source": [
    "import numpy as np \n",
    "import pandas as pd\n",
    "import matplotlib.pyplot as plt\n",
    "import seaborn as sns"
   ]
  },
  {
   "cell_type": "code",
   "execution_count": 9,
   "metadata": {},
   "outputs": [
    {
     "name": "stdout",
     "output_type": "stream",
     "text": [
      "Iris.csv\r\n"
     ]
    }
   ],
   "source": [
    "## import data \n",
    "!ls IRIS-PREDICTION/"
   ]
  },
  {
   "cell_type": "code",
   "execution_count": 10,
   "metadata": {},
   "outputs": [
    {
     "name": "stdout",
     "output_type": "stream",
     "text": [
      "Parse progress: |█████████████████████████████████████████████████████████| 100%\n"
     ]
    }
   ],
   "source": [
    "df = h2o.import_file('IRIS-PREDICTION/Iris.csv')"
   ]
  },
  {
   "cell_type": "code",
   "execution_count": 11,
   "metadata": {},
   "outputs": [
    {
     "data": {
      "text/html": [
       "<table>\n",
       "<thead>\n",
       "<tr><th style=\"text-align: right;\">  Id</th><th style=\"text-align: right;\">  SepalLengthCm</th><th style=\"text-align: right;\">  SepalWidthCm</th><th style=\"text-align: right;\">  PetalLengthCm</th><th style=\"text-align: right;\">  PetalWidthCm</th><th>Species    </th></tr>\n",
       "</thead>\n",
       "<tbody>\n",
       "<tr><td style=\"text-align: right;\">   1</td><td style=\"text-align: right;\">            5.1</td><td style=\"text-align: right;\">           3.5</td><td style=\"text-align: right;\">            1.4</td><td style=\"text-align: right;\">           0.2</td><td>Iris-setosa</td></tr>\n",
       "<tr><td style=\"text-align: right;\">   2</td><td style=\"text-align: right;\">            4.9</td><td style=\"text-align: right;\">           3  </td><td style=\"text-align: right;\">            1.4</td><td style=\"text-align: right;\">           0.2</td><td>Iris-setosa</td></tr>\n",
       "<tr><td style=\"text-align: right;\">   3</td><td style=\"text-align: right;\">            4.7</td><td style=\"text-align: right;\">           3.2</td><td style=\"text-align: right;\">            1.3</td><td style=\"text-align: right;\">           0.2</td><td>Iris-setosa</td></tr>\n",
       "<tr><td style=\"text-align: right;\">   4</td><td style=\"text-align: right;\">            4.6</td><td style=\"text-align: right;\">           3.1</td><td style=\"text-align: right;\">            1.5</td><td style=\"text-align: right;\">           0.2</td><td>Iris-setosa</td></tr>\n",
       "<tr><td style=\"text-align: right;\">   5</td><td style=\"text-align: right;\">            5  </td><td style=\"text-align: right;\">           3.6</td><td style=\"text-align: right;\">            1.4</td><td style=\"text-align: right;\">           0.2</td><td>Iris-setosa</td></tr>\n",
       "<tr><td style=\"text-align: right;\">   6</td><td style=\"text-align: right;\">            5.4</td><td style=\"text-align: right;\">           3.9</td><td style=\"text-align: right;\">            1.7</td><td style=\"text-align: right;\">           0.4</td><td>Iris-setosa</td></tr>\n",
       "<tr><td style=\"text-align: right;\">   7</td><td style=\"text-align: right;\">            4.6</td><td style=\"text-align: right;\">           3.4</td><td style=\"text-align: right;\">            1.4</td><td style=\"text-align: right;\">           0.3</td><td>Iris-setosa</td></tr>\n",
       "<tr><td style=\"text-align: right;\">   8</td><td style=\"text-align: right;\">            5  </td><td style=\"text-align: right;\">           3.4</td><td style=\"text-align: right;\">            1.5</td><td style=\"text-align: right;\">           0.2</td><td>Iris-setosa</td></tr>\n",
       "<tr><td style=\"text-align: right;\">   9</td><td style=\"text-align: right;\">            4.4</td><td style=\"text-align: right;\">           2.9</td><td style=\"text-align: right;\">            1.4</td><td style=\"text-align: right;\">           0.2</td><td>Iris-setosa</td></tr>\n",
       "<tr><td style=\"text-align: right;\">  10</td><td style=\"text-align: right;\">            4.9</td><td style=\"text-align: right;\">           3.1</td><td style=\"text-align: right;\">            1.5</td><td style=\"text-align: right;\">           0.1</td><td>Iris-setosa</td></tr>\n",
       "</tbody>\n",
       "</table>"
      ]
     },
     "metadata": {},
     "output_type": "display_data"
    },
    {
     "data": {
      "text/plain": []
     },
     "execution_count": 11,
     "metadata": {},
     "output_type": "execute_result"
    }
   ],
   "source": [
    "df.head()"
   ]
  },
  {
   "cell_type": "code",
   "execution_count": 14,
   "metadata": {},
   "outputs": [
    {
     "name": "stdout",
     "output_type": "stream",
     "text": [
      "Parse progress: |█████████████████████████████████████████████████████████| 100%\n"
     ]
    }
   ],
   "source": [
    "## importing with different parameter\n",
    "df = h2o.import_file('IRIS-PREDICTION/Iris.csv',col_names=['id','SepalLengthCm','SepalWidthCm','PetalLengthCm','PetalWidthCm','Species'],\n",
    "                    col_types=['numeric',\"numeric\", \"numeric\", \"numeric\", \"numeric\", \"enum\"])"
   ]
  },
  {
   "cell_type": "code",
   "execution_count": 15,
   "metadata": {},
   "outputs": [
    {
     "data": {
      "text/html": [
       "<table>\n",
       "<thead>\n",
       "<tr><th style=\"text-align: right;\">  id</th><th style=\"text-align: right;\">  SepalLengthCm</th><th style=\"text-align: right;\">  SepalWidthCm</th><th style=\"text-align: right;\">  PetalLengthCm</th><th style=\"text-align: right;\">  PetalWidthCm</th><th>Species    </th></tr>\n",
       "</thead>\n",
       "<tbody>\n",
       "<tr><td style=\"text-align: right;\">   1</td><td style=\"text-align: right;\">            5.1</td><td style=\"text-align: right;\">           3.5</td><td style=\"text-align: right;\">            1.4</td><td style=\"text-align: right;\">           0.2</td><td>Iris-setosa</td></tr>\n",
       "<tr><td style=\"text-align: right;\">   2</td><td style=\"text-align: right;\">            4.9</td><td style=\"text-align: right;\">           3  </td><td style=\"text-align: right;\">            1.4</td><td style=\"text-align: right;\">           0.2</td><td>Iris-setosa</td></tr>\n",
       "<tr><td style=\"text-align: right;\">   3</td><td style=\"text-align: right;\">            4.7</td><td style=\"text-align: right;\">           3.2</td><td style=\"text-align: right;\">            1.3</td><td style=\"text-align: right;\">           0.2</td><td>Iris-setosa</td></tr>\n",
       "<tr><td style=\"text-align: right;\">   4</td><td style=\"text-align: right;\">            4.6</td><td style=\"text-align: right;\">           3.1</td><td style=\"text-align: right;\">            1.5</td><td style=\"text-align: right;\">           0.2</td><td>Iris-setosa</td></tr>\n",
       "<tr><td style=\"text-align: right;\">   5</td><td style=\"text-align: right;\">            5  </td><td style=\"text-align: right;\">           3.6</td><td style=\"text-align: right;\">            1.4</td><td style=\"text-align: right;\">           0.2</td><td>Iris-setosa</td></tr>\n",
       "<tr><td style=\"text-align: right;\">   6</td><td style=\"text-align: right;\">            5.4</td><td style=\"text-align: right;\">           3.9</td><td style=\"text-align: right;\">            1.7</td><td style=\"text-align: right;\">           0.4</td><td>Iris-setosa</td></tr>\n",
       "<tr><td style=\"text-align: right;\">   7</td><td style=\"text-align: right;\">            4.6</td><td style=\"text-align: right;\">           3.4</td><td style=\"text-align: right;\">            1.4</td><td style=\"text-align: right;\">           0.3</td><td>Iris-setosa</td></tr>\n",
       "<tr><td style=\"text-align: right;\">   8</td><td style=\"text-align: right;\">            5  </td><td style=\"text-align: right;\">           3.4</td><td style=\"text-align: right;\">            1.5</td><td style=\"text-align: right;\">           0.2</td><td>Iris-setosa</td></tr>\n",
       "<tr><td style=\"text-align: right;\">   9</td><td style=\"text-align: right;\">            4.4</td><td style=\"text-align: right;\">           2.9</td><td style=\"text-align: right;\">            1.4</td><td style=\"text-align: right;\">           0.2</td><td>Iris-setosa</td></tr>\n",
       "<tr><td style=\"text-align: right;\">  10</td><td style=\"text-align: right;\">            4.9</td><td style=\"text-align: right;\">           3.1</td><td style=\"text-align: right;\">            1.5</td><td style=\"text-align: right;\">           0.1</td><td>Iris-setosa</td></tr>\n",
       "</tbody>\n",
       "</table>"
      ]
     },
     "metadata": {},
     "output_type": "display_data"
    },
    {
     "data": {
      "text/plain": []
     },
     "execution_count": 15,
     "metadata": {},
     "output_type": "execute_result"
    }
   ],
   "source": [
    "df.head()"
   ]
  },
  {
   "cell_type": "code",
   "execution_count": 16,
   "metadata": {},
   "outputs": [],
   "source": [
    "##  they are are some other option for importing data\n",
    "#df = h2o.import_file(\"hdfs://namenode/user/path/to/my.csv\")\n",
    "#df = h2o.import_file(\"s3://<AWS_ACCESS_KEY>:<AWS_SECRET_KEY>@mybucket/my.csv\")\n",
    "#df = h2o.import_file(\"https://s3.amazonaws.com/mybucket/my.csv\")\n",
    "#df = h2o.import_file(\"/path/to/my.csv\")\n"
   ]
  },
  {
   "cell_type": "markdown",
   "metadata": {},
   "source": [
    "## we can use pandas dataframe too"
   ]
  },
  {
   "cell_type": "code",
   "execution_count": 17,
   "metadata": {},
   "outputs": [],
   "source": [
    "dfp = pd.read_csv('IRIS-PREDICTION/Iris.csv')"
   ]
  },
  {
   "cell_type": "code",
   "execution_count": 50,
   "metadata": {},
   "outputs": [
    {
     "name": "stdout",
     "output_type": "stream",
     "text": [
      "Parse progress: |█████████████████████████████████████████████████████████| 100%\n"
     ]
    }
   ],
   "source": [
    "df = h2o.H2OFrame(dfp)"
   ]
  },
  {
   "cell_type": "code",
   "execution_count": 51,
   "metadata": {},
   "outputs": [
    {
     "data": {
      "text/html": [
       "<table>\n",
       "<thead>\n",
       "<tr><th style=\"text-align: right;\">  Id</th><th style=\"text-align: right;\">  SepalLengthCm</th><th style=\"text-align: right;\">  SepalWidthCm</th><th style=\"text-align: right;\">  PetalLengthCm</th><th style=\"text-align: right;\">  PetalWidthCm</th><th>Species    </th></tr>\n",
       "</thead>\n",
       "<tbody>\n",
       "<tr><td style=\"text-align: right;\">   1</td><td style=\"text-align: right;\">            5.1</td><td style=\"text-align: right;\">           3.5</td><td style=\"text-align: right;\">            1.4</td><td style=\"text-align: right;\">           0.2</td><td>Iris-setosa</td></tr>\n",
       "<tr><td style=\"text-align: right;\">   2</td><td style=\"text-align: right;\">            4.9</td><td style=\"text-align: right;\">           3  </td><td style=\"text-align: right;\">            1.4</td><td style=\"text-align: right;\">           0.2</td><td>Iris-setosa</td></tr>\n",
       "<tr><td style=\"text-align: right;\">   3</td><td style=\"text-align: right;\">            4.7</td><td style=\"text-align: right;\">           3.2</td><td style=\"text-align: right;\">            1.3</td><td style=\"text-align: right;\">           0.2</td><td>Iris-setosa</td></tr>\n",
       "<tr><td style=\"text-align: right;\">   4</td><td style=\"text-align: right;\">            4.6</td><td style=\"text-align: right;\">           3.1</td><td style=\"text-align: right;\">            1.5</td><td style=\"text-align: right;\">           0.2</td><td>Iris-setosa</td></tr>\n",
       "<tr><td style=\"text-align: right;\">   5</td><td style=\"text-align: right;\">            5  </td><td style=\"text-align: right;\">           3.6</td><td style=\"text-align: right;\">            1.4</td><td style=\"text-align: right;\">           0.2</td><td>Iris-setosa</td></tr>\n",
       "<tr><td style=\"text-align: right;\">   6</td><td style=\"text-align: right;\">            5.4</td><td style=\"text-align: right;\">           3.9</td><td style=\"text-align: right;\">            1.7</td><td style=\"text-align: right;\">           0.4</td><td>Iris-setosa</td></tr>\n",
       "<tr><td style=\"text-align: right;\">   7</td><td style=\"text-align: right;\">            4.6</td><td style=\"text-align: right;\">           3.4</td><td style=\"text-align: right;\">            1.4</td><td style=\"text-align: right;\">           0.3</td><td>Iris-setosa</td></tr>\n",
       "<tr><td style=\"text-align: right;\">   8</td><td style=\"text-align: right;\">            5  </td><td style=\"text-align: right;\">           3.4</td><td style=\"text-align: right;\">            1.5</td><td style=\"text-align: right;\">           0.2</td><td>Iris-setosa</td></tr>\n",
       "<tr><td style=\"text-align: right;\">   9</td><td style=\"text-align: right;\">            4.4</td><td style=\"text-align: right;\">           2.9</td><td style=\"text-align: right;\">            1.4</td><td style=\"text-align: right;\">           0.2</td><td>Iris-setosa</td></tr>\n",
       "<tr><td style=\"text-align: right;\">  10</td><td style=\"text-align: right;\">            4.9</td><td style=\"text-align: right;\">           3.1</td><td style=\"text-align: right;\">            1.5</td><td style=\"text-align: right;\">           0.1</td><td>Iris-setosa</td></tr>\n",
       "</tbody>\n",
       "</table>"
      ]
     },
     "metadata": {},
     "output_type": "display_data"
    },
    {
     "data": {
      "text/plain": []
     },
     "execution_count": 51,
     "metadata": {},
     "output_type": "execute_result"
    }
   ],
   "source": [
    "df.head()"
   ]
  },
  {
   "cell_type": "code",
   "execution_count": 52,
   "metadata": {},
   "outputs": [],
   "source": [
    "## names of the column"
   ]
  },
  {
   "cell_type": "code",
   "execution_count": 53,
   "metadata": {},
   "outputs": [
    {
     "data": {
      "text/plain": [
       "['Id',\n",
       " 'SepalLengthCm',\n",
       " 'SepalWidthCm',\n",
       " 'PetalLengthCm',\n",
       " 'PetalWidthCm',\n",
       " 'Species']"
      ]
     },
     "execution_count": 53,
     "metadata": {},
     "output_type": "execute_result"
    }
   ],
   "source": [
    "df.names"
   ]
  },
  {
   "cell_type": "code",
   "execution_count": 54,
   "metadata": {},
   "outputs": [],
   "source": [
    "## df types"
   ]
  },
  {
   "cell_type": "code",
   "execution_count": 55,
   "metadata": {},
   "outputs": [
    {
     "data": {
      "text/plain": [
       "{'Id': 'int',\n",
       " 'SepalLengthCm': 'real',\n",
       " 'SepalWidthCm': 'real',\n",
       " 'PetalLengthCm': 'real',\n",
       " 'PetalWidthCm': 'real',\n",
       " 'Species': 'enum'}"
      ]
     },
     "execution_count": 55,
     "metadata": {},
     "output_type": "execute_result"
    }
   ],
   "source": [
    "df.types"
   ]
  },
  {
   "cell_type": "code",
   "execution_count": 56,
   "metadata": {},
   "outputs": [
    {
     "data": {
      "text/plain": [
       "'Key_Frame__upload_871de6ce02116ea42ea5ec7b5d094092.hex'"
      ]
     },
     "execution_count": 56,
     "metadata": {},
     "output_type": "execute_result"
    }
   ],
   "source": [
    "df.frame_id"
   ]
  },
  {
   "cell_type": "code",
   "execution_count": 57,
   "metadata": {},
   "outputs": [
    {
     "data": {
      "text/plain": [
       "7.9"
      ]
     },
     "execution_count": 57,
     "metadata": {},
     "output_type": "execute_result"
    }
   ],
   "source": [
    "df[['SepalLengthCm']].max()"
   ]
  },
  {
   "cell_type": "code",
   "execution_count": 58,
   "metadata": {},
   "outputs": [
    {
     "data": {
      "text/plain": [
       "4.3"
      ]
     },
     "execution_count": 58,
     "metadata": {},
     "output_type": "execute_result"
    }
   ],
   "source": [
    "df[['SepalLengthCm']].min()"
   ]
  },
  {
   "cell_type": "code",
   "execution_count": 59,
   "metadata": {},
   "outputs": [
    {
     "data": {
      "text/plain": [
       "[5.843333333333333]"
      ]
     },
     "execution_count": 59,
     "metadata": {},
     "output_type": "execute_result"
    }
   ],
   "source": [
    "df[['SepalLengthCm']].mean()"
   ]
  },
  {
   "cell_type": "code",
   "execution_count": 60,
   "metadata": {},
   "outputs": [
    {
     "data": {
      "image/png": "[encoded data removed]",
      "text/plain": [
       "<Figure size 432x288 with 1 Axes>"
      ]
     },
     "metadata": {
      "needs_background": "light"
     },
     "output_type": "display_data"
    }
   ],
   "source": [
    "df[['SepalLengthCm']].hist()"
   ]
  },
  {
   "cell_type": "code",
   "execution_count": 61,
   "metadata": {},
   "outputs": [
    {
     "data": {
      "image/png": "[encoded data removed]",
      "text/plain": [
       "<Figure size 432x288 with 1 Axes>"
      ]
     },
     "metadata": {
      "needs_background": "light"
     },
     "output_type": "display_data"
    }
   ],
   "source": [
    "df[['SepalWidthCm']].hist()"
   ]
  },
  {
   "cell_type": "code",
   "execution_count": 62,
   "metadata": {},
   "outputs": [
    {
     "data": {
      "image/png": "[encoded data removed]",
      "text/plain": [
       "<Figure size 432x288 with 1 Axes>"
      ]
     },
     "metadata": {
      "needs_background": "light"
     },
     "output_type": "display_data"
    }
   ],
   "source": [
    "df[['PetalWidthCm']].hist()"
   ]
  },
  {
   "cell_type": "code",
   "execution_count": 63,
   "metadata": {},
   "outputs": [
    {
     "data": {
      "image/png": "[encoded data removed]",
      "text/plain": [
       "<Figure size 432x288 with 1 Axes>"
      ]
     },
     "metadata": {
      "needs_background": "light"
     },
     "output_type": "display_data"
    }
   ],
   "source": [
    "df[['PetalLengthCm']].hist()"
   ]
  },
  {
   "cell_type": "code",
   "execution_count": 64,
   "metadata": {},
   "outputs": [
    {
     "data": {
      "text/html": [
       "<table>\n",
       "<thead>\n",
       "<tr><th style=\"text-align: right;\">  Id</th><th style=\"text-align: right;\">  SepalLengthCm</th><th style=\"text-align: right;\">  SepalWidthCm</th><th style=\"text-align: right;\">  PetalLengthCm</th><th style=\"text-align: right;\">  PetalWidthCm</th><th>Species    </th></tr>\n",
       "</thead>\n",
       "<tbody>\n",
       "<tr><td style=\"text-align: right;\">   1</td><td style=\"text-align: right;\">            5.1</td><td style=\"text-align: right;\">           3.5</td><td style=\"text-align: right;\">            1.4</td><td style=\"text-align: right;\">           0.2</td><td>Iris-setosa</td></tr>\n",
       "<tr><td style=\"text-align: right;\">   2</td><td style=\"text-align: right;\">            4.9</td><td style=\"text-align: right;\">           3  </td><td style=\"text-align: right;\">            1.4</td><td style=\"text-align: right;\">           0.2</td><td>Iris-setosa</td></tr>\n",
       "<tr><td style=\"text-align: right;\">   3</td><td style=\"text-align: right;\">            4.7</td><td style=\"text-align: right;\">           3.2</td><td style=\"text-align: right;\">            1.3</td><td style=\"text-align: right;\">           0.2</td><td>Iris-setosa</td></tr>\n",
       "<tr><td style=\"text-align: right;\">   4</td><td style=\"text-align: right;\">            4.6</td><td style=\"text-align: right;\">           3.1</td><td style=\"text-align: right;\">            1.5</td><td style=\"text-align: right;\">           0.2</td><td>Iris-setosa</td></tr>\n",
       "<tr><td style=\"text-align: right;\">   5</td><td style=\"text-align: right;\">            5  </td><td style=\"text-align: right;\">           3.6</td><td style=\"text-align: right;\">            1.4</td><td style=\"text-align: right;\">           0.2</td><td>Iris-setosa</td></tr>\n",
       "<tr><td style=\"text-align: right;\">   6</td><td style=\"text-align: right;\">            5.4</td><td style=\"text-align: right;\">           3.9</td><td style=\"text-align: right;\">            1.7</td><td style=\"text-align: right;\">           0.4</td><td>Iris-setosa</td></tr>\n",
       "<tr><td style=\"text-align: right;\">   7</td><td style=\"text-align: right;\">            4.6</td><td style=\"text-align: right;\">           3.4</td><td style=\"text-align: right;\">            1.4</td><td style=\"text-align: right;\">           0.3</td><td>Iris-setosa</td></tr>\n",
       "<tr><td style=\"text-align: right;\">   8</td><td style=\"text-align: right;\">            5  </td><td style=\"text-align: right;\">           3.4</td><td style=\"text-align: right;\">            1.5</td><td style=\"text-align: right;\">           0.2</td><td>Iris-setosa</td></tr>\n",
       "<tr><td style=\"text-align: right;\">   9</td><td style=\"text-align: right;\">            4.4</td><td style=\"text-align: right;\">           2.9</td><td style=\"text-align: right;\">            1.4</td><td style=\"text-align: right;\">           0.2</td><td>Iris-setosa</td></tr>\n",
       "<tr><td style=\"text-align: right;\">  10</td><td style=\"text-align: right;\">            4.9</td><td style=\"text-align: right;\">           3.1</td><td style=\"text-align: right;\">            1.5</td><td style=\"text-align: right;\">           0.1</td><td>Iris-setosa</td></tr>\n",
       "</tbody>\n",
       "</table>"
      ]
     },
     "metadata": {},
     "output_type": "display_data"
    },
    {
     "data": {
      "text/plain": []
     },
     "execution_count": 64,
     "metadata": {},
     "output_type": "execute_result"
    }
   ],
   "source": [
    "df.head()"
   ]
  },
  {
   "cell_type": "code",
   "execution_count": 65,
   "metadata": {},
   "outputs": [],
   "source": [
    "## dropping column"
   ]
  },
  {
   "cell_type": "code",
   "execution_count": 66,
   "metadata": {},
   "outputs": [
    {
     "data": {
      "text/html": [
       "<table>\n",
       "<thead>\n",
       "<tr><th style=\"text-align: right;\">  SepalLengthCm</th><th style=\"text-align: right;\">  SepalWidthCm</th><th style=\"text-align: right;\">  PetalLengthCm</th><th style=\"text-align: right;\">  PetalWidthCm</th><th>Species    </th></tr>\n",
       "</thead>\n",
       "<tbody>\n",
       "<tr><td style=\"text-align: right;\">            5.1</td><td style=\"text-align: right;\">           3.5</td><td style=\"text-align: right;\">            1.4</td><td style=\"text-align: right;\">           0.2</td><td>Iris-setosa</td></tr>\n",
       "<tr><td style=\"text-align: right;\">            4.9</td><td style=\"text-align: right;\">           3  </td><td style=\"text-align: right;\">            1.4</td><td style=\"text-align: right;\">           0.2</td><td>Iris-setosa</td></tr>\n",
       "<tr><td style=\"text-align: right;\">            4.7</td><td style=\"text-align: right;\">           3.2</td><td style=\"text-align: right;\">            1.3</td><td style=\"text-align: right;\">           0.2</td><td>Iris-setosa</td></tr>\n",
       "<tr><td style=\"text-align: right;\">            4.6</td><td style=\"text-align: right;\">           3.1</td><td style=\"text-align: right;\">            1.5</td><td style=\"text-align: right;\">           0.2</td><td>Iris-setosa</td></tr>\n",
       "<tr><td style=\"text-align: right;\">            5  </td><td style=\"text-align: right;\">           3.6</td><td style=\"text-align: right;\">            1.4</td><td style=\"text-align: right;\">           0.2</td><td>Iris-setosa</td></tr>\n",
       "<tr><td style=\"text-align: right;\">            5.4</td><td style=\"text-align: right;\">           3.9</td><td style=\"text-align: right;\">            1.7</td><td style=\"text-align: right;\">           0.4</td><td>Iris-setosa</td></tr>\n",
       "<tr><td style=\"text-align: right;\">            4.6</td><td style=\"text-align: right;\">           3.4</td><td style=\"text-align: right;\">            1.4</td><td style=\"text-align: right;\">           0.3</td><td>Iris-setosa</td></tr>\n",
       "<tr><td style=\"text-align: right;\">            5  </td><td style=\"text-align: right;\">           3.4</td><td style=\"text-align: right;\">            1.5</td><td style=\"text-align: right;\">           0.2</td><td>Iris-setosa</td></tr>\n",
       "<tr><td style=\"text-align: right;\">            4.4</td><td style=\"text-align: right;\">           2.9</td><td style=\"text-align: right;\">            1.4</td><td style=\"text-align: right;\">           0.2</td><td>Iris-setosa</td></tr>\n",
       "<tr><td style=\"text-align: right;\">            4.9</td><td style=\"text-align: right;\">           3.1</td><td style=\"text-align: right;\">            1.5</td><td style=\"text-align: right;\">           0.1</td><td>Iris-setosa</td></tr>\n",
       "</tbody>\n",
       "</table>"
      ]
     },
     "metadata": {},
     "output_type": "display_data"
    },
    {
     "data": {
      "text/plain": []
     },
     "execution_count": 66,
     "metadata": {},
     "output_type": "execute_result"
    }
   ],
   "source": [
    "df.drop('Id',axis=1)"
   ]
  },
  {
   "cell_type": "code",
   "execution_count": 67,
   "metadata": {},
   "outputs": [],
   "source": [
    "###or"
   ]
  },
  {
   "cell_type": "code",
   "execution_count": 68,
   "metadata": {},
   "outputs": [],
   "source": [
    "df=df[:,1:]   ## take the datafrmame but lose the first column"
   ]
  },
  {
   "cell_type": "code",
   "execution_count": 69,
   "metadata": {},
   "outputs": [
    {
     "data": {
      "text/html": [
       "<table>\n",
       "<thead>\n",
       "<tr><th style=\"text-align: right;\">  SepalLengthCm</th><th style=\"text-align: right;\">  SepalWidthCm</th><th style=\"text-align: right;\">  PetalLengthCm</th><th style=\"text-align: right;\">  PetalWidthCm</th><th>Species    </th></tr>\n",
       "</thead>\n",
       "<tbody>\n",
       "<tr><td style=\"text-align: right;\">            5.1</td><td style=\"text-align: right;\">           3.5</td><td style=\"text-align: right;\">            1.4</td><td style=\"text-align: right;\">           0.2</td><td>Iris-setosa</td></tr>\n",
       "<tr><td style=\"text-align: right;\">            4.9</td><td style=\"text-align: right;\">           3  </td><td style=\"text-align: right;\">            1.4</td><td style=\"text-align: right;\">           0.2</td><td>Iris-setosa</td></tr>\n",
       "<tr><td style=\"text-align: right;\">            4.7</td><td style=\"text-align: right;\">           3.2</td><td style=\"text-align: right;\">            1.3</td><td style=\"text-align: right;\">           0.2</td><td>Iris-setosa</td></tr>\n",
       "<tr><td style=\"text-align: right;\">            4.6</td><td style=\"text-align: right;\">           3.1</td><td style=\"text-align: right;\">            1.5</td><td style=\"text-align: right;\">           0.2</td><td>Iris-setosa</td></tr>\n",
       "<tr><td style=\"text-align: right;\">            5  </td><td style=\"text-align: right;\">           3.6</td><td style=\"text-align: right;\">            1.4</td><td style=\"text-align: right;\">           0.2</td><td>Iris-setosa</td></tr>\n",
       "<tr><td style=\"text-align: right;\">            5.4</td><td style=\"text-align: right;\">           3.9</td><td style=\"text-align: right;\">            1.7</td><td style=\"text-align: right;\">           0.4</td><td>Iris-setosa</td></tr>\n",
       "<tr><td style=\"text-align: right;\">            4.6</td><td style=\"text-align: right;\">           3.4</td><td style=\"text-align: right;\">            1.4</td><td style=\"text-align: right;\">           0.3</td><td>Iris-setosa</td></tr>\n",
       "<tr><td style=\"text-align: right;\">            5  </td><td style=\"text-align: right;\">           3.4</td><td style=\"text-align: right;\">            1.5</td><td style=\"text-align: right;\">           0.2</td><td>Iris-setosa</td></tr>\n",
       "<tr><td style=\"text-align: right;\">            4.4</td><td style=\"text-align: right;\">           2.9</td><td style=\"text-align: right;\">            1.4</td><td style=\"text-align: right;\">           0.2</td><td>Iris-setosa</td></tr>\n",
       "<tr><td style=\"text-align: right;\">            4.9</td><td style=\"text-align: right;\">           3.1</td><td style=\"text-align: right;\">            1.5</td><td style=\"text-align: right;\">           0.1</td><td>Iris-setosa</td></tr>\n",
       "</tbody>\n",
       "</table>"
      ]
     },
     "metadata": {},
     "output_type": "display_data"
    },
    {
     "data": {
      "text/plain": []
     },
     "execution_count": 69,
     "metadata": {},
     "output_type": "execute_result"
    }
   ],
   "source": [
    "df.head()"
   ]
  },
  {
   "cell_type": "code",
   "execution_count": 70,
   "metadata": {},
   "outputs": [
    {
     "data": {
      "text/plain": [
       "'py_49_sid_85ad'"
      ]
     },
     "execution_count": 70,
     "metadata": {},
     "output_type": "execute_result"
    }
   ],
   "source": [
    "## applying seeding\n",
    "df.frame_id"
   ]
  },
  {
   "cell_type": "code",
   "execution_count": 73,
   "metadata": {},
   "outputs": [],
   "source": [
    "## describe data"
   ]
  },
  {
   "cell_type": "code",
   "execution_count": 75,
   "metadata": {},
   "outputs": [
    {
     "name": "stdout",
     "output_type": "stream",
     "text": [
      "Rows:150\n",
      "Cols:5\n",
      "\n",
      "\n"
     ]
    },
    {
     "data": {
      "text/html": [
       "<table>\n",
       "<thead>\n",
       "<tr><th>       </th><th>SepalLengthCm     </th><th>SepalWidthCm       </th><th>PetalLengthCm    </th><th>PetalWidthCm      </th><th>Species    </th></tr>\n",
       "</thead>\n",
       "<tbody>\n",
       "<tr><td>type   </td><td>real              </td><td>real               </td><td>real             </td><td>real              </td><td>enum       </td></tr>\n",
       "<tr><td>mins   </td><td>4.3               </td><td>2.0                </td><td>1.0              </td><td>0.1               </td><td>           </td></tr>\n",
       "<tr><td>mean   </td><td>5.843333333333333 </td><td>3.053999999999999  </td><td>3.758666666666667</td><td>1.1986666666666665</td><td>           </td></tr>\n",
       "<tr><td>maxs   </td><td>7.9               </td><td>4.4                </td><td>6.9              </td><td>2.5               </td><td>           </td></tr>\n",
       "<tr><td>sigma  </td><td>0.8280661279778637</td><td>0.43359431136217375</td><td>1.764420419952262</td><td>0.7631607417008414</td><td>           </td></tr>\n",
       "<tr><td>zeros  </td><td>0                 </td><td>0                  </td><td>0                </td><td>0                 </td><td>           </td></tr>\n",
       "<tr><td>missing</td><td>0                 </td><td>0                  </td><td>0                </td><td>0                 </td><td>0          </td></tr>\n",
       "<tr><td>0      </td><td>5.1               </td><td>3.5                </td><td>1.4              </td><td>0.2               </td><td>Iris-setosa</td></tr>\n",
       "<tr><td>1      </td><td>4.9               </td><td>3.0                </td><td>1.4              </td><td>0.2               </td><td>Iris-setosa</td></tr>\n",
       "<tr><td>2      </td><td>4.7               </td><td>3.2                </td><td>1.3              </td><td>0.2               </td><td>Iris-setosa</td></tr>\n",
       "<tr><td>3      </td><td>4.6               </td><td>3.1                </td><td>1.5              </td><td>0.2               </td><td>Iris-setosa</td></tr>\n",
       "<tr><td>4      </td><td>5.0               </td><td>3.6                </td><td>1.4              </td><td>0.2               </td><td>Iris-setosa</td></tr>\n",
       "<tr><td>5      </td><td>5.4               </td><td>3.9                </td><td>1.7              </td><td>0.4               </td><td>Iris-setosa</td></tr>\n",
       "<tr><td>6      </td><td>4.6               </td><td>3.4                </td><td>1.4              </td><td>0.3               </td><td>Iris-setosa</td></tr>\n",
       "<tr><td>7      </td><td>5.0               </td><td>3.4                </td><td>1.5              </td><td>0.2               </td><td>Iris-setosa</td></tr>\n",
       "<tr><td>8      </td><td>4.4               </td><td>2.9                </td><td>1.4              </td><td>0.2               </td><td>Iris-setosa</td></tr>\n",
       "<tr><td>9      </td><td>4.9               </td><td>3.1                </td><td>1.5              </td><td>0.1               </td><td>Iris-setosa</td></tr>\n",
       "</tbody>\n",
       "</table>"
      ]
     },
     "metadata": {},
     "output_type": "display_data"
    }
   ],
   "source": [
    "df.describe()"
   ]
  },
  {
   "cell_type": "code",
   "execution_count": 76,
   "metadata": {},
   "outputs": [],
   "source": [
    "## we can see there is no misssing value"
   ]
  },
  {
   "cell_type": "code",
   "execution_count": 78,
   "metadata": {},
   "outputs": [],
   "source": [
    "## Featuer Engineering"
   ]
  },
  {
   "cell_type": "code",
   "execution_count": 79,
   "metadata": {},
   "outputs": [],
   "source": [
    "df['sepal_ratio'] = df['SepalLengthCm']/df['SepalWidthCm']"
   ]
  },
  {
   "cell_type": "code",
   "execution_count": 80,
   "metadata": {},
   "outputs": [
    {
     "data": {
      "text/html": [
       "<table>\n",
       "<thead>\n",
       "<tr><th style=\"text-align: right;\">  SepalLengthCm</th><th style=\"text-align: right;\">  SepalWidthCm</th><th style=\"text-align: right;\">  PetalLengthCm</th><th style=\"text-align: right;\">  PetalWidthCm</th><th>Species    </th><th style=\"text-align: right;\">  sepal_ratio</th></tr>\n",
       "</thead>\n",
       "<tbody>\n",
       "<tr><td style=\"text-align: right;\">            5.1</td><td style=\"text-align: right;\">           3.5</td><td style=\"text-align: right;\">            1.4</td><td style=\"text-align: right;\">           0.2</td><td>Iris-setosa</td><td style=\"text-align: right;\">      1.45714</td></tr>\n",
       "<tr><td style=\"text-align: right;\">            4.9</td><td style=\"text-align: right;\">           3  </td><td style=\"text-align: right;\">            1.4</td><td style=\"text-align: right;\">           0.2</td><td>Iris-setosa</td><td style=\"text-align: right;\">      1.63333</td></tr>\n",
       "<tr><td style=\"text-align: right;\">            4.7</td><td style=\"text-align: right;\">           3.2</td><td style=\"text-align: right;\">            1.3</td><td style=\"text-align: right;\">           0.2</td><td>Iris-setosa</td><td style=\"text-align: right;\">      1.46875</td></tr>\n",
       "<tr><td style=\"text-align: right;\">            4.6</td><td style=\"text-align: right;\">           3.1</td><td style=\"text-align: right;\">            1.5</td><td style=\"text-align: right;\">           0.2</td><td>Iris-setosa</td><td style=\"text-align: right;\">      1.48387</td></tr>\n",
       "<tr><td style=\"text-align: right;\">            5  </td><td style=\"text-align: right;\">           3.6</td><td style=\"text-align: right;\">            1.4</td><td style=\"text-align: right;\">           0.2</td><td>Iris-setosa</td><td style=\"text-align: right;\">      1.38889</td></tr>\n",
       "<tr><td style=\"text-align: right;\">            5.4</td><td style=\"text-align: right;\">           3.9</td><td style=\"text-align: right;\">            1.7</td><td style=\"text-align: right;\">           0.4</td><td>Iris-setosa</td><td style=\"text-align: right;\">      1.38462</td></tr>\n",
       "<tr><td style=\"text-align: right;\">            4.6</td><td style=\"text-align: right;\">           3.4</td><td style=\"text-align: right;\">            1.4</td><td style=\"text-align: right;\">           0.3</td><td>Iris-setosa</td><td style=\"text-align: right;\">      1.35294</td></tr>\n",
       "<tr><td style=\"text-align: right;\">            5  </td><td style=\"text-align: right;\">           3.4</td><td style=\"text-align: right;\">            1.5</td><td style=\"text-align: right;\">           0.2</td><td>Iris-setosa</td><td style=\"text-align: right;\">      1.47059</td></tr>\n",
       "<tr><td style=\"text-align: right;\">            4.4</td><td style=\"text-align: right;\">           2.9</td><td style=\"text-align: right;\">            1.4</td><td style=\"text-align: right;\">           0.2</td><td>Iris-setosa</td><td style=\"text-align: right;\">      1.51724</td></tr>\n",
       "<tr><td style=\"text-align: right;\">            4.9</td><td style=\"text-align: right;\">           3.1</td><td style=\"text-align: right;\">            1.5</td><td style=\"text-align: right;\">           0.1</td><td>Iris-setosa</td><td style=\"text-align: right;\">      1.58065</td></tr>\n",
       "</tbody>\n",
       "</table>"
      ]
     },
     "metadata": {},
     "output_type": "display_data"
    },
    {
     "data": {
      "text/plain": []
     },
     "execution_count": 80,
     "metadata": {},
     "output_type": "execute_result"
    }
   ],
   "source": [
    "df.head()"
   ]
  },
  {
   "cell_type": "code",
   "execution_count": 81,
   "metadata": {},
   "outputs": [],
   "source": [
    "df['petal_ratio'] = df['PetalLengthCm']/df['PetalWidthCm']"
   ]
  },
  {
   "cell_type": "code",
   "execution_count": 82,
   "metadata": {},
   "outputs": [
    {
     "data": {
      "text/html": [
       "<table>\n",
       "<thead>\n",
       "<tr><th style=\"text-align: right;\">  SepalLengthCm</th><th style=\"text-align: right;\">  SepalWidthCm</th><th style=\"text-align: right;\">  PetalLengthCm</th><th style=\"text-align: right;\">  PetalWidthCm</th><th>Species    </th><th style=\"text-align: right;\">  sepal_ratio</th><th style=\"text-align: right;\">  petal_ratio</th></tr>\n",
       "</thead>\n",
       "<tbody>\n",
       "<tr><td style=\"text-align: right;\">            5.1</td><td style=\"text-align: right;\">           3.5</td><td style=\"text-align: right;\">            1.4</td><td style=\"text-align: right;\">           0.2</td><td>Iris-setosa</td><td style=\"text-align: right;\">      1.45714</td><td style=\"text-align: right;\">      7      </td></tr>\n",
       "<tr><td style=\"text-align: right;\">            4.9</td><td style=\"text-align: right;\">           3  </td><td style=\"text-align: right;\">            1.4</td><td style=\"text-align: right;\">           0.2</td><td>Iris-setosa</td><td style=\"text-align: right;\">      1.63333</td><td style=\"text-align: right;\">      7      </td></tr>\n",
       "<tr><td style=\"text-align: right;\">            4.7</td><td style=\"text-align: right;\">           3.2</td><td style=\"text-align: right;\">            1.3</td><td style=\"text-align: right;\">           0.2</td><td>Iris-setosa</td><td style=\"text-align: right;\">      1.46875</td><td style=\"text-align: right;\">      6.5    </td></tr>\n",
       "<tr><td style=\"text-align: right;\">            4.6</td><td style=\"text-align: right;\">           3.1</td><td style=\"text-align: right;\">            1.5</td><td style=\"text-align: right;\">           0.2</td><td>Iris-setosa</td><td style=\"text-align: right;\">      1.48387</td><td style=\"text-align: right;\">      7.5    </td></tr>\n",
       "<tr><td style=\"text-align: right;\">            5  </td><td style=\"text-align: right;\">           3.6</td><td style=\"text-align: right;\">            1.4</td><td style=\"text-align: right;\">           0.2</td><td>Iris-setosa</td><td style=\"text-align: right;\">      1.38889</td><td style=\"text-align: right;\">      7      </td></tr>\n",
       "<tr><td style=\"text-align: right;\">            5.4</td><td style=\"text-align: right;\">           3.9</td><td style=\"text-align: right;\">            1.7</td><td style=\"text-align: right;\">           0.4</td><td>Iris-setosa</td><td style=\"text-align: right;\">      1.38462</td><td style=\"text-align: right;\">      4.25   </td></tr>\n",
       "<tr><td style=\"text-align: right;\">            4.6</td><td style=\"text-align: right;\">           3.4</td><td style=\"text-align: right;\">            1.4</td><td style=\"text-align: right;\">           0.3</td><td>Iris-setosa</td><td style=\"text-align: right;\">      1.35294</td><td style=\"text-align: right;\">      4.66667</td></tr>\n",
       "<tr><td style=\"text-align: right;\">            5  </td><td style=\"text-align: right;\">           3.4</td><td style=\"text-align: right;\">            1.5</td><td style=\"text-align: right;\">           0.2</td><td>Iris-setosa</td><td style=\"text-align: right;\">      1.47059</td><td style=\"text-align: right;\">      7.5    </td></tr>\n",
       "<tr><td style=\"text-align: right;\">            4.4</td><td style=\"text-align: right;\">           2.9</td><td style=\"text-align: right;\">            1.4</td><td style=\"text-align: right;\">           0.2</td><td>Iris-setosa</td><td style=\"text-align: right;\">      1.51724</td><td style=\"text-align: right;\">      7      </td></tr>\n",
       "<tr><td style=\"text-align: right;\">            4.9</td><td style=\"text-align: right;\">           3.1</td><td style=\"text-align: right;\">            1.5</td><td style=\"text-align: right;\">           0.1</td><td>Iris-setosa</td><td style=\"text-align: right;\">      1.58065</td><td style=\"text-align: right;\">     15      </td></tr>\n",
       "</tbody>\n",
       "</table>"
      ]
     },
     "metadata": {},
     "output_type": "display_data"
    },
    {
     "data": {
      "text/plain": []
     },
     "execution_count": 82,
     "metadata": {},
     "output_type": "execute_result"
    }
   ],
   "source": [
    "df.head()"
   ]
  },
  {
   "cell_type": "code",
   "execution_count": 88,
   "metadata": {},
   "outputs": [],
   "source": [
    "## difference between pandas correlation and H2o correlation"
   ]
  },
  {
   "cell_type": "code",
   "execution_count": 86,
   "metadata": {},
   "outputs": [
    {
     "data": {
      "text/html": [
       "<table>\n",
       "<thead>\n",
       "<tr><th style=\"text-align: right;\">  SepalLengthCm</th><th style=\"text-align: right;\">  SepalWidthCm</th><th style=\"text-align: right;\">  PetalLengthCm</th><th style=\"text-align: right;\">  PetalWidthCm</th><th style=\"text-align: right;\">  Species</th><th style=\"text-align: right;\">  sepal_ratio</th><th style=\"text-align: right;\">  petal_ratio</th></tr>\n",
       "</thead>\n",
       "<tbody>\n",
       "<tr><td style=\"text-align: right;\">       1       </td><td style=\"text-align: right;\">     -0.109369</td><td style=\"text-align: right;\">       0.871754</td><td style=\"text-align: right;\">      0.817954</td><td style=\"text-align: right;\">      nan</td><td style=\"text-align: right;\">     0.728971</td><td style=\"text-align: right;\">    -0.563335</td></tr>\n",
       "<tr><td style=\"text-align: right;\">      -0.109369</td><td style=\"text-align: right;\">      1       </td><td style=\"text-align: right;\">      -0.420516</td><td style=\"text-align: right;\">     -0.356544</td><td style=\"text-align: right;\">      nan</td><td style=\"text-align: right;\">    -0.743521</td><td style=\"text-align: right;\">     0.320919</td></tr>\n",
       "<tr><td style=\"text-align: right;\">       0.871754</td><td style=\"text-align: right;\">     -0.420516</td><td style=\"text-align: right;\">       1       </td><td style=\"text-align: right;\">      0.962757</td><td style=\"text-align: right;\">      nan</td><td style=\"text-align: right;\">     0.836602</td><td style=\"text-align: right;\">    -0.684091</td></tr>\n",
       "<tr><td style=\"text-align: right;\">       0.817954</td><td style=\"text-align: right;\">     -0.356544</td><td style=\"text-align: right;\">       0.962757</td><td style=\"text-align: right;\">      1       </td><td style=\"text-align: right;\">      nan</td><td style=\"text-align: right;\">     0.751725</td><td style=\"text-align: right;\">    -0.73437 </td></tr>\n",
       "<tr><td style=\"text-align: right;\">     nan       </td><td style=\"text-align: right;\">    nan       </td><td style=\"text-align: right;\">     nan       </td><td style=\"text-align: right;\">    nan       </td><td style=\"text-align: right;\">      nan</td><td style=\"text-align: right;\">   nan       </td><td style=\"text-align: right;\">   nan       </td></tr>\n",
       "<tr><td style=\"text-align: right;\">       0.728971</td><td style=\"text-align: right;\">     -0.743521</td><td style=\"text-align: right;\">       0.836602</td><td style=\"text-align: right;\">      0.751725</td><td style=\"text-align: right;\">      nan</td><td style=\"text-align: right;\">     1       </td><td style=\"text-align: right;\">    -0.583908</td></tr>\n",
       "<tr><td style=\"text-align: right;\">      -0.563335</td><td style=\"text-align: right;\">      0.320919</td><td style=\"text-align: right;\">      -0.684091</td><td style=\"text-align: right;\">     -0.73437 </td><td style=\"text-align: right;\">      nan</td><td style=\"text-align: right;\">    -0.583908</td><td style=\"text-align: right;\">     1       </td></tr>\n",
       "</tbody>\n",
       "</table>"
      ]
     },
     "metadata": {},
     "output_type": "display_data"
    },
    {
     "data": {
      "text/plain": []
     },
     "execution_count": 86,
     "metadata": {},
     "output_type": "execute_result"
    }
   ],
   "source": [
    "df.cor() "
   ]
  },
  {
   "cell_type": "code",
   "execution_count": 87,
   "metadata": {},
   "outputs": [
    {
     "data": {
      "text/html": [
       "<div>\n",
       "<style scoped>\n",
       "    .dataframe tbody tr th:only-of-type {\n",
       "        vertical-align: middle;\n",
       "    }\n",
       "\n",
       "    .dataframe tbody tr th {\n",
       "        vertical-align: top;\n",
       "    }\n",
       "\n",
       "    .dataframe thead th {\n",
       "        text-align: right;\n",
       "    }\n",
       "</style>\n",
       "<table border=\"1\" class=\"dataframe\">\n",
       "  <thead>\n",
       "    <tr style=\"text-align: right;\">\n",
       "      <th></th>\n",
       "      <th>Id</th>\n",
       "      <th>SepalLengthCm</th>\n",
       "      <th>SepalWidthCm</th>\n",
       "      <th>PetalLengthCm</th>\n",
       "      <th>PetalWidthCm</th>\n",
       "    </tr>\n",
       "  </thead>\n",
       "  <tbody>\n",
       "    <tr>\n",
       "      <th>Id</th>\n",
       "      <td>1.000000</td>\n",
       "      <td>0.716676</td>\n",
       "      <td>-0.397729</td>\n",
       "      <td>0.882747</td>\n",
       "      <td>0.899759</td>\n",
       "    </tr>\n",
       "    <tr>\n",
       "      <th>SepalLengthCm</th>\n",
       "      <td>0.716676</td>\n",
       "      <td>1.000000</td>\n",
       "      <td>-0.109369</td>\n",
       "      <td>0.871754</td>\n",
       "      <td>0.817954</td>\n",
       "    </tr>\n",
       "    <tr>\n",
       "      <th>SepalWidthCm</th>\n",
       "      <td>-0.397729</td>\n",
       "      <td>-0.109369</td>\n",
       "      <td>1.000000</td>\n",
       "      <td>-0.420516</td>\n",
       "      <td>-0.356544</td>\n",
       "    </tr>\n",
       "    <tr>\n",
       "      <th>PetalLengthCm</th>\n",
       "      <td>0.882747</td>\n",
       "      <td>0.871754</td>\n",
       "      <td>-0.420516</td>\n",
       "      <td>1.000000</td>\n",
       "      <td>0.962757</td>\n",
       "    </tr>\n",
       "    <tr>\n",
       "      <th>PetalWidthCm</th>\n",
       "      <td>0.899759</td>\n",
       "      <td>0.817954</td>\n",
       "      <td>-0.356544</td>\n",
       "      <td>0.962757</td>\n",
       "      <td>1.000000</td>\n",
       "    </tr>\n",
       "  </tbody>\n",
       "</table>\n",
       "</div>"
      ],
      "text/plain": [
       "                     Id  SepalLengthCm  SepalWidthCm  PetalLengthCm  \\\n",
       "Id             1.000000       0.716676     -0.397729       0.882747   \n",
       "SepalLengthCm  0.716676       1.000000     -0.109369       0.871754   \n",
       "SepalWidthCm  -0.397729      -0.109369      1.000000      -0.420516   \n",
       "PetalLengthCm  0.882747       0.871754     -0.420516       1.000000   \n",
       "PetalWidthCm   0.899759       0.817954     -0.356544       0.962757   \n",
       "\n",
       "               PetalWidthCm  \n",
       "Id                 0.899759  \n",
       "SepalLengthCm      0.817954  \n",
       "SepalWidthCm      -0.356544  \n",
       "PetalLengthCm      0.962757  \n",
       "PetalWidthCm       1.000000  "
      ]
     },
     "execution_count": 87,
     "metadata": {},
     "output_type": "execute_result"
    }
   ],
   "source": [
    "dfp.corr()"
   ]
  },
  {
   "cell_type": "code",
   "execution_count": 90,
   "metadata": {},
   "outputs": [
    {
     "data": {
      "text/plain": [
       "<matplotlib.axes._subplots.AxesSubplot at 0x7fcb1c6309e8>"
      ]
     },
     "execution_count": 90,
     "metadata": {},
     "output_type": "execute_result"
    },
    {
     "data": {
      "image/png": "[encoded data removed]",
      "text/plain": [
       "<Figure size 432x288 with 2 Axes>"
      ]
     },
     "metadata": {
      "needs_background": "light"
     },
     "output_type": "display_data"
    }
   ],
   "source": [
    "sns.heatmap(dfp.corr())"
   ]
  },
  {
   "cell_type": "code",
   "execution_count": 91,
   "metadata": {},
   "outputs": [
    {
     "data": {
      "text/html": [
       "<div>\n",
       "<style scoped>\n",
       "    .dataframe tbody tr th:only-of-type {\n",
       "        vertical-align: middle;\n",
       "    }\n",
       "\n",
       "    .dataframe tbody tr th {\n",
       "        vertical-align: top;\n",
       "    }\n",
       "\n",
       "    .dataframe thead th {\n",
       "        text-align: right;\n",
       "    }\n",
       "</style>\n",
       "<table border=\"1\" class=\"dataframe\">\n",
       "  <thead>\n",
       "    <tr style=\"text-align: right;\">\n",
       "      <th></th>\n",
       "      <th>Id</th>\n",
       "      <th>SepalLengthCm</th>\n",
       "      <th>SepalWidthCm</th>\n",
       "      <th>PetalLengthCm</th>\n",
       "      <th>PetalWidthCm</th>\n",
       "    </tr>\n",
       "  </thead>\n",
       "  <tbody>\n",
       "    <tr>\n",
       "      <th>Id</th>\n",
       "      <td>1.000000</td>\n",
       "      <td>0.734054</td>\n",
       "      <td>-0.411539</td>\n",
       "      <td>0.868498</td>\n",
       "      <td>0.879045</td>\n",
       "    </tr>\n",
       "    <tr>\n",
       "      <th>SepalLengthCm</th>\n",
       "      <td>0.734054</td>\n",
       "      <td>1.000000</td>\n",
       "      <td>-0.159457</td>\n",
       "      <td>0.881386</td>\n",
       "      <td>0.834421</td>\n",
       "    </tr>\n",
       "    <tr>\n",
       "      <th>SepalWidthCm</th>\n",
       "      <td>-0.411539</td>\n",
       "      <td>-0.159457</td>\n",
       "      <td>1.000000</td>\n",
       "      <td>-0.303421</td>\n",
       "      <td>-0.277511</td>\n",
       "    </tr>\n",
       "    <tr>\n",
       "      <th>PetalLengthCm</th>\n",
       "      <td>0.868498</td>\n",
       "      <td>0.881386</td>\n",
       "      <td>-0.303421</td>\n",
       "      <td>1.000000</td>\n",
       "      <td>0.936003</td>\n",
       "    </tr>\n",
       "    <tr>\n",
       "      <th>PetalWidthCm</th>\n",
       "      <td>0.879045</td>\n",
       "      <td>0.834421</td>\n",
       "      <td>-0.277511</td>\n",
       "      <td>0.936003</td>\n",
       "      <td>1.000000</td>\n",
       "    </tr>\n",
       "  </tbody>\n",
       "</table>\n",
       "</div>"
      ],
      "text/plain": [
       "                     Id  SepalLengthCm  SepalWidthCm  PetalLengthCm  \\\n",
       "Id             1.000000       0.734054     -0.411539       0.868498   \n",
       "SepalLengthCm  0.734054       1.000000     -0.159457       0.881386   \n",
       "SepalWidthCm  -0.411539      -0.159457      1.000000      -0.303421   \n",
       "PetalLengthCm  0.868498       0.881386     -0.303421       1.000000   \n",
       "PetalWidthCm   0.879045       0.834421     -0.277511       0.936003   \n",
       "\n",
       "               PetalWidthCm  \n",
       "Id                 0.879045  \n",
       "SepalLengthCm      0.834421  \n",
       "SepalWidthCm      -0.277511  \n",
       "PetalLengthCm      0.936003  \n",
       "PetalWidthCm       1.000000  "
      ]
     },
     "execution_count": 91,
     "metadata": {},
     "output_type": "execute_result"
    }
   ],
   "source": [
    "dfp.corr(method='spearman')"
   ]
  },
  {
   "cell_type": "code",
   "execution_count": 92,
   "metadata": {},
   "outputs": [
    {
     "data": {
      "text/plain": [
       "<matplotlib.axes._subplots.AxesSubplot at 0x7fcb1c77bfd0>"
      ]
     },
     "execution_count": 92,
     "metadata": {},
     "output_type": "execute_result"
    },
    {
     "data": {
      "image/png": "[encoded data removed]",
      "text/plain": [
       "<Figure size 432x288 with 2 Axes>"
      ]
     },
     "metadata": {
      "needs_background": "light"
     },
     "output_type": "display_data"
    }
   ],
   "source": [
    "sns.heatmap(dfp.corr(method='spearman'))"
   ]
  },
  {
   "cell_type": "code",
   "execution_count": 93,
   "metadata": {},
   "outputs": [],
   "source": [
    "# splitting data in h2o and in sklearn"
   ]
  },
  {
   "cell_type": "code",
   "execution_count": 94,
   "metadata": {},
   "outputs": [],
   "source": [
    "## in H20\n",
    "train_h,test_h,valid_h = df.split_frame([0.6,0.2])"
   ]
  },
  {
   "cell_type": "code",
   "execution_count": 95,
   "metadata": {},
   "outputs": [
    {
     "data": {
      "text/html": [
       "<table>\n",
       "<thead>\n",
       "<tr><th style=\"text-align: right;\">  SepalLengthCm</th><th style=\"text-align: right;\">  SepalWidthCm</th><th style=\"text-align: right;\">  PetalLengthCm</th><th style=\"text-align: right;\">  PetalWidthCm</th><th>Species    </th><th style=\"text-align: right;\">  sepal_ratio</th><th style=\"text-align: right;\">  petal_ratio</th></tr>\n",
       "</thead>\n",
       "<tbody>\n",
       "<tr><td style=\"text-align: right;\">            4.6</td><td style=\"text-align: right;\">           3.1</td><td style=\"text-align: right;\">            1.5</td><td style=\"text-align: right;\">           0.2</td><td>Iris-setosa</td><td style=\"text-align: right;\">      1.48387</td><td style=\"text-align: right;\">      7.5    </td></tr>\n",
       "<tr><td style=\"text-align: right;\">            4.6</td><td style=\"text-align: right;\">           3.4</td><td style=\"text-align: right;\">            1.4</td><td style=\"text-align: right;\">           0.3</td><td>Iris-setosa</td><td style=\"text-align: right;\">      1.35294</td><td style=\"text-align: right;\">      4.66667</td></tr>\n",
       "<tr><td style=\"text-align: right;\">            5  </td><td style=\"text-align: right;\">           3.4</td><td style=\"text-align: right;\">            1.5</td><td style=\"text-align: right;\">           0.2</td><td>Iris-setosa</td><td style=\"text-align: right;\">      1.47059</td><td style=\"text-align: right;\">      7.5    </td></tr>\n",
       "<tr><td style=\"text-align: right;\">            4.4</td><td style=\"text-align: right;\">           2.9</td><td style=\"text-align: right;\">            1.4</td><td style=\"text-align: right;\">           0.2</td><td>Iris-setosa</td><td style=\"text-align: right;\">      1.51724</td><td style=\"text-align: right;\">      7      </td></tr>\n",
       "<tr><td style=\"text-align: right;\">            4.9</td><td style=\"text-align: right;\">           3.1</td><td style=\"text-align: right;\">            1.5</td><td style=\"text-align: right;\">           0.1</td><td>Iris-setosa</td><td style=\"text-align: right;\">      1.58065</td><td style=\"text-align: right;\">     15      </td></tr>\n",
       "<tr><td style=\"text-align: right;\">            5.4</td><td style=\"text-align: right;\">           3.7</td><td style=\"text-align: right;\">            1.5</td><td style=\"text-align: right;\">           0.2</td><td>Iris-setosa</td><td style=\"text-align: right;\">      1.45946</td><td style=\"text-align: right;\">      7.5    </td></tr>\n",
       "<tr><td style=\"text-align: right;\">            4.8</td><td style=\"text-align: right;\">           3  </td><td style=\"text-align: right;\">            1.4</td><td style=\"text-align: right;\">           0.1</td><td>Iris-setosa</td><td style=\"text-align: right;\">      1.6    </td><td style=\"text-align: right;\">     14      </td></tr>\n",
       "<tr><td style=\"text-align: right;\">            5.8</td><td style=\"text-align: right;\">           4  </td><td style=\"text-align: right;\">            1.2</td><td style=\"text-align: right;\">           0.2</td><td>Iris-setosa</td><td style=\"text-align: right;\">      1.45   </td><td style=\"text-align: right;\">      6      </td></tr>\n",
       "<tr><td style=\"text-align: right;\">            5.1</td><td style=\"text-align: right;\">           3.5</td><td style=\"text-align: right;\">            1.4</td><td style=\"text-align: right;\">           0.3</td><td>Iris-setosa</td><td style=\"text-align: right;\">      1.45714</td><td style=\"text-align: right;\">      4.66667</td></tr>\n",
       "<tr><td style=\"text-align: right;\">            5.7</td><td style=\"text-align: right;\">           3.8</td><td style=\"text-align: right;\">            1.7</td><td style=\"text-align: right;\">           0.3</td><td>Iris-setosa</td><td style=\"text-align: right;\">      1.5    </td><td style=\"text-align: right;\">      5.66667</td></tr>\n",
       "</tbody>\n",
       "</table>"
      ]
     },
     "metadata": {},
     "output_type": "display_data"
    },
    {
     "data": {
      "text/plain": []
     },
     "execution_count": 95,
     "metadata": {},
     "output_type": "execute_result"
    }
   ],
   "source": [
    "train_h"
   ]
  },
  {
   "cell_type": "code",
   "execution_count": 96,
   "metadata": {},
   "outputs": [
    {
     "data": {
      "text/html": [
       "<table>\n",
       "<thead>\n",
       "<tr><th style=\"text-align: right;\">  SepalLengthCm</th><th style=\"text-align: right;\">  SepalWidthCm</th><th style=\"text-align: right;\">  PetalLengthCm</th><th style=\"text-align: right;\">  PetalWidthCm</th><th>Species        </th><th style=\"text-align: right;\">  sepal_ratio</th><th style=\"text-align: right;\">  petal_ratio</th></tr>\n",
       "</thead>\n",
       "<tbody>\n",
       "<tr><td style=\"text-align: right;\">            5  </td><td style=\"text-align: right;\">           3.6</td><td style=\"text-align: right;\">            1.4</td><td style=\"text-align: right;\">           0.2</td><td>Iris-setosa    </td><td style=\"text-align: right;\">      1.38889</td><td style=\"text-align: right;\">      7      </td></tr>\n",
       "<tr><td style=\"text-align: right;\">            4.3</td><td style=\"text-align: right;\">           3  </td><td style=\"text-align: right;\">            1.1</td><td style=\"text-align: right;\">           0.1</td><td>Iris-setosa    </td><td style=\"text-align: right;\">      1.43333</td><td style=\"text-align: right;\">     11      </td></tr>\n",
       "<tr><td style=\"text-align: right;\">            4.8</td><td style=\"text-align: right;\">           3.4</td><td style=\"text-align: right;\">            1.9</td><td style=\"text-align: right;\">           0.2</td><td>Iris-setosa    </td><td style=\"text-align: right;\">      1.41176</td><td style=\"text-align: right;\">      9.5    </td></tr>\n",
       "<tr><td style=\"text-align: right;\">            5.2</td><td style=\"text-align: right;\">           3.4</td><td style=\"text-align: right;\">            1.4</td><td style=\"text-align: right;\">           0.2</td><td>Iris-setosa    </td><td style=\"text-align: right;\">      1.52941</td><td style=\"text-align: right;\">      7      </td></tr>\n",
       "<tr><td style=\"text-align: right;\">            5.5</td><td style=\"text-align: right;\">           4.2</td><td style=\"text-align: right;\">            1.4</td><td style=\"text-align: right;\">           0.2</td><td>Iris-setosa    </td><td style=\"text-align: right;\">      1.30952</td><td style=\"text-align: right;\">      7      </td></tr>\n",
       "<tr><td style=\"text-align: right;\">            5.5</td><td style=\"text-align: right;\">           3.5</td><td style=\"text-align: right;\">            1.3</td><td style=\"text-align: right;\">           0.2</td><td>Iris-setosa    </td><td style=\"text-align: right;\">      1.57143</td><td style=\"text-align: right;\">      6.5    </td></tr>\n",
       "<tr><td style=\"text-align: right;\">            4.9</td><td style=\"text-align: right;\">           3.1</td><td style=\"text-align: right;\">            1.5</td><td style=\"text-align: right;\">           0.1</td><td>Iris-setosa    </td><td style=\"text-align: right;\">      1.58065</td><td style=\"text-align: right;\">     15      </td></tr>\n",
       "<tr><td style=\"text-align: right;\">            5  </td><td style=\"text-align: right;\">           3.5</td><td style=\"text-align: right;\">            1.3</td><td style=\"text-align: right;\">           0.3</td><td>Iris-setosa    </td><td style=\"text-align: right;\">      1.42857</td><td style=\"text-align: right;\">      4.33333</td></tr>\n",
       "<tr><td style=\"text-align: right;\">            5.1</td><td style=\"text-align: right;\">           3.8</td><td style=\"text-align: right;\">            1.9</td><td style=\"text-align: right;\">           0.4</td><td>Iris-setosa    </td><td style=\"text-align: right;\">      1.34211</td><td style=\"text-align: right;\">      4.75   </td></tr>\n",
       "<tr><td style=\"text-align: right;\">            4.9</td><td style=\"text-align: right;\">           2.4</td><td style=\"text-align: right;\">            3.3</td><td style=\"text-align: right;\">           1  </td><td>Iris-versicolor</td><td style=\"text-align: right;\">      2.04167</td><td style=\"text-align: right;\">      3.3    </td></tr>\n",
       "</tbody>\n",
       "</table>"
      ]
     },
     "metadata": {},
     "output_type": "display_data"
    },
    {
     "data": {
      "text/plain": []
     },
     "execution_count": 96,
     "metadata": {},
     "output_type": "execute_result"
    }
   ],
   "source": [
    "test_h"
   ]
  },
  {
   "cell_type": "code",
   "execution_count": 97,
   "metadata": {},
   "outputs": [
    {
     "data": {
      "text/html": [
       "<table>\n",
       "<thead>\n",
       "<tr><th style=\"text-align: right;\">  SepalLengthCm</th><th style=\"text-align: right;\">  SepalWidthCm</th><th style=\"text-align: right;\">  PetalLengthCm</th><th style=\"text-align: right;\">  PetalWidthCm</th><th>Species    </th><th style=\"text-align: right;\">  sepal_ratio</th><th style=\"text-align: right;\">  petal_ratio</th></tr>\n",
       "</thead>\n",
       "<tbody>\n",
       "<tr><td style=\"text-align: right;\">            5.1</td><td style=\"text-align: right;\">           3.5</td><td style=\"text-align: right;\">            1.4</td><td style=\"text-align: right;\">           0.2</td><td>Iris-setosa</td><td style=\"text-align: right;\">      1.45714</td><td style=\"text-align: right;\">         7   </td></tr>\n",
       "<tr><td style=\"text-align: right;\">            4.9</td><td style=\"text-align: right;\">           3  </td><td style=\"text-align: right;\">            1.4</td><td style=\"text-align: right;\">           0.2</td><td>Iris-setosa</td><td style=\"text-align: right;\">      1.63333</td><td style=\"text-align: right;\">         7   </td></tr>\n",
       "<tr><td style=\"text-align: right;\">            4.7</td><td style=\"text-align: right;\">           3.2</td><td style=\"text-align: right;\">            1.3</td><td style=\"text-align: right;\">           0.2</td><td>Iris-setosa</td><td style=\"text-align: right;\">      1.46875</td><td style=\"text-align: right;\">         6.5 </td></tr>\n",
       "<tr><td style=\"text-align: right;\">            5.4</td><td style=\"text-align: right;\">           3.9</td><td style=\"text-align: right;\">            1.7</td><td style=\"text-align: right;\">           0.4</td><td>Iris-setosa</td><td style=\"text-align: right;\">      1.38462</td><td style=\"text-align: right;\">         4.25</td></tr>\n",
       "<tr><td style=\"text-align: right;\">            4.8</td><td style=\"text-align: right;\">           3.4</td><td style=\"text-align: right;\">            1.6</td><td style=\"text-align: right;\">           0.2</td><td>Iris-setosa</td><td style=\"text-align: right;\">      1.41176</td><td style=\"text-align: right;\">         8   </td></tr>\n",
       "<tr><td style=\"text-align: right;\">            5.7</td><td style=\"text-align: right;\">           4.4</td><td style=\"text-align: right;\">            1.5</td><td style=\"text-align: right;\">           0.4</td><td>Iris-setosa</td><td style=\"text-align: right;\">      1.29545</td><td style=\"text-align: right;\">         3.75</td></tr>\n",
       "<tr><td style=\"text-align: right;\">            5.4</td><td style=\"text-align: right;\">           3.9</td><td style=\"text-align: right;\">            1.3</td><td style=\"text-align: right;\">           0.4</td><td>Iris-setosa</td><td style=\"text-align: right;\">      1.38462</td><td style=\"text-align: right;\">         3.25</td></tr>\n",
       "<tr><td style=\"text-align: right;\">            5.4</td><td style=\"text-align: right;\">           3.4</td><td style=\"text-align: right;\">            1.7</td><td style=\"text-align: right;\">           0.2</td><td>Iris-setosa</td><td style=\"text-align: right;\">      1.58824</td><td style=\"text-align: right;\">         8.5 </td></tr>\n",
       "<tr><td style=\"text-align: right;\">            5.1</td><td style=\"text-align: right;\">           3.7</td><td style=\"text-align: right;\">            1.5</td><td style=\"text-align: right;\">           0.4</td><td>Iris-setosa</td><td style=\"text-align: right;\">      1.37838</td><td style=\"text-align: right;\">         3.75</td></tr>\n",
       "<tr><td style=\"text-align: right;\">            5.1</td><td style=\"text-align: right;\">           3.3</td><td style=\"text-align: right;\">            1.7</td><td style=\"text-align: right;\">           0.5</td><td>Iris-setosa</td><td style=\"text-align: right;\">      1.54545</td><td style=\"text-align: right;\">         3.4 </td></tr>\n",
       "</tbody>\n",
       "</table>"
      ]
     },
     "metadata": {},
     "output_type": "display_data"
    },
    {
     "data": {
      "text/plain": []
     },
     "execution_count": 97,
     "metadata": {},
     "output_type": "execute_result"
    }
   ],
   "source": [
    "valid_h"
   ]
  },
  {
   "cell_type": "code",
   "execution_count": 98,
   "metadata": {},
   "outputs": [],
   "source": [
    "## in sklearn"
   ]
  },
  {
   "cell_type": "code",
   "execution_count": 99,
   "metadata": {},
   "outputs": [],
   "source": [
    "from sklearn.model_selection import train_test_split"
   ]
  },
  {
   "cell_type": "code",
   "execution_count": 104,
   "metadata": {},
   "outputs": [],
   "source": [
    "xtrain,ytrain,xtest,ytest = train_test_split(dfp.drop('Species',axis=1),dfp[['Species']])"
   ]
  },
  {
   "cell_type": "code",
   "execution_count": 106,
   "metadata": {},
   "outputs": [
    {
     "data": {
      "text/html": [
       "<div>\n",
       "<style scoped>\n",
       "    .dataframe tbody tr th:only-of-type {\n",
       "        vertical-align: middle;\n",
       "    }\n",
       "\n",
       "    .dataframe tbody tr th {\n",
       "        vertical-align: top;\n",
       "    }\n",
       "\n",
       "    .dataframe thead th {\n",
       "        text-align: right;\n",
       "    }\n",
       "</style>\n",
       "<table border=\"1\" class=\"dataframe\">\n",
       "  <thead>\n",
       "    <tr style=\"text-align: right;\">\n",
       "      <th></th>\n",
       "      <th>Id</th>\n",
       "      <th>SepalLengthCm</th>\n",
       "      <th>SepalWidthCm</th>\n",
       "      <th>PetalLengthCm</th>\n",
       "      <th>PetalWidthCm</th>\n",
       "    </tr>\n",
       "  </thead>\n",
       "  <tbody>\n",
       "    <tr>\n",
       "      <th>120</th>\n",
       "      <td>121</td>\n",
       "      <td>6.9</td>\n",
       "      <td>3.2</td>\n",
       "      <td>5.7</td>\n",
       "      <td>2.3</td>\n",
       "    </tr>\n",
       "    <tr>\n",
       "      <th>80</th>\n",
       "      <td>81</td>\n",
       "      <td>5.5</td>\n",
       "      <td>2.4</td>\n",
       "      <td>3.8</td>\n",
       "      <td>1.1</td>\n",
       "    </tr>\n",
       "    <tr>\n",
       "      <th>90</th>\n",
       "      <td>91</td>\n",
       "      <td>5.5</td>\n",
       "      <td>2.6</td>\n",
       "      <td>4.4</td>\n",
       "      <td>1.2</td>\n",
       "    </tr>\n",
       "    <tr>\n",
       "      <th>134</th>\n",
       "      <td>135</td>\n",
       "      <td>6.1</td>\n",
       "      <td>2.6</td>\n",
       "      <td>5.6</td>\n",
       "      <td>1.4</td>\n",
       "    </tr>\n",
       "    <tr>\n",
       "      <th>119</th>\n",
       "      <td>120</td>\n",
       "      <td>6.0</td>\n",
       "      <td>2.2</td>\n",
       "      <td>5.0</td>\n",
       "      <td>1.5</td>\n",
       "    </tr>\n",
       "  </tbody>\n",
       "</table>\n",
       "</div>"
      ],
      "text/plain": [
       "      Id  SepalLengthCm  SepalWidthCm  PetalLengthCm  PetalWidthCm\n",
       "120  121            6.9           3.2            5.7           2.3\n",
       "80    81            5.5           2.4            3.8           1.1\n",
       "90    91            5.5           2.6            4.4           1.2\n",
       "134  135            6.1           2.6            5.6           1.4\n",
       "119  120            6.0           2.2            5.0           1.5"
      ]
     },
     "execution_count": 106,
     "metadata": {},
     "output_type": "execute_result"
    }
   ],
   "source": [
    "xtrain.head()"
   ]
  },
  {
   "cell_type": "code",
   "execution_count": 108,
   "metadata": {},
   "outputs": [
    {
     "data": {
      "text/html": [
       "<div>\n",
       "<style scoped>\n",
       "    .dataframe tbody tr th:only-of-type {\n",
       "        vertical-align: middle;\n",
       "    }\n",
       "\n",
       "    .dataframe tbody tr th {\n",
       "        vertical-align: top;\n",
       "    }\n",
       "\n",
       "    .dataframe thead th {\n",
       "        text-align: right;\n",
       "    }\n",
       "</style>\n",
       "<table border=\"1\" class=\"dataframe\">\n",
       "  <thead>\n",
       "    <tr style=\"text-align: right;\">\n",
       "      <th></th>\n",
       "      <th>Id</th>\n",
       "      <th>SepalLengthCm</th>\n",
       "      <th>SepalWidthCm</th>\n",
       "      <th>PetalLengthCm</th>\n",
       "      <th>PetalWidthCm</th>\n",
       "    </tr>\n",
       "  </thead>\n",
       "  <tbody>\n",
       "    <tr>\n",
       "      <th>95</th>\n",
       "      <td>96</td>\n",
       "      <td>5.7</td>\n",
       "      <td>3.0</td>\n",
       "      <td>4.2</td>\n",
       "      <td>1.2</td>\n",
       "    </tr>\n",
       "    <tr>\n",
       "      <th>57</th>\n",
       "      <td>58</td>\n",
       "      <td>4.9</td>\n",
       "      <td>2.4</td>\n",
       "      <td>3.3</td>\n",
       "      <td>1.0</td>\n",
       "    </tr>\n",
       "    <tr>\n",
       "      <th>20</th>\n",
       "      <td>21</td>\n",
       "      <td>5.4</td>\n",
       "      <td>3.4</td>\n",
       "      <td>1.7</td>\n",
       "      <td>0.2</td>\n",
       "    </tr>\n",
       "    <tr>\n",
       "      <th>0</th>\n",
       "      <td>1</td>\n",
       "      <td>5.1</td>\n",
       "      <td>3.5</td>\n",
       "      <td>1.4</td>\n",
       "      <td>0.2</td>\n",
       "    </tr>\n",
       "    <tr>\n",
       "      <th>50</th>\n",
       "      <td>51</td>\n",
       "      <td>7.0</td>\n",
       "      <td>3.2</td>\n",
       "      <td>4.7</td>\n",
       "      <td>1.4</td>\n",
       "    </tr>\n",
       "  </tbody>\n",
       "</table>\n",
       "</div>"
      ],
      "text/plain": [
       "    Id  SepalLengthCm  SepalWidthCm  PetalLengthCm  PetalWidthCm\n",
       "95  96            5.7           3.0            4.2           1.2\n",
       "57  58            4.9           2.4            3.3           1.0\n",
       "20  21            5.4           3.4            1.7           0.2\n",
       "0    1            5.1           3.5            1.4           0.2\n",
       "50  51            7.0           3.2            4.7           1.4"
      ]
     },
     "execution_count": 108,
     "metadata": {},
     "output_type": "execute_result"
    }
   ],
   "source": [
    "ytrain.head()"
   ]
  },
  {
   "cell_type": "code",
   "execution_count": 109,
   "metadata": {},
   "outputs": [
    {
     "data": {
      "text/html": [
       "<div>\n",
       "<style scoped>\n",
       "    .dataframe tbody tr th:only-of-type {\n",
       "        vertical-align: middle;\n",
       "    }\n",
       "\n",
       "    .dataframe tbody tr th {\n",
       "        vertical-align: top;\n",
       "    }\n",
       "\n",
       "    .dataframe thead th {\n",
       "        text-align: right;\n",
       "    }\n",
       "</style>\n",
       "<table border=\"1\" class=\"dataframe\">\n",
       "  <thead>\n",
       "    <tr style=\"text-align: right;\">\n",
       "      <th></th>\n",
       "      <th>Species</th>\n",
       "    </tr>\n",
       "  </thead>\n",
       "  <tbody>\n",
       "    <tr>\n",
       "      <th>120</th>\n",
       "      <td>Iris-virginica</td>\n",
       "    </tr>\n",
       "    <tr>\n",
       "      <th>80</th>\n",
       "      <td>Iris-versicolor</td>\n",
       "    </tr>\n",
       "    <tr>\n",
       "      <th>90</th>\n",
       "      <td>Iris-versicolor</td>\n",
       "    </tr>\n",
       "    <tr>\n",
       "      <th>134</th>\n",
       "      <td>Iris-virginica</td>\n",
       "    </tr>\n",
       "    <tr>\n",
       "      <th>119</th>\n",
       "      <td>Iris-virginica</td>\n",
       "    </tr>\n",
       "  </tbody>\n",
       "</table>\n",
       "</div>"
      ],
      "text/plain": [
       "             Species\n",
       "120   Iris-virginica\n",
       "80   Iris-versicolor\n",
       "90   Iris-versicolor\n",
       "134   Iris-virginica\n",
       "119   Iris-virginica"
      ]
     },
     "execution_count": 109,
     "metadata": {},
     "output_type": "execute_result"
    }
   ],
   "source": [
    "xtest.head()"
   ]
  },
  {
   "cell_type": "code",
   "execution_count": null,
   "metadata": {},
   "outputs": [],
   "source": []
  }
 ],
 "metadata": {
  "kernelspec": {
   "display_name": "Python 3",
   "language": "python",
   "name": "python3"
  },
  "language_info": {
   "codemirror_mode": {
    "name": "ipython",
    "version": 3
   },
   "file_extension": ".py",
   "mimetype": "text/x-python",
   "name": "python",
   "nbconvert_exporter": "python",
   "pygments_lexer": "ipython3",
   "version": "3.7.3"
  }
 },
 "nbformat": 4,
 "nbformat_minor": 2
}
