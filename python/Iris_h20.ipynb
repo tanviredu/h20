{
 "cells": [
  {
   "cell_type": "markdown",
   "metadata": {},
   "source": [
    "# <center> IRIS PROJECT WITH H2O </center>"
   ]
  },
  {
   "cell_type": "code",
   "execution_count": 4,
   "metadata": {},
   "outputs": [],
   "source": [
    "import h2o"
   ]
  },
  {
   "cell_type": "code",
   "execution_count": 5,
   "metadata": {},
   "outputs": [
    {
     "name": "stdout",
     "output_type": "stream",
     "text": [
      "Checking whether there is an H2O instance running at http://localhost:54321 . connected.\n"
     ]
    },
    {
     "data": {
      "text/html": [
       "<div style=\"overflow:auto\"><table style=\"width:50%\"><tr><td>H2O cluster uptime:</td>\n",
       "<td>55 mins 29 secs</td></tr>\n",
       "<tr><td>H2O cluster timezone:</td>\n",
       "<td>Asia/Thimphu</td></tr>\n",
       "<tr><td>H2O data parsing timezone:</td>\n",
       "<td>UTC</td></tr>\n",
       "<tr><td>H2O cluster version:</td>\n",
       "<td>3.26.0.2</td></tr>\n",
       "<tr><td>H2O cluster version age:</td>\n",
       "<td>22 days </td></tr>\n",
       "<tr><td>H2O cluster name:</td>\n",
       "<td>H2O_from_python_tanvir_6mmog5</td></tr>\n",
       "<tr><td>H2O cluster total nodes:</td>\n",
       "<td>1</td></tr>\n",
       "<tr><td>H2O cluster free memory:</td>\n",
       "<td>852 Mb</td></tr>\n",
       "<tr><td>H2O cluster total cores:</td>\n",
       "<td>4</td></tr>\n",
       "<tr><td>H2O cluster allowed cores:</td>\n",
       "<td>4</td></tr>\n",
       "<tr><td>H2O cluster status:</td>\n",
       "<td>locked, healthy</td></tr>\n",
       "<tr><td>H2O connection url:</td>\n",
       "<td>http://localhost:54321</td></tr>\n",
       "<tr><td>H2O connection proxy:</td>\n",
       "<td>None</td></tr>\n",
       "<tr><td>H2O internal security:</td>\n",
       "<td>False</td></tr>\n",
       "<tr><td>H2O API Extensions:</td>\n",
       "<td>Amazon S3, XGBoost, Algos, AutoML, Core V3, Core V4</td></tr>\n",
       "<tr><td>Python version:</td>\n",
       "<td>3.7.3 final</td></tr></table></div>"
      ],
      "text/plain": [
       "--------------------------  ---------------------------------------------------\n",
       "H2O cluster uptime:         55 mins 29 secs\n",
       "H2O cluster timezone:       Asia/Thimphu\n",
       "H2O data parsing timezone:  UTC\n",
       "H2O cluster version:        3.26.0.2\n",
       "H2O cluster version age:    22 days\n",
       "H2O cluster name:           H2O_from_python_tanvir_6mmog5\n",
       "H2O cluster total nodes:    1\n",
       "H2O cluster free memory:    852 Mb\n",
       "H2O cluster total cores:    4\n",
       "H2O cluster allowed cores:  4\n",
       "H2O cluster status:         locked, healthy\n",
       "H2O connection url:         http://localhost:54321\n",
       "H2O connection proxy:\n",
       "H2O internal security:      False\n",
       "H2O API Extensions:         Amazon S3, XGBoost, Algos, AutoML, Core V3, Core V4\n",
       "Python version:             3.7.3 final\n",
       "--------------------------  ---------------------------------------------------"
      ]
     },
     "metadata": {},
     "output_type": "display_data"
    }
   ],
   "source": [
    "h2o.init()"
   ]
  },
  {
   "cell_type": "markdown",
   "metadata": {},
   "source": [
    "## importing data with h20 we can import data from pandas too"
   ]
  },
  {
   "cell_type": "code",
   "execution_count": 6,
   "metadata": {},
   "outputs": [],
   "source": [
    "import numpy as np \n",
    "import pandas as pd\n",
    "import matplotlib.pyplot as plt\n",
    "import seaborn as sns"
   ]
  },
  {
   "cell_type": "code",
   "execution_count": 9,
   "metadata": {},
   "outputs": [
    {
     "name": "stdout",
     "output_type": "stream",
     "text": [
      "Iris.csv\r\n"
     ]
    }
   ],
   "source": [
    "## import data \n",
    "!ls IRIS-PREDICTION/"
   ]
  },
  {
   "cell_type": "code",
   "execution_count": 10,
   "metadata": {},
   "outputs": [
    {
     "name": "stdout",
     "output_type": "stream",
     "text": [
      "Parse progress: |█████████████████████████████████████████████████████████| 100%\n"
     ]
    }
   ],
   "source": [
    "df = h2o.import_file('IRIS-PREDICTION/Iris.csv')"
   ]
  },
  {
   "cell_type": "code",
   "execution_count": 11,
   "metadata": {},
   "outputs": [
    {
     "data": {
      "text/html": [
       "<table>\n",
       "<thead>\n",
       "<tr><th style=\"text-align: right;\">  Id</th><th style=\"text-align: right;\">  SepalLengthCm</th><th style=\"text-align: right;\">  SepalWidthCm</th><th style=\"text-align: right;\">  PetalLengthCm</th><th style=\"text-align: right;\">  PetalWidthCm</th><th>Species    </th></tr>\n",
       "</thead>\n",
       "<tbody>\n",
       "<tr><td style=\"text-align: right;\">   1</td><td style=\"text-align: right;\">            5.1</td><td style=\"text-align: right;\">           3.5</td><td style=\"text-align: right;\">            1.4</td><td style=\"text-align: right;\">           0.2</td><td>Iris-setosa</td></tr>\n",
       "<tr><td style=\"text-align: right;\">   2</td><td style=\"text-align: right;\">            4.9</td><td style=\"text-align: right;\">           3  </td><td style=\"text-align: right;\">            1.4</td><td style=\"text-align: right;\">           0.2</td><td>Iris-setosa</td></tr>\n",
       "<tr><td style=\"text-align: right;\">   3</td><td style=\"text-align: right;\">            4.7</td><td style=\"text-align: right;\">           3.2</td><td style=\"text-align: right;\">            1.3</td><td style=\"text-align: right;\">           0.2</td><td>Iris-setosa</td></tr>\n",
       "<tr><td style=\"text-align: right;\">   4</td><td style=\"text-align: right;\">            4.6</td><td style=\"text-align: right;\">           3.1</td><td style=\"text-align: right;\">            1.5</td><td style=\"text-align: right;\">           0.2</td><td>Iris-setosa</td></tr>\n",
       "<tr><td style=\"text-align: right;\">   5</td><td style=\"text-align: right;\">            5  </td><td style=\"text-align: right;\">           3.6</td><td style=\"text-align: right;\">            1.4</td><td style=\"text-align: right;\">           0.2</td><td>Iris-setosa</td></tr>\n",
       "<tr><td style=\"text-align: right;\">   6</td><td style=\"text-align: right;\">            5.4</td><td style=\"text-align: right;\">           3.9</td><td style=\"text-align: right;\">            1.7</td><td style=\"text-align: right;\">           0.4</td><td>Iris-setosa</td></tr>\n",
       "<tr><td style=\"text-align: right;\">   7</td><td style=\"text-align: right;\">            4.6</td><td style=\"text-align: right;\">           3.4</td><td style=\"text-align: right;\">            1.4</td><td style=\"text-align: right;\">           0.3</td><td>Iris-setosa</td></tr>\n",
       "<tr><td style=\"text-align: right;\">   8</td><td style=\"text-align: right;\">            5  </td><td style=\"text-align: right;\">           3.4</td><td style=\"text-align: right;\">            1.5</td><td style=\"text-align: right;\">           0.2</td><td>Iris-setosa</td></tr>\n",
       "<tr><td style=\"text-align: right;\">   9</td><td style=\"text-align: right;\">            4.4</td><td style=\"text-align: right;\">           2.9</td><td style=\"text-align: right;\">            1.4</td><td style=\"text-align: right;\">           0.2</td><td>Iris-setosa</td></tr>\n",
       "<tr><td style=\"text-align: right;\">  10</td><td style=\"text-align: right;\">            4.9</td><td style=\"text-align: right;\">           3.1</td><td style=\"text-align: right;\">            1.5</td><td style=\"text-align: right;\">           0.1</td><td>Iris-setosa</td></tr>\n",
       "</tbody>\n",
       "</table>"
      ]
     },
     "metadata": {},
     "output_type": "display_data"
    },
    {
     "data": {
      "text/plain": []
     },
     "execution_count": 11,
     "metadata": {},
     "output_type": "execute_result"
    }
   ],
   "source": [
    "df.head()"
   ]
  },
  {
   "cell_type": "code",
   "execution_count": 14,
   "metadata": {},
   "outputs": [
    {
     "name": "stdout",
     "output_type": "stream",
     "text": [
      "Parse progress: |█████████████████████████████████████████████████████████| 100%\n"
     ]
    }
   ],
   "source": [
    "## importing with different parameter\n",
    "df = h2o.import_file('IRIS-PREDICTION/Iris.csv',col_names=['id','SepalLengthCm','SepalWidthCm','PetalLengthCm','PetalWidthCm','Species'],\n",
    "                    col_types=['numeric',\"numeric\", \"numeric\", \"numeric\", \"numeric\", \"enum\"])"
   ]
  },
  {
   "cell_type": "code",
   "execution_count": 15,
   "metadata": {},
   "outputs": [
    {
     "data": {
      "text/html": [
       "<table>\n",
       "<thead>\n",
       "<tr><th style=\"text-align: right;\">  id</th><th style=\"text-align: right;\">  SepalLengthCm</th><th style=\"text-align: right;\">  SepalWidthCm</th><th style=\"text-align: right;\">  PetalLengthCm</th><th style=\"text-align: right;\">  PetalWidthCm</th><th>Species    </th></tr>\n",
       "</thead>\n",
       "<tbody>\n",
       "<tr><td style=\"text-align: right;\">   1</td><td style=\"text-align: right;\">            5.1</td><td style=\"text-align: right;\">           3.5</td><td style=\"text-align: right;\">            1.4</td><td style=\"text-align: right;\">           0.2</td><td>Iris-setosa</td></tr>\n",
       "<tr><td style=\"text-align: right;\">   2</td><td style=\"text-align: right;\">            4.9</td><td style=\"text-align: right;\">           3  </td><td style=\"text-align: right;\">            1.4</td><td style=\"text-align: right;\">           0.2</td><td>Iris-setosa</td></tr>\n",
       "<tr><td style=\"text-align: right;\">   3</td><td style=\"text-align: right;\">            4.7</td><td style=\"text-align: right;\">           3.2</td><td style=\"text-align: right;\">            1.3</td><td style=\"text-align: right;\">           0.2</td><td>Iris-setosa</td></tr>\n",
       "<tr><td style=\"text-align: right;\">   4</td><td style=\"text-align: right;\">            4.6</td><td style=\"text-align: right;\">           3.1</td><td style=\"text-align: right;\">            1.5</td><td style=\"text-align: right;\">           0.2</td><td>Iris-setosa</td></tr>\n",
       "<tr><td style=\"text-align: right;\">   5</td><td style=\"text-align: right;\">            5  </td><td style=\"text-align: right;\">           3.6</td><td style=\"text-align: right;\">            1.4</td><td style=\"text-align: right;\">           0.2</td><td>Iris-setosa</td></tr>\n",
       "<tr><td style=\"text-align: right;\">   6</td><td style=\"text-align: right;\">            5.4</td><td style=\"text-align: right;\">           3.9</td><td style=\"text-align: right;\">            1.7</td><td style=\"text-align: right;\">           0.4</td><td>Iris-setosa</td></tr>\n",
       "<tr><td style=\"text-align: right;\">   7</td><td style=\"text-align: right;\">            4.6</td><td style=\"text-align: right;\">           3.4</td><td style=\"text-align: right;\">            1.4</td><td style=\"text-align: right;\">           0.3</td><td>Iris-setosa</td></tr>\n",
       "<tr><td style=\"text-align: right;\">   8</td><td style=\"text-align: right;\">            5  </td><td style=\"text-align: right;\">           3.4</td><td style=\"text-align: right;\">            1.5</td><td style=\"text-align: right;\">           0.2</td><td>Iris-setosa</td></tr>\n",
       "<tr><td style=\"text-align: right;\">   9</td><td style=\"text-align: right;\">            4.4</td><td style=\"text-align: right;\">           2.9</td><td style=\"text-align: right;\">            1.4</td><td style=\"text-align: right;\">           0.2</td><td>Iris-setosa</td></tr>\n",
       "<tr><td style=\"text-align: right;\">  10</td><td style=\"text-align: right;\">            4.9</td><td style=\"text-align: right;\">           3.1</td><td style=\"text-align: right;\">            1.5</td><td style=\"text-align: right;\">           0.1</td><td>Iris-setosa</td></tr>\n",
       "</tbody>\n",
       "</table>"
      ]
     },
     "metadata": {},
     "output_type": "display_data"
    },
    {
     "data": {
      "text/plain": []
     },
     "execution_count": 15,
     "metadata": {},
     "output_type": "execute_result"
    }
   ],
   "source": [
    "df.head()"
   ]
  },
  {
   "cell_type": "code",
   "execution_count": 16,
   "metadata": {},
   "outputs": [],
   "source": [
    "##  they are are some other option for importing data\n",
    "#df = h2o.import_file(\"hdfs://namenode/user/path/to/my.csv\")\n",
    "#df = h2o.import_file(\"s3://<AWS_ACCESS_KEY>:<AWS_SECRET_KEY>@mybucket/my.csv\")\n",
    "#df = h2o.import_file(\"https://s3.amazonaws.com/mybucket/my.csv\")\n",
    "#df = h2o.import_file(\"/path/to/my.csv\")\n"
   ]
  },
  {
   "cell_type": "markdown",
   "metadata": {},
   "source": [
    "## we can use pandas dataframe too"
   ]
  },
  {
   "cell_type": "code",
   "execution_count": 17,
   "metadata": {},
   "outputs": [],
   "source": [
    "dfp = pd.read_csv('IRIS-PREDICTION/Iris.csv')"
   ]
  },
  {
   "cell_type": "code",
   "execution_count": 50,
   "metadata": {},
   "outputs": [
    {
     "name": "stdout",
     "output_type": "stream",
     "text": [
      "Parse progress: |█████████████████████████████████████████████████████████| 100%\n"
     ]
    }
   ],
   "source": [
    "df = h2o.H2OFrame(dfp)"
   ]
  },
  {
   "cell_type": "code",
   "execution_count": 51,
   "metadata": {},
   "outputs": [
    {
     "data": {
      "text/html": [
       "<table>\n",
       "<thead>\n",
       "<tr><th style=\"text-align: right;\">  Id</th><th style=\"text-align: right;\">  SepalLengthCm</th><th style=\"text-align: right;\">  SepalWidthCm</th><th style=\"text-align: right;\">  PetalLengthCm</th><th style=\"text-align: right;\">  PetalWidthCm</th><th>Species    </th></tr>\n",
       "</thead>\n",
       "<tbody>\n",
       "<tr><td style=\"text-align: right;\">   1</td><td style=\"text-align: right;\">            5.1</td><td style=\"text-align: right;\">           3.5</td><td style=\"text-align: right;\">            1.4</td><td style=\"text-align: right;\">           0.2</td><td>Iris-setosa</td></tr>\n",
       "<tr><td style=\"text-align: right;\">   2</td><td style=\"text-align: right;\">            4.9</td><td style=\"text-align: right;\">           3  </td><td style=\"text-align: right;\">            1.4</td><td style=\"text-align: right;\">           0.2</td><td>Iris-setosa</td></tr>\n",
       "<tr><td style=\"text-align: right;\">   3</td><td style=\"text-align: right;\">            4.7</td><td style=\"text-align: right;\">           3.2</td><td style=\"text-align: right;\">            1.3</td><td style=\"text-align: right;\">           0.2</td><td>Iris-setosa</td></tr>\n",
       "<tr><td style=\"text-align: right;\">   4</td><td style=\"text-align: right;\">            4.6</td><td style=\"text-align: right;\">           3.1</td><td style=\"text-align: right;\">            1.5</td><td style=\"text-align: right;\">           0.2</td><td>Iris-setosa</td></tr>\n",
       "<tr><td style=\"text-align: right;\">   5</td><td style=\"text-align: right;\">            5  </td><td style=\"text-align: right;\">           3.6</td><td style=\"text-align: right;\">            1.4</td><td style=\"text-align: right;\">           0.2</td><td>Iris-setosa</td></tr>\n",
       "<tr><td style=\"text-align: right;\">   6</td><td style=\"text-align: right;\">            5.4</td><td style=\"text-align: right;\">           3.9</td><td style=\"text-align: right;\">            1.7</td><td style=\"text-align: right;\">           0.4</td><td>Iris-setosa</td></tr>\n",
       "<tr><td style=\"text-align: right;\">   7</td><td style=\"text-align: right;\">            4.6</td><td style=\"text-align: right;\">           3.4</td><td style=\"text-align: right;\">            1.4</td><td style=\"text-align: right;\">           0.3</td><td>Iris-setosa</td></tr>\n",
       "<tr><td style=\"text-align: right;\">   8</td><td style=\"text-align: right;\">            5  </td><td style=\"text-align: right;\">           3.4</td><td style=\"text-align: right;\">            1.5</td><td style=\"text-align: right;\">           0.2</td><td>Iris-setosa</td></tr>\n",
       "<tr><td style=\"text-align: right;\">   9</td><td style=\"text-align: right;\">            4.4</td><td style=\"text-align: right;\">           2.9</td><td style=\"text-align: right;\">            1.4</td><td style=\"text-align: right;\">           0.2</td><td>Iris-setosa</td></tr>\n",
       "<tr><td style=\"text-align: right;\">  10</td><td style=\"text-align: right;\">            4.9</td><td style=\"text-align: right;\">           3.1</td><td style=\"text-align: right;\">            1.5</td><td style=\"text-align: right;\">           0.1</td><td>Iris-setosa</td></tr>\n",
       "</tbody>\n",
       "</table>"
      ]
     },
     "metadata": {},
     "output_type": "display_data"
    },
    {
     "data": {
      "text/plain": []
     },
     "execution_count": 51,
     "metadata": {},
     "output_type": "execute_result"
    }
   ],
   "source": [
    "df.head()"
   ]
  },
  {
   "cell_type": "code",
   "execution_count": 52,
   "metadata": {},
   "outputs": [],
   "source": [
    "## names of the column"
   ]
  },
  {
   "cell_type": "code",
   "execution_count": 53,
   "metadata": {},
   "outputs": [
    {
     "data": {
      "text/plain": [
       "['Id',\n",
       " 'SepalLengthCm',\n",
       " 'SepalWidthCm',\n",
       " 'PetalLengthCm',\n",
       " 'PetalWidthCm',\n",
       " 'Species']"
      ]
     },
     "execution_count": 53,
     "metadata": {},
     "output_type": "execute_result"
    }
   ],
   "source": [
    "df.names"
   ]
  },
  {
   "cell_type": "code",
   "execution_count": 54,
   "metadata": {},
   "outputs": [],
   "source": [
    "## df types"
   ]
  },
  {
   "cell_type": "code",
   "execution_count": 55,
   "metadata": {},
   "outputs": [
    {
     "data": {
      "text/plain": [
       "{'Id': 'int',\n",
       " 'SepalLengthCm': 'real',\n",
       " 'SepalWidthCm': 'real',\n",
       " 'PetalLengthCm': 'real',\n",
       " 'PetalWidthCm': 'real',\n",
       " 'Species': 'enum'}"
      ]
     },
     "execution_count": 55,
     "metadata": {},
     "output_type": "execute_result"
    }
   ],
   "source": [
    "df.types"
   ]
  },
  {
   "cell_type": "code",
   "execution_count": 56,
   "metadata": {},
   "outputs": [
    {
     "data": {
      "text/plain": [
       "'Key_Frame__upload_871de6ce02116ea42ea5ec7b5d094092.hex'"
      ]
     },
     "execution_count": 56,
     "metadata": {},
     "output_type": "execute_result"
    }
   ],
   "source": [
    "df.frame_id"
   ]
  },
  {
   "cell_type": "code",
   "execution_count": 57,
   "metadata": {},
   "outputs": [
    {
     "data": {
      "text/plain": [
       "7.9"
      ]
     },
     "execution_count": 57,
     "metadata": {},
     "output_type": "execute_result"
    }
   ],
   "source": [
    "df[['SepalLengthCm']].max()"
   ]
  },
  {
   "cell_type": "code",
   "execution_count": 58,
   "metadata": {},
   "outputs": [
    {
     "data": {
      "text/plain": [
       "4.3"
      ]
     },
     "execution_count": 58,
     "metadata": {},
     "output_type": "execute_result"
    }
   ],
   "source": [
    "df[['SepalLengthCm']].min()"
   ]
  },
  {
   "cell_type": "code",
   "execution_count": 59,
   "metadata": {},
   "outputs": [
    {
     "data": {
      "text/plain": [
       "[5.843333333333333]"
      ]
     },
     "execution_count": 59,
     "metadata": {},
     "output_type": "execute_result"
    }
   ],
   "source": [
    "df[['SepalLengthCm']].mean()"
   ]
  },
  {
   "cell_type": "code",
   "execution_count": 60,
   "metadata": {},
   "outputs": [
    {
     "data": {
      "image/png": "[encoded data removed]",
      "text/plain": [
       "<Figure size 432x288 with 1 Axes>"
      ]
     },
     "metadata": {
      "needs_background": "light"
     },
     "output_type": "display_data"
    }
   ],
   "source": [
    "df[['SepalLengthCm']].hist()"
   ]
  },
  {
   "cell_type": "code",
   "execution_count": 61,
   "metadata": {},
   "outputs": [
    {
     "data": {
      "image/png": "[encoded data removed]",
      "text/plain": [
       "<Figure size 432x288 with 1 Axes>"
      ]
     },
     "metadata": {
      "needs_background": "light"
     },
     "output_type": "display_data"
    }
   ],
   "source": [
    "df[['SepalWidthCm']].hist()"
   ]
  },
  {
   "cell_type": "code",
   "execution_count": 62,
   "metadata": {},
   "outputs": [
    {
     "data": {
      "image/png": "[encoded data removed]",
      "text/plain": [
       "<Figure size 432x288 with 1 Axes>"
      ]
     },
     "metadata": {
      "needs_background": "light"
     },
     "output_type": "display_data"
    }
   ],
   "source": [
    "df[['PetalWidthCm']].hist()"
   ]
  },
  {
   "cell_type": "code",
   "execution_count": 63,
   "metadata": {},
   "outputs": [
    {
     "data": {
      "image/png": "[encoded data removed]",
      "text/plain": [
       "<Figure size 432x288 with 1 Axes>"
      ]
     },
     "metadata": {
      "needs_background": "light"
     },
     "output_type": "display_data"
    }
   ],
   "source": [
    "df[['PetalLengthCm']].hist()"
   ]
  },
  {
   "cell_type": "code",
   "execution_count": 64,
   "metadata": {},
   "outputs": [
    {
     "data": {
      "text/html": [
       "<table>\n",
       "<thead>\n",
       "<tr><th style=\"text-align: right;\">  Id</th><th style=\"text-align: right;\">  SepalLengthCm</th><th style=\"text-align: right;\">  SepalWidthCm</th><th style=\"text-align: right;\">  PetalLengthCm</th><th style=\"text-align: right;\">  PetalWidthCm</th><th>Species    </th></tr>\n",
       "</thead>\n",
       "<tbody>\n",
       "<tr><td style=\"text-align: right;\">   1</td><td style=\"text-align: right;\">            5.1</td><td style=\"text-align: right;\">           3.5</td><td style=\"text-align: right;\">            1.4</td><td style=\"text-align: right;\">           0.2</td><td>Iris-setosa</td></tr>\n",
       "<tr><td style=\"text-align: right;\">   2</td><td style=\"text-align: right;\">            4.9</td><td style=\"text-align: right;\">           3  </td><td style=\"text-align: right;\">            1.4</td><td style=\"text-align: right;\">           0.2</td><td>Iris-setosa</td></tr>\n",
       "<tr><td style=\"text-align: right;\">   3</td><td style=\"text-align: right;\">            4.7</td><td style=\"text-align: right;\">           3.2</td><td style=\"text-align: right;\">            1.3</td><td style=\"text-align: right;\">           0.2</td><td>Iris-setosa</td></tr>\n",
       "<tr><td style=\"text-align: right;\">   4</td><td style=\"text-align: right;\">            4.6</td><td style=\"text-align: right;\">           3.1</td><td style=\"text-align: right;\">            1.5</td><td style=\"text-align: right;\">           0.2</td><td>Iris-setosa</td></tr>\n",
       "<tr><td style=\"text-align: right;\">   5</td><td style=\"text-align: right;\">            5  </td><td style=\"text-align: right;\">           3.6</td><td style=\"text-align: right;\">            1.4</td><td style=\"text-align: right;\">           0.2</td><td>Iris-setosa</td></tr>\n",
       "<tr><td style=\"text-align: right;\">   6</td><td style=\"text-align: right;\">            5.4</td><td style=\"text-align: right;\">           3.9</td><td style=\"text-align: right;\">            1.7</td><td style=\"text-align: right;\">           0.4</td><td>Iris-setosa</td></tr>\n",
       "<tr><td style=\"text-align: right;\">   7</td><td style=\"text-align: right;\">            4.6</td><td style=\"text-align: right;\">           3.4</td><td style=\"text-align: right;\">            1.4</td><td style=\"text-align: right;\">           0.3</td><td>Iris-setosa</td></tr>\n",
       "<tr><td style=\"text-align: right;\">   8</td><td style=\"text-align: right;\">            5  </td><td style=\"text-align: right;\">           3.4</td><td style=\"text-align: right;\">            1.5</td><td style=\"text-align: right;\">           0.2</td><td>Iris-setosa</td></tr>\n",
       "<tr><td style=\"text-align: right;\">   9</td><td style=\"text-align: right;\">            4.4</td><td style=\"text-align: right;\">           2.9</td><td style=\"text-align: right;\">            1.4</td><td style=\"text-align: right;\">           0.2</td><td>Iris-setosa</td></tr>\n",
       "<tr><td style=\"text-align: right;\">  10</td><td style=\"text-align: right;\">            4.9</td><td style=\"text-align: right;\">           3.1</td><td style=\"text-align: right;\">            1.5</td><td style=\"text-align: right;\">           0.1</td><td>Iris-setosa</td></tr>\n",
       "</tbody>\n",
       "</table>"
      ]
     },
     "metadata": {},
     "output_type": "display_data"
    },
    {
     "data": {
      "text/plain": []
     },
     "execution_count": 64,
     "metadata": {},
     "output_type": "execute_result"
    }
   ],
   "source": [
    "df.head()"
   ]
  },
  {
   "cell_type": "code",
   "execution_count": 65,
   "metadata": {},
   "outputs": [],
   "source": [
    "## dropping column"
   ]
  },
  {
   "cell_type": "code",
   "execution_count": 66,
   "metadata": {},
   "outputs": [
    {
     "data": {
      "text/html": [
       "<table>\n",
       "<thead>\n",
       "<tr><th style=\"text-align: right;\">  SepalLengthCm</th><th style=\"text-align: right;\">  SepalWidthCm</th><th style=\"text-align: right;\">  PetalLengthCm</th><th style=\"text-align: right;\">  PetalWidthCm</th><th>Species    </th></tr>\n",
       "</thead>\n",
       "<tbody>\n",
       "<tr><td style=\"text-align: right;\">            5.1</td><td style=\"text-align: right;\">           3.5</td><td style=\"text-align: right;\">            1.4</td><td style=\"text-align: right;\">           0.2</td><td>Iris-setosa</td></tr>\n",
       "<tr><td style=\"text-align: right;\">            4.9</td><td style=\"text-align: right;\">           3  </td><td style=\"text-align: right;\">            1.4</td><td style=\"text-align: right;\">           0.2</td><td>Iris-setosa</td></tr>\n",
       "<tr><td style=\"text-align: right;\">            4.7</td><td style=\"text-align: right;\">           3.2</td><td style=\"text-align: right;\">            1.3</td><td style=\"text-align: right;\">           0.2</td><td>Iris-setosa</td></tr>\n",
       "<tr><td style=\"text-align: right;\">            4.6</td><td style=\"text-align: right;\">           3.1</td><td style=\"text-align: right;\">            1.5</td><td style=\"text-align: right;\">           0.2</td><td>Iris-setosa</td></tr>\n",
       "<tr><td style=\"text-align: right;\">            5  </td><td style=\"text-align: right;\">           3.6</td><td style=\"text-align: right;\">            1.4</td><td style=\"text-align: right;\">           0.2</td><td>Iris-setosa</td></tr>\n",
       "<tr><td style=\"text-align: right;\">            5.4</td><td style=\"text-align: right;\">           3.9</td><td style=\"text-align: right;\">            1.7</td><td style=\"text-align: right;\">           0.4</td><td>Iris-setosa</td></tr>\n",
       "<tr><td style=\"text-align: right;\">            4.6</td><td style=\"text-align: right;\">           3.4</td><td style=\"text-align: right;\">            1.4</td><td style=\"text-align: right;\">           0.3</td><td>Iris-setosa</td></tr>\n",
       "<tr><td style=\"text-align: right;\">            5  </td><td style=\"text-align: right;\">           3.4</td><td style=\"text-align: right;\">            1.5</td><td style=\"text-align: right;\">           0.2</td><td>Iris-setosa</td></tr>\n",
       "<tr><td style=\"text-align: right;\">            4.4</td><td style=\"text-align: right;\">           2.9</td><td style=\"text-align: right;\">            1.4</td><td style=\"text-align: right;\">           0.2</td><td>Iris-setosa</td></tr>\n",
       "<tr><td style=\"text-align: right;\">            4.9</td><td style=\"text-align: right;\">           3.1</td><td style=\"text-align: right;\">            1.5</td><td style=\"text-align: right;\">           0.1</td><td>Iris-setosa</td></tr>\n",
       "</tbody>\n",
       "</table>"
      ]
     },
     "metadata": {},
     "output_type": "display_data"
    },
    {
     "data": {
      "text/plain": []
     },
     "execution_count": 66,
     "metadata": {},
     "output_type": "execute_result"
    }
   ],
   "source": [
    "df.drop('Id',axis=1)"
   ]
  },
  {
   "cell_type": "code",
   "execution_count": 67,
   "metadata": {},
   "outputs": [],
   "source": [
    "###or"
   ]
  },
  {
   "cell_type": "code",
   "execution_count": 68,
   "metadata": {},
   "outputs": [],
   "source": [
    "df=df[:,1:]   ## take the datafrmame but lose the first column"
   ]
  },
  {
   "cell_type": "code",
   "execution_count": 69,
   "metadata": {},
   "outputs": [
    {
     "data": {
      "text/html": [
       "<table>\n",
       "<thead>\n",
       "<tr><th style=\"text-align: right;\">  SepalLengthCm</th><th style=\"text-align: right;\">  SepalWidthCm</th><th style=\"text-align: right;\">  PetalLengthCm</th><th style=\"text-align: right;\">  PetalWidthCm</th><th>Species    </th></tr>\n",
       "</thead>\n",
       "<tbody>\n",
       "<tr><td style=\"text-align: right;\">            5.1</td><td style=\"text-align: right;\">           3.5</td><td style=\"text-align: right;\">            1.4</td><td style=\"text-align: right;\">           0.2</td><td>Iris-setosa</td></tr>\n",
       "<tr><td style=\"text-align: right;\">            4.9</td><td style=\"text-align: right;\">           3  </td><td style=\"text-align: right;\">            1.4</td><td style=\"text-align: right;\">           0.2</td><td>Iris-setosa</td></tr>\n",
       "<tr><td style=\"text-align: right;\">            4.7</td><td style=\"text-align: right;\">           3.2</td><td style=\"text-align: right;\">            1.3</td><td style=\"text-align: right;\">           0.2</td><td>Iris-setosa</td></tr>\n",
       "<tr><td style=\"text-align: right;\">            4.6</td><td style=\"text-align: right;\">           3.1</td><td style=\"text-align: right;\">            1.5</td><td style=\"text-align: right;\">           0.2</td><td>Iris-setosa</td></tr>\n",
       "<tr><td style=\"text-align: right;\">            5  </td><td style=\"text-align: right;\">           3.6</td><td style=\"text-align: right;\">            1.4</td><td style=\"text-align: right;\">           0.2</td><td>Iris-setosa</td></tr>\n",
       "<tr><td style=\"text-align: right;\">            5.4</td><td style=\"text-align: right;\">           3.9</td><td style=\"text-align: right;\">            1.7</td><td style=\"text-align: right;\">           0.4</td><td>Iris-setosa</td></tr>\n",
       "<tr><td style=\"text-align: right;\">            4.6</td><td style=\"text-align: right;\">           3.4</td><td style=\"text-align: right;\">            1.4</td><td style=\"text-align: right;\">           0.3</td><td>Iris-setosa</td></tr>\n",
       "<tr><td style=\"text-align: right;\">            5  </td><td style=\"text-align: right;\">           3.4</td><td style=\"text-align: right;\">            1.5</td><td style=\"text-align: right;\">           0.2</td><td>Iris-setosa</td></tr>\n",
       "<tr><td style=\"text-align: right;\">            4.4</td><td style=\"text-align: right;\">           2.9</td><td style=\"text-align: right;\">            1.4</td><td style=\"text-align: right;\">           0.2</td><td>Iris-setosa</td></tr>\n",
       "<tr><td style=\"text-align: right;\">            4.9</td><td style=\"text-align: right;\">           3.1</td><td style=\"text-align: right;\">            1.5</td><td style=\"text-align: right;\">           0.1</td><td>Iris-setosa</td></tr>\n",
       "</tbody>\n",
       "</table>"
      ]
     },
     "metadata": {},
     "output_type": "display_data"
    },
    {
     "data": {
      "text/plain": []
     },
     "execution_count": 69,
     "metadata": {},
     "output_type": "execute_result"
    }
   ],
   "source": [
    "df.head()"
   ]
  },
  {
   "cell_type": "code",
   "execution_count": 70,
   "metadata": {},
   "outputs": [
    {
     "data": {
      "text/plain": [
       "'py_49_sid_85ad'"
      ]
     },
     "execution_count": 70,
     "metadata": {},
     "output_type": "execute_result"
    }
   ],
   "source": [
    "## applying seeding\n",
    "df.frame_id"
   ]
  },
  {
   "cell_type": "code",
   "execution_count": 73,
   "metadata": {},
   "outputs": [],
   "source": [
    "## describe data"
   ]
  },
  {
   "cell_type": "code",
   "execution_count": 75,
   "metadata": {},
   "outputs": [
    {
     "name": "stdout",
     "output_type": "stream",
     "text": [
      "Rows:150\n",
      "Cols:5\n",
      "\n",
      "\n"
     ]
    },
    {
     "data": {
      "text/html": [
       "<table>\n",
       "<thead>\n",
       "<tr><th>       </th><th>SepalLengthCm     </th><th>SepalWidthCm       </th><th>PetalLengthCm    </th><th>PetalWidthCm      </th><th>Species    </th></tr>\n",
       "</thead>\n",
       "<tbody>\n",
       "<tr><td>type   </td><td>real              </td><td>real               </td><td>real             </td><td>real              </td><td>enum       </td></tr>\n",
       "<tr><td>mins   </td><td>4.3               </td><td>2.0                </td><td>1.0              </td><td>0.1               </td><td>           </td></tr>\n",
       "<tr><td>mean   </td><td>5.843333333333333 </td><td>3.053999999999999  </td><td>3.758666666666667</td><td>1.1986666666666665</td><td>           </td></tr>\n",
       "<tr><td>maxs   </td><td>7.9               </td><td>4.4                </td><td>6.9              </td><td>2.5               </td><td>           </td></tr>\n",
       "<tr><td>sigma  </td><td>0.8280661279778637</td><td>0.43359431136217375</td><td>1.764420419952262</td><td>0.7631607417008414</td><td>           </td></tr>\n",
       "<tr><td>zeros  </td><td>0                 </td><td>0                  </td><td>0                </td><td>0                 </td><td>           </td></tr>\n",
       "<tr><td>missing</td><td>0                 </td><td>0                  </td><td>0                </td><td>0                 </td><td>0          </td></tr>\n",
       "<tr><td>0      </td><td>5.1               </td><td>3.5                </td><td>1.4              </td><td>0.2               </td><td>Iris-setosa</td></tr>\n",
       "<tr><td>1      </td><td>4.9               </td><td>3.0                </td><td>1.4              </td><td>0.2               </td><td>Iris-setosa</td></tr>\n",
       "<tr><td>2      </td><td>4.7               </td><td>3.2                </td><td>1.3              </td><td>0.2               </td><td>Iris-setosa</td></tr>\n",
       "<tr><td>3      </td><td>4.6               </td><td>3.1                </td><td>1.5              </td><td>0.2               </td><td>Iris-setosa</td></tr>\n",
       "<tr><td>4      </td><td>5.0               </td><td>3.6                </td><td>1.4              </td><td>0.2               </td><td>Iris-setosa</td></tr>\n",
       "<tr><td>5      </td><td>5.4               </td><td>3.9                </td><td>1.7              </td><td>0.4               </td><td>Iris-setosa</td></tr>\n",
       "<tr><td>6      </td><td>4.6               </td><td>3.4                </td><td>1.4              </td><td>0.3               </td><td>Iris-setosa</td></tr>\n",
       "<tr><td>7      </td><td>5.0               </td><td>3.4                </td><td>1.5              </td><td>0.2               </td><td>Iris-setosa</td></tr>\n",
       "<tr><td>8      </td><td>4.4               </td><td>2.9                </td><td>1.4              </td><td>0.2               </td><td>Iris-setosa</td></tr>\n",
       "<tr><td>9      </td><td>4.9               </td><td>3.1                </td><td>1.5              </td><td>0.1               </td><td>Iris-setosa</td></tr>\n",
       "</tbody>\n",
       "</table>"
      ]
     },
     "metadata": {},
     "output_type": "display_data"
    }
   ],
   "source": [
    "df.describe()"
   ]
  },
  {
   "cell_type": "code",
   "execution_count": 76,
   "metadata": {},
   "outputs": [],
   "source": [
    "## we can see there is no misssing value"
   ]
  },
  {
   "cell_type": "code",
   "execution_count": 78,
   "metadata": {},
   "outputs": [],
   "source": [
    "## Featuer Engineering"
   ]
  },
  {
   "cell_type": "code",
   "execution_count": 79,
   "metadata": {},
   "outputs": [],
   "source": [
    "df['sepal_ratio'] = df['SepalLengthCm']/df['SepalWidthCm']"
   ]
  },
  {
   "cell_type": "code",
   "execution_count": 80,
   "metadata": {},
   "outputs": [
    {
     "data": {
      "text/html": [
       "<table>\n",
       "<thead>\n",
       "<tr><th style=\"text-align: right;\">  SepalLengthCm</th><th style=\"text-align: right;\">  SepalWidthCm</th><th style=\"text-align: right;\">  PetalLengthCm</th><th style=\"text-align: right;\">  PetalWidthCm</th><th>Species    </th><th style=\"text-align: right;\">  sepal_ratio</th></tr>\n",
       "</thead>\n",
       "<tbody>\n",
       "<tr><td style=\"text-align: right;\">            5.1</td><td style=\"text-align: right;\">           3.5</td><td style=\"text-align: right;\">            1.4</td><td style=\"text-align: right;\">           0.2</td><td>Iris-setosa</td><td style=\"text-align: right;\">      1.45714</td></tr>\n",
       "<tr><td style=\"text-align: right;\">            4.9</td><td style=\"text-align: right;\">           3  </td><td style=\"text-align: right;\">            1.4</td><td style=\"text-align: right;\">           0.2</td><td>Iris-setosa</td><td style=\"text-align: right;\">      1.63333</td></tr>\n",
       "<tr><td style=\"text-align: right;\">            4.7</td><td style=\"text-align: right;\">           3.2</td><td style=\"text-align: right;\">            1.3</td><td style=\"text-align: right;\">           0.2</td><td>Iris-setosa</td><td style=\"text-align: right;\">      1.46875</td></tr>\n",
       "<tr><td style=\"text-align: right;\">            4.6</td><td style=\"text-align: right;\">           3.1</td><td style=\"text-align: right;\">            1.5</td><td style=\"text-align: right;\">           0.2</td><td>Iris-setosa</td><td style=\"text-align: right;\">      1.48387</td></tr>\n",
       "<tr><td style=\"text-align: right;\">            5  </td><td style=\"text-align: right;\">           3.6</td><td style=\"text-align: right;\">            1.4</td><td style=\"text-align: right;\">           0.2</td><td>Iris-setosa</td><td style=\"text-align: right;\">      1.38889</td></tr>\n",
       "<tr><td style=\"text-align: right;\">            5.4</td><td style=\"text-align: right;\">           3.9</td><td style=\"text-align: right;\">            1.7</td><td style=\"text-align: right;\">           0.4</td><td>Iris-setosa</td><td style=\"text-align: right;\">      1.38462</td></tr>\n",
       "<tr><td style=\"text-align: right;\">            4.6</td><td style=\"text-align: right;\">           3.4</td><td style=\"text-align: right;\">            1.4</td><td style=\"text-align: right;\">           0.3</td><td>Iris-setosa</td><td style=\"text-align: right;\">      1.35294</td></tr>\n",
       "<tr><td style=\"text-align: right;\">            5  </td><td style=\"text-align: right;\">           3.4</td><td style=\"text-align: right;\">            1.5</td><td style=\"text-align: right;\">           0.2</td><td>Iris-setosa</td><td style=\"text-align: right;\">      1.47059</td></tr>\n",
       "<tr><td style=\"text-align: right;\">            4.4</td><td style=\"text-align: right;\">           2.9</td><td style=\"text-align: right;\">            1.4</td><td style=\"text-align: right;\">           0.2</td><td>Iris-setosa</td><td style=\"text-align: right;\">      1.51724</td></tr>\n",
       "<tr><td style=\"text-align: right;\">            4.9</td><td style=\"text-align: right;\">           3.1</td><td style=\"text-align: right;\">            1.5</td><td style=\"text-align: right;\">           0.1</td><td>Iris-setosa</td><td style=\"text-align: right;\">      1.58065</td></tr>\n",
       "</tbody>\n",
       "</table>"
      ]
     },
     "metadata": {},
     "output_type": "display_data"
    },
    {
     "data": {
      "text/plain": []
     },
     "execution_count": 80,
     "metadata": {},
     "output_type": "execute_result"
    }
   ],
   "source": [
    "df.head()"
   ]
  },
  {
   "cell_type": "code",
   "execution_count": 81,
   "metadata": {},
   "outputs": [],
   "source": [
    "df['petal_ratio'] = df['PetalLengthCm']/df['PetalWidthCm']"
   ]
  },
  {
   "cell_type": "code",
   "execution_count": 82,
   "metadata": {},
   "outputs": [
    {
     "data": {
      "text/html": [
       "<table>\n",
       "<thead>\n",
       "<tr><th style=\"text-align: right;\">  SepalLengthCm</th><th style=\"text-align: right;\">  SepalWidthCm</th><th style=\"text-align: right;\">  PetalLengthCm</th><th style=\"text-align: right;\">  PetalWidthCm</th><th>Species    </th><th style=\"text-align: right;\">  sepal_ratio</th><th style=\"text-align: right;\">  petal_ratio</th></tr>\n",
       "</thead>\n",
       "<tbody>\n",
       "<tr><td style=\"text-align: right;\">            5.1</td><td style=\"text-align: right;\">           3.5</td><td style=\"text-align: right;\">            1.4</td><td style=\"text-align: right;\">           0.2</td><td>Iris-setosa</td><td style=\"text-align: right;\">      1.45714</td><td style=\"text-align: right;\">      7      </td></tr>\n",
       "<tr><td style=\"text-align: right;\">            4.9</td><td style=\"text-align: right;\">           3  </td><td style=\"text-align: right;\">            1.4</td><td style=\"text-align: right;\">           0.2</td><td>Iris-setosa</td><td style=\"text-align: right;\">      1.63333</td><td style=\"text-align: right;\">      7      </td></tr>\n",
       "<tr><td style=\"text-align: right;\">            4.7</td><td style=\"text-align: right;\">           3.2</td><td style=\"text-align: right;\">            1.3</td><td style=\"text-align: right;\">           0.2</td><td>Iris-setosa</td><td style=\"text-align: right;\">      1.46875</td><td style=\"text-align: right;\">      6.5    </td></tr>\n",
       "<tr><td style=\"text-align: right;\">            4.6</td><td style=\"text-align: right;\">           3.1</td><td style=\"text-align: right;\">            1.5</td><td style=\"text-align: right;\">           0.2</td><td>Iris-setosa</td><td style=\"text-align: right;\">      1.48387</td><td style=\"text-align: right;\">      7.5    </td></tr>\n",
       "<tr><td style=\"text-align: right;\">            5  </td><td style=\"text-align: right;\">           3.6</td><td style=\"text-align: right;\">            1.4</td><td style=\"text-align: right;\">           0.2</td><td>Iris-setosa</td><td style=\"text-align: right;\">      1.38889</td><td style=\"text-align: right;\">      7      </td></tr>\n",
       "<tr><td style=\"text-align: right;\">            5.4</td><td style=\"text-align: right;\">           3.9</td><td style=\"text-align: right;\">            1.7</td><td style=\"text-align: right;\">           0.4</td><td>Iris-setosa</td><td style=\"text-align: right;\">      1.38462</td><td style=\"text-align: right;\">      4.25   </td></tr>\n",
       "<tr><td style=\"text-align: right;\">            4.6</td><td style=\"text-align: right;\">           3.4</td><td style=\"text-align: right;\">            1.4</td><td style=\"text-align: right;\">           0.3</td><td>Iris-setosa</td><td style=\"text-align: right;\">      1.35294</td><td style=\"text-align: right;\">      4.66667</td></tr>\n",
       "<tr><td style=\"text-align: right;\">            5  </td><td style=\"text-align: right;\">           3.4</td><td style=\"text-align: right;\">            1.5</td><td style=\"text-align: right;\">           0.2</td><td>Iris-setosa</td><td style=\"text-align: right;\">      1.47059</td><td style=\"text-align: right;\">      7.5    </td></tr>\n",
       "<tr><td style=\"text-align: right;\">            4.4</td><td style=\"text-align: right;\">           2.9</td><td style=\"text-align: right;\">            1.4</td><td style=\"text-align: right;\">           0.2</td><td>Iris-setosa</td><td style=\"text-align: right;\">      1.51724</td><td style=\"text-align: right;\">      7      </td></tr>\n",
       "<tr><td style=\"text-align: right;\">            4.9</td><td style=\"text-align: right;\">           3.1</td><td style=\"text-align: right;\">            1.5</td><td style=\"text-align: right;\">           0.1</td><td>Iris-setosa</td><td style=\"text-align: right;\">      1.58065</td><td style=\"text-align: right;\">     15      </td></tr>\n",
       "</tbody>\n",
       "</table>"
      ]
     },
     "metadata": {},
     "output_type": "display_data"
    },
    {
     "data": {
      "text/plain": []
     },
     "execution_count": 82,
     "metadata": {},
     "output_type": "execute_result"
    }
   ],
   "source": [
    "df.head()"
   ]
  },
  {
   "cell_type": "code",
   "execution_count": 88,
   "metadata": {},
   "outputs": [],
   "source": [
    "## difference between pandas correlation and H2o correlation"
   ]
  },
  {
   "cell_type": "code",
   "execution_count": 86,
   "metadata": {},
   "outputs": [
    {
     "data": {
      "text/html": [
       "<table>\n",
       "<thead>\n",
       "<tr><th style=\"text-align: right;\">  SepalLengthCm</th><th style=\"text-align: right;\">  SepalWidthCm</th><th style=\"text-align: right;\">  PetalLengthCm</th><th style=\"text-align: right;\">  PetalWidthCm</th><th style=\"text-align: right;\">  Species</th><th style=\"text-align: right;\">  sepal_ratio</th><th style=\"text-align: right;\">  petal_ratio</th></tr>\n",
       "</thead>\n",
       "<tbody>\n",
       "<tr><td style=\"text-align: right;\">       1       </td><td style=\"text-align: right;\">     -0.109369</td><td style=\"text-align: right;\">       0.871754</td><td style=\"text-align: right;\">      0.817954</td><td style=\"text-align: right;\">      nan</td><td style=\"text-align: right;\">     0.728971</td><td style=\"text-align: right;\">    -0.563335</td></tr>\n",
       "<tr><td style=\"text-align: right;\">      -0.109369</td><td style=\"text-align: right;\">      1       </td><td style=\"text-align: right;\">      -0.420516</td><td style=\"text-align: right;\">     -0.356544</td><td style=\"text-align: right;\">      nan</td><td style=\"text-align: right;\">    -0.743521</td><td style=\"text-align: right;\">     0.320919</td></tr>\n",
       "<tr><td style=\"text-align: right;\">       0.871754</td><td style=\"text-align: right;\">     -0.420516</td><td style=\"text-align: right;\">       1       </td><td style=\"text-align: right;\">      0.962757</td><td style=\"text-align: right;\">      nan</td><td style=\"text-align: right;\">     0.836602</td><td style=\"text-align: right;\">    -0.684091</td></tr>\n",
       "<tr><td style=\"text-align: right;\">       0.817954</td><td style=\"text-align: right;\">     -0.356544</td><td style=\"text-align: right;\">       0.962757</td><td style=\"text-align: right;\">      1       </td><td style=\"text-align: right;\">      nan</td><td style=\"text-align: right;\">     0.751725</td><td style=\"text-align: right;\">    -0.73437 </td></tr>\n",
       "<tr><td style=\"text-align: right;\">     nan       </td><td style=\"text-align: right;\">    nan       </td><td style=\"text-align: right;\">     nan       </td><td style=\"text-align: right;\">    nan       </td><td style=\"text-align: right;\">      nan</td><td style=\"text-align: right;\">   nan       </td><td style=\"text-align: right;\">   nan       </td></tr>\n",
       "<tr><td style=\"text-align: right;\">       0.728971</td><td style=\"text-align: right;\">     -0.743521</td><td style=\"text-align: right;\">       0.836602</td><td style=\"text-align: right;\">      0.751725</td><td style=\"text-align: right;\">      nan</td><td style=\"text-align: right;\">     1       </td><td style=\"text-align: right;\">    -0.583908</td></tr>\n",
       "<tr><td style=\"text-align: right;\">      -0.563335</td><td style=\"text-align: right;\">      0.320919</td><td style=\"text-align: right;\">      -0.684091</td><td style=\"text-align: right;\">     -0.73437 </td><td style=\"text-align: right;\">      nan</td><td style=\"text-align: right;\">    -0.583908</td><td style=\"text-align: right;\">     1       </td></tr>\n",
       "</tbody>\n",
       "</table>"
      ]
     },
     "metadata": {},
     "output_type": "display_data"
    },
    {
     "data": {
      "text/plain": []
     },
     "execution_count": 86,
     "metadata": {},
     "output_type": "execute_result"
    }
   ],
   "source": [
    "df.cor() "
   ]
  },
  {
   "cell_type": "code",
   "execution_count": 87,
   "metadata": {},
   "outputs": [
    {
     "data": {
      "text/html": [
       "<div>\n",
       "<style scoped>\n",
       "    .dataframe tbody tr th:only-of-type {\n",
       "        vertical-align: middle;\n",
       "    }\n",
       "\n",
       "    .dataframe tbody tr th {\n",
       "        vertical-align: top;\n",
       "    }\n",
       "\n",
       "    .dataframe thead th {\n",
       "        text-align: right;\n",
       "    }\n",
       "</style>\n",
       "<table border=\"1\" class=\"dataframe\">\n",
       "  <thead>\n",
       "    <tr style=\"text-align: right;\">\n",
       "      <th></th>\n",
       "      <th>Id</th>\n",
       "      <th>SepalLengthCm</th>\n",
       "      <th>SepalWidthCm</th>\n",
       "      <th>PetalLengthCm</th>\n",
       "      <th>PetalWidthCm</th>\n",
       "    </tr>\n",
       "  </thead>\n",
       "  <tbody>\n",
       "    <tr>\n",
       "      <th>Id</th>\n",
       "      <td>1.000000</td>\n",
       "      <td>0.716676</td>\n",
       "      <td>-0.397729</td>\n",
       "      <td>0.882747</td>\n",
       "      <td>0.899759</td>\n",
       "    </tr>\n",
       "    <tr>\n",
       "      <th>SepalLengthCm</th>\n",
       "      <td>0.716676</td>\n",
       "      <td>1.000000</td>\n",
       "      <td>-0.109369</td>\n",
       "      <td>0.871754</td>\n",
       "      <td>0.817954</td>\n",
       "    </tr>\n",
       "    <tr>\n",
       "      <th>SepalWidthCm</th>\n",
       "      <td>-0.397729</td>\n",
       "      <td>-0.109369</td>\n",
       "      <td>1.000000</td>\n",
       "      <td>-0.420516</td>\n",
       "      <td>-0.356544</td>\n",
       "    </tr>\n",
       "    <tr>\n",
       "      <th>PetalLengthCm</th>\n",
       "      <td>0.882747</td>\n",
       "      <td>0.871754</td>\n",
       "      <td>-0.420516</td>\n",
       "      <td>1.000000</td>\n",
       "      <td>0.962757</td>\n",
       "    </tr>\n",
       "    <tr>\n",
       "      <th>PetalWidthCm</th>\n",
       "      <td>0.899759</td>\n",
       "      <td>0.817954</td>\n",
       "      <td>-0.356544</td>\n",
       "      <td>0.962757</td>\n",
       "      <td>1.000000</td>\n",
       "    </tr>\n",
       "  </tbody>\n",
       "</table>\n",
       "</div>"
      ],
      "text/plain": [
       "                     Id  SepalLengthCm  SepalWidthCm  PetalLengthCm  \\\n",
       "Id             1.000000       0.716676     -0.397729       0.882747   \n",
       "SepalLengthCm  0.716676       1.000000     -0.109369       0.871754   \n",
       "SepalWidthCm  -0.397729      -0.109369      1.000000      -0.420516   \n",
       "PetalLengthCm  0.882747       0.871754     -0.420516       1.000000   \n",
       "PetalWidthCm   0.899759       0.817954     -0.356544       0.962757   \n",
       "\n",
       "               PetalWidthCm  \n",
       "Id                 0.899759  \n",
       "SepalLengthCm      0.817954  \n",
       "SepalWidthCm      -0.356544  \n",
       "PetalLengthCm      0.962757  \n",
       "PetalWidthCm       1.000000  "
      ]
     },
     "execution_count": 87,
     "metadata": {},
     "output_type": "execute_result"
    }
   ],
   "source": [
    "dfp.corr()"
   ]
  },
  {
   "cell_type": "code",
   "execution_count": 90,
   "metadata": {},
   "outputs": [
    {
     "data": {
      "text/plain": [
       "<matplotlib.axes._subplots.AxesSubplot at 0x7fcb1c6309e8>"
      ]
     },
     "execution_count": 90,
     "metadata": {},
     "output_type": "execute_result"
    },
    {
     "data": {
      "image/png": "[encoded data removed]",
      "text/plain": [
       "<Figure size 432x288 with 2 Axes>"
      ]
     },
     "metadata": {
      "needs_background": "light"
     },
     "output_type": "display_data"
    }
   ],
   "source": [
    "sns.heatmap(dfp.corr())"
   ]
  },
  {
   "cell_type": "code",
   "execution_count": 91,
   "metadata": {},
   "outputs": [
    {
     "data": {
      "text/html": [
       "<div>\n",
       "<style scoped>\n",
       "    .dataframe tbody tr th:only-of-type {\n",
       "        vertical-align: middle;\n",
       "    }\n",
       "\n",
       "    .dataframe tbody tr th {\n",
       "        vertical-align: top;\n",
       "    }\n",
       "\n",
       "    .dataframe thead th {\n",
       "        text-align: right;\n",
       "    }\n",
       "</style>\n",
       "<table border=\"1\" class=\"dataframe\">\n",
       "  <thead>\n",
       "    <tr style=\"text-align: right;\">\n",
       "      <th></th>\n",
       "      <th>Id</th>\n",
       "      <th>SepalLengthCm</th>\n",
       "      <th>SepalWidthCm</th>\n",
       "      <th>PetalLengthCm</th>\n",
       "      <th>PetalWidthCm</th>\n",
       "    </tr>\n",
       "  </thead>\n",
       "  <tbody>\n",
       "    <tr>\n",
       "      <th>Id</th>\n",
       "      <td>1.000000</td>\n",
       "      <td>0.734054</td>\n",
       "      <td>-0.411539</td>\n",
       "      <td>0.868498</td>\n",
       "      <td>0.879045</td>\n",
       "    </tr>\n",
       "    <tr>\n",
       "      <th>SepalLengthCm</th>\n",
       "      <td>0.734054</td>\n",
       "      <td>1.000000</td>\n",
       "      <td>-0.159457</td>\n",
       "      <td>0.881386</td>\n",
       "      <td>0.834421</td>\n",
       "    </tr>\n",
       "    <tr>\n",
       "      <th>SepalWidthCm</th>\n",
       "      <td>-0.411539</td>\n",
       "      <td>-0.159457</td>\n",
       "      <td>1.000000</td>\n",
       "      <td>-0.303421</td>\n",
       "      <td>-0.277511</td>\n",
       "    </tr>\n",
       "    <tr>\n",
       "      <th>PetalLengthCm</th>\n",
       "      <td>0.868498</td>\n",
       "      <td>0.881386</td>\n",
       "      <td>-0.303421</td>\n",
       "      <td>1.000000</td>\n",
       "      <td>0.936003</td>\n",
       "    </tr>\n",
       "    <tr>\n",
       "      <th>PetalWidthCm</th>\n",
       "      <td>0.879045</td>\n",
       "      <td>0.834421</td>\n",
       "      <td>-0.277511</td>\n",
       "      <td>0.936003</td>\n",
       "      <td>1.000000</td>\n",
       "    </tr>\n",
       "  </tbody>\n",
       "</table>\n",
       "</div>"
      ],
      "text/plain": [
       "                     Id  SepalLengthCm  SepalWidthCm  PetalLengthCm  \\\n",
       "Id             1.000000       0.734054     -0.411539       0.868498   \n",
       "SepalLengthCm  0.734054       1.000000     -0.159457       0.881386   \n",
       "SepalWidthCm  -0.411539      -0.159457      1.000000      -0.303421   \n",
       "PetalLengthCm  0.868498       0.881386     -0.303421       1.000000   \n",
       "PetalWidthCm   0.879045       0.834421     -0.277511       0.936003   \n",
       "\n",
       "               PetalWidthCm  \n",
       "Id                 0.879045  \n",
       "SepalLengthCm      0.834421  \n",
       "SepalWidthCm      -0.277511  \n",
       "PetalLengthCm      0.936003  \n",
       "PetalWidthCm       1.000000  "
      ]
     },
     "execution_count": 91,
     "metadata": {},
     "output_type": "execute_result"
    }
   ],
   "source": [
    "dfp.corr(method='spearman')"
   ]
  },
  {
   "cell_type": "code",
   "execution_count": 92,
   "metadata": {},
   "outputs": [
    {
     "data": {
      "text/plain": [
       "<matplotlib.axes._subplots.AxesSubplot at 0x7fcb1c77bfd0>"
      ]
     },
     "execution_count": 92,
     "metadata": {},
     "output_type": "execute_result"
    },
    {
     "data": {
      "image/png": "[encoded data removed]",
      "text/plain": [
       "<Figure size 432x288 with 2 Axes>"
      ]
     },
     "metadata": {
      "needs_background": "light"
     },
     "output_type": "display_data"
    }
   ],
   "source": [
    "sns.heatmap(dfp.corr(method='spearman'))"
   ]
  },
  {
   "cell_type": "code",
   "execution_count": 93,
   "metadata": {},
   "outputs": [],
   "source": [
    "# splitting data in h2o and in sklearn"
   ]
  },
  {
   "cell_type": "code",
   "execution_count": 94,
   "metadata": {},
   "outputs": [],
   "source": [
    "## in H20\n",
    "train_h,test_h,valid_h = df.split_frame([0.6,0.2])"
   ]
  },
  {
   "cell_type": "code",
   "execution_count": 95,
   "metadata": {},
   "outputs": [
    {
     "data": {
      "text/html": [
       "<table>\n",
       "<thead>\n",
       "<tr><th style=\"text-align: right;\">  SepalLengthCm</th><th style=\"text-align: right;\">  SepalWidthCm</th><th style=\"text-align: right;\">  PetalLengthCm</th><th style=\"text-align: right;\">  PetalWidthCm</th><th>Species    </th><th style=\"text-align: right;\">  sepal_ratio</th><th style=\"text-align: right;\">  petal_ratio</th></tr>\n",
       "</thead>\n",
       "<tbody>\n",
       "<tr><td style=\"text-align: right;\">            4.6</td><td style=\"text-align: right;\">           3.1</td><td style=\"text-align: right;\">            1.5</td><td style=\"text-align: right;\">           0.2</td><td>Iris-setosa</td><td style=\"text-align: right;\">      1.48387</td><td style=\"text-align: right;\">      7.5    </td></tr>\n",
       "<tr><td style=\"text-align: right;\">            4.6</td><td style=\"text-align: right;\">           3.4</td><td style=\"text-align: right;\">            1.4</td><td style=\"text-align: right;\">           0.3</td><td>Iris-setosa</td><td style=\"text-align: right;\">      1.35294</td><td style=\"text-align: right;\">      4.66667</td></tr>\n",
       "<tr><td style=\"text-align: right;\">            5  </td><td style=\"text-align: right;\">           3.4</td><td style=\"text-align: right;\">            1.5</td><td style=\"text-align: right;\">           0.2</td><td>Iris-setosa</td><td style=\"text-align: right;\">      1.47059</td><td style=\"text-align: right;\">      7.5    </td></tr>\n",
       "<tr><td style=\"text-align: right;\">            4.4</td><td style=\"text-align: right;\">           2.9</td><td style=\"text-align: right;\">            1.4</td><td style=\"text-align: right;\">           0.2</td><td>Iris-setosa</td><td style=\"text-align: right;\">      1.51724</td><td style=\"text-align: right;\">      7      </td></tr>\n",
       "<tr><td style=\"text-align: right;\">            4.9</td><td style=\"text-align: right;\">           3.1</td><td style=\"text-align: right;\">            1.5</td><td style=\"text-align: right;\">           0.1</td><td>Iris-setosa</td><td style=\"text-align: right;\">      1.58065</td><td style=\"text-align: right;\">     15      </td></tr>\n",
       "<tr><td style=\"text-align: right;\">            5.4</td><td style=\"text-align: right;\">           3.7</td><td style=\"text-align: right;\">            1.5</td><td style=\"text-align: right;\">           0.2</td><td>Iris-setosa</td><td style=\"text-align: right;\">      1.45946</td><td style=\"text-align: right;\">      7.5    </td></tr>\n",
       "<tr><td style=\"text-align: right;\">            4.8</td><td style=\"text-align: right;\">           3  </td><td style=\"text-align: right;\">            1.4</td><td style=\"text-align: right;\">           0.1</td><td>Iris-setosa</td><td style=\"text-align: right;\">      1.6    </td><td style=\"text-align: right;\">     14      </td></tr>\n",
       "<tr><td style=\"text-align: right;\">            5.8</td><td style=\"text-align: right;\">           4  </td><td style=\"text-align: right;\">            1.2</td><td style=\"text-align: right;\">           0.2</td><td>Iris-setosa</td><td style=\"text-align: right;\">      1.45   </td><td style=\"text-align: right;\">      6      </td></tr>\n",
       "<tr><td style=\"text-align: right;\">            5.1</td><td style=\"text-align: right;\">           3.5</td><td style=\"text-align: right;\">            1.4</td><td style=\"text-align: right;\">           0.3</td><td>Iris-setosa</td><td style=\"text-align: right;\">      1.45714</td><td style=\"text-align: right;\">      4.66667</td></tr>\n",
       "<tr><td style=\"text-align: right;\">            5.7</td><td style=\"text-align: right;\">           3.8</td><td style=\"text-align: right;\">            1.7</td><td style=\"text-align: right;\">           0.3</td><td>Iris-setosa</td><td style=\"text-align: right;\">      1.5    </td><td style=\"text-align: right;\">      5.66667</td></tr>\n",
       "</tbody>\n",
       "</table>"
      ]
     },
     "metadata": {},
     "output_type": "display_data"
    },
    {
     "data": {
      "text/plain": []
     },
     "execution_count": 95,
     "metadata": {},
     "output_type": "execute_result"
    }
   ],
   "source": [
    "train_h"
   ]
  },
  {
   "cell_type": "code",
   "execution_count": 96,
   "metadata": {},
   "outputs": [
    {
     "data": {
      "text/html": [
       "<table>\n",
       "<thead>\n",
       "<tr><th style=\"text-align: right;\">  SepalLengthCm</th><th style=\"text-align: right;\">  SepalWidthCm</th><th style=\"text-align: right;\">  PetalLengthCm</th><th style=\"text-align: right;\">  PetalWidthCm</th><th>Species        </th><th style=\"text-align: right;\">  sepal_ratio</th><th style=\"text-align: right;\">  petal_ratio</th></tr>\n",
       "</thead>\n",
       "<tbody>\n",
       "<tr><td style=\"text-align: right;\">            5  </td><td style=\"text-align: right;\">           3.6</td><td style=\"text-align: right;\">            1.4</td><td style=\"text-align: right;\">           0.2</td><td>Iris-setosa    </td><td style=\"text-align: right;\">      1.38889</td><td style=\"text-align: right;\">      7      </td></tr>\n",
       "<tr><td style=\"text-align: right;\">            4.3</td><td style=\"text-align: right;\">           3  </td><td style=\"text-align: right;\">            1.1</td><td style=\"text-align: right;\">           0.1</td><td>Iris-setosa    </td><td style=\"text-align: right;\">      1.43333</td><td style=\"text-align: right;\">     11      </td></tr>\n",
       "<tr><td style=\"text-align: right;\">            4.8</td><td style=\"text-align: right;\">           3.4</td><td style=\"text-align: right;\">            1.9</td><td style=\"text-align: right;\">           0.2</td><td>Iris-setosa    </td><td style=\"text-align: right;\">      1.41176</td><td style=\"text-align: right;\">      9.5    </td></tr>\n",
       "<tr><td style=\"text-align: right;\">            5.2</td><td style=\"text-align: right;\">           3.4</td><td style=\"text-align: right;\">            1.4</td><td style=\"text-align: right;\">           0.2</td><td>Iris-setosa    </td><td style=\"text-align: right;\">      1.52941</td><td style=\"text-align: right;\">      7      </td></tr>\n",
       "<tr><td style=\"text-align: right;\">            5.5</td><td style=\"text-align: right;\">           4.2</td><td style=\"text-align: right;\">            1.4</td><td style=\"text-align: right;\">           0.2</td><td>Iris-setosa    </td><td style=\"text-align: right;\">      1.30952</td><td style=\"text-align: right;\">      7      </td></tr>\n",
       "<tr><td style=\"text-align: right;\">            5.5</td><td style=\"text-align: right;\">           3.5</td><td style=\"text-align: right;\">            1.3</td><td style=\"text-align: right;\">           0.2</td><td>Iris-setosa    </td><td style=\"text-align: right;\">      1.57143</td><td style=\"text-align: right;\">      6.5    </td></tr>\n",
       "<tr><td style=\"text-align: right;\">            4.9</td><td style=\"text-align: right;\">           3.1</td><td style=\"text-align: right;\">            1.5</td><td style=\"text-align: right;\">           0.1</td><td>Iris-setosa    </td><td style=\"text-align: right;\">      1.58065</td><td style=\"text-align: right;\">     15      </td></tr>\n",
       "<tr><td style=\"text-align: right;\">            5  </td><td style=\"text-align: right;\">           3.5</td><td style=\"text-align: right;\">            1.3</td><td style=\"text-align: right;\">           0.3</td><td>Iris-setosa    </td><td style=\"text-align: right;\">      1.42857</td><td style=\"text-align: right;\">      4.33333</td></tr>\n",
       "<tr><td style=\"text-align: right;\">            5.1</td><td style=\"text-align: right;\">           3.8</td><td style=\"text-align: right;\">            1.9</td><td style=\"text-align: right;\">           0.4</td><td>Iris-setosa    </td><td style=\"text-align: right;\">      1.34211</td><td style=\"text-align: right;\">      4.75   </td></tr>\n",
       "<tr><td style=\"text-align: right;\">            4.9</td><td style=\"text-align: right;\">           2.4</td><td style=\"text-align: right;\">            3.3</td><td style=\"text-align: right;\">           1  </td><td>Iris-versicolor</td><td style=\"text-align: right;\">      2.04167</td><td style=\"text-align: right;\">      3.3    </td></tr>\n",
       "</tbody>\n",
       "</table>"
      ]
     },
     "metadata": {},
     "output_type": "display_data"
    },
    {
     "data": {
      "text/plain": []
     },
     "execution_count": 96,
     "metadata": {},
     "output_type": "execute_result"
    }
   ],
   "source": [
    "test_h"
   ]
  },
  {
   "cell_type": "code",
   "execution_count": 97,
   "metadata": {},
   "outputs": [
    {
     "data": {
      "text/html": [
       "<table>\n",
       "<thead>\n",
       "<tr><th style=\"text-align: right;\">  SepalLengthCm</th><th style=\"text-align: right;\">  SepalWidthCm</th><th style=\"text-align: right;\">  PetalLengthCm</th><th style=\"text-align: right;\">  PetalWidthCm</th><th>Species    </th><th style=\"text-align: right;\">  sepal_ratio</th><th style=\"text-align: right;\">  petal_ratio</th></tr>\n",
       "</thead>\n",
       "<tbody>\n",
       "<tr><td style=\"text-align: right;\">            5.1</td><td style=\"text-align: right;\">           3.5</td><td style=\"text-align: right;\">            1.4</td><td style=\"text-align: right;\">           0.2</td><td>Iris-setosa</td><td style=\"text-align: right;\">      1.45714</td><td style=\"text-align: right;\">         7   </td></tr>\n",
       "<tr><td style=\"text-align: right;\">            4.9</td><td style=\"text-align: right;\">           3  </td><td style=\"text-align: right;\">            1.4</td><td style=\"text-align: right;\">           0.2</td><td>Iris-setosa</td><td style=\"text-align: right;\">      1.63333</td><td style=\"text-align: right;\">         7   </td></tr>\n",
       "<tr><td style=\"text-align: right;\">            4.7</td><td style=\"text-align: right;\">           3.2</td><td style=\"text-align: right;\">            1.3</td><td style=\"text-align: right;\">           0.2</td><td>Iris-setosa</td><td style=\"text-align: right;\">      1.46875</td><td style=\"text-align: right;\">         6.5 </td></tr>\n",
       "<tr><td style=\"text-align: right;\">            5.4</td><td style=\"text-align: right;\">           3.9</td><td style=\"text-align: right;\">            1.7</td><td style=\"text-align: right;\">           0.4</td><td>Iris-setosa</td><td style=\"text-align: right;\">      1.38462</td><td style=\"text-align: right;\">         4.25</td></tr>\n",
       "<tr><td style=\"text-align: right;\">            4.8</td><td style=\"text-align: right;\">           3.4</td><td style=\"text-align: right;\">            1.6</td><td style=\"text-align: right;\">           0.2</td><td>Iris-setosa</td><td style=\"text-align: right;\">      1.41176</td><td style=\"text-align: right;\">         8   </td></tr>\n",
       "<tr><td style=\"text-align: right;\">            5.7</td><td style=\"text-align: right;\">           4.4</td><td style=\"text-align: right;\">            1.5</td><td style=\"text-align: right;\">           0.4</td><td>Iris-setosa</td><td style=\"text-align: right;\">      1.29545</td><td style=\"text-align: right;\">         3.75</td></tr>\n",
       "<tr><td style=\"text-align: right;\">            5.4</td><td style=\"text-align: right;\">           3.9</td><td style=\"text-align: right;\">            1.3</td><td style=\"text-align: right;\">           0.4</td><td>Iris-setosa</td><td style=\"text-align: right;\">      1.38462</td><td style=\"text-align: right;\">         3.25</td></tr>\n",
       "<tr><td style=\"text-align: right;\">            5.4</td><td style=\"text-align: right;\">           3.4</td><td style=\"text-align: right;\">            1.7</td><td style=\"text-align: right;\">           0.2</td><td>Iris-setosa</td><td style=\"text-align: right;\">      1.58824</td><td style=\"text-align: right;\">         8.5 </td></tr>\n",
       "<tr><td style=\"text-align: right;\">            5.1</td><td style=\"text-align: right;\">           3.7</td><td style=\"text-align: right;\">            1.5</td><td style=\"text-align: right;\">           0.4</td><td>Iris-setosa</td><td style=\"text-align: right;\">      1.37838</td><td style=\"text-align: right;\">         3.75</td></tr>\n",
       "<tr><td style=\"text-align: right;\">            5.1</td><td style=\"text-align: right;\">           3.3</td><td style=\"text-align: right;\">            1.7</td><td style=\"text-align: right;\">           0.5</td><td>Iris-setosa</td><td style=\"text-align: right;\">      1.54545</td><td style=\"text-align: right;\">         3.4 </td></tr>\n",
       "</tbody>\n",
       "</table>"
      ]
     },
     "metadata": {},
     "output_type": "display_data"
    },
    {
     "data": {
      "text/plain": []
     },
     "execution_count": 97,
     "metadata": {},
     "output_type": "execute_result"
    }
   ],
   "source": [
    "valid_h"
   ]
  },
  {
   "cell_type": "code",
   "execution_count": 98,
   "metadata": {},
   "outputs": [],
   "source": [
    "## in sklearn"
   ]
  },
  {
   "cell_type": "code",
   "execution_count": 99,
   "metadata": {},
   "outputs": [],
   "source": [
    "from sklearn.model_selection import train_test_split"
   ]
  },
  {
   "cell_type": "code",
   "execution_count": 104,
   "metadata": {},
   "outputs": [],
   "source": [
    "xtrain,ytrain,xtest,ytest = train_test_split(dfp.drop('Species',axis=1),dfp[['Species']])"
   ]
  },
  {
   "cell_type": "code",
   "execution_count": 106,
   "metadata": {},
   "outputs": [
    {
     "data": {
      "text/html": [
       "<div>\n",
       "<style scoped>\n",
       "    .dataframe tbody tr th:only-of-type {\n",
       "        vertical-align: middle;\n",
       "    }\n",
       "\n",
       "    .dataframe tbody tr th {\n",
       "        vertical-align: top;\n",
       "    }\n",
       "\n",
       "    .dataframe thead th {\n",
       "        text-align: right;\n",
       "    }\n",
       "</style>\n",
       "<table border=\"1\" class=\"dataframe\">\n",
       "  <thead>\n",
       "    <tr style=\"text-align: right;\">\n",
       "      <th></th>\n",
       "      <th>Id</th>\n",
       "      <th>SepalLengthCm</th>\n",
       "      <th>SepalWidthCm</th>\n",
       "      <th>PetalLengthCm</th>\n",
       "      <th>PetalWidthCm</th>\n",
       "    </tr>\n",
       "  </thead>\n",
       "  <tbody>\n",
       "    <tr>\n",
       "      <th>120</th>\n",
       "      <td>121</td>\n",
       "      <td>6.9</td>\n",
       "      <td>3.2</td>\n",
       "      <td>5.7</td>\n",
       "      <td>2.3</td>\n",
       "    </tr>\n",
       "    <tr>\n",
       "      <th>80</th>\n",
       "      <td>81</td>\n",
       "      <td>5.5</td>\n",
       "      <td>2.4</td>\n",
       "      <td>3.8</td>\n",
       "      <td>1.1</td>\n",
       "    </tr>\n",
       "    <tr>\n",
       "      <th>90</th>\n",
       "      <td>91</td>\n",
       "      <td>5.5</td>\n",
       "      <td>2.6</td>\n",
       "      <td>4.4</td>\n",
       "      <td>1.2</td>\n",
       "    </tr>\n",
       "    <tr>\n",
       "      <th>134</th>\n",
       "      <td>135</td>\n",
       "      <td>6.1</td>\n",
       "      <td>2.6</td>\n",
       "      <td>5.6</td>\n",
       "      <td>1.4</td>\n",
       "    </tr>\n",
       "    <tr>\n",
       "      <th>119</th>\n",
       "      <td>120</td>\n",
       "      <td>6.0</td>\n",
       "      <td>2.2</td>\n",
       "      <td>5.0</td>\n",
       "      <td>1.5</td>\n",
       "    </tr>\n",
       "  </tbody>\n",
       "</table>\n",
       "</div>"
      ],
      "text/plain": [
       "      Id  SepalLengthCm  SepalWidthCm  PetalLengthCm  PetalWidthCm\n",
       "120  121            6.9           3.2            5.7           2.3\n",
       "80    81            5.5           2.4            3.8           1.1\n",
       "90    91            5.5           2.6            4.4           1.2\n",
       "134  135            6.1           2.6            5.6           1.4\n",
       "119  120            6.0           2.2            5.0           1.5"
      ]
     },
     "execution_count": 106,
     "metadata": {},
     "output_type": "execute_result"
    }
   ],
   "source": [
    "xtrain.head()"
   ]
  },
  {
   "cell_type": "code",
   "execution_count": 108,
   "metadata": {},
   "outputs": [
    {
     "data": {
      "text/html": [
       "<div>\n",
       "<style scoped>\n",
       "    .dataframe tbody tr th:only-of-type {\n",
       "        vertical-align: middle;\n",
       "    }\n",
       "\n",
       "    .dataframe tbody tr th {\n",
       "        vertical-align: top;\n",
       "    }\n",
       "\n",
       "    .dataframe thead th {\n",
       "        text-align: right;\n",
       "    }\n",
       "</style>\n",
       "<table border=\"1\" class=\"dataframe\">\n",
       "  <thead>\n",
       "    <tr style=\"text-align: right;\">\n",
       "      <th></th>\n",
       "      <th>Id</th>\n",
       "      <th>SepalLengthCm</th>\n",
       "      <th>SepalWidthCm</th>\n",
       "      <th>PetalLengthCm</th>\n",
       "      <th>PetalWidthCm</th>\n",
       "    </tr>\n",
       "  </thead>\n",
       "  <tbody>\n",
       "    <tr>\n",
       "      <th>95</th>\n",
       "      <td>96</td>\n",
       "      <td>5.7</td>\n",
       "      <td>3.0</td>\n",
       "      <td>4.2</td>\n",
       "      <td>1.2</td>\n",
       "    </tr>\n",
       "    <tr>\n",
       "      <th>57</th>\n",
       "      <td>58</td>\n",
       "      <td>4.9</td>\n",
       "      <td>2.4</td>\n",
       "      <td>3.3</td>\n",
       "      <td>1.0</td>\n",
       "    </tr>\n",
       "    <tr>\n",
       "      <th>20</th>\n",
       "      <td>21</td>\n",
       "      <td>5.4</td>\n",
       "      <td>3.4</td>\n",
       "      <td>1.7</td>\n",
       "      <td>0.2</td>\n",
       "    </tr>\n",
       "    <tr>\n",
       "      <th>0</th>\n",
       "      <td>1</td>\n",
       "      <td>5.1</td>\n",
       "      <td>3.5</td>\n",
       "      <td>1.4</td>\n",
       "      <td>0.2</td>\n",
       "    </tr>\n",
       "    <tr>\n",
       "      <th>50</th>\n",
       "      <td>51</td>\n",
       "      <td>7.0</td>\n",
       "      <td>3.2</td>\n",
       "      <td>4.7</td>\n",
       "      <td>1.4</td>\n",
       "    </tr>\n",
       "  </tbody>\n",
       "</table>\n",
       "</div>"
      ],
      "text/plain": [
       "    Id  SepalLengthCm  SepalWidthCm  PetalLengthCm  PetalWidthCm\n",
       "95  96            5.7           3.0            4.2           1.2\n",
       "57  58            4.9           2.4            3.3           1.0\n",
       "20  21            5.4           3.4            1.7           0.2\n",
       "0    1            5.1           3.5            1.4           0.2\n",
       "50  51            7.0           3.2            4.7           1.4"
      ]
     },
     "execution_count": 108,
     "metadata": {},
     "output_type": "execute_result"
    }
   ],
   "source": [
    "ytrain.head()"
   ]
  },
  {
   "cell_type": "code",
   "execution_count": 109,
   "metadata": {},
   "outputs": [
    {
     "data": {
      "text/html": [
       "<div>\n",
       "<style scoped>\n",
       "    .dataframe tbody tr th:only-of-type {\n",
       "        vertical-align: middle;\n",
       "    }\n",
       "\n",
       "    .dataframe tbody tr th {\n",
       "        vertical-align: top;\n",
       "    }\n",
       "\n",
       "    .dataframe thead th {\n",
       "        text-align: right;\n",
       "    }\n",
       "</style>\n",
       "<table border=\"1\" class=\"dataframe\">\n",
       "  <thead>\n",
       "    <tr style=\"text-align: right;\">\n",
       "      <th></th>\n",
       "      <th>Species</th>\n",
       "    </tr>\n",
       "  </thead>\n",
       "  <tbody>\n",
       "    <tr>\n",
       "      <th>120</th>\n",
       "      <td>Iris-virginica</td>\n",
       "    </tr>\n",
       "    <tr>\n",
       "      <th>80</th>\n",
       "      <td>Iris-versicolor</td>\n",
       "    </tr>\n",
       "    <tr>\n",
       "      <th>90</th>\n",
       "      <td>Iris-versicolor</td>\n",
       "    </tr>\n",
       "    <tr>\n",
       "      <th>134</th>\n",
       "      <td>Iris-virginica</td>\n",
       "    </tr>\n",
       "    <tr>\n",
       "      <th>119</th>\n",
       "      <td>Iris-virginica</td>\n",
       "    </tr>\n",
       "  </tbody>\n",
       "</table>\n",
       "</div>"
      ],
      "text/plain": [
       "             Species\n",
       "120   Iris-virginica\n",
       "80   Iris-versicolor\n",
       "90   Iris-versicolor\n",
       "134   Iris-virginica\n",
       "119   Iris-virginica"
      ]
     },
     "execution_count": 109,
     "metadata": {},
     "output_type": "execute_result"
    }
   ],
   "source": [
    "xtest.head()"
   ]
  },
  {
   "cell_type": "code",
   "execution_count": 111,
   "metadata": {},
   "outputs": [
    {
     "data": {
      "text/html": [
       "<div>\n",
       "<style scoped>\n",
       "    .dataframe tbody tr th:only-of-type {\n",
       "        vertical-align: middle;\n",
       "    }\n",
       "\n",
       "    .dataframe tbody tr th {\n",
       "        vertical-align: top;\n",
       "    }\n",
       "\n",
       "    .dataframe thead th {\n",
       "        text-align: right;\n",
       "    }\n",
       "</style>\n",
       "<table border=\"1\" class=\"dataframe\">\n",
       "  <thead>\n",
       "    <tr style=\"text-align: right;\">\n",
       "      <th></th>\n",
       "      <th>Species</th>\n",
       "    </tr>\n",
       "  </thead>\n",
       "  <tbody>\n",
       "    <tr>\n",
       "      <th>95</th>\n",
       "      <td>Iris-versicolor</td>\n",
       "    </tr>\n",
       "    <tr>\n",
       "      <th>57</th>\n",
       "      <td>Iris-versicolor</td>\n",
       "    </tr>\n",
       "    <tr>\n",
       "      <th>20</th>\n",
       "      <td>Iris-setosa</td>\n",
       "    </tr>\n",
       "    <tr>\n",
       "      <th>0</th>\n",
       "      <td>Iris-setosa</td>\n",
       "    </tr>\n",
       "    <tr>\n",
       "      <th>50</th>\n",
       "      <td>Iris-versicolor</td>\n",
       "    </tr>\n",
       "  </tbody>\n",
       "</table>\n",
       "</div>"
      ],
      "text/plain": [
       "            Species\n",
       "95  Iris-versicolor\n",
       "57  Iris-versicolor\n",
       "20      Iris-setosa\n",
       "0       Iris-setosa\n",
       "50  Iris-versicolor"
      ]
     },
     "execution_count": 111,
     "metadata": {},
     "output_type": "execute_result"
    }
   ],
   "source": [
    "ytest.head()"
   ]
  },
  {
   "cell_type": "code",
   "execution_count": 112,
   "metadata": {},
   "outputs": [],
   "source": [
    "## exporting data"
   ]
  },
  {
   "cell_type": "code",
   "execution_count": 113,
   "metadata": {},
   "outputs": [],
   "source": [
    "#h2o.exportFile(d, \"/path/to/d.csv\")\n",
    "#h2o.exportFile(d, \"s3://mybucket/d.csv\")\n",
    "#h2o.exportFile(d, \"s3://<AWS_ACCESS_KEY>:<AWS_SECRET_KEY>@mybucket/d.csv\")\n",
    "#h2o.exportFile(d, \"hdfs://namenode/path/to/d.csv\")"
   ]
  },
  {
   "cell_type": "code",
   "execution_count": 116,
   "metadata": {},
   "outputs": [
    {
     "name": "stdout",
     "output_type": "stream",
     "text": [
      "Export File progress: |███████████████████████████████████████████████████| 100%\n"
     ]
    }
   ],
   "source": [
    "h2o.export_file(df,'export.csv')"
   ]
  },
  {
   "cell_type": "code",
   "execution_count": 117,
   "metadata": {},
   "outputs": [
    {
     "name": "stdout",
     "output_type": "stream",
     "text": [
      "ABALONA_AGE_PREDICTION\tFruit_data    Iris_h20.ipynb   SOCIAL_MEDIA_PREDICTION\r\n",
      "CANCER_DETECTION\tgoogle_stock  IRIS-PREDICTION  TITANIC\r\n",
      "export.csv\t\thpuse_price   README.md\r\n"
     ]
    }
   ],
   "source": [
    "!ls"
   ]
  },
  {
   "cell_type": "code",
   "execution_count": 118,
   "metadata": {},
   "outputs": [
    {
     "name": "stdout",
     "output_type": "stream",
     "text": [
      "\"SepalLengthCm\",\"SepalWidthCm\",\"PetalLengthCm\",\"PetalWidthCm\",\"Species\",\"sepal_ratio\",\"petal_ratio\"\r\n",
      "5.1,3.5,1.4,0.2,\"Iris-setosa\",1.457142857142857,6.999999999999999\r\n",
      "4.9,3.0,1.4,0.2,\"Iris-setosa\",1.6333333333333335,6.999999999999999\r\n",
      "4.7,3.2,1.3,0.2,\"Iris-setosa\",1.46875,6.5\r\n",
      "4.6,3.1,1.5,0.2,\"Iris-setosa\",1.4838709677419353,7.5\r\n",
      "5.0,3.6,1.4,0.2,\"Iris-setosa\",1.3888888888888888,6.999999999999999\r\n",
      "5.4,3.9,1.7,0.4,\"Iris-setosa\",1.3846153846153848,4.25\r\n",
      "4.6,3.4,1.4,0.3,\"Iris-setosa\",1.352941176470588,4.666666666666667\r\n",
      "5.0,3.4,1.5,0.2,\"Iris-setosa\",1.4705882352941178,7.5\r\n",
      "4.4,2.9,1.4,0.2,\"Iris-setosa\",1.517241379310345,6.999999999999999\r\n",
      "4.9,3.1,1.5,0.1,\"Iris-setosa\",1.5806451612903227,15.0\r\n",
      "5.4,3.7,1.5,0.2,\"Iris-setosa\",1.4594594594594594,7.5\r\n",
      "4.8,3.4,1.6,0.2,\"Iris-setosa\",1.411764705882353,8.0\r\n",
      "4.8,3.0,1.4,0.1,\"Iris-setosa\",1.5999999999999999,13.999999999999998\r\n",
      "4.3,3.0,1.1,0.1,\"Iris-setosa\",1.4333333333333333,11.0\r\n",
      "5.8,4.0,1.2,0.2,\"Iris-setosa\",1.45,5.999999999999999\r\n",
      "5.7,4.4,1.5,0.4,\"Iris-setosa\",1.2954545454545454,3.75\r\n",
      "5.4,3.9,1.3,0.4,\"Iris-setosa\",1.3846153846153848,3.25\r\n",
      "5.1,3.5,1.4,0.3,\"Iris-setosa\",1.457142857142857,4.666666666666667\r\n",
      "5.7,3.8,1.7,0.3,\"Iris-setosa\",1.5000000000000002,5.666666666666667\r\n",
      "5.1,3.8,1.5,0.3,\"Iris-setosa\",1.3421052631578947,5.0\r\n",
      "5.4,3.4,1.7,0.2,\"Iris-setosa\",1.5882352941176472,8.5\r\n",
      "5.1,3.7,1.5,0.4,\"Iris-setosa\",1.3783783783783783,3.75\r\n",
      "4.6,3.6,1.0,0.2,\"Iris-setosa\",1.2777777777777777,5.0\r\n",
      "5.1,3.3,1.7,0.5,\"Iris-setosa\",1.5454545454545454,3.4\r\n",
      "4.8,3.4,1.9,0.2,\"Iris-setosa\",1.411764705882353,9.499999999999998\r\n",
      "5.0,3.0,1.6,0.2,\"Iris-setosa\",1.6666666666666667,8.0\r\n",
      "5.0,3.4,1.6,0.4,\"Iris-setosa\",1.4705882352941178,4.0\r\n",
      "5.2,3.5,1.5,0.2,\"Iris-setosa\",1.4857142857142858,7.5\r\n",
      "5.2,3.4,1.4,0.2,\"Iris-setosa\",1.5294117647058825,6.999999999999999\r\n",
      "4.7,3.2,1.6,0.2,\"Iris-setosa\",1.46875,8.0\r\n",
      "4.8,3.1,1.6,0.2,\"Iris-setosa\",1.5483870967741935,8.0\r\n",
      "5.4,3.4,1.5,0.4,\"Iris-setosa\",1.5882352941176472,3.75\r\n",
      "5.2,4.1,1.5,0.1,\"Iris-setosa\",1.2682926829268295,15.0\r\n",
      "5.5,4.2,1.4,0.2,\"Iris-setosa\",1.3095238095238095,6.999999999999999\r\n",
      "4.9,3.1,1.5,0.1,\"Iris-setosa\",1.5806451612903227,15.0\r\n",
      "5.0,3.2,1.2,0.2,\"Iris-setosa\",1.5625,5.999999999999999\r\n",
      "5.5,3.5,1.3,0.2,\"Iris-setosa\",1.5714285714285714,6.5\r\n",
      "4.9,3.1,1.5,0.1,\"Iris-setosa\",1.5806451612903227,15.0\r\n",
      "4.4,3.0,1.3,0.2,\"Iris-setosa\",1.4666666666666668,6.5\r\n",
      "5.1,3.4,1.5,0.2,\"Iris-setosa\",1.5,7.5\r\n",
      "5.0,3.5,1.3,0.3,\"Iris-setosa\",1.4285714285714286,4.333333333333334\r\n",
      "4.5,2.3,1.3,0.3,\"Iris-setosa\",1.956521739130435,4.333333333333334\r\n",
      "4.4,3.2,1.3,0.2,\"Iris-setosa\",1.375,6.5\r\n",
      "5.0,3.5,1.6,0.6,\"Iris-setosa\",1.4285714285714286,2.666666666666667\r\n",
      "5.1,3.8,1.9,0.4,\"Iris-setosa\",1.3421052631578947,4.749999999999999\r\n",
      "4.8,3.0,1.4,0.3,\"Iris-setosa\",1.5999999999999999,4.666666666666667\r\n",
      "5.1,3.8,1.6,0.2,\"Iris-setosa\",1.3421052631578947,8.0\r\n",
      "4.6,3.2,1.4,0.2,\"Iris-setosa\",1.4374999999999998,6.999999999999999\r\n",
      "5.3,3.7,1.5,0.2,\"Iris-setosa\",1.4324324324324322,7.5\r\n",
      "5.0,3.3,1.4,0.2,\"Iris-setosa\",1.5151515151515151,6.999999999999999\r\n",
      "7.0,3.2,4.7,1.4,\"Iris-versicolor\",2.1875,3.3571428571428577\r\n",
      "6.4,3.2,4.5,1.5,\"Iris-versicolor\",2.0,3.0\r\n",
      "6.9,3.1,4.9,1.5,\"Iris-versicolor\",2.2258064516129035,3.266666666666667\r\n",
      "5.5,2.3,4.0,1.3,\"Iris-versicolor\",2.3913043478260874,3.0769230769230766\r\n",
      "6.5,2.8,4.6,1.5,\"Iris-versicolor\",2.3214285714285716,3.0666666666666664\r\n",
      "5.7,2.8,4.5,1.3,\"Iris-versicolor\",2.035714285714286,3.4615384615384612\r\n",
      "6.3,3.3,4.7,1.6,\"Iris-versicolor\",1.9090909090909092,2.9375\r\n",
      "4.9,2.4,3.3,1.0,\"Iris-versicolor\",2.041666666666667,3.3\r\n",
      "6.6,2.9,4.6,1.3,\"Iris-versicolor\",2.2758620689655173,3.538461538461538\r\n",
      "5.2,2.7,3.9,1.4,\"Iris-versicolor\",1.9259259259259258,2.785714285714286\r\n",
      "5.0,2.0,3.5,1.0,\"Iris-versicolor\",2.5,3.5\r\n",
      "5.9,3.0,4.2,1.5,\"Iris-versicolor\",1.9666666666666668,2.8000000000000003\r\n",
      "6.0,2.2,4.0,1.0,\"Iris-versicolor\",2.727272727272727,4.0\r\n",
      "6.1,2.9,4.7,1.4,\"Iris-versicolor\",2.103448275862069,3.3571428571428577\r\n",
      "5.6,2.9,3.6,1.3,\"Iris-versicolor\",1.9310344827586206,2.769230769230769\r\n",
      "6.7,3.1,4.4,1.4,\"Iris-versicolor\",2.161290322580645,3.1428571428571432\r\n",
      "5.6,3.0,4.5,1.5,\"Iris-versicolor\",1.8666666666666665,3.0\r\n",
      "5.8,2.7,4.1,1.0,\"Iris-versicolor\",2.148148148148148,4.1\r\n",
      "6.2,2.2,4.5,1.5,\"Iris-versicolor\",2.818181818181818,3.0\r\n",
      "5.6,2.5,3.9,1.1,\"Iris-versicolor\",2.2399999999999998,3.545454545454545\r\n",
      "5.9,3.2,4.8,1.8,\"Iris-versicolor\",1.84375,2.6666666666666665\r\n",
      "6.1,2.8,4.0,1.3,\"Iris-versicolor\",2.1785714285714284,3.0769230769230766\r\n",
      "6.3,2.5,4.9,1.5,\"Iris-versicolor\",2.52,3.266666666666667\r\n",
      "6.1,2.8,4.7,1.2,\"Iris-versicolor\",2.1785714285714284,3.916666666666667\r\n",
      "6.4,2.9,4.3,1.3,\"Iris-versicolor\",2.206896551724138,3.3076923076923075\r\n",
      "6.6,3.0,4.4,1.4,\"Iris-versicolor\",2.1999999999999997,3.1428571428571432\r\n",
      "6.8,2.8,4.8,1.4,\"Iris-versicolor\",2.428571428571429,3.428571428571429\r\n",
      "6.7,3.0,5.0,1.7,\"Iris-versicolor\",2.2333333333333334,2.9411764705882355\r\n",
      "6.0,2.9,4.5,1.5,\"Iris-versicolor\",2.0689655172413794,3.0\r\n",
      "5.7,2.6,3.5,1.0,\"Iris-versicolor\",2.1923076923076925,3.5\r\n",
      "5.5,2.4,3.8,1.1,\"Iris-versicolor\",2.291666666666667,3.454545454545454\r\n",
      "5.5,2.4,3.7,1.0,\"Iris-versicolor\",2.291666666666667,3.7\r\n",
      "5.8,2.7,3.9,1.2,\"Iris-versicolor\",2.148148148148148,3.25\r\n",
      "6.0,2.7,5.1,1.6,\"Iris-versicolor\",2.222222222222222,3.1874999999999996\r\n",
      "5.4,3.0,4.5,1.5,\"Iris-versicolor\",1.8,3.0\r\n",
      "6.0,3.4,4.5,1.6,\"Iris-versicolor\",1.7647058823529411,2.8125\r\n",
      "6.7,3.1,4.7,1.5,\"Iris-versicolor\",2.161290322580645,3.1333333333333333\r\n",
      "6.3,2.3,4.4,1.3,\"Iris-versicolor\",2.739130434782609,3.3846153846153846\r\n",
      "5.6,3.0,4.1,1.3,\"Iris-versicolor\",1.8666666666666665,3.1538461538461533\r\n",
      "5.5,2.5,4.0,1.3,\"Iris-versicolor\",2.2,3.0769230769230766\r\n",
      "5.5,2.6,4.4,1.2,\"Iris-versicolor\",2.1153846153846154,3.666666666666667\r\n",
      "6.1,3.0,4.6,1.4,\"Iris-versicolor\",2.033333333333333,3.2857142857142856\r\n",
      "5.8,2.6,4.0,1.2,\"Iris-versicolor\",2.230769230769231,3.3333333333333335\r\n",
      "5.0,2.3,3.3,1.0,\"Iris-versicolor\",2.173913043478261,3.3\r\n",
      "5.6,2.7,4.2,1.3,\"Iris-versicolor\",2.074074074074074,3.230769230769231\r\n",
      "5.7,3.0,4.2,1.2,\"Iris-versicolor\",1.9000000000000001,3.5000000000000004\r\n",
      "5.7,2.9,4.2,1.3,\"Iris-versicolor\",1.9655172413793105,3.230769230769231\r\n",
      "6.2,2.9,4.3,1.3,\"Iris-versicolor\",2.137931034482759,3.3076923076923075\r\n",
      "5.1,2.5,3.0,1.1,\"Iris-versicolor\",2.04,2.727272727272727\r\n",
      "5.7,2.8,4.1,1.3,\"Iris-versicolor\",2.035714285714286,3.1538461538461533\r\n",
      "6.3,3.3,6.0,2.5,\"Iris-virginica\",1.9090909090909092,2.4\r\n",
      "5.8,2.7,5.1,1.9,\"Iris-virginica\",2.148148148148148,2.6842105263157894\r\n",
      "7.1,3.0,5.9,2.1,\"Iris-virginica\",2.3666666666666667,2.8095238095238098\r\n",
      "6.3,2.9,5.6,1.8,\"Iris-virginica\",2.1724137931034484,3.1111111111111107\r\n",
      "6.5,3.0,5.8,2.2,\"Iris-virginica\",2.1666666666666665,2.6363636363636362\r\n",
      "7.6,3.0,6.6,2.1,\"Iris-virginica\",2.533333333333333,3.1428571428571423\r\n",
      "4.9,2.5,4.5,1.7,\"Iris-virginica\",1.9600000000000002,2.6470588235294117\r\n",
      "7.3,2.9,6.3,1.8,\"Iris-virginica\",2.5172413793103448,3.5\r\n",
      "6.7,2.5,5.8,1.8,\"Iris-virginica\",2.68,3.222222222222222\r\n",
      "7.2,3.6,6.1,2.5,\"Iris-virginica\",2.0,2.44\r\n",
      "6.5,3.2,5.1,2.0,\"Iris-virginica\",2.03125,2.55\r\n",
      "6.4,2.7,5.3,1.9,\"Iris-virginica\",2.3703703703703702,2.7894736842105265\r\n",
      "6.8,3.0,5.5,2.1,\"Iris-virginica\",2.2666666666666666,2.619047619047619\r\n",
      "5.7,2.5,5.0,2.0,\"Iris-virginica\",2.2800000000000002,2.5\r\n",
      "5.8,2.8,5.1,2.4,\"Iris-virginica\",2.0714285714285716,2.125\r\n",
      "6.4,3.2,5.3,2.3,\"Iris-virginica\",2.0,2.3043478260869565\r\n",
      "6.5,3.0,5.5,1.8,\"Iris-virginica\",2.1666666666666665,3.0555555555555554\r\n",
      "7.7,3.8,6.7,2.2,\"Iris-virginica\",2.0263157894736845,3.0454545454545454\r\n",
      "7.7,2.6,6.9,2.3,\"Iris-virginica\",2.9615384615384617,3.0000000000000004\r\n",
      "6.0,2.2,5.0,1.5,\"Iris-virginica\",2.727272727272727,3.3333333333333335\r\n",
      "6.9,3.2,5.7,2.3,\"Iris-virginica\",2.15625,2.4782608695652177\r\n",
      "5.6,2.8,4.9,2.0,\"Iris-virginica\",2.0,2.45\r\n",
      "7.7,2.8,6.7,2.0,\"Iris-virginica\",2.7500000000000004,3.35\r\n",
      "6.3,2.7,4.9,1.8,\"Iris-virginica\",2.333333333333333,2.7222222222222223\r\n",
      "6.7,3.3,5.7,2.1,\"Iris-virginica\",2.0303030303030303,2.7142857142857144\r\n",
      "7.2,3.2,6.0,1.8,\"Iris-virginica\",2.25,3.333333333333333\r\n",
      "6.2,2.8,4.8,1.8,\"Iris-virginica\",2.2142857142857144,2.6666666666666665\r\n",
      "6.1,3.0,4.9,1.8,\"Iris-virginica\",2.033333333333333,2.7222222222222223\r\n",
      "6.4,2.8,5.6,2.1,\"Iris-virginica\",2.285714285714286,2.6666666666666665\r\n",
      "7.2,3.0,5.8,1.6,\"Iris-virginica\",2.4,3.6249999999999996\r\n",
      "7.4,2.8,6.1,1.9,\"Iris-virginica\",2.6428571428571432,3.2105263157894735\r\n",
      "7.9,3.8,6.4,2.0,\"Iris-virginica\",2.0789473684210527,3.2\r\n",
      "6.4,2.8,5.6,2.2,\"Iris-virginica\",2.285714285714286,2.545454545454545\r\n",
      "6.3,2.8,5.1,1.5,\"Iris-virginica\",2.25,3.4\r\n",
      "6.1,2.6,5.6,1.4,\"Iris-virginica\",2.346153846153846,4.0\r\n",
      "7.7,3.0,6.1,2.3,\"Iris-virginica\",2.566666666666667,2.6521739130434785\r\n",
      "6.3,3.4,5.6,2.4,\"Iris-virginica\",1.8529411764705883,2.3333333333333335\r\n",
      "6.4,3.1,5.5,1.8,\"Iris-virginica\",2.064516129032258,3.0555555555555554\r\n",
      "6.0,3.0,4.8,1.8,\"Iris-virginica\",2.0,2.6666666666666665\r\n",
      "6.9,3.1,5.4,2.1,\"Iris-virginica\",2.2258064516129035,2.5714285714285716\r\n",
      "6.7,3.1,5.6,2.4,\"Iris-virginica\",2.161290322580645,2.3333333333333335\r\n",
      "6.9,3.1,5.1,2.3,\"Iris-virginica\",2.2258064516129035,2.217391304347826\r\n",
      "5.8,2.7,5.1,1.9,\"Iris-virginica\",2.148148148148148,2.6842105263157894\r\n",
      "6.8,3.2,5.9,2.3,\"Iris-virginica\",2.125,2.565217391304348\r\n",
      "6.7,3.3,5.7,2.5,\"Iris-virginica\",2.0303030303030303,2.2800000000000002\r\n",
      "6.7,3.0,5.2,2.3,\"Iris-virginica\",2.2333333333333334,2.2608695652173916\r\n",
      "6.3,2.5,5.0,1.9,\"Iris-virginica\",2.52,2.6315789473684212\r\n",
      "6.5,3.0,5.2,2.0,\"Iris-virginica\",2.1666666666666665,2.6\r\n",
      "6.2,3.4,5.4,2.3,\"Iris-virginica\",1.823529411764706,2.347826086956522\r\n",
      "5.9,3.0,5.1,1.8,\"Iris-virginica\",1.9666666666666668,2.833333333333333\r\n"
     ]
    }
   ],
   "source": [
    "!cat export.csv"
   ]
  },
  {
   "cell_type": "code",
   "execution_count": 119,
   "metadata": {},
   "outputs": [],
   "source": [
    "## For saving to a location on the H2O server, use h2o.exportFile() (h2o.export_file() in\n",
    "#Python), where the first parameter is the frame to save, and the second is the disk path and\n",
    "#filename."
   ]
  },
  {
   "cell_type": "code",
   "execution_count": 120,
   "metadata": {},
   "outputs": [],
   "source": [
    "## POJO\n",
    "\n",
    "## pojo is  plain old java object\n",
    "## we can save our machine learning model or deep learning model in pojo format "
   ]
  },
  {
   "cell_type": "code",
   "execution_count": 122,
   "metadata": {},
   "outputs": [],
   "source": [
    "## you can apply pandas function \n",
    "## but in order to do that you have to change it to a data frame in pandas"
   ]
  },
  {
   "cell_type": "code",
   "execution_count": null,
   "metadata": {},
   "outputs": [
    {
     "data": {
      "text/plain": [
       "<matplotlib.axes._subplots.AxesSubplot at 0x7fcb19e817b8>"
      ]
     },
     "execution_count": 124,
     "metadata": {},
     "output_type": "execute_result"
    },
    {
     "data": {
      "image/png": "[encoded data removed]",
      "text/plain": [
       "<Figure size 432x288 with 1 Axes>"
      ]
     },
     "metadata": {
      "needs_background": "light"
     },
     "output_type": "display_data"
    }
   ],
   "source": [
    "df.as_data_frame().plot()"
   ]
  },
  {
   "cell_type": "code",
   "execution_count": null,
   "metadata": {},
   "outputs": [],
   "source": []
  }
 ],
 "metadata": {
  "kernelspec": {
   "display_name": "Python 3",
   "language": "python",
   "name": "python3"
  },
  "language_info": {
   "codemirror_mode": {
    "name": "ipython",
    "version": 3
   },
   "file_extension": ".py",
   "mimetype": "text/x-python",
   "name": "python",
   "nbconvert_exporter": "python",
   "pygments_lexer": "ipython3",
   "version": "3.7.3"
  }
 },
 "nbformat": 4,
 "nbformat_minor": 2
}
