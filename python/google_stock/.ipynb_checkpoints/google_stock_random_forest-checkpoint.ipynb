{
 "cells": [
  {
   "cell_type": "markdown",
   "metadata": {},
   "source": [
    "## <center> google stock price prediction Random Forest R</center>"
   ]
  },
  {
   "cell_type": "code",
   "execution_count": 1,
   "metadata": {},
   "outputs": [],
   "source": [
    "#import the data\n",
    "data=read.csv('data/google_stock.csv')"
   ]
  },
  {
   "cell_type": "code",
   "execution_count": 2,
   "metadata": {},
   "outputs": [
    {
     "data": {
      "text/html": [
       "<table>\n",
       "<thead><tr><th scope=col>Date</th><th scope=col>Open</th><th scope=col>High</th><th scope=col>Low</th><th scope=col>Close</th><th scope=col>Volume</th><th scope=col>Ex.Dividend</th><th scope=col>Split.Ratio</th><th scope=col>Adj..Open</th><th scope=col>Adj..High</th><th scope=col>Adj..Low</th><th scope=col>Adj..Close</th><th scope=col>Adj..Volume</th></tr></thead>\n",
       "<tbody>\n",
       "\t<tr><td>2004-08-19</td><td>100.01    </td><td>104.06    </td><td> 95.96    </td><td>100.335   </td><td>44659000  </td><td>0         </td><td>1         </td><td>50.15984  </td><td>52.19111  </td><td>48.12857  </td><td>50.32284  </td><td>44659000  </td></tr>\n",
       "\t<tr><td>2004-08-20</td><td>101.01    </td><td>109.08    </td><td>100.50    </td><td>108.310   </td><td>22834300  </td><td>0         </td><td>1         </td><td>50.66139  </td><td>54.70888  </td><td>50.40560  </td><td>54.32269  </td><td>22834300  </td></tr>\n",
       "\t<tr><td>2004-08-23</td><td>110.76    </td><td>113.48    </td><td>109.05    </td><td>109.400   </td><td>18256100  </td><td>0         </td><td>1         </td><td>55.55148  </td><td>56.91569  </td><td>54.69383  </td><td>54.86938  </td><td>18256100  </td></tr>\n",
       "\t<tr><td>2004-08-24</td><td>111.24    </td><td>111.60    </td><td>103.57    </td><td>104.870   </td><td>15247300  </td><td>0         </td><td>1         </td><td>55.79223  </td><td>55.97278  </td><td>51.94535  </td><td>52.59736  </td><td>15247300  </td></tr>\n",
       "\t<tr><td>2004-08-25</td><td>104.76    </td><td>108.00    </td><td>103.88    </td><td>106.000   </td><td> 9188600  </td><td>0         </td><td>1         </td><td>52.54219  </td><td>54.16721  </td><td>52.10083  </td><td>53.16411  </td><td> 9188600  </td></tr>\n",
       "\t<tr><td>2004-08-26</td><td>104.95    </td><td>107.95    </td><td>104.66    </td><td>107.910   </td><td> 7094800  </td><td>0         </td><td>1         </td><td>52.63749  </td><td>54.14213  </td><td>52.49204  </td><td>54.12207  </td><td> 7094800  </td></tr>\n",
       "</tbody>\n",
       "</table>\n"
      ],
      "text/latex": [
       "\\begin{tabular}{r|lllllllllllll}\n",
       " Date & Open & High & Low & Close & Volume & Ex.Dividend & Split.Ratio & Adj..Open & Adj..High & Adj..Low & Adj..Close & Adj..Volume\\\\\n",
       "\\hline\n",
       "\t 2004-08-19 & 100.01     & 104.06     &  95.96     & 100.335    & 44659000   & 0          & 1          & 50.15984   & 52.19111   & 48.12857   & 50.32284   & 44659000  \\\\\n",
       "\t 2004-08-20 & 101.01     & 109.08     & 100.50     & 108.310    & 22834300   & 0          & 1          & 50.66139   & 54.70888   & 50.40560   & 54.32269   & 22834300  \\\\\n",
       "\t 2004-08-23 & 110.76     & 113.48     & 109.05     & 109.400    & 18256100   & 0          & 1          & 55.55148   & 56.91569   & 54.69383   & 54.86938   & 18256100  \\\\\n",
       "\t 2004-08-24 & 111.24     & 111.60     & 103.57     & 104.870    & 15247300   & 0          & 1          & 55.79223   & 55.97278   & 51.94535   & 52.59736   & 15247300  \\\\\n",
       "\t 2004-08-25 & 104.76     & 108.00     & 103.88     & 106.000    &  9188600   & 0          & 1          & 52.54219   & 54.16721   & 52.10083   & 53.16411   &  9188600  \\\\\n",
       "\t 2004-08-26 & 104.95     & 107.95     & 104.66     & 107.910    &  7094800   & 0          & 1          & 52.63749   & 54.14213   & 52.49204   & 54.12207   &  7094800  \\\\\n",
       "\\end{tabular}\n"
      ],
      "text/markdown": [
       "\n",
       "Date | Open | High | Low | Close | Volume | Ex.Dividend | Split.Ratio | Adj..Open | Adj..High | Adj..Low | Adj..Close | Adj..Volume | \n",
       "|---|---|---|---|---|---|\n",
       "| 2004-08-19 | 100.01     | 104.06     |  95.96     | 100.335    | 44659000   | 0          | 1          | 50.15984   | 52.19111   | 48.12857   | 50.32284   | 44659000   | \n",
       "| 2004-08-20 | 101.01     | 109.08     | 100.50     | 108.310    | 22834300   | 0          | 1          | 50.66139   | 54.70888   | 50.40560   | 54.32269   | 22834300   | \n",
       "| 2004-08-23 | 110.76     | 113.48     | 109.05     | 109.400    | 18256100   | 0          | 1          | 55.55148   | 56.91569   | 54.69383   | 54.86938   | 18256100   | \n",
       "| 2004-08-24 | 111.24     | 111.60     | 103.57     | 104.870    | 15247300   | 0          | 1          | 55.79223   | 55.97278   | 51.94535   | 52.59736   | 15247300   | \n",
       "| 2004-08-25 | 104.76     | 108.00     | 103.88     | 106.000    |  9188600   | 0          | 1          | 52.54219   | 54.16721   | 52.10083   | 53.16411   |  9188600   | \n",
       "| 2004-08-26 | 104.95     | 107.95     | 104.66     | 107.910    |  7094800   | 0          | 1          | 52.63749   | 54.14213   | 52.49204   | 54.12207   |  7094800   | \n",
       "\n",
       "\n"
      ],
      "text/plain": [
       "  Date       Open   High   Low    Close   Volume   Ex.Dividend Split.Ratio\n",
       "1 2004-08-19 100.01 104.06  95.96 100.335 44659000 0           1          \n",
       "2 2004-08-20 101.01 109.08 100.50 108.310 22834300 0           1          \n",
       "3 2004-08-23 110.76 113.48 109.05 109.400 18256100 0           1          \n",
       "4 2004-08-24 111.24 111.60 103.57 104.870 15247300 0           1          \n",
       "5 2004-08-25 104.76 108.00 103.88 106.000  9188600 0           1          \n",
       "6 2004-08-26 104.95 107.95 104.66 107.910  7094800 0           1          \n",
       "  Adj..Open Adj..High Adj..Low Adj..Close Adj..Volume\n",
       "1 50.15984  52.19111  48.12857 50.32284   44659000   \n",
       "2 50.66139  54.70888  50.40560 54.32269   22834300   \n",
       "3 55.55148  56.91569  54.69383 54.86938   18256100   \n",
       "4 55.79223  55.97278  51.94535 52.59736   15247300   \n",
       "5 52.54219  54.16721  52.10083 53.16411    9188600   \n",
       "6 52.63749  54.14213  52.49204 54.12207    7094800   "
      ]
     },
     "metadata": {},
     "output_type": "display_data"
    }
   ],
   "source": [
    "head(data)"
   ]
  },
  {
   "cell_type": "code",
   "execution_count": 3,
   "metadata": {},
   "outputs": [
    {
     "data": {
      "text/html": [
       "<table>\n",
       "<thead><tr><th></th><th scope=col>Date</th><th scope=col>Open</th><th scope=col>High</th><th scope=col>Low</th><th scope=col>Close</th><th scope=col>Volume</th><th scope=col>Ex.Dividend</th><th scope=col>Split.Ratio</th><th scope=col>Adj..Open</th><th scope=col>Adj..High</th><th scope=col>Adj..Low</th><th scope=col>Adj..Close</th><th scope=col>Adj..Volume</th></tr></thead>\n",
       "<tbody>\n",
       "\t<tr><th scope=row>3419</th><td>2018-03-20</td><td>1098.40   </td><td>1105.55   </td><td>1082.42   </td><td>1095.80   </td><td>2709310   </td><td>0         </td><td>1         </td><td>1098.40   </td><td>1105.55   </td><td>1082.42   </td><td>1095.80   </td><td>2709310   </td></tr>\n",
       "\t<tr><th scope=row>3420</th><td>2018-03-21</td><td>1092.57   </td><td>1108.70   </td><td>1087.21   </td><td>1094.00   </td><td>1990515   </td><td>0         </td><td>1         </td><td>1092.57   </td><td>1108.70   </td><td>1087.21   </td><td>1094.00   </td><td>1990515   </td></tr>\n",
       "\t<tr><th scope=row>3421</th><td>2018-03-22</td><td>1080.01   </td><td>1083.92   </td><td>1049.64   </td><td>1053.15   </td><td>3418154   </td><td>0         </td><td>1         </td><td>1080.01   </td><td>1083.92   </td><td>1049.64   </td><td>1053.15   </td><td>3418154   </td></tr>\n",
       "\t<tr><th scope=row>3422</th><td>2018-03-23</td><td>1051.37   </td><td>1066.78   </td><td>1024.87   </td><td>1026.55   </td><td>2413517   </td><td>0         </td><td>1         </td><td>1051.37   </td><td>1066.78   </td><td>1024.87   </td><td>1026.55   </td><td>2413517   </td></tr>\n",
       "\t<tr><th scope=row>3423</th><td>2018-03-26</td><td>1050.60   </td><td>1059.27   </td><td>1010.58   </td><td>1054.09   </td><td>3272409   </td><td>0         </td><td>1         </td><td>1050.60   </td><td>1059.27   </td><td>1010.58   </td><td>1054.09   </td><td>3272409   </td></tr>\n",
       "\t<tr><th scope=row>3424</th><td>2018-03-27</td><td>1063.90   </td><td>1064.54   </td><td> 997.62   </td><td>1006.94   </td><td>2940957   </td><td>0         </td><td>1         </td><td>1063.90   </td><td>1064.54   </td><td> 997.62   </td><td>1006.94   </td><td>2940957   </td></tr>\n",
       "</tbody>\n",
       "</table>\n"
      ],
      "text/latex": [
       "\\begin{tabular}{r|lllllllllllll}\n",
       "  & Date & Open & High & Low & Close & Volume & Ex.Dividend & Split.Ratio & Adj..Open & Adj..High & Adj..Low & Adj..Close & Adj..Volume\\\\\n",
       "\\hline\n",
       "\t3419 & 2018-03-20 & 1098.40    & 1105.55    & 1082.42    & 1095.80    & 2709310    & 0          & 1          & 1098.40    & 1105.55    & 1082.42    & 1095.80    & 2709310   \\\\\n",
       "\t3420 & 2018-03-21 & 1092.57    & 1108.70    & 1087.21    & 1094.00    & 1990515    & 0          & 1          & 1092.57    & 1108.70    & 1087.21    & 1094.00    & 1990515   \\\\\n",
       "\t3421 & 2018-03-22 & 1080.01    & 1083.92    & 1049.64    & 1053.15    & 3418154    & 0          & 1          & 1080.01    & 1083.92    & 1049.64    & 1053.15    & 3418154   \\\\\n",
       "\t3422 & 2018-03-23 & 1051.37    & 1066.78    & 1024.87    & 1026.55    & 2413517    & 0          & 1          & 1051.37    & 1066.78    & 1024.87    & 1026.55    & 2413517   \\\\\n",
       "\t3423 & 2018-03-26 & 1050.60    & 1059.27    & 1010.58    & 1054.09    & 3272409    & 0          & 1          & 1050.60    & 1059.27    & 1010.58    & 1054.09    & 3272409   \\\\\n",
       "\t3424 & 2018-03-27 & 1063.90    & 1064.54    &  997.62    & 1006.94    & 2940957    & 0          & 1          & 1063.90    & 1064.54    &  997.62    & 1006.94    & 2940957   \\\\\n",
       "\\end{tabular}\n"
      ],
      "text/markdown": [
       "\n",
       "| <!--/--> | Date | Open | High | Low | Close | Volume | Ex.Dividend | Split.Ratio | Adj..Open | Adj..High | Adj..Low | Adj..Close | Adj..Volume | \n",
       "|---|---|---|---|---|---|\n",
       "| 3419 | 2018-03-20 | 1098.40    | 1105.55    | 1082.42    | 1095.80    | 2709310    | 0          | 1          | 1098.40    | 1105.55    | 1082.42    | 1095.80    | 2709310    | \n",
       "| 3420 | 2018-03-21 | 1092.57    | 1108.70    | 1087.21    | 1094.00    | 1990515    | 0          | 1          | 1092.57    | 1108.70    | 1087.21    | 1094.00    | 1990515    | \n",
       "| 3421 | 2018-03-22 | 1080.01    | 1083.92    | 1049.64    | 1053.15    | 3418154    | 0          | 1          | 1080.01    | 1083.92    | 1049.64    | 1053.15    | 3418154    | \n",
       "| 3422 | 2018-03-23 | 1051.37    | 1066.78    | 1024.87    | 1026.55    | 2413517    | 0          | 1          | 1051.37    | 1066.78    | 1024.87    | 1026.55    | 2413517    | \n",
       "| 3423 | 2018-03-26 | 1050.60    | 1059.27    | 1010.58    | 1054.09    | 3272409    | 0          | 1          | 1050.60    | 1059.27    | 1010.58    | 1054.09    | 3272409    | \n",
       "| 3424 | 2018-03-27 | 1063.90    | 1064.54    |  997.62    | 1006.94    | 2940957    | 0          | 1          | 1063.90    | 1064.54    |  997.62    | 1006.94    | 2940957    | \n",
       "\n",
       "\n"
      ],
      "text/plain": [
       "     Date       Open    High    Low     Close   Volume  Ex.Dividend Split.Ratio\n",
       "3419 2018-03-20 1098.40 1105.55 1082.42 1095.80 2709310 0           1          \n",
       "3420 2018-03-21 1092.57 1108.70 1087.21 1094.00 1990515 0           1          \n",
       "3421 2018-03-22 1080.01 1083.92 1049.64 1053.15 3418154 0           1          \n",
       "3422 2018-03-23 1051.37 1066.78 1024.87 1026.55 2413517 0           1          \n",
       "3423 2018-03-26 1050.60 1059.27 1010.58 1054.09 3272409 0           1          \n",
       "3424 2018-03-27 1063.90 1064.54  997.62 1006.94 2940957 0           1          \n",
       "     Adj..Open Adj..High Adj..Low Adj..Close Adj..Volume\n",
       "3419 1098.40   1105.55   1082.42  1095.80    2709310    \n",
       "3420 1092.57   1108.70   1087.21  1094.00    1990515    \n",
       "3421 1080.01   1083.92   1049.64  1053.15    3418154    \n",
       "3422 1051.37   1066.78   1024.87  1026.55    2413517    \n",
       "3423 1050.60   1059.27   1010.58  1054.09    3272409    \n",
       "3424 1063.90   1064.54    997.62  1006.94    2940957    "
      ]
     },
     "metadata": {},
     "output_type": "display_data"
    }
   ],
   "source": [
    "tail(data)"
   ]
  },
  {
   "cell_type": "code",
   "execution_count": 5,
   "metadata": {},
   "outputs": [
    {
     "data": {
      "text/html": [
       "<table>\n",
       "<thead><tr><th scope=col>Adj..Open</th><th scope=col>Adj..High</th><th scope=col>Adj..Low</th><th scope=col>Adj..Close</th><th scope=col>Adj..Volume</th></tr></thead>\n",
       "<tbody>\n",
       "\t<tr><td>50.15984</td><td>52.19111</td><td>48.12857</td><td>50.32284</td><td>44659000</td></tr>\n",
       "\t<tr><td>50.66139</td><td>54.70888</td><td>50.40560</td><td>54.32269</td><td>22834300</td></tr>\n",
       "\t<tr><td>55.55148</td><td>56.91569</td><td>54.69383</td><td>54.86938</td><td>18256100</td></tr>\n",
       "\t<tr><td>55.79223</td><td>55.97278</td><td>51.94535</td><td>52.59736</td><td>15247300</td></tr>\n",
       "\t<tr><td>52.54219</td><td>54.16721</td><td>52.10083</td><td>53.16411</td><td> 9188600</td></tr>\n",
       "\t<tr><td>52.63749</td><td>54.14213</td><td>52.49204</td><td>54.12207</td><td> 7094800</td></tr>\n",
       "</tbody>\n",
       "</table>\n"
      ],
      "text/latex": [
       "\\begin{tabular}{r|lllll}\n",
       " Adj..Open & Adj..High & Adj..Low & Adj..Close & Adj..Volume\\\\\n",
       "\\hline\n",
       "\t 50.15984 & 52.19111 & 48.12857 & 50.32284 & 44659000\\\\\n",
       "\t 50.66139 & 54.70888 & 50.40560 & 54.32269 & 22834300\\\\\n",
       "\t 55.55148 & 56.91569 & 54.69383 & 54.86938 & 18256100\\\\\n",
       "\t 55.79223 & 55.97278 & 51.94535 & 52.59736 & 15247300\\\\\n",
       "\t 52.54219 & 54.16721 & 52.10083 & 53.16411 &  9188600\\\\\n",
       "\t 52.63749 & 54.14213 & 52.49204 & 54.12207 &  7094800\\\\\n",
       "\\end{tabular}\n"
      ],
      "text/markdown": [
       "\n",
       "Adj..Open | Adj..High | Adj..Low | Adj..Close | Adj..Volume | \n",
       "|---|---|---|---|---|---|\n",
       "| 50.15984 | 52.19111 | 48.12857 | 50.32284 | 44659000 | \n",
       "| 50.66139 | 54.70888 | 50.40560 | 54.32269 | 22834300 | \n",
       "| 55.55148 | 56.91569 | 54.69383 | 54.86938 | 18256100 | \n",
       "| 55.79223 | 55.97278 | 51.94535 | 52.59736 | 15247300 | \n",
       "| 52.54219 | 54.16721 | 52.10083 | 53.16411 |  9188600 | \n",
       "| 52.63749 | 54.14213 | 52.49204 | 54.12207 |  7094800 | \n",
       "\n",
       "\n"
      ],
      "text/plain": [
       "  Adj..Open Adj..High Adj..Low Adj..Close Adj..Volume\n",
       "1 50.15984  52.19111  48.12857 50.32284   44659000   \n",
       "2 50.66139  54.70888  50.40560 54.32269   22834300   \n",
       "3 55.55148  56.91569  54.69383 54.86938   18256100   \n",
       "4 55.79223  55.97278  51.94535 52.59736   15247300   \n",
       "5 52.54219  54.16721  52.10083 53.16411    9188600   \n",
       "6 52.63749  54.14213  52.49204 54.12207    7094800   "
      ]
     },
     "metadata": {},
     "output_type": "display_data"
    }
   ],
   "source": [
    "## extracts the necessary column\n",
    "data1<-data[c('Adj..Open','Adj..High','Adj..Low','Adj..Close','Adj..Volume')]\n",
    "head(data1)"
   ]
  },
  {
   "cell_type": "code",
   "execution_count": 6,
   "metadata": {},
   "outputs": [],
   "source": [
    "## some feature engineering\n",
    "data1$volatility=(data1$Adj..High-data1$Adj..Close)/data1$Adj..Close\n",
    " \n",
    "data1$PCT_Change=(data1$Adj..Close-data1$Adj..Open)/data1$Adj..Open"
   ]
  },
  {
   "cell_type": "code",
   "execution_count": 7,
   "metadata": {},
   "outputs": [
    {
     "data": {
      "text/html": [
       "<table>\n",
       "<thead><tr><th scope=col>Adj..Open</th><th scope=col>Adj..High</th><th scope=col>Adj..Low</th><th scope=col>Adj..Close</th><th scope=col>Adj..Volume</th><th scope=col>volatility</th><th scope=col>PCT_Change</th></tr></thead>\n",
       "<tbody>\n",
       "\t<tr><td>50.15984    </td><td>52.19111    </td><td>48.12857    </td><td>50.32284    </td><td>44659000    </td><td>0.0371256291</td><td> 0.003249675</td></tr>\n",
       "\t<tr><td>50.66139    </td><td>54.70888    </td><td>50.40560    </td><td>54.32269    </td><td>22834300    </td><td>0.0071092235</td><td> 0.072270072</td></tr>\n",
       "\t<tr><td>55.55148    </td><td>56.91569    </td><td>54.69383    </td><td>54.86938    </td><td>18256100    </td><td>0.0372943327</td><td>-0.012278801</td></tr>\n",
       "\t<tr><td>55.79223    </td><td>55.97278    </td><td>51.94535    </td><td>52.59736    </td><td>15247300    </td><td>0.0641746925</td><td>-0.057263574</td></tr>\n",
       "\t<tr><td>52.54219    </td><td>54.16721    </td><td>52.10083    </td><td>53.16411    </td><td> 9188600    </td><td>0.0188679245</td><td> 0.011836579</td></tr>\n",
       "\t<tr><td>52.63749    </td><td>54.14213    </td><td>52.49204    </td><td>54.12207    </td><td> 7094800    </td><td>0.0003706793</td><td> 0.028203907</td></tr>\n",
       "</tbody>\n",
       "</table>\n"
      ],
      "text/latex": [
       "\\begin{tabular}{r|lllllll}\n",
       " Adj..Open & Adj..High & Adj..Low & Adj..Close & Adj..Volume & volatility & PCT\\_Change\\\\\n",
       "\\hline\n",
       "\t 50.15984     & 52.19111     & 48.12857     & 50.32284     & 44659000     & 0.0371256291 &  0.003249675\\\\\n",
       "\t 50.66139     & 54.70888     & 50.40560     & 54.32269     & 22834300     & 0.0071092235 &  0.072270072\\\\\n",
       "\t 55.55148     & 56.91569     & 54.69383     & 54.86938     & 18256100     & 0.0372943327 & -0.012278801\\\\\n",
       "\t 55.79223     & 55.97278     & 51.94535     & 52.59736     & 15247300     & 0.0641746925 & -0.057263574\\\\\n",
       "\t 52.54219     & 54.16721     & 52.10083     & 53.16411     &  9188600     & 0.0188679245 &  0.011836579\\\\\n",
       "\t 52.63749     & 54.14213     & 52.49204     & 54.12207     &  7094800     & 0.0003706793 &  0.028203907\\\\\n",
       "\\end{tabular}\n"
      ],
      "text/markdown": [
       "\n",
       "Adj..Open | Adj..High | Adj..Low | Adj..Close | Adj..Volume | volatility | PCT_Change | \n",
       "|---|---|---|---|---|---|\n",
       "| 50.15984     | 52.19111     | 48.12857     | 50.32284     | 44659000     | 0.0371256291 |  0.003249675 | \n",
       "| 50.66139     | 54.70888     | 50.40560     | 54.32269     | 22834300     | 0.0071092235 |  0.072270072 | \n",
       "| 55.55148     | 56.91569     | 54.69383     | 54.86938     | 18256100     | 0.0372943327 | -0.012278801 | \n",
       "| 55.79223     | 55.97278     | 51.94535     | 52.59736     | 15247300     | 0.0641746925 | -0.057263574 | \n",
       "| 52.54219     | 54.16721     | 52.10083     | 53.16411     |  9188600     | 0.0188679245 |  0.011836579 | \n",
       "| 52.63749     | 54.14213     | 52.49204     | 54.12207     |  7094800     | 0.0003706793 |  0.028203907 | \n",
       "\n",
       "\n"
      ],
      "text/plain": [
       "  Adj..Open Adj..High Adj..Low Adj..Close Adj..Volume volatility   PCT_Change  \n",
       "1 50.15984  52.19111  48.12857 50.32284   44659000    0.0371256291  0.003249675\n",
       "2 50.66139  54.70888  50.40560 54.32269   22834300    0.0071092235  0.072270072\n",
       "3 55.55148  56.91569  54.69383 54.86938   18256100    0.0372943327 -0.012278801\n",
       "4 55.79223  55.97278  51.94535 52.59736   15247300    0.0641746925 -0.057263574\n",
       "5 52.54219  54.16721  52.10083 53.16411    9188600    0.0188679245  0.011836579\n",
       "6 52.63749  54.14213  52.49204 54.12207    7094800    0.0003706793  0.028203907"
      ]
     },
     "metadata": {},
     "output_type": "display_data"
    }
   ],
   "source": [
    "head(data1)"
   ]
  },
  {
   "cell_type": "code",
   "execution_count": 8,
   "metadata": {},
   "outputs": [],
   "source": [
    "##splitting the training and testing data\n",
    "train = data1[1:3000,]\n",
    "test = data1[3001:3424,]"
   ]
  },
  {
   "cell_type": "code",
   "execution_count": 9,
   "metadata": {},
   "outputs": [
    {
     "name": "stderr",
     "output_type": "stream",
     "text": [
      "randomForest 4.6-14\n",
      "Type rfNews() to see new features/changes/bug fixes.\n"
     ]
    }
   ],
   "source": [
    "#import packages for random forest\n",
    "library('lattice')\n",
    "library('randomForest')"
   ]
  },
  {
   "cell_type": "code",
   "execution_count": 10,
   "metadata": {},
   "outputs": [],
   "source": [
    "## for evaluationg the data splitting the test data\n",
    "X_test<-test[c('Adj..Open','Adj..High','Adj..Low','Adj..Volume','volatility','PCT_Change')]\n",
    "Y_test <-test[c('Adj..Close')]"
   ]
  },
  {
   "cell_type": "code",
   "execution_count": 11,
   "metadata": {},
   "outputs": [],
   "source": [
    "fit1<-randomForest(Adj..Close ~ .,data = train)"
   ]
  },
  {
   "cell_type": "code",
   "execution_count": 13,
   "metadata": {},
   "outputs": [
    {
     "data": {
      "text/plain": [
       "\n",
       "Call:\n",
       " randomForest(formula = Adj..Close ~ ., data = train) \n",
       "               Type of random forest: regression\n",
       "                     Number of trees: 500\n",
       "No. of variables tried at each split: 2\n",
       "\n",
       "          Mean of squared residuals: 3.569324\n",
       "                    % Var explained: 99.99"
      ]
     },
     "metadata": {},
     "output_type": "display_data"
    }
   ],
   "source": [
    "fit1"
   ]
  },
  {
   "cell_type": "code",
   "execution_count": 14,
   "metadata": {},
   "outputs": [],
   "source": [
    "## making the final prediction\n",
    "final_predict<-predict(fit1,X_test)"
   ]
  },
  {
   "cell_type": "code",
   "execution_count": 16,
   "metadata": {},
   "outputs": [
    {
     "data": {
      "image/png": "[encoded data removed]",
      "text/plain": [
       "plot without title"
      ]
     },
     "metadata": {},
     "output_type": "display_data"
    }
   ],
   "source": [
    "plot(final_predict)"
   ]
  },
  {
   "cell_type": "code",
   "execution_count": 17,
   "metadata": {},
   "outputs": [
    {
     "name": "stdout",
     "output_type": "stream",
     "text": [
      "[1] \"RMSE: 0.198958074999063\"\n"
     ]
    }
   ],
   "source": [
    "## calculate the rmse value using two method\n",
    "rmse1 <- sqrt(mean(as.matrix(log1p(Y_test) - log1p(final_predict))^2))\n",
    "print(paste('RMSE:', rmse1))"
   ]
  },
  {
   "cell_type": "code",
   "execution_count": 22,
   "metadata": {},
   "outputs": [
    {
     "name": "stderr",
     "output_type": "stream",
     "text": [
      "Loading required package: Metrics\n"
     ]
    },
    {
     "name": "stdout",
     "output_type": "stream",
     "text": [
      "[1] \"RMSE: 0.198958074999063\"\n"
     ]
    }
   ],
   "source": [
    "require(Metrics)\n",
    "rmse <- rmse(log1p(as.matrix(Y_test)), log1p(final_predict))\n",
    "print(paste('RMSE:', rmse))"
   ]
  },
  {
   "cell_type": "code",
   "execution_count": 28,
   "metadata": {},
   "outputs": [
    {
     "data": {
      "text/html": [
       "<table>\n",
       "<thead><tr><th></th><th scope=col>Adj..Close</th></tr></thead>\n",
       "<tbody>\n",
       "\t<tr><th scope=row>3001</th><td>757.08</td></tr>\n",
       "\t<tr><th scope=row>3002</th><td>754.41</td></tr>\n",
       "\t<tr><th scope=row>3003</th><td>759.28</td></tr>\n",
       "\t<tr><th scope=row>3004</th><td>757.52</td></tr>\n",
       "\t<tr><th scope=row>3005</th><td>757.65</td></tr>\n",
       "\t<tr><th scope=row>3006</th><td>761.97</td></tr>\n",
       "</tbody>\n",
       "</table>\n"
      ],
      "text/latex": [
       "\\begin{tabular}{r|l}\n",
       "  & Adj..Close\\\\\n",
       "\\hline\n",
       "\t3001 & 757.08\\\\\n",
       "\t3002 & 754.41\\\\\n",
       "\t3003 & 759.28\\\\\n",
       "\t3004 & 757.52\\\\\n",
       "\t3005 & 757.65\\\\\n",
       "\t3006 & 761.97\\\\\n",
       "\\end{tabular}\n"
      ],
      "text/markdown": [
       "\n",
       "| <!--/--> | Adj..Close | \n",
       "|---|---|---|---|---|---|\n",
       "| 3001 | 757.08 | \n",
       "| 3002 | 754.41 | \n",
       "| 3003 | 759.28 | \n",
       "| 3004 | 757.52 | \n",
       "| 3005 | 757.65 | \n",
       "| 3006 | 761.97 | \n",
       "\n",
       "\n"
      ],
      "text/plain": [
       "     Adj..Close\n",
       "3001 757.08    \n",
       "3002 754.41    \n",
       "3003 759.28    \n",
       "3004 757.52    \n",
       "3005 757.65    \n",
       "3006 761.97    "
      ]
     },
     "metadata": {},
     "output_type": "display_data"
    }
   ],
   "source": [
    "head(Y_test)"
   ]
  },
  {
   "cell_type": "code",
   "execution_count": 31,
   "metadata": {},
   "outputs": [],
   "source": [
    "prediction_data_frame1=data.frame(Adj..Close=final_predict)\n",
    "write.csv(prediction_data_frame1,file = \"FINAL.csv\" ,row.names=FALSE)"
   ]
  },
  {
   "cell_type": "code",
   "execution_count": null,
   "metadata": {},
   "outputs": [],
   "source": []
  }
 ],
 "metadata": {
  "kernelspec": {
   "display_name": "R",
   "language": "R",
   "name": "ir"
  },
  "language_info": {
   "codemirror_mode": "r",
   "file_extension": ".r",
   "mimetype": "text/x-r-source",
   "name": "R",
   "pygments_lexer": "r",
   "version": "3.5.1"
  }
 },
 "nbformat": 4,
 "nbformat_minor": 2
}
